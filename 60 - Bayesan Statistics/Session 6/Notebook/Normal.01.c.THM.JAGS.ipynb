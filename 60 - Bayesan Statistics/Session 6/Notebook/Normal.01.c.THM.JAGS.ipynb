{
 "cells": [
  {
   "cell_type": "markdown",
   "metadata": {
    "tags": []
   },
   "source": [
    "# Normal 01c - THM concentration in tap water - JAGS version"
   ]
  },
  {
   "cell_type": "markdown",
   "metadata": {},
   "source": [
    "# _Josep Fortiana_   &emsp;&emsp;&emsp;&emsp;&emsp;      2023-03-21"
   ]
  },
  {
   "cell_type": "markdown",
   "metadata": {},
   "source": [
    "****\n",
    "###### LaTeX macros\n",
    "$\\def\\argmax{\\operatorname{arg\\,max}}$\n",
    "$\\def\\argmin{\\operatorname{arg\\,min}}$\n",
    "$\\def\\binomdist{\\operatorname{Binomial}}$\n",
    "$\\def\\berndist{\\operatorname{Bernoulli}}$\n",
    "$\\def\\betabinomdist{\\operatorname{Beta-Binomial}}$\n",
    "$\\def\\betadist{\\operatorname{Beta}}$\n",
    "$\\def\\betahat{\\kern1.3pt\\hat{\\kern-1.3pt \\beta}}$\n",
    "$\\def\\borel{\\operatorname{Borel}}$\n",
    "$\\def\\cauchydist{\\operatorname{Cauchy}}$\n",
    "$\\def\\CondTo{\\mathbin{|\\mskip0.5mu}}$\n",
    "$\\def\\cdf{\\operatorname{cdf}}$\n",
    "$\\def\\cov{\\operatorname{cov}}$\n",
    "$\\def\\cor{\\operatorname{cor}}$\n",
    "$\\def\\dexpdist{\\operatorname{DExp}}$\n",
    "$\\def\\diag{\\operatorname{diag}}$\n",
    "$\\def\\dprod{\\displaystyle\\prod}$\n",
    "$\\def\\dsum{\\displaystyle\\sum}$\n",
    "$\\def\\eqdef{\\stackrel{\\text{def}}{\\mskip3mu=\\mskip3mu}}$\n",
    "$\\def\\cE{\\cal E}$\n",
    "$\\def\\cP{\\cal P}$\n",
    "$\\def\\cZ{\\cal Z}$\n",
    "$\\def\\Ee{\\operatorname{E}}$\n",
    "$\\def\\expdist{\\operatorname{Exponential}}$\n",
    "$\\def\\fdist{\\operatorname{F}}$\n",
    "$\\def\\gammadist{\\operatorname{Gamma}}$\n",
    "$\\def\\geomdist{\\operatorname{Geom}}$\n",
    "$\\def\\halfcauchydist{\\operatorname{Cauchy}^{+}}$\n",
    "$\\def\\hyperdist{\\operatorname{Hypergeom}}$\n",
    "$\\def\\invgammadist{\\operatorname{InvGamma}}$\n",
    "$\\def\\invwishartdist{\\operatorname{InvWishart}}$\n",
    "$\\def\\hypergeomdist{\\operatorname{Hypergeom}}$\n",
    "$\\def\\indep{\\perp{\\mskip-16mu}\\perp}$\n",
    "$\\DeclareMathOperator{\\indica}{\\mathbb{1}}$\n",
    "$\\DeclareMathOperator{\\invgammadist}{InvGamma}$\n",
    "$\\newcommand{\\KL}[2]{\\operatorname{KL}(\\mkern2mu#1\\mkern2mu\\mathrel\\mid\\mathrel{\\mkern-8mu}\\mid\\mkern2mu#2\\mkern2mu)}$\n",
    "$\\def\\laplacedist{\\operatorname{Laplace}}$\n",
    "$\\def\\lognormaldist{\\operatorname{Log-Normal}}$\n",
    "$\\def\\median{\\operatorname{median}}$\n",
    "$\\DeclareMathOperator{\\thetaltinomialdist}{Multinomial}$\n",
    "$\\DeclareMathOperator{\\thetaltinomdist}{Multinomial}$\n",
    "$\\def\\N{\\mathbb{N}}$\n",
    "$\\def\\negbindist{\\operatorname{NegativeBinomial}}$\n",
    "$\\def\\normaldist{\\operatorname{Normal}}$\n",
    "$\\def\\Normaldist{\\operatorname{MNormal}}$\n",
    "$\\def\\pdf{\\operatorname{pdf}}$\n",
    "$\\def\\pmf{\\operatorname{pmf}}$\n",
    "$\\def\\poissondist{\\operatorname{Poisson}}$\n",
    "$\\def\\prob{\\operatorname{P}}$\n",
    "$\\def\\R{\\mathbb{R}}$ \n",
    "$\\def\\stilde{\\tilde{s}}$ \n",
    "$\\def\\sqtilde{\\tilde{s}{}^{2}}$ \n",
    "$\\def\\tdist{\\operatorname{t}}$\n",
    "$\\def\\u{\\mathbb{1}}$\n",
    "$\\def\\unifdist{\\operatorname{Unif}}$\n",
    "$\\def\\va{\\text{v.a.}}$\n",
    "$\\def\\var{\\operatorname{var}}$\n",
    "$\\def\\Var{\\operatorname{Var}}$\n",
    "$\\def\\xbar{\\kern1.3pt\\overline{\\kern-1.3pt x}}$\n",
    "$\\def\\Xbar{\\kern1.3pt\\overline{\\kern-1.3pt X}}$\n",
    "$\\def\\yhat{\\kern1.3pt\\hat{\\kern-1.3pt y}}$\n",
    "$\\def\\Z{\\mathbb{Z}}$\n",
    "***"
   ]
  },
  {
   "cell_type": "markdown",
   "metadata": {},
   "source": [
    "# Case study: THM concentrations ($ \\sigma$ known)"
   ]
  },
  {
   "cell_type": "markdown",
   "metadata": {},
   "source": [
    "This problem appears in the [Web course _Bayesian Statistics for Epidemiologists_](http://www.columbia.edu/~cjd11/charles_dimaggio/DIRE/styled-4/styled-11/code-4/), \n",
    "also in Lunn _et al._ (2012) _The BUGS book,_ **Example 3.3.3.** pp. 43-45."
   ]
  },
  {
   "cell_type": "markdown",
   "metadata": {},
   "source": [
    "# Problem description and data"
   ]
  },
  {
   "cell_type": "markdown",
   "metadata": {},
   "source": [
    "Regional water companies in the UK are required to take routine measurements of trihalomethane (THM) concentrations in tap water samples for regulatory purposes.\n",
    "Samples are tested throughout the year in each water supply zone and analysed using an assay with known measurement error having standard deviation\n",
    "$ \\sigma = 5\\theta g/L$. We want to learn about the average concentration in a particular zone based on $n=2$  independent measurements, $x_{1}=128 \\mu g/L$ and $x_{2}=132\\mu g/L$; hence their \n",
    "mean, is $\\overline{x}=130\\mu g/L$.\n",
    "\n",
    "What is the best estimate of the mean concentration $\\mu$?\n",
    "\n",
    "Suppose the water company will be fined if observed THM levels in the water supply exceed $145\\mu g/L$. What is the probability of this event?"
   ]
  },
  {
   "cell_type": "code",
   "execution_count": 1,
   "metadata": {},
   "outputs": [],
   "source": [
    "n<-2\n",
    "xbar<-130\n",
    "sigma<-5"
   ]
  },
  {
   "cell_type": "markdown",
   "metadata": {},
   "source": [
    "# Bayesian approach"
   ]
  },
  {
   "cell_type": "markdown",
   "metadata": {},
   "source": [
    "## Likelihood\n",
    "\n",
    "Here we assume normal data: each of the $ n=2$ measurements $x_{i}$, $i=1,2$, is a value from a $\\normaldist(\\mu,\\sigma^{2})$ and they are independent.\n",
    "\n",
    "Their mean $\\xbar=\\dfrac{x_{1}+x_{2}}{2}$ is, then, a value from a $\\normaldist\\big(\\mu,\\dfrac{\\sigma^{2}}{2}\\big)$."
   ]
  },
  {
   "cell_type": "markdown",
   "metadata": {},
   "source": [
    "## Prior\n",
    "\n",
    "Suppose historical data on THM levels in other zones supplied from the same water source showed that the mean THM concentration was $120\\theta g/L$ with standard\n",
    "deviation $ 10\\theta g/L$. This suggests a $\\normaldist(120, 10^{2})$ prior for $\\mu$.\n",
    "\n",
    "We encode this information as a normal prior distribution for $\\mu$, with mean $\\theta=120$ and standard deviation $\\gamma=10$.\n",
    "\n",
    "$$\n",
    "    \\mu\\sim\\normaldist(\\theta,\\gamma^{2}), \\mskip50mu \\theta=120, \\mskip50mu \\gamma=10.\n",
    "$$"
   ]
  },
  {
   "cell_type": "markdown",
   "metadata": {},
   "source": [
    "## Specify model"
   ]
  },
  {
   "cell_type": "markdown",
   "metadata": {},
   "source": [
    "$$\n",
    "     \\begin{array}{lcll}\n",
    "     x_{i}  &\\sim &\\normaldist(\\mu,\\sigma^{2}),\\mskip30mu 1\\leq i\\leq n,&\\mskip60mu\\text{Observed data,}\\\\[0.3cm]\n",
    "     \\mu &\\sim &\\normaldist(\\theta,\\gamma^{2}),                              &\\mskip60mu\\text{Prior.}\n",
    "          \\end{array}\n",
    "$$"
   ]
  },
  {
   "cell_type": "code",
   "execution_count": 2,
   "metadata": {},
   "outputs": [],
   "source": [
    "theta<-120\n",
    "gamma<-10"
   ]
  },
  {
   "cell_type": "markdown",
   "metadata": {},
   "source": [
    "# Model with an unknown variance\n",
    "\n",
    "$ n$ iid normal observations, $x=(x_{1},\\dots,x_{n})$,  with unknown variance but known expectation, assumed $0$:"
   ]
  },
  {
   "cell_type": "markdown",
   "metadata": {
    "tags": []
   },
   "source": [
    "## Likelihood"
   ]
  },
  {
   "cell_type": "markdown",
   "metadata": {},
   "source": [
    "<body><h3 style=color:rgb(255,0,0)>\n",
    "    \n",
    "$p(x\\CondTo\\psi)=(2\\pi)^{-n/2}\\cdot \\psi^{n/2}\\cdot \\exp\\left\\{ -\\dfrac{n\\,s^{2}}{2}\\cdot \\psi\\right\\}$.\n",
    "\n",
    "$ \\psi=\\dfrac{1}{\\sigma^{2}}$ is the _precision,_ and $s^{2}=\\dfrac{1}{n}\\,\\dsum_{i=1}^{n}x_{i}^{2}$ is the empirical variance.\n",
    "</h3></body>"
   ]
  },
  {
   "cell_type": "markdown",
   "metadata": {
    "tags": []
   },
   "source": [
    "## Prior"
   ]
  },
  {
   "cell_type": "markdown",
   "metadata": {},
   "source": [
    "Conjugate prior for the precision $ \\psi$ is a $\\gammadist(\\alpha,\\beta)$ pdf.\n",
    "\n",
    "$$\n",
    "    p(\\psi\\CondTo\\alpha,\\beta)=\\dfrac{\\beta^{\\alpha}}{\\Gamma(\\alpha)}\\cdot\\psi^{\\alpha-1}\\cdot\\exp\\{-\\beta\\,\\psi\\}.\n",
    "$$\n",
    "\n",
    "In terms of the variance, $\\sigma^{2}=\\dfrac{1}{\\psi}\\sim\\invgammadist(\\alpha,\\beta)$."
   ]
  },
  {
   "cell_type": "markdown",
   "metadata": {},
   "source": [
    "# Treatment with JAGS and R2jags"
   ]
  },
  {
   "cell_type": "code",
   "execution_count": 3,
   "metadata": {},
   "outputs": [
    {
     "name": "stderr",
     "output_type": "stream",
     "text": [
      "Linked to JAGS 4.3.1\n",
      "\n",
      "Loaded modules: basemod,bugs\n",
      "\n",
      "\n",
      "Attaching package: 'R2jags'\n",
      "\n",
      "\n",
      "The following object is masked from 'package:coda':\n",
      "\n",
      "    traceplot\n",
      "\n",
      "\n"
     ]
    }
   ],
   "source": [
    "#install.packages(\"R2jags\",dependencies=TRUE,repos= \"https://cloud.r-project.org\")\n",
    "require(R2jags,quietly=TRUE)"
   ]
  },
  {
   "cell_type": "code",
   "execution_count": 4,
   "metadata": {},
   "outputs": [],
   "source": [
    "THM.dat<-list(n=2, x=c(128, 132), theta=120,sigma.squared=25,n0=0.25, x.crit=145)"
   ]
  },
  {
   "cell_type": "markdown",
   "metadata": {},
   "source": [
    "This $ n_{0}$ is here just to follow Lunn et al. By definition,\n",
    "\n",
    "$$\n",
    "    \\gamma^{2}=10^{2}=100=\\dfrac{\\sigma^{2}}{n_{0}}=\\dfrac{5^{2}}{n_{0}} =\\dfrac{25}{n_{0}}\\mskip30mu \\Rightarrow\\mskip30mu n{0}=1/4=0.25.\n",
    "$$"
   ]
  },
  {
   "cell_type": "markdown",
   "metadata": {},
   "source": [
    "### Note: JAGS parametrizes the normal pdf  as `dnorm(<mean>,<precision>)`  where `<precision>=1/<variance>`."
   ]
  },
  {
   "cell_type": "code",
   "execution_count": 5,
   "metadata": {},
   "outputs": [],
   "source": [
    "cat(\n",
    "    \"model {\n",
    "        for (i in 1:n) {\n",
    "        x[i] ~ dnorm(mu, inv.sigma.squared)  \n",
    "        }\n",
    "    mu ~ dnorm(theta, inv.gamma.squared)\n",
    "    inv.sigma.squared <- 1/sigma.squared\n",
    "    inv.gamma.squared <- n0/sigma.squared\n",
    "    x.pred ~ dnorm(mu, inv.sigma.squared)         # This to simulate the posterior predictive pdf\n",
    "    P.crit <- step(x.pred - x.crit)               # And to compute the probability of fine\n",
    "    }\"\n",
    "    ,file=\"THM.jag\")"
   ]
  },
  {
   "cell_type": "markdown",
   "metadata": {},
   "source": [
    "I'm using here a quite large `n.iter` to approximately reproduce _The BUGS book,_ pp. 43-45."
   ]
  },
  {
   "cell_type": "code",
   "execution_count": 6,
   "metadata": {},
   "outputs": [
    {
     "name": "stderr",
     "output_type": "stream",
     "text": [
      "module glm loaded\n",
      "\n"
     ]
    },
    {
     "name": "stdout",
     "output_type": "stream",
     "text": [
      "Compiling model graph\n",
      "   Resolving undeclared variables\n",
      "   Allocating nodes\n",
      "Graph information:\n",
      "   Observed stochastic nodes: 2\n",
      "   Unobserved stochastic nodes: 2\n",
      "   Total graph size: 14\n",
      "\n",
      "Initializing model\n",
      "\n"
     ]
    }
   ],
   "source": [
    "THM.m1<-jags(data=THM.dat, n.chains=3, n.iter = 100000, n.thin = 50,\n",
    "        parameters.to.save=c(\"mu\",\"x.pred\",\"P.crit\"), \n",
    "        model.file=\"THM.jag\")"
   ]
  },
  {
   "cell_type": "code",
   "execution_count": 7,
   "metadata": {},
   "outputs": [
    {
     "name": "stdout",
     "output_type": "stream",
     "text": [
      "Inference for Bugs model at \"THM.jag\", fit using jags,\n",
      " 3 chains, each with 1e+05 iterations (first 50000 discarded), n.thin = 50\n",
      " n.sims = 3000 iterations saved\n",
      "         mu.vect sd.vect    2.5%     25%     50%     75%   97.5%  Rhat n.eff\n",
      "P.crit     0.004   0.063   0.000   0.000   0.000   0.000   0.000 1.039  3000\n",
      "mu       128.854   3.319 122.357 126.568 128.811 131.103 135.480 1.002  1900\n",
      "x.pred   128.818   5.926 117.548 124.767 128.869 132.879 140.536 1.001  2400\n",
      "deviance  11.420   1.340  10.435  10.542  10.881  11.759  15.399 1.002  2900\n",
      "\n",
      "For each parameter, n.eff is a crude measure of effective sample size,\n",
      "and Rhat is the potential scale reduction factor (at convergence, Rhat=1).\n",
      "\n",
      "DIC info (using the rule, pD = var(deviance)/2)\n",
      "pD = 0.9 and DIC = 12.3\n",
      "DIC is an estimate of expected predictive error (lower deviance is better).\n"
     ]
    }
   ],
   "source": [
    "print(THM.m1)"
   ]
  },
  {
   "cell_type": "markdown",
   "metadata": {},
   "source": [
    "The JAGS-computed default value `n.thin=50` seems somewhat overdone (it means we are keeping one term in 50 from each sequence and throwing out the other 49). \n",
    "\n",
    "The goal is to diminish short lag autocorrelations, thus an evaluation of the autocorrelation function, either the autocorrelation plot or, still better, a significance test, should guide the choice of `n.thin` (actually I don't know the internals of how JAGS does this computation, so it may well happen it is Ok).\n",
    "\n",
    "Additionally, the _thinning_ method itself is debatable. There are recent papers (last 2 years) in opposition to its use: they contend that, if the reason why autocorrelation is \"bad\" is that the amount of information contributed by each new sample point is smaller than that in an independent sample, then the solution is taking a larger sample, not thinning.\n",
    "\n",
    "I will try here another run with a more moderate `n.thin=10`."
   ]
  },
  {
   "cell_type": "code",
   "execution_count": 8,
   "metadata": {},
   "outputs": [
    {
     "name": "stdout",
     "output_type": "stream",
     "text": [
      "Compiling model graph\n",
      "   Resolving undeclared variables\n",
      "   Allocating nodes\n",
      "Graph information:\n",
      "   Observed stochastic nodes: 2\n",
      "   Unobserved stochastic nodes: 2\n",
      "   Total graph size: 14\n",
      "\n",
      "Initializing model\n",
      "\n"
     ]
    }
   ],
   "source": [
    "THM.m2<-jags(data=THM.dat, n.chains=3, n.iter = 100000, n.thin = 10,\n",
    "        parameters.to.save=c(\"mu\",\"x.pred\",\"P.crit\"), \n",
    "        model.file=\"THM.jag\")"
   ]
  },
  {
   "cell_type": "code",
   "execution_count": 9,
   "metadata": {},
   "outputs": [
    {
     "data": {
      "image/png": "[encoded data removed]",
      "text/plain": [
       "plot without title"
      ]
     },
     "metadata": {
      "image/png": {
       "height": 540,
       "width": 540
      }
     },
     "output_type": "display_data"
    }
   ],
   "source": [
    "options(repr.plot.width=9,repr.plot.height=9)\n",
    "plot(THM.m1)"
   ]
  },
  {
   "cell_type": "code",
   "execution_count": 10,
   "metadata": {},
   "outputs": [
    {
     "data": {
      "image/png": "[encoded data removed]",
      "text/plain": [
       "plot without title"
      ]
     },
     "metadata": {
      "image/png": {
       "height": 540,
       "width": 540
      }
     },
     "output_type": "display_data"
    }
   ],
   "source": [
    "options(repr.plot.width=9,repr.plot.height=9)\n",
    "plot(THM.m2)"
   ]
  },
  {
   "cell_type": "code",
   "execution_count": 11,
   "metadata": {},
   "outputs": [
    {
     "data": {
      "image/png": "[encoded data removed]",
      "text/plain": [
       "Plot with title \"mu\""
      ]
     },
     "metadata": {
      "image/png": {
       "height": 360,
       "width": 720
      }
     },
     "output_type": "display_data"
    },
    {
     "data": {
      "image/png": "[encoded data removed]",
      "text/plain": [
       "Plot with title \"x.pred\""
      ]
     },
     "metadata": {
      "image/png": {
       "height": 360,
       "width": 720
      }
     },
     "output_type": "display_data"
    }
   ],
   "source": [
    "options(repr.plot.width=12,repr.plot.height=6)\n",
    "traceplot(THM.m1,varname=c(\"mu\",\"x.pred\"))"
   ]
  },
  {
   "cell_type": "code",
   "execution_count": 12,
   "metadata": {},
   "outputs": [
    {
     "data": {
      "image/png": "[encoded data removed]",
      "text/plain": [
       "Plot with title \"mu\""
      ]
     },
     "metadata": {
      "image/png": {
       "height": 360,
       "width": 720
      }
     },
     "output_type": "display_data"
    },
    {
     "data": {
      "image/png": "[encoded data removed]",
      "text/plain": [
       "Plot with title \"x.pred\""
      ]
     },
     "metadata": {
      "image/png": {
       "height": 360,
       "width": 720
      }
     },
     "output_type": "display_data"
    }
   ],
   "source": [
    "options(repr.plot.width=12,repr.plot.height=6)\n",
    "traceplot(THM.m2,varname=c(\"mu\",\"x.pred\"))"
   ]
  },
  {
   "cell_type": "markdown",
   "metadata": {},
   "source": [
    "## Convert to an mcmc object for further diagnostics"
   ]
  },
  {
   "cell_type": "code",
   "execution_count": 13,
   "metadata": {},
   "outputs": [],
   "source": [
    "#install.packages(\"coda\",dependencies=TRUE,repos= \"https://cloud.r-project.org\")\n",
    "require(coda,quietly=TRUE)"
   ]
  },
  {
   "cell_type": "code",
   "execution_count": 14,
   "metadata": {},
   "outputs": [
    {
     "data": {
      "text/plain": [
       "\n",
       "Iterations = 50001:99951\n",
       "Thinning interval = 50 \n",
       "Number of chains = 3 \n",
       "Sample size per chain = 1000 \n",
       "\n",
       "1. Empirical mean and standard deviation for each variable,\n",
       "   plus standard error of the mean:\n",
       "\n",
       "            Mean      SD Naive SE Time-series SE\n",
       "deviance  11.420 1.33975 0.024460       0.024459\n",
       "mu       128.854 3.31910 0.060598       0.058293\n",
       "P.crit     0.004 0.06313 0.001153       0.001375\n",
       "x.pred   128.818 5.92571 0.108188       0.107030\n",
       "\n",
       "2. Quantiles for each variable:\n",
       "\n",
       "           2.5%    25%    50%    75% 97.5%\n",
       "deviance  10.43  10.54  10.88  11.76  15.4\n",
       "mu       122.36 126.57 128.81 131.10 135.5\n",
       "P.crit     0.00   0.00   0.00   0.00   0.0\n",
       "x.pred   117.55 124.77 128.87 132.88 140.5\n"
      ]
     },
     "metadata": {},
     "output_type": "display_data"
    }
   ],
   "source": [
    "THM.01.mcmc<-as.mcmc(THM.m1)\n",
    "summary(THM.01.mcmc)"
   ]
  },
  {
   "cell_type": "code",
   "execution_count": 15,
   "metadata": {},
   "outputs": [
    {
     "data": {
      "text/plain": [
       "\n",
       "Iterations = 50001:99991\n",
       "Thinning interval = 10 \n",
       "Number of chains = 3 \n",
       "Sample size per chain = 5000 \n",
       "\n",
       "1. Empirical mean and standard deviation for each variable,\n",
       "   plus standard error of the mean:\n",
       "\n",
       "              Mean      SD  Naive SE Time-series SE\n",
       "deviance 1.142e+01 1.39216 0.0113669      0.0115786\n",
       "mu       1.289e+02 3.33767 0.0272520      0.0272534\n",
       "P.crit   4.067e-03 0.06364 0.0005196      0.0005327\n",
       "x.pred   1.289e+02 6.03141 0.0492463      0.0476617\n",
       "\n",
       "2. Quantiles for each variable:\n",
       "\n",
       "           2.5%    25%    50%    75%  97.5%\n",
       "deviance  10.43  10.53  10.87  11.73  15.32\n",
       "mu       122.37 126.67 128.94 131.18 135.47\n",
       "P.crit     0.00   0.00   0.00   0.00   0.00\n",
       "x.pred   117.13 124.84 128.91 132.98 141.00\n"
      ]
     },
     "metadata": {},
     "output_type": "display_data"
    }
   ],
   "source": [
    "THM.02.mcmc<-as.mcmc(THM.m2)\n",
    "summary(THM.02.mcmc)"
   ]
  },
  {
   "cell_type": "code",
   "execution_count": 16,
   "metadata": {},
   "outputs": [
    {
     "name": "stdout",
     "output_type": "stream",
     "text": [
      "List of 3\n",
      " $ : 'mcmc' num [1:1000, 1:4] 11.2 13.6 10.8 10.6 10.5 ...\n",
      "  ..- attr(*, \"dimnames\")=List of 2\n",
      "  .. ..$ : NULL\n",
      "  .. ..$ : chr [1:4] \"deviance\" \"mu\" \"P.crit\" \"x.pred\"\n",
      "  ..- attr(*, \"mcpar\")= num [1:3] 50001 99951 50\n",
      " $ : 'mcmc' num [1:1000, 1:4] 10.9 13.5 11.4 10.5 10.7 ...\n",
      "  ..- attr(*, \"dimnames\")=List of 2\n",
      "  .. ..$ : NULL\n",
      "  .. ..$ : chr [1:4] \"deviance\" \"mu\" \"P.crit\" \"x.pred\"\n",
      "  ..- attr(*, \"mcpar\")= num [1:3] 50001 99951 50\n",
      " $ : 'mcmc' num [1:1000, 1:4] 10.5 11.8 11 12.9 10.4 ...\n",
      "  ..- attr(*, \"dimnames\")=List of 2\n",
      "  .. ..$ : NULL\n",
      "  .. ..$ : chr [1:4] \"deviance\" \"mu\" \"P.crit\" \"x.pred\"\n",
      "  ..- attr(*, \"mcpar\")= num [1:3] 50001 99951 50\n",
      " - attr(*, \"class\")= chr \"mcmc.list\"\n"
     ]
    }
   ],
   "source": [
    "str(THM.01.mcmc)"
   ]
  },
  {
   "cell_type": "code",
   "execution_count": 17,
   "metadata": {},
   "outputs": [
    {
     "name": "stdout",
     "output_type": "stream",
     "text": [
      "List of 3\n",
      " $ : 'mcmc' num [1:5000, 1:4] 11.4 10.8 15.4 14.9 10.4 ...\n",
      "  ..- attr(*, \"dimnames\")=List of 2\n",
      "  .. ..$ : NULL\n",
      "  .. ..$ : chr [1:4] \"deviance\" \"mu\" \"P.crit\" \"x.pred\"\n",
      "  ..- attr(*, \"mcpar\")= num [1:3] 50001 99991 10\n",
      " $ : 'mcmc' num [1:5000, 1:4] 11.9 12.5 10.9 10.5 11.6 ...\n",
      "  ..- attr(*, \"dimnames\")=List of 2\n",
      "  .. ..$ : NULL\n",
      "  .. ..$ : chr [1:4] \"deviance\" \"mu\" \"P.crit\" \"x.pred\"\n",
      "  ..- attr(*, \"mcpar\")= num [1:3] 50001 99991 10\n",
      " $ : 'mcmc' num [1:5000, 1:4] 10.5 14 12.2 10.4 13.2 ...\n",
      "  ..- attr(*, \"dimnames\")=List of 2\n",
      "  .. ..$ : NULL\n",
      "  .. ..$ : chr [1:4] \"deviance\" \"mu\" \"P.crit\" \"x.pred\"\n",
      "  ..- attr(*, \"mcpar\")= num [1:3] 50001 99991 10\n",
      " - attr(*, \"class\")= chr \"mcmc.list\"\n"
     ]
    }
   ],
   "source": [
    "str(THM.02.mcmc)"
   ]
  },
  {
   "cell_type": "code",
   "execution_count": 18,
   "metadata": {},
   "outputs": [
    {
     "data": {
      "image/png": "[encoded data removed]",
      "text/plain": [
       "Plot with title \"x.pred\""
      ]
     },
     "metadata": {
      "image/png": {
       "height": 360,
       "width": 720
      }
     },
     "output_type": "display_data"
    },
    {
     "data": {
      "image/png": "[encoded data removed]",
      "text/plain": [
       "Plot with title \"x.pred\""
      ]
     },
     "metadata": {
      "image/png": {
       "height": 360,
       "width": 720
      }
     },
     "output_type": "display_data"
    },
    {
     "data": {
      "image/png": "[encoded data removed]",
      "text/plain": [
       "Plot with title \"x.pred\""
      ]
     },
     "metadata": {
      "image/png": {
       "height": 360,
       "width": 720
      }
     },
     "output_type": "display_data"
    }
   ],
   "source": [
    "options(repr.plot.width=12,repr.plot.height=6)\n",
    "autocorr.plot(THM.01.mcmc)"
   ]
  },
  {
   "cell_type": "code",
   "execution_count": 19,
   "metadata": {},
   "outputs": [
    {
     "data": {
      "image/png": "[encoded data removed]",
      "text/plain": [
       "Plot with title \"x.pred\""
      ]
     },
     "metadata": {
      "image/png": {
       "height": 360,
       "width": 720
      }
     },
     "output_type": "display_data"
    },
    {
     "data": {
      "image/png": "[encoded data removed]",
      "text/plain": [
       "Plot with title \"x.pred\""
      ]
     },
     "metadata": {
      "image/png": {
       "height": 360,
       "width": 720
      }
     },
     "output_type": "display_data"
    },
    {
     "data": {
      "image/png": "[encoded data removed]",
      "text/plain": [
       "Plot with title \"x.pred\""
      ]
     },
     "metadata": {
      "image/png": {
       "height": 360,
       "width": 720
      }
     },
     "output_type": "display_data"
    }
   ],
   "source": [
    "options(repr.plot.width=12,repr.plot.height=6)\n",
    "autocorr.plot(THM.02.mcmc)"
   ]
  },
  {
   "cell_type": "markdown",
   "metadata": {},
   "source": [
    "### Conclusion: I would say `n.thin=10` is enough. \n",
    "\n",
    "Even a smaller value could be tried."
   ]
  },
  {
   "cell_type": "markdown",
   "metadata": {},
   "source": [
    "## Make a sample of $\\mu$, joining the three chains"
   ]
  },
  {
   "cell_type": "code",
   "execution_count": 20,
   "metadata": {},
   "outputs": [
    {
     "name": "stdout",
     "output_type": "stream",
     "text": [
      " num [1:3000] 127 124 128 131 131 ...\n"
     ]
    }
   ],
   "source": [
    "mu.post.01<-c(THM.01.mcmc[[1]][,2],THM.01.mcmc[[2]][,2],THM.01.mcmc[[3]][,2])\n",
    "str(mu.post.01)"
   ]
  },
  {
   "cell_type": "code",
   "execution_count": 21,
   "metadata": {},
   "outputs": [
    {
     "name": "stdout",
     "output_type": "stream",
     "text": [
      " num [1:15000] 133 128 122 122 130 ...\n"
     ]
    }
   ],
   "source": [
    "mu.post.02<-c(THM.02.mcmc[[1]][,2],THM.02.mcmc[[2]][,2],THM.02.mcmc[[3]][,2])\n",
    "str(mu.post.02)"
   ]
  },
  {
   "cell_type": "markdown",
   "metadata": {},
   "source": [
    "## Make a sample of $x_{\\text{pred}}$, joining the three chains"
   ]
  },
  {
   "cell_type": "code",
   "execution_count": 22,
   "metadata": {},
   "outputs": [
    {
     "name": "stdout",
     "output_type": "stream",
     "text": [
      " num [1:3000] 139 124 135 135 133 ...\n"
     ]
    }
   ],
   "source": [
    "x.pred.post.01<-c(THM.01.mcmc[[1]][,4],THM.01.mcmc[[2]][,4],THM.01.mcmc[[3]][,4])\n",
    "str(x.pred.post.01)"
   ]
  },
  {
   "cell_type": "code",
   "execution_count": 23,
   "metadata": {},
   "outputs": [
    {
     "name": "stdout",
     "output_type": "stream",
     "text": [
      " num [1:15000] 133 129 114 123 125 ...\n"
     ]
    }
   ],
   "source": [
    "x.pred.post.02<-c(THM.02.mcmc[[1]][,4],THM.02.mcmc[[2]][,4],THM.02.mcmc[[3]][,4])\n",
    "str(x.pred.post.02)"
   ]
  },
  {
   "cell_type": "markdown",
   "metadata": {},
   "source": [
    "## Posterior $\\mu$ mean, sd, variance, estimates"
   ]
  },
  {
   "cell_type": "code",
   "execution_count": 24,
   "metadata": {},
   "outputs": [
    {
     "name": "stdout",
     "output_type": "stream",
     "text": [
      "Post mu mean = 128.8541, Post mu sd = 3.3191, Post mu var = 11.0164"
     ]
    }
   ],
   "source": [
    "mu.post.01.mean<-mean(mu.post.01)\n",
    "mu.post.01.sd<-sd(mu.post.01)\n",
    "mu.post.01.var<-var(mu.post.01)\n",
    "cat(sprintf(\"Post mu mean = %6.4f, Post mu sd = %6.4f, Post mu var = %6.4f\",\n",
    "   mu.post.01.mean,mu.post.01.sd,mu.post.01.var))"
   ]
  },
  {
   "cell_type": "code",
   "execution_count": 25,
   "metadata": {},
   "outputs": [
    {
     "name": "stdout",
     "output_type": "stream",
     "text": [
      "Post mu mean = 128.9364, Post mu sd = 3.3377, Post mu var = 11.1401"
     ]
    }
   ],
   "source": [
    "mu.post.02.mean<-mean(mu.post.02)\n",
    "mu.post.02.sd<-sd(mu.post.02)\n",
    "mu.post.02.var<-var(mu.post.02)\n",
    "cat(sprintf(\"Post mu mean = %6.4f, Post mu sd = %6.4f, Post mu var = %6.4f\",\n",
    "   mu.post.02.mean,mu.post.02.sd,mu.post.02.var))"
   ]
  },
  {
   "cell_type": "markdown",
   "metadata": {},
   "source": [
    "## Posterior prediction $x_{\\text{pred}}$ mean, sd, variance, estimates"
   ]
  },
  {
   "cell_type": "code",
   "execution_count": 26,
   "metadata": {},
   "outputs": [
    {
     "name": "stdout",
     "output_type": "stream",
     "text": [
      "Post x.pred mean = 128.8181, Post x.pred sd = 5.9257, Post x.pred var = 35.1141"
     ]
    }
   ],
   "source": [
    "x.pred.post.01.mean<-mean(x.pred.post.01)\n",
    "x.pred.post.01.sd<-sd(x.pred.post.01)\n",
    "x.pred.post.01.var<-var(x.pred.post.01)\n",
    "cat(sprintf(\"Post x.pred mean = %6.4f, Post x.pred sd = %6.4f, Post x.pred var = %6.4f\",\n",
    "   x.pred.post.01.mean,x.pred.post.01.sd,x.pred.post.01.var))"
   ]
  },
  {
   "cell_type": "code",
   "execution_count": 27,
   "metadata": {},
   "outputs": [
    {
     "name": "stdout",
     "output_type": "stream",
     "text": [
      "Post x.pred mean = 128.9390, Post x.pred sd = 6.0314, Post x.pred var = 36.3779"
     ]
    }
   ],
   "source": [
    "x.pred.post.02.mean<-mean(x.pred.post.02)\n",
    "x.pred.post.02.sd<-sd(x.pred.post.02)\n",
    "x.pred.post.02.var<-var(x.pred.post.02)\n",
    "cat(sprintf(\"Post x.pred mean = %6.4f, Post x.pred sd = %6.4f, Post x.pred var = %6.4f\",\n",
    "   x.pred.post.02.mean,x.pred.post.02.sd,x.pred.post.02.var))"
   ]
  },
  {
   "cell_type": "code",
   "execution_count": 28,
   "metadata": {},
   "outputs": [
    {
     "data": {
      "image/png": "[encoded data removed]",
      "text/plain": [
       "Plot with title \"Histogram of mu.post.01\""
      ]
     },
     "metadata": {
      "image/png": {
       "height": 360,
       "width": 360
      }
     },
     "output_type": "display_data"
    }
   ],
   "source": [
    "options(repr.plot.width=6,repr.plot.height=6)\n",
    "hist(mu.post.01,freq=FALSE,col=\"LightGreen\",nclass=20,xlab=expression(mu[Post]),cex.lab=1.5,cex.main=1.8)"
   ]
  },
  {
   "cell_type": "code",
   "execution_count": 29,
   "metadata": {},
   "outputs": [
    {
     "data": {
      "text/html": [
       "0.004"
      ],
      "text/latex": [
       "0.004"
      ],
      "text/markdown": [
       "0.004"
      ],
      "text/plain": [
       "[1] 0.004"
      ]
     },
     "metadata": {},
     "output_type": "display_data"
    }
   ],
   "source": [
    "x.crit<-145\n",
    "sum(x.pred.post.01>x.crit)/length(x.pred.post.01)"
   ]
  },
  {
   "cell_type": "markdown",
   "metadata": {},
   "source": [
    "## Theoretical posterior\n",
    "\n",
    "The posterior distribution for $\\mu$, given $\\overline{x}$, is normal, with mean $\\theta_{x}$ and sd $\\tau$. \n",
    "\n",
    "$\\theta_{x}$ is a convex combination of $\\theta$ and $\\xbar$.\n",
    "\n",
    "$$\n",
    "    (\\mu\\CondTo\\xbar)\\sim\\normaldist(\\theta_{x},\\tau^{2}),\n",
    "$$"
   ]
  },
  {
   "cell_type": "code",
   "execution_count": 30,
   "metadata": {},
   "outputs": [
    {
     "data": {
      "text/html": [
       "128.8889"
      ],
      "text/latex": [
       "128.8889"
      ],
      "text/markdown": [
       "128.8889"
      ],
      "text/plain": [
       "[1] 128.8889"
      ]
     },
     "metadata": {},
     "output_type": "display_data"
    },
    {
     "data": {
      "text/html": [
       "11.1111"
      ],
      "text/latex": [
       "11.1111"
      ],
      "text/markdown": [
       "11.1111"
      ],
      "text/plain": [
       "[1] 11.1111"
      ]
     },
     "metadata": {},
     "output_type": "display_data"
    },
    {
     "data": {
      "text/html": [
       "3.3333"
      ],
      "text/latex": [
       "3.3333"
      ],
      "text/markdown": [
       "3.3333"
      ],
      "text/plain": [
       "[1] 3.3333"
      ]
     },
     "metadata": {},
     "output_type": "display_data"
    }
   ],
   "source": [
    "alpha<-(sigma^2/n)/((sigma^2/n)+gamma^2)\n",
    "theta.x<-alpha*theta+(1-alpha)*xbar\n",
    "tau2<-((sigma^2/n)*gamma^2)/((sigma^2/n)+gamma^2)\n",
    "tau<-sqrt(tau2)\n",
    "round(theta.x,4)\n",
    "round(tau2,4)\n",
    "round(tau,4)"
   ]
  },
  {
   "cell_type": "markdown",
   "metadata": {},
   "source": [
    "## Comparison of prior, observed, and posterior pdf's"
   ]
  },
  {
   "cell_type": "code",
   "execution_count": 31,
   "metadata": {},
   "outputs": [],
   "source": [
    "bayes.normal<-function(x,theta,sigma,gamma){\n",
    "    lambda<-sigma^2/(sigma^2+gamma^2)\n",
    "    theta.x<-lambda*theta+(1-lambda)*x\n",
    "    tau2<-lambda*gamma^2\n",
    "    tau<-sqrt(tau2)\n",
    "    max.sigma<-max(sigma,gamma,tau)\n",
    "    min.theta<-min(theta,x,theta.x)\n",
    "    max.theta<-max(theta,x,theta.x)\n",
    "    min.x<-min.theta-2.0*max.sigma\n",
    "    max.x<-max.theta+2.0*max.sigma\n",
    "    u<-seq(min.x,max.x,length=1000)\n",
    "    prior<-dnorm(u,mean=theta,sd=gamma)\n",
    "    obs<-dnorm(u,mean=x,sd=sigma)\n",
    "    post<-dnorm(u,mean=theta.x,sd=tau)\n",
    "    max.y<-max(prior,obs,post)\n",
    "    plot(u,prior,type=\"l\",lwd=3.0,ylim=c(0,max.y*1.1),col=\"green\",\n",
    "        xlab=\"\",ylab=\"\",main=\"Prior, observation and posterior\",cex=3)\n",
    "    lines(u,obs,lwd=2.5,col=\"blue\")\n",
    "    lines(u,post,lwd=2.5,col=\"red\")\n",
    "    legend(\"topleft\",legend=list(\"Prior\",\"Obs\",\"Post\"),lty=\"solid\",lwd=2.5,col=c(\"green\",\"blue\",\"red\"))\n",
    "    }"
   ]
  },
  {
   "cell_type": "code",
   "execution_count": 32,
   "metadata": {},
   "outputs": [
    {
     "data": {
      "image/png": "[encoded data removed]",
      "text/plain": [
       "Plot with title \"Prior, observation and posterior\""
      ]
     },
     "metadata": {
      "image/png": {
       "height": 420,
       "width": 420
      }
     },
     "output_type": "display_data"
    }
   ],
   "source": [
    "options(repr.plot.width=7,repr.plot.height=7)\n",
    "bayes.normal(130,120,5/sqrt(2),10)"
   ]
  },
  {
   "cell_type": "markdown",
   "metadata": {},
   "source": [
    "## Credible interval\n",
    "\n",
    "With the posterior distribution for $\\mu$, given $\\overline{x}$,\twe obtain the interval $(a,b)$, such that $P(a<\\mu<b)=0.95$. This interval is centered on $\\theta_{x}=128.9$ instead of on $\\overline{x}=130$:"
   ]
  },
  {
   "cell_type": "code",
   "execution_count": 33,
   "metadata": {},
   "outputs": [
    {
     "data": {
      "text/html": [
       "<style>\n",
       ".list-inline {list-style: none; margin:0; padding: 0}\n",
       ".list-inline>li {display: inline-block}\n",
       ".list-inline>li:not(:last-child)::after {content: \"\\00b7\"; padding: 0 .5ex}\n",
       "</style>\n",
       "<ol class=list-inline><li>122.3557</li><li>135.4221</li></ol>\n"
      ],
      "text/latex": [
       "\\begin{enumerate*}\n",
       "\\item 122.3557\n",
       "\\item 135.4221\n",
       "\\end{enumerate*}\n"
      ],
      "text/markdown": [
       "1. 122.3557\n",
       "2. 135.4221\n",
       "\n",
       "\n"
      ],
      "text/plain": [
       "[1] 122.3557 135.4221"
      ]
     },
     "metadata": {},
     "output_type": "display_data"
    }
   ],
   "source": [
    "a<-qnorm(0.025,mean=theta.x,sd=tau)\n",
    "b<-qnorm(0.975,mean=theta.x,sd=tau)\n",
    "Credible.Int.95<-c(a,b)\n",
    "round(Credible.Int.95,4)\n",
    "#[1] 122.3557 135.4221"
   ]
  },
  {
   "cell_type": "markdown",
   "metadata": {},
   "source": [
    "## Posterior predictive distribution"
   ]
  },
  {
   "cell_type": "markdown",
   "metadata": {},
   "source": [
    "The posterior predictive distribution for a new observation $\\widetilde{x}$, given the observed $\\overline{x}$, is normal, with mean $\\theta_{x}$ and variance the sum $\\sigma^{2}+\\tau^{2}$."
   ]
  },
  {
   "cell_type": "code",
   "execution_count": 34,
   "metadata": {},
   "outputs": [
    {
     "data": {
      "text/html": [
       "128.889"
      ],
      "text/latex": [
       "128.889"
      ],
      "text/markdown": [
       "128.889"
      ],
      "text/plain": [
       "[1] 128.889"
      ]
     },
     "metadata": {},
     "output_type": "display_data"
    },
    {
     "data": {
      "text/html": [
       "36.111"
      ],
      "text/latex": [
       "36.111"
      ],
      "text/markdown": [
       "36.111"
      ],
      "text/plain": [
       "[1] 36.111"
      ]
     },
     "metadata": {},
     "output_type": "display_data"
    },
    {
     "data": {
      "text/html": [
       "6.009"
      ],
      "text/latex": [
       "6.009"
      ],
      "text/markdown": [
       "6.009"
      ],
      "text/plain": [
       "[1] 6.009"
      ]
     },
     "metadata": {},
     "output_type": "display_data"
    }
   ],
   "source": [
    "Theor.m.post.pred<-theta.x\n",
    "Theor.var.post.pred<-sigma^2+tau^2\n",
    "Theor.sd.post.pred<-sqrt(Theor.var.post.pred)\n",
    "round(Theor.m.post.pred,3)\n",
    "round(Theor.var.post.pred,3)\n",
    "round(Theor.sd.post.pred,3)"
   ]
  },
  {
   "cell_type": "markdown",
   "metadata": {},
   "source": [
    "## Predicting next semester probability of fine"
   ]
  },
  {
   "cell_type": "markdown",
   "metadata": {},
   "source": [
    "This posterior predictive distribution can be used to compute the probability that the water company will be fined next semester, which will happen if next month measurement (predicted)  $\\widetilde{𝑥}$  exceeds  $x_{\\text{crit}}=145$."
   ]
  },
  {
   "cell_type": "code",
   "execution_count": 35,
   "metadata": {},
   "outputs": [
    {
     "data": {
      "text/html": [
       "0.00367"
      ],
      "text/latex": [
       "0.00367"
      ],
      "text/markdown": [
       "0.00367"
      ],
      "text/plain": [
       "[1] 0.00367"
      ]
     },
     "metadata": {},
     "output_type": "display_data"
    }
   ],
   "source": [
    "p.fine<-1-pnorm(145,mean=Theor.m.post.pred,sd=Theor.sd.post.pred)\n",
    "round(p.fine,5)\n",
    "# [1] 0.003669567"
   ]
  }
 ],
 "metadata": {
  "kernelspec": {
   "display_name": "R",
   "language": "R",
   "name": "ir"
  },
  "language_info": {
   "codemirror_mode": "r",
   "file_extension": ".r",
   "mimetype": "text/x-r-source",
   "name": "R",
   "pygments_lexer": "r",
   "version": "4.2.2"
  }
 },
 "nbformat": 4,
 "nbformat_minor": 4
}
