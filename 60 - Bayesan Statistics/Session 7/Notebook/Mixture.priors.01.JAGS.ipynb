{
 "cells": [
  {
   "cell_type": "markdown",
   "id": "5c2b2ca3-b7d9-4bca-850d-792a642e512a",
   "metadata": {
    "tags": []
   },
   "source": [
    "# Mixtures of conjugate priors 01 - JAGS"
   ]
  },
  {
   "cell_type": "markdown",
   "id": "acb82dff-f0e6-4a24-9853-720b5b5f44d5",
   "metadata": {},
   "source": [
    "## _Josep Fortiana_ &emsp;&emsp;&emsp;&emsp;&emsp;&emsp; 2023-03-27"
   ]
  },
  {
   "cell_type": "markdown",
   "id": "0793cb9e-1b8b-4482-8c98-d17afc90071d",
   "metadata": {
    "tags": []
   },
   "source": [
    "## The spinning coin"
   ]
  },
  {
   "cell_type": "markdown",
   "id": "836dc036-5087-42cd-a709-bd606db9a195",
   "metadata": {
    "tags": []
   },
   "source": [
    "***\n",
    "###### LaTeX macros\n",
    "$\\def\\prob{P}$\n",
    "$\\def\\argmax{\\operatorname{arg\\,max}}$\n",
    "$\\def\\argmin{\\operatorname{arg\\,min}}$\n",
    "$\\def\\borel{\\operatorname{Borel}}$\n",
    "$\\def\\cE{\\cal E}$\n",
    "$\\def\\cP{\\cal P}$\n",
    "$\\def\\R{\\mathbb{R}}$ \n",
    "$\\def\\N{\\mathbb{N}}$\n",
    "$\\def\\Z{\\mathbb{Z}}$\n",
    "$\\def\\Ee{\\operatorname{E}}$\n",
    "$\\def\\va{\\text{v.a.}}$\n",
    "$\\def\\var{\\operatorname{var}}$\n",
    "$\\def\\cov{\\operatorname{cov}}$\n",
    "$\\def\\cor{\\operatorname{cor}}$\n",
    "$\\def\\binomdist{\\operatorname{Binom}}$\n",
    "$\\def\\berndist{\\operatorname{Ber}}$\n",
    "$\\def\\betabinomdist{\\operatorname{Beta-Binom}}$\n",
    "$\\def\\betadist{\\operatorname{Beta}}$\n",
    "$\\def\\expdist{\\operatorname{Exp}}$\n",
    "$\\def\\gammadist{\\operatorname{Gamma}}$\n",
    "$\\def\\hyperdist{\\operatorname{Hypergeom}}$\n",
    "$\\def\\hypergeomdist{\\operatorname{Hypergeom}}$\n",
    "$\\DeclareMathOperator{\\multinomialdist}{Multinomial}$\n",
    "$\\DeclareMathOperator{\\multinomdist}{Multinom}$\n",
    "$\\def\\poissondist{\\operatorname{Poisson}}$\n",
    "$\\def\\geomdist{\\operatorname{Geom}}$\n",
    "$\\def\\normaldist{\\operatorname{N}}$\n",
    "$\\def\\unifdist{\\operatorname{Unif}}$\n",
    "$\\DeclareMathOperator{\\indica}{\\mathbb{1}}$\n",
    "$\\def\\CondTo{\\mathbin{|\\mskip0.5mu}}$\n",
    "***"
   ]
  },
  {
   "cell_type": "code",
   "execution_count": 1,
   "id": "behavioral-departure",
   "metadata": {},
   "outputs": [
    {
     "name": "stderr",
     "output_type": "stream",
     "text": [
      "Loading required package: R2jags\n",
      "\n",
      "Loading required package: rjags\n",
      "\n",
      "Loading required package: coda\n",
      "\n",
      "Linked to JAGS 4.3.1\n",
      "\n",
      "Loaded modules: basemod,bugs\n",
      "\n",
      "\n",
      "Attaching package: 'R2jags'\n",
      "\n",
      "\n",
      "The following object is masked from 'package:coda':\n",
      "\n",
      "    traceplot\n",
      "\n",
      "\n"
     ]
    }
   ],
   "source": [
    "#install.packages(\"R2jags\",dependencies=TRUE,repos= \"https://cloud.r-project.org\")\n",
    "require(R2jags)"
   ]
  },
  {
   "cell_type": "markdown",
   "id": "analyzed-stuart",
   "metadata": {},
   "source": [
    "## Data "
   ]
  },
  {
   "cell_type": "code",
   "execution_count": 2,
   "id": "upset-abraham",
   "metadata": {},
   "outputs": [],
   "source": [
    "prior.alpha1<-10\n",
    "prior.beta1<-20\n",
    "prior.alpha2<-20\n",
    "prior.beta2<-10\n",
    "prior.gamma<-0.5"
   ]
  },
  {
   "cell_type": "code",
   "execution_count": 3,
   "id": "failing-theta",
   "metadata": {},
   "outputs": [],
   "source": [
    "# Number of trials\n",
    "n<-10\n",
    "# Observed x\n",
    "x.obs<-3"
   ]
  },
  {
   "cell_type": "code",
   "execution_count": 4,
   "id": "dutch-belly",
   "metadata": {},
   "outputs": [],
   "source": [
    "Mix.01.dat<-list(a1=prior.alpha1,b1=prior.beta1,a2=prior.alpha2,b2=prior.beta2,gamma=prior.gamma,n=n,x=x.obs)"
   ]
  },
  {
   "cell_type": "markdown",
   "id": "oriental-acquisition",
   "metadata": {},
   "source": [
    "## Model"
   ]
  },
  {
   "cell_type": "code",
   "execution_count": 5,
   "id": "foster-cedar",
   "metadata": {},
   "outputs": [],
   "source": [
    "cat(\n",
    "\"model\n",
    "    {\n",
    "    x~dbin(p,n)             # Binomial likelihood. See arguments order!\n",
    "    \n",
    "    p<-theta[r]             # Prior is a mixture of two beta r.v \n",
    "                            # Notice the syntax: this statement says that p is\n",
    "                            # *equal to* the pair of theta variates defined below\n",
    "\n",
    "    r~dcat(g[])             # Categorical distribution:\n",
    "                            # g[] is a 2-vector containing the mixing probabilities (gamma, 1-gamma)\n",
    "\n",
    "    theta[1]~dbeta(a1,b1)   # The two beta r.v to enter the mixture\n",
    "    theta[2]~dbeta(a2,b2)\n",
    "\n",
    "    g[1]<-gamma             # Just as in p. g is equal to (gamma, 1-gamma)\n",
    "    g[2]<-1-gamma\n",
    "    }\"\n",
    "    ,file=\"Mix.01.jag\")"
   ]
  },
  {
   "cell_type": "markdown",
   "id": "vocational-shelf",
   "metadata": {},
   "source": [
    "## Run JAGS"
   ]
  },
  {
   "cell_type": "code",
   "execution_count": 6,
   "id": "blocked-bibliography",
   "metadata": {},
   "outputs": [
    {
     "name": "stderr",
     "output_type": "stream",
     "text": [
      "module glm loaded\n",
      "\n"
     ]
    },
    {
     "name": "stdout",
     "output_type": "stream",
     "text": [
      "Compiling model graph\n",
      "   Resolving undeclared variables\n",
      "   Allocating nodes\n",
      "Graph information:\n",
      "   Observed stochastic nodes: 1\n",
      "   Unobserved stochastic nodes: 3\n",
      "   Total graph size: 14\n",
      "\n",
      "Initializing model\n",
      "\n"
     ]
    }
   ],
   "source": [
    "Mix.01.m1<-jags(data=Mix.01.dat, n.chains=3,n.iter=5000,n.burnin=500, \n",
    "        parameters.to.save=c(\"theta\",\"p\"), model.file=\"Mix.01.jag\")"
   ]
  },
  {
   "cell_type": "code",
   "execution_count": 7,
   "id": "prostate-dodge",
   "metadata": {},
   "outputs": [
    {
     "name": "stdout",
     "output_type": "stream",
     "text": [
      "Inference for Bugs model at \"Mix.01.jag\", fit using jags,\n",
      " 3 chains, each with 5000 iterations (first 500 discarded), n.thin = 4\n",
      " n.sims = 3375 iterations saved\n",
      "         mu.vect sd.vect  2.5%   25%   50%   75% 97.5%  Rhat n.eff\n",
      "p          0.353   0.107 0.190 0.280 0.335 0.399 0.638 1.001  3400\n",
      "theta[1]   0.327   0.075 0.188 0.274 0.325 0.376 0.486 1.001  3400\n",
      "theta[2]   0.656   0.088 0.482 0.597 0.661 0.721 0.815 1.001  3400\n",
      "deviance   3.258   1.211 2.643 2.680 2.808 3.178 7.344 1.001  3400\n",
      "\n",
      "For each parameter, n.eff is a crude measure of effective sample size,\n",
      "and Rhat is the potential scale reduction factor (at convergence, Rhat=1).\n",
      "\n",
      "DIC info (using the rule, pD = var(deviance)/2)\n",
      "pD = 0.7 and DIC = 4.0\n",
      "DIC is an estimate of expected predictive error (lower deviance is better).\n"
     ]
    }
   ],
   "source": [
    "print(Mix.01.m1)"
   ]
  },
  {
   "cell_type": "code",
   "execution_count": 8,
   "id": "unable-atmosphere",
   "metadata": {},
   "outputs": [],
   "source": [
    "p.sample<-Mix.01.m1$BUGSoutput$sims.list$p"
   ]
  },
  {
   "cell_type": "code",
   "execution_count": 9,
   "id": "victorian-excitement",
   "metadata": {},
   "outputs": [
    {
     "data": {
      "image/png": "[encoded data removed]",
      "text/plain": [
       "Plot with title \"paste(\"Estimated posterior pdf of \", p)\""
      ]
     },
     "metadata": {
      "image/png": {
       "height": 420,
       "width": 420
      }
     },
     "output_type": "display_data"
    }
   ],
   "source": [
    "p.sample.density<-density(p.sample)\n",
    "plot(p.sample.density,lwd=2.5,col=\"blue\",main=expression(paste(\"Estimated posterior pdf of \",p)),cex.main=1.6)"
   ]
  },
  {
   "cell_type": "code",
   "execution_count": null,
   "id": "according-survival",
   "metadata": {},
   "outputs": [],
   "source": []
  }
 ],
 "metadata": {
  "kernelspec": {
   "display_name": "R",
   "language": "R",
   "name": "ir"
  },
  "language_info": {
   "codemirror_mode": "r",
   "file_extension": ".r",
   "mimetype": "text/x-r-source",
   "name": "R",
   "pygments_lexer": "r",
   "version": "4.2.2"
  }
 },
 "nbformat": 4,
 "nbformat_minor": 5
}
