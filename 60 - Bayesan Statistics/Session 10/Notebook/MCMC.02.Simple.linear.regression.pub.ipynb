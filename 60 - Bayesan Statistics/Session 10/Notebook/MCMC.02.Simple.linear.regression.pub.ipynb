{
 "cells": [
  {
   "cell_type": "markdown",
   "metadata": {
    "tags": []
   },
   "source": [
    "# Simple linear regression - Metropolis"
   ]
  },
  {
   "cell_type": "markdown",
   "metadata": {},
   "source": [
    "# _Josep Fortiana_   $\\hskip3cm$  2023-05-08"
   ]
  },
  {
   "cell_type": "markdown",
   "metadata": {},
   "source": [
    "***\n",
    "###### LaTeX macros\n",
    "$ \\def\\prob{P}$\n",
    "$\\def\\argmax{\\operatorname{arg\\,max}}$\n",
    "$\\def\\argmin{\\operatorname{arg\\,min}}$\n",
    "$\\def\\borel{\\operatorname{Borel}}$\n",
    "$\\def\\cE{\\cal E}$\n",
    "$\\def\\cP{\\cal P}$\n",
    "$\\def\\R{\\mathbb{R}}$ \n",
    "$\\def\\N{\\mathbb{N}}$\n",
    "$\\def\\Z{\\mathbb{Z}}$\n",
    "$\\def\\Ee{\\operatorname{E}}$\n",
    "$\\def\\va{\\text{v.a.}}$\n",
    "$\\def\\var{\\operatorname{var}}$\n",
    "$\\def\\Var{\\operatorname{Var}}$\n",
    "$\\def\\cov{\\operatorname{cov}}$\n",
    "$\\def\\cor{\\operatorname{cor}}$\n",
    "$\\def\\binomdist{\\operatorname{Binom}}$\n",
    "$\\def\\berndist{\\operatorname{Ber}}$\n",
    "$\\def\\betabinomdist{\\operatorname{Beta-Binom}}$\n",
    "$\\def\\betadist{\\operatorname{Beta}}$\n",
    "$\\def\\cauchydist{\\operatorname{Cauchy}}$\n",
    "$\\def\\dexpdist{\\operatorname{DExp}}$\n",
    "$\\def\\expdist{\\operatorname{Exp}}$\n",
    "$\\def\\fdist{\\operatorname{F}}$\n",
    "$\\def\\gammadist{\\operatorname{Gamma}}$\n",
    "$\\def\\geomdist{\\operatorname{Geom}}$\n",
    "$\\def\\halfcauchydist{\\operatorname{Cauchy}^{+}}$\n",
    "$\\def\\hyperdist{\\operatorname{Hypergeom}}$\n",
    "$\\def\\hypergeomdist{\\operatorname{Hypergeom}}$\n",
    "$\\DeclareMathOperator{\\invgammadist}{IG}$\n",
    "$\\def\\laplacedist{\\operatorname{Laplace}}$\n",
    "$\\DeclareMathOperator{\\multinomialdist}{Multinomial}$\n",
    "$\\DeclareMathOperator{\\multinomdist}{Multinom}$\n",
    "$\\def\\normaldist{\\operatorname{N}}$\n",
    "$\\def\\poissondist{\\operatorname{Poisson}}$\n",
    "$\\def\\tdist{\\operatorname{t}}$\n",
    "$\\def\\unifdist{\\operatorname{Unif}}$\n",
    "$\\def\\xbar{\\kern1.3pt\\overline{\\kern-1.3pt x}}$\n",
    "$\\def\\Xbar{\\kern1.3pt\\overline{\\kern-1.3pt X}}$\n",
    "$\\def\\yhat{\\kern1.3pt\\hat{\\kern-1.3pt y}}$\n",
    "$\\def\\betahat{\\kern1.3pt\\hat{\\kern-1.3pt \\beta}}$\n",
    "$\\DeclareMathOperator{\\indica}{\\mathbb{1}}$\n",
    "$\\def\\CondTo{\\mathbin{|\\mskip0.5mu}}$\n",
    "$\\def\\eqdef{\\stackrel{\\text{def}}{\\mskip3mu=\\mskip3mu}}$\n",
    "***"
   ]
  },
  {
   "cell_type": "markdown",
   "metadata": {},
   "source": [
    "# Exercise 2"
   ]
  },
  {
   "cell_type": "markdown",
   "metadata": {},
   "source": [
    "Prepare and run a Metropolis-Hastings MCMC simulation for a simple least squares regression model.\n",
    "\n",
    "This exercise closely follows the explanatory text and R scripts in [Florian Hartig's blog.](https://theoreticalecology.wordpress.com/2010/09/17/metropolis-hastings-mcmc-in-r/)\n",
    "\n",
    "It is advisable to work in parallel, performing computations here and reading the blog explanations.\n",
    "\n",
    "Warning: I switched labels `a` and `b` for intercept and slope from Hartig's notation."
   ]
  },
  {
   "cell_type": "markdown",
   "metadata": {},
   "source": [
    "## Creating test data"
   ]
  },
  {
   "cell_type": "code",
   "execution_count": 1,
   "metadata": {},
   "outputs": [],
   "source": [
    "set.seed(24025)\n",
    "trueA<-0  # R notation for abline: b is the slope\n",
    "trueB<-5\n",
    "trueSd<-10\n",
    "sampleSize<-31\n",
    "# create independent x-values \n",
    "x<-(-(sampleSize-1)/2):((sampleSize-1)/2)\n",
    "# create dependent values according to a + b*x + N(0,sd)\n",
    "y<-trueA+trueB*x+rnorm(n=sampleSize,mean=0,sd=trueSd)"
   ]
  },
  {
   "cell_type": "code",
   "execution_count": 2,
   "metadata": {},
   "outputs": [
    {
     "data": {
      "image/png": "[encoded data removed]",
      "text/plain": [
       "Plot with title \"Test Data\""
      ]
     },
     "metadata": {
      "image/png": {
       "height": 420,
       "width": 420
      }
     },
     "output_type": "display_data"
    }
   ],
   "source": [
    "options(repr.plot.width=7,repr.plot.height=7)\n",
    "plot(x,y,pch='+',col=\"blue\",main=\"Test Data\")\n",
    "abline(trueA,trueB,lwd=2.5,col=\"cyan\")"
   ]
  },
  {
   "cell_type": "markdown",
   "metadata": {},
   "source": [
    "## Fit a classical linear model\n",
    "\n",
    "Assuming the common standard deviation is a known constant."
   ]
  },
  {
   "cell_type": "code",
   "execution_count": 3,
   "metadata": {},
   "outputs": [
    {
     "data": {
      "text/plain": [
       "\n",
       "Call:\n",
       "lm(formula = y ~ x)\n",
       "\n",
       "Residuals:\n",
       "    Min      1Q  Median      3Q     Max \n",
       "-12.743  -7.732  -0.552   5.520  20.432 \n",
       "\n",
       "Coefficients:\n",
       "            Estimate Std. Error t value Pr(>|t|)    \n",
       "(Intercept)   1.2031     1.6579   0.726    0.474    \n",
       "x             4.7915     0.1854  25.851   <2e-16 ***\n",
       "---\n",
       "Signif. codes:  0 '***' 0.001 '**' 0.01 '*' 0.05 '.' 0.1 ' ' 1\n",
       "\n",
       "Residual standard error: 9.231 on 29 degrees of freedom\n",
       "Multiple R-squared:  0.9584,\tAdjusted R-squared:  0.957 \n",
       "F-statistic: 668.3 on 1 and 29 DF,  p-value: < 2.2e-16\n"
      ]
     },
     "metadata": {},
     "output_type": "display_data"
    }
   ],
   "source": [
    "lm.1<-lm(y~x)\n",
    "summary(lm.1)\n",
    "a.hat<-as.numeric(lm.1$coefficients[1])\n",
    "b.hat<-as.numeric(lm.1$coefficients[2])"
   ]
  },
  {
   "cell_type": "code",
   "execution_count": 4,
   "metadata": {},
   "outputs": [
    {
     "data": {
      "text/html": [
       "<table class=\"dataframe\">\n",
       "<caption>A anova: 2 × 5</caption>\n",
       "<thead>\n",
       "\t<tr><th></th><th scope=col>Df</th><th scope=col>Sum Sq</th><th scope=col>Mean Sq</th><th scope=col>F value</th><th scope=col>Pr(&gt;F)</th></tr>\n",
       "\t<tr><th></th><th scope=col>&lt;int&gt;</th><th scope=col>&lt;dbl&gt;</th><th scope=col>&lt;dbl&gt;</th><th scope=col>&lt;dbl&gt;</th><th scope=col>&lt;dbl&gt;</th></tr>\n",
       "</thead>\n",
       "<tbody>\n",
       "\t<tr><th scope=row>x</th><td> 1</td><td>56938.147</td><td>56938.14661</td><td>668.2632</td><td>1.416233e-21</td></tr>\n",
       "\t<tr><th scope=row>Residuals</th><td>29</td><td> 2470.892</td><td>   85.20318</td><td>      NA</td><td>          NA</td></tr>\n",
       "</tbody>\n",
       "</table>\n"
      ],
      "text/latex": [
       "A anova: 2 × 5\n",
       "\\begin{tabular}{r|lllll}\n",
       "  & Df & Sum Sq & Mean Sq & F value & Pr(>F)\\\\\n",
       "  & <int> & <dbl> & <dbl> & <dbl> & <dbl>\\\\\n",
       "\\hline\n",
       "\tx &  1 & 56938.147 & 56938.14661 & 668.2632 & 1.416233e-21\\\\\n",
       "\tResiduals & 29 &  2470.892 &    85.20318 &       NA &           NA\\\\\n",
       "\\end{tabular}\n"
      ],
      "text/markdown": [
       "\n",
       "A anova: 2 × 5\n",
       "\n",
       "| <!--/--> | Df &lt;int&gt; | Sum Sq &lt;dbl&gt; | Mean Sq &lt;dbl&gt; | F value &lt;dbl&gt; | Pr(&gt;F) &lt;dbl&gt; |\n",
       "|---|---|---|---|---|---|\n",
       "| x |  1 | 56938.147 | 56938.14661 | 668.2632 | 1.416233e-21 |\n",
       "| Residuals | 29 |  2470.892 |    85.20318 |       NA |           NA |\n",
       "\n"
      ],
      "text/plain": [
       "          Df Sum Sq    Mean Sq     F value  Pr(>F)      \n",
       "x          1 56938.147 56938.14661 668.2632 1.416233e-21\n",
       "Residuals 29  2470.892    85.20318       NA           NA"
      ]
     },
     "metadata": {},
     "output_type": "display_data"
    },
    {
     "data": {
      "text/html": [
       "'Estimated intercept = 1.203000'"
      ],
      "text/latex": [
       "'Estimated intercept = 1.203000'"
      ],
      "text/markdown": [
       "'Estimated intercept = 1.203000'"
      ],
      "text/plain": [
       "[1] \"Estimated intercept = 1.203000\""
      ]
     },
     "metadata": {},
     "output_type": "display_data"
    },
    {
     "data": {
      "text/html": [
       "'Estimated slope = 4.792000'"
      ],
      "text/latex": [
       "'Estimated slope = 4.792000'"
      ],
      "text/markdown": [
       "'Estimated slope = 4.792000'"
      ],
      "text/plain": [
       "[1] \"Estimated slope = 4.792000\""
      ]
     },
     "metadata": {},
     "output_type": "display_data"
    },
    {
     "data": {
      "text/html": [
       "'Estimated std. deviation = 9.231000'"
      ],
      "text/latex": [
       "'Estimated std. deviation = 9.231000'"
      ],
      "text/markdown": [
       "'Estimated std. deviation = 9.231000'"
      ],
      "text/plain": [
       "[1] \"Estimated std. deviation = 9.231000\""
      ]
     },
     "metadata": {},
     "output_type": "display_data"
    }
   ],
   "source": [
    "lm.1.anova<-anova(lm.1)\n",
    "lm.1.anova\n",
    "# str(lm.1.anova)\n",
    "sigma2.hat<-lm.1.anova$Sum[2]/lm.1.anova$Df[2]\n",
    "sigma.hat<-sqrt(sigma2.hat)\n",
    "sprintf(\"Estimated intercept = %f\",round(a.hat,3))\n",
    "sprintf(\"Estimated slope = %f\",round(b.hat,3))\n",
    "sprintf(\"Estimated std. deviation = %f\",round(sigma.hat,3))"
   ]
  },
  {
   "cell_type": "code",
   "execution_count": 5,
   "metadata": {},
   "outputs": [
    {
     "data": {
      "image/png": "[encoded data removed]",
      "text/plain": [
       "Plot with title \"Test Data\""
      ]
     },
     "metadata": {
      "image/png": {
       "height": 420,
       "width": 420
      }
     },
     "output_type": "display_data"
    }
   ],
   "source": [
    "options(repr.plot.width=7,repr.plot.height=7)\n",
    "plot(x,y,pch='+',col=\"blue\",main=\"Test Data\")\n",
    "abline(trueA,trueB,lwd=2.5,col=\"cyan\")\n",
    "abline(lm.1,lwd=2.5,col=\"blue\")\n",
    "legend(\"topleft\",c(\"Generating line\",\"Regression line\"), lwd=2.5,col=c(\"cyan\",\"blue\"))"
   ]
  },
  {
   "cell_type": "markdown",
   "metadata": {},
   "source": [
    "## Log-Likelihood\n",
    "\n",
    "We assume a normal linear model, that is, each observation $y_i\\sim\\operatorname{N}(a+b\\cdot x_i,\\sigma^2)$   \n",
    "and they are uncorrelated. \n",
    "\n",
    "Parameters are $a$ (intercept), $b$ (slope) and the common standard deviation $\\sigma$.\n",
    "\n",
    "The sample likelihood function is the product of the $n$ individual likelihoods. \n",
    "\n",
    "The sample log-likelihood is the sum of the $n$ individual log-likelihoods."
   ]
  },
  {
   "cell_type": "code",
   "execution_count": 6,
   "metadata": {},
   "outputs": [],
   "source": [
    "log.likelihood <- function(param){\n",
    "    a<-param[1]\n",
    "    b<-param[2]\n",
    "    sd<-param[3]\n",
    "    pred<-a+b*x\n",
    "    singleloglikelihoods = dnorm(y,mean=pred,sd=sd,log=TRUE)\n",
    "    sumll<-sum(singleloglikelihoods)\n",
    "    return(sumll)   \n",
    "    }"
   ]
  },
  {
   "cell_type": "code",
   "execution_count": 7,
   "metadata": {},
   "outputs": [
    {
     "data": {
      "image/png": "[encoded data removed]",
      "text/plain": [
       "Plot with title \"Log-likelihood as a function of b\""
      ]
     },
     "metadata": {
      "image/png": {
       "height": 420,
       "width": 420
      }
     },
     "output_type": "display_data"
    }
   ],
   "source": [
    "# Example: plot the loglikelihood profile of the slope b\n",
    "slopevalues<-function(b){return(log.likelihood(c(trueA,b,trueSd)))}\n",
    "slopelikelihoods<-lapply(seq(3,7,by=0.05),slopevalues)\n",
    "options(repr.plot.width=7,repr.plot.height=7)\n",
    "plot(seq(3,7,by=0.05),slopelikelihoods,type=\"l\",lwd=3.5,col=\"magenta\",xlab=\"Values of slope parameter b\", \n",
    "     ylab=\"Log likelihood\",main=\"Log-likelihood as a function of b\",cex.main=1.7,cex.lab=1.3)\n",
    "abline(v=b.hat,col=\"cyan\",lwd=2.5) # Max likelihood estimator of b"
   ]
  },
  {
   "cell_type": "markdown",
   "metadata": {},
   "source": [
    "## Prior\n",
    "\n",
    "- Normal prior for the intercept, with mean=0 and sd=5.\n",
    "- Uniform(0,10) for the slope.\n",
    "- Uniform(0,30) for the sd parameter.\n",
    "\n",
    "We take these priors as independent (in particular this is not a conjugate prior, except for the intercept).\n",
    "\n",
    "Thus, the global prior is the product of these pdf's. Taking logarithms, we have the sum of logs of   \n",
    "prior pdfs, to be added to the log-likelihood to give the log-joint pdf, proportional to the log-posterior."
   ]
  },
  {
   "cell_type": "code",
   "execution_count": 8,
   "metadata": {},
   "outputs": [],
   "source": [
    "log.prior <- function(param){\n",
    "    a<-param[1]\n",
    "    b<-param[2]\n",
    "    sd<-param[3]\n",
    "    aprior<-dnorm(a,mean=0,sd=5,log=TRUE)\n",
    "    bprior<-dunif(b,min=0,max=10,log=TRUE)\n",
    "    sdprior<-dunif(sd, min=0, max=30, log = TRUE)\n",
    "    return(aprior+bprior+sdprior)\n",
    "    }"
   ]
  },
  {
   "cell_type": "markdown",
   "metadata": {},
   "source": [
    "## Unnormalized log-posterior"
   ]
  },
  {
   "cell_type": "code",
   "execution_count": 9,
   "metadata": {},
   "outputs": [],
   "source": [
    "log.posterior <- function(param){\n",
    "    return (log.likelihood(param)+log.prior(param))\n",
    "    }"
   ]
  },
  {
   "cell_type": "markdown",
   "metadata": {},
   "source": [
    "## Proposal function for the Metropolis algorithm\n",
    "\n",
    "A normal pdf for each of the three parameters.\n",
    "\n",
    "Their standard deviations should be decided by trial and error."
   ]
  },
  {
   "cell_type": "code",
   "execution_count": 10,
   "metadata": {},
   "outputs": [],
   "source": [
    "proposalfunction <- function(param){\n",
    "    return(rnorm(3,mean=param, sd=c(0.5,0.1,0.3)))\n",
    "    }"
   ]
  },
  {
   "cell_type": "markdown",
   "metadata": {},
   "source": [
    "## Metropolis chain generation"
   ]
  },
  {
   "cell_type": "code",
   "execution_count": 11,
   "metadata": {},
   "outputs": [],
   "source": [
    "metropolis_MCMC <- function(startvalue, iterations){\n",
    "    chain<-array(dim = c(iterations+1,3))      # Allocate an array to store three chains, for (a,b,sigma)\n",
    "    chain[1,]<-startvalue\n",
    "    for (i in 1:iterations){\n",
    "        proposal<-proposalfunction(chain[i,])\n",
    "        prob<-exp(log.posterior(proposal) - log.posterior(chain[i,]))\n",
    "        if (runif(1)<prob)\n",
    "            chain[i+1,]<-proposal\n",
    "        else\n",
    "            chain[i+1,]<-chain[i,]\n",
    "        }\n",
    "    return(chain)\n",
    "    }"
   ]
  },
  {
   "cell_type": "markdown",
   "metadata": {
    "tags": []
   },
   "source": [
    "## Run simulation \n",
    "\n",
    "- Decide chain length and `burnIn`\n",
    "\n",
    "- Run simulation and discard first `burnIn` values\n",
    "\n",
    "- Compute the acceptance rate"
   ]
  },
  {
   "cell_type": "code",
   "execution_count": 12,
   "metadata": {
    "tags": []
   },
   "outputs": [
    {
     "data": {
      "text/html": [
       "0.764"
      ],
      "text/latex": [
       "0.764"
      ],
      "text/markdown": [
       "0.764"
      ],
      "text/plain": [
       "[1] 0.764"
      ]
     },
     "metadata": {},
     "output_type": "display_data"
    }
   ],
   "source": [
    "ChainLength<-4000\n",
    "startvalue<-c(0,4,10)\n",
    "chain<-metropolis_MCMC(startvalue,ChainLength)\n",
    "# \n",
    "burnIn<-500\n",
    "# Proportion of accepted transitions = non-duplicated chain values\n",
    "acceptance<-1-mean(duplicated(chain[-(1:burnIn),])) \n",
    "round(acceptance,3)"
   ]
  },
  {
   "cell_type": "markdown",
   "metadata": {},
   "source": [
    "## Posterior histograms\n",
    "\n",
    "With superimposed cyan vertical lines indicating \"Gen\" values (i.e., values originally used for generating the sample), and bluen vertical lines indicating estimated values, the LS=ML estimates obtained from the classical linear model adjustment."
   ]
  },
  {
   "cell_type": "code",
   "execution_count": 13,
   "metadata": {},
   "outputs": [
    {
     "data": {
      "image/png": "[encoded data removed]",
      "text/plain": [
       "Plot with title \"Posterior of sd\""
      ]
     },
     "metadata": {
      "image/png": {
       "height": 900,
       "width": 360
      }
     },
     "output_type": "display_data"
    }
   ],
   "source": [
    "options(repr.plot.width=6,repr.plot.height=15)\n",
    "old.par<-par(mfrow = c(3,1))\n",
    "hist(chain[-(1:burnIn),1],nclass=35,freq=FALSE,lwd=2,main=\"Posterior of a\", \n",
    "     xlab=\"Gen = cyan ; LS estim. = blue; Chain = red\",cex.main=1.8,cex.lab=1.4)\n",
    "abline(v = mean(chain[-(1:burnIn),1]),lwd=2.5,col=\"red\")\n",
    "abline(v = trueA,lwd=2.5, col=\"cyan\")\n",
    "#abline(v=a.hat,lwd=2.5,col=\"blue\")\n",
    "hist(chain[-(1:burnIn),2],nclass=35,freq=FALSE,lwd=2,main=\"Posterior of b\",\n",
    "     xlab=\"Gen = cyan ; LS estim. = blue; Chain = red\",cex.main=1.8,cex.lab=1.4)\n",
    "abline(v = mean(chain[-(1:burnIn),2]),col=\"red\")\n",
    "abline(v = trueB,lwd=2.5, col=\"cyan\")\n",
    "#abline(v=b.hat,lwd=2.5,col=\"blue\")\n",
    "hist(chain[-(1:burnIn),3],nclass=35,freq=FALSE,lwd=2,main=\"Posterior of sd\", \n",
    "     xlab=\"Gen = cyan ; LS estim. = blue; Chain = red\",cex.main=1.8,cex.lab=1.4)\n",
    "abline(v = mean(chain[-(1:burnIn),3]),col=\"red\")\n",
    "abline(v = trueSd,lwd=2.5, col=\"cyan\" )\n",
    "abline(v = sigma.hat,lwd=2.5, col=\"blue\")\n",
    "par(old.par)"
   ]
  },
  {
   "cell_type": "markdown",
   "metadata": {},
   "source": [
    "## Traceplot"
   ]
  },
  {
   "cell_type": "code",
   "execution_count": 14,
   "metadata": {
    "tags": []
   },
   "outputs": [
    {
     "data": {
      "image/png": "[encoded data removed]",
      "text/plain": [
       "Plot with title \"Chain values of sd\""
      ]
     },
     "metadata": {
      "image/png": {
       "height": 720,
       "width": 720
      }
     },
     "output_type": "display_data"
    }
   ],
   "source": [
    "options(repr.plot.width=12,repr.plot.height=12)\n",
    "old.par<-par(mfrow = c(3,1))\n",
    "plot(chain[-(1:burnIn),1], type = \"l\",lwd=0.5,col=\"gray\",\n",
    "     xlab=\"Gen. value = cyan\", main = \"Chain values of a\",cex.main=1.7,cex.lab=1.3)\n",
    "abline(h=trueA,lwd=2.0,col=\"cyan\")\n",
    "abline(h=a.hat,lwd=2.0,col=\"blue\")\n",
    "plot(chain[-(1:burnIn),2], type = \"l\",lwd=0.5,col=\"gray\",\n",
    "     xlab=\"Gen. value = cyan\", main = \"Chain values of b\",cex.main=1.7,cex.lab=1.3)\n",
    "abline(h=trueB,lwd=2.0,col=\"cyan\")\n",
    "abline(h=b.hat,lwd=2.0,col=\"blue\")\n",
    "plot(chain[-(1:burnIn),3], type = \"l\",lwd=0.5,col=\"gray\",\n",
    "     xlab=\"Gen. value = cyan\", main = \"Chain values of sd\",cex.main=1.7,cex.lab=1.3)\n",
    "abline(h=trueSd,lwd=2.0,col=\"cyan\")\n",
    "abline(h=sigma.hat,lwd=2.0,col=\"blue\")\n",
    "par(old.par) "
   ]
  },
  {
   "cell_type": "markdown",
   "metadata": {},
   "source": [
    "<h1 style=\"color:blue\"> Convergence diagnostics </h1>"
   ]
  },
  {
   "cell_type": "markdown",
   "metadata": {
    "tags": []
   },
   "source": [
    "## Run simulation to obtain three chains\n",
    "\n",
    "- Decide chain length and `burnIn`\n",
    "\n",
    "- Run simulation and discard first `burnIn` values\n",
    "\n",
    "- Compute the acceptance rate"
   ]
  },
  {
   "cell_type": "code",
   "execution_count": 15,
   "metadata": {
    "tags": []
   },
   "outputs": [
    {
     "data": {
      "text/html": [
       "<style>\n",
       ".list-inline {list-style: none; margin:0; padding: 0}\n",
       ".list-inline>li {display: inline-block}\n",
       ".list-inline>li:not(:last-child)::after {content: \"\\00b7\"; padding: 0 .5ex}\n",
       "</style>\n",
       "<ol class=list-inline><li>0.78</li><li>0.773</li><li>0.746</li></ol>\n"
      ],
      "text/latex": [
       "\\begin{enumerate*}\n",
       "\\item 0.78\n",
       "\\item 0.773\n",
       "\\item 0.746\n",
       "\\end{enumerate*}\n"
      ],
      "text/markdown": [
       "1. 0.78\n",
       "2. 0.773\n",
       "3. 0.746\n",
       "\n",
       "\n"
      ],
      "text/plain": [
       "[1] 0.780 0.773 0.746"
      ]
     },
     "metadata": {},
     "output_type": "display_data"
    }
   ],
   "source": [
    "ChainLength<-4000\n",
    "set.seed(24025)\n",
    "startvalue1<-c(-1,5,1)\n",
    "startvalue2<-c(0,4,10)\n",
    "startvalue3<-c(2,3,20)\n",
    "chain1<-metropolis_MCMC(startvalue1,ChainLength)\n",
    "chain2<-metropolis_MCMC(startvalue2,ChainLength)\n",
    "chain3<-metropolis_MCMC(startvalue3,ChainLength)\n",
    "# \n",
    "burnIn<-500\n",
    "# Proportion of accepted transitions = non-duplicated chain values\n",
    "acceptance1<-1-mean(duplicated(chain1[-(1:burnIn),])) \n",
    "acceptance2<-1-mean(duplicated(chain2[-(1:burnIn),])) \n",
    "acceptance3<-1-mean(duplicated(chain3[-(1:burnIn),])) \n",
    "round(c(acceptance1,acceptance2,acceptance3),3)"
   ]
  },
  {
   "cell_type": "code",
   "execution_count": 16,
   "metadata": {},
   "outputs": [],
   "source": [
    "colnames(chain1)<-c(\"a\",\"b\",\"sigma\")\n",
    "colnames(chain2)<-c(\"a\",\"b\",\"sigma\")\n",
    "colnames(chain3)<-c(\"a\",\"b\",\"sigma\")"
   ]
  },
  {
   "cell_type": "code",
   "execution_count": 18,
   "metadata": {},
   "outputs": [],
   "source": [
    "#install.packages(\"coda\", repos= \"https://cloud.r-project.org\")\n",
    "require(coda,quietly=TRUE)"
   ]
  },
  {
   "cell_type": "code",
   "execution_count": 19,
   "metadata": {},
   "outputs": [],
   "source": [
    "chain1.mcmc<-as.mcmc(chain1)\n",
    "chain2.mcmc<-as.mcmc(chain2)\n",
    "chain3.mcmc<-as.mcmc(chain3)"
   ]
  },
  {
   "cell_type": "code",
   "execution_count": 20,
   "metadata": {},
   "outputs": [
    {
     "name": "stdout",
     "output_type": "stream",
     "text": [
      "List of 3\n",
      " $ : 'mcmc' num [1:4001, 1:3] -1 -1.209 -0.961 -1.01 -1.205 ...\n",
      "  ..- attr(*, \"dimnames\")=List of 2\n",
      "  .. ..$ : NULL\n",
      "  .. ..$ : chr [1:3] \"a\" \"b\" \"sigma\"\n",
      "  ..- attr(*, \"mcpar\")= num [1:3] 1 4001 1\n",
      " $ : 'mcmc' num [1:4001, 1:3] 0 0.37168 0.8662 0.33871 0.00886 ...\n",
      "  ..- attr(*, \"dimnames\")=List of 2\n",
      "  .. ..$ : NULL\n",
      "  .. ..$ : chr [1:3] \"a\" \"b\" \"sigma\"\n",
      "  ..- attr(*, \"mcpar\")= num [1:3] 1 4001 1\n",
      " $ : 'mcmc' num [1:4001, 1:3] 2 2.14 2.4 2.4 2.26 ...\n",
      "  ..- attr(*, \"dimnames\")=List of 2\n",
      "  .. ..$ : NULL\n",
      "  .. ..$ : chr [1:3] \"a\" \"b\" \"sigma\"\n",
      "  ..- attr(*, \"mcpar\")= num [1:3] 1 4001 1\n",
      " - attr(*, \"class\")= chr \"mcmc.list\"\n"
     ]
    }
   ],
   "source": [
    "simple.regression.m0.mcmc<-as.mcmc.list(list(chain1.mcmc,chain2.mcmc,chain3.mcmc))\n",
    "str(simple.regression.m0.mcmc)"
   ]
  },
  {
   "cell_type": "code",
   "execution_count": 21,
   "metadata": {},
   "outputs": [
    {
     "data": {
      "text/plain": [
       "\n",
       "Iterations = 1:4001\n",
       "Thinning interval = 1 \n",
       "Number of chains = 3 \n",
       "Sample size per chain = 4001 \n",
       "\n",
       "1. Empirical mean and standard deviation for each variable,\n",
       "   plus standard error of the mean:\n",
       "\n",
       "       Mean    SD Naive SE Time-series SE\n",
       "a     1.092 1.712  0.01563         0.1299\n",
       "b     4.794 0.217  0.00198         0.0114\n",
       "sigma 9.730 1.631  0.01489         0.1800\n",
       "\n",
       "2. Quantiles for each variable:\n",
       "\n",
       "        2.5%      25%   50%    75%  97.5%\n",
       "a     -2.139 -0.06753 1.021  2.192  4.620\n",
       "b      4.387  4.66052 4.796  4.934  5.189\n",
       "sigma  7.369  8.65764 9.570 10.612 12.642\n"
      ]
     },
     "metadata": {},
     "output_type": "display_data"
    }
   ],
   "source": [
    "summary(simple.regression.m0.mcmc)"
   ]
  },
  {
   "cell_type": "markdown",
   "metadata": {},
   "source": [
    "## 1. Gelman and Rubin's convergence diagnostic"
   ]
  },
  {
   "cell_type": "markdown",
   "metadata": {},
   "source": [
    "Gelman and Rubin's (1992) approach to monitoring convergence is based on detecting when\n",
    "the Markov chains have forgotten their starting points, by comparing several sequences drawn\n",
    "from different starting points and checking that they are indistinguishable. \n",
    "There are many ways to compare parallel sequences, the most obvious approach being to look \n",
    "at overlaid traceplots and see if the two sequences can be distinguished.\n",
    "\n",
    "A more quantitative approach to answer the question:\n",
    "\n",
    "<p style=\"color:#8B0000\"> Are the sequences much farther apart than we could expect, based on their internal variability? </p>\n",
    "\n",
    "\n",
    "Based on the analysis of variance:\n",
    "\n",
    "Approximate convergence is diagnosed when the variance **between** the different sequences is no larger than the **variance** within each individual sequence. "
   ]
  },
  {
   "cell_type": "markdown",
   "metadata": {},
   "source": [
    "Assume we have $m$ parallel simulations, each of length $n$, of the variable $X$. \n",
    "\n",
    "The values are denoted by $x_{ij}$, $i= 1,\\dots,m$, $j=1,\\dots,n$. \n",
    "\n",
    "Define:\n",
    "\n",
    "$$\n",
    "    \\begin{array}{lcl}\n",
    "    \\bar{x}_{i\\cdot}    &=&\\dfrac{1}{n}\\displaystyle\\sum_{j=1}^{n}x_{ij}\\mskip86mu\n",
    "    \\text{the average of the $i$-th sequence, and}\\\\[0.45cm]\n",
    "    \\bar{x}_{\\cdot\\cdot}&=&\\dfrac{1}{m\\, n}\\,\\displaystyle\\sum_{i=1}^{m}\\sum_{j=1}^{n}x_{ij}\\mskip50mu\n",
    "    \\text{the overall average.}\n",
    "    \\end{array}\n",
    "$$"
   ]
  },
  {
   "cell_type": "markdown",
   "metadata": {},
   "source": [
    "The _between-sequence variance_ $B$ and the _within-sequence variance_ $W$ are:\n",
    "\n",
    "$$\n",
    "\\begin{array}{lcl}\n",
    "    B &=&\\dfrac{n}{m-1}\\,\\displaystyle\\sum_{i=1}^{m}(\\bar{x}_{i\\cdot}-\\bar{x}_{\\cdot\\cdot})^{2}\\\\[0.50cm]\n",
    "    W &=&\\dfrac{1}{m}\\,\\displaystyle\\sum_{i=1}^{m}s_{i}^{2}\\mskip80mu\\text{where }\\mskip30mu\n",
    "        s_{i}^{2}=\\dfrac{1}{n-1}\\displaystyle\\sum_{j=1}^{n}(x_{ij}-\\bar{x}_{i\\cdot})^{2}.\n",
    "\\end{array}\n",
    "$$"
   ]
  },
  {
   "cell_type": "markdown",
   "metadata": {},
   "source": [
    "From the two variance components, two estimates of the variance of $X$ in the target \n",
    "distribution are constructed: First\n",
    "\n",
    "$$\n",
    "    \\widehat{\\var}_{(1)}(X)=\\frac{n-1}{n}\\, W + \\frac{1}{n}\\, B\n",
    "$$\n",
    "\n",
    "is an estimate of the variance that is unbiased under stationarity (that is, if the starting points of the simulations were actually drawn form the target distribution), \n",
    "but is an _overestimate_ under the more realistic assumption that the starting points are overdispersed."
   ]
  },
  {
   "cell_type": "markdown",
   "metadata": {},
   "source": [
    "For any finite $n$, the within-sequence variance\n",
    "\n",
    "$$\n",
    "    \\widehat{\\var}_{(2)}(X)=W\n",
    "$$\n",
    "\n",
    "should _underestimate_ the variance of $X$ because the individual sequences have had no time\n",
    "to range over all of the target distribution and, will have less variability. "
   ]
  },
  {
   "cell_type": "markdown",
   "metadata": {},
   "source": [
    "In the limit, as $n\\to\\infty$, both $\\widehat{\\var}_{(1)}(X)$ and $\\widehat{\\var}_{(2)}(X)$ approach  $\\var(X)$, but from opposite directions."
   ]
  },
  {
   "cell_type": "markdown",
   "metadata": {
    "tags": []
   },
   "source": [
    "One can now monitor the convergence of the MC by estimating the factor by which the conservative estimate of the distribution of $X$ might be reduced: that is, \n",
    "the ratio between the estimated upper and lower bounds for the standard deviation of $X$, which is called _estimated potential scale reduction_ or _shrink factor:_\n",
    "    \n",
    "$$\n",
    "    \\sqrt{\\hat{R}}=\\sqrt{\\frac{\\widehat{\\var}_{(1)}(X)}{\\widehat{\\var}_{(2)}(X)}}.\n",
    "$$\n",
    "\n",
    "As the simulation converges, the shrink factor declines to $1$, meaning that the parallel Markov chains are essentially overlapping. \n",
    "\n",
    "Values substantially above $1$ indicate lack of convergence. \n",
    "\n",
    "When the chains have not converged, Bayesian credible intervals based on the $t$-distribution are too wide, and have the potential to shrink by this factor if the MCMC run is continued.\n",
    "\n",
    "#### If the shrink factor is high, one should add further simulations."
   ]
  },
  {
   "cell_type": "markdown",
   "metadata": {},
   "source": [
    "The Gelman and Rubin diagnostics calculated by CODA are the $50\\%$ and $97.5\\%$ quantiles of the sampling distribution for the shrink factor. \n",
    "\n",
    "These quantiles are estimated from the second half of each chain only. \n",
    "\n",
    "You can also produce plots to illustrate these diagnostics, i.e. overlaid traceplots and shrink factor plots.\n",
    "\n",
    "There is a multivariate version of the potential scale reduction factor (psrf), by Brooks, SP and Gelman, A (1998)."
   ]
  },
  {
   "cell_type": "markdown",
   "metadata": {},
   "source": [
    "### References\n",
    "\n",
    "Gelman, A and Rubin, DB (1992), _Inference from iterative simulation using multiple sequences,_ Statistical Science, 7, 457-511.\n",
    "\n",
    "Brooks, SP and Gelman, A (1998), _General methods for monitoring convergence of iterative simulations._ Journal of Computational and Graphical Statistics, 7, 434-455."
   ]
  },
  {
   "cell_type": "code",
   "execution_count": 22,
   "metadata": {
    "tags": []
   },
   "outputs": [
    {
     "data": {
      "text/plain": [
       "Potential scale reduction factors:\n",
       "\n",
       "      Point est. Upper C.I.\n",
       "a           1.03       1.04\n",
       "b           1.01       1.02\n",
       "sigma       1.03       1.09\n",
       "\n",
       "Multivariate psrf\n",
       "\n",
       "1.03"
      ]
     },
     "metadata": {},
     "output_type": "display_data"
    }
   ],
   "source": [
    "gelman.diag(simple.regression.m0.mcmc)"
   ]
  },
  {
   "cell_type": "markdown",
   "metadata": {
    "tags": []
   },
   "source": [
    "## 2. Gelman-Rubin-Brooks plot"
   ]
  },
  {
   "cell_type": "markdown",
   "metadata": {},
   "source": [
    "This plot shows the evolution of Gelman and Rubin's shrink factor as the number of iterations increases.\n",
    "\n",
    "The Markov chain is divided into bins according to the arguments `bin.width` and `max.bins`. \n",
    "\n",
    "Then the Gelman-Rubin shrink factor is repeatedly calculated.   \n",
    "The first shrink factor is calculated with observations `1:50`,    \n",
    "the second with observations `1:(50+bin.width)`, the third contains samples `1:(50+2∗bin.width)` and so on. \n",
    "\n",
    "If the chain has less than `50+bin.width` iterations then `gelman.diag()` will exit with an error.\n",
    "\n",
    "A potential problem with `gelman.diag()` is that it may mis-diagnose convergence if the shrink factor happens to be close to 1 by chance.    \n",
    "By calculating the shrink factor at several points in time, `gelman.plot()` shows if the shrink factor has really converged, or whether it is still fluctuating.\n",
    "\n",
    "#### References\n",
    "\n",
    "Brooks, S P. and Gelman, A. (1998) _\"General Methods for Monitoring Convergence of Iterative Simulations\"._   \n",
    "Journal of Computational and Graphical Statistics, 7, 434-455."
   ]
  },
  {
   "cell_type": "code",
   "execution_count": 23,
   "metadata": {},
   "outputs": [
    {
     "data": {
      "image/png": "[encoded data removed]",
      "text/plain": [
       "Plot with title \"sigma\""
      ]
     },
     "metadata": {
      "image/png": {
       "height": 600,
       "width": 1080
      }
     },
     "output_type": "display_data"
    }
   ],
   "source": [
    "options(repr.plot.width=18,repr.plot.height=10)\n",
    "gelman.plot(simple.regression.m0.mcmc)"
   ]
  },
  {
   "cell_type": "markdown",
   "metadata": {},
   "source": [
    "## 3. Geweke's convergence diagnostic"
   ]
  },
  {
   "cell_type": "markdown",
   "metadata": {},
   "source": [
    "Geweke (1992) proposes a convergence diagnostic based on standard time-series methods.   \n",
    "\n",
    "It is based on a single chain and is appropriate when convergence of the mean (of some function) of the sampled variable is of interest. \n",
    " \n",
    "The chain is divided into 2 \"windows\" containing the first 10% and the last 50% of the iterates. \n",
    "\n",
    "If the whole chain is stationary, the means of the values early and late in the sequence should be similar. \n",
    "\n",
    "The convergence diagnostic statistic $Z$ is the difference between the two means divided by the asymptotic standard error of their difference. \n",
    "\n",
    "The standard error is estimated from the spectral density at zero and so takes into account any autocorrelation\n",
    "\n",
    "As $n\\to\\infty$, the sampling distribution of $Z$ goes to $\\operatorname{N}(0,1)$ if the chain has converged. \n",
    "\n",
    "Hence values of $Z$ which fall in the extreme tails of $\\operatorname{N}(0,1)$ indicate that the chain has not yet converged. \n",
    "\n",
    "CODA also gives you the option to plot the $Z$-scores."
   ]
  },
  {
   "cell_type": "markdown",
   "metadata": {},
   "source": [
    "### References\n",
    "\n",
    "Geweke J (1992), _Evaluating the accuracy of sampling-based approaches to calculating posterior moments._   \n",
    "In: Bernardo JM, Berger JO , Dawid AP and Smith AFM  (eds.). _Bayesian Statistics 4,_ Clarendon Press, Oxford, UK."
   ]
  },
  {
   "cell_type": "code",
   "execution_count": 24,
   "metadata": {},
   "outputs": [
    {
     "data": {
      "text/plain": [
       "[[1]]\n",
       "\n",
       "Fraction in 1st window = 0.1\n",
       "Fraction in 2nd window = 0.5 \n",
       "\n",
       "      a       b   sigma \n",
       " 0.7315  0.7476 -2.7358 \n",
       "\n",
       "\n",
       "[[2]]\n",
       "\n",
       "Fraction in 1st window = 0.1\n",
       "Fraction in 2nd window = 0.5 \n",
       "\n",
       "      a       b   sigma \n",
       "-0.1404 -1.4005 -1.4919 \n",
       "\n",
       "\n",
       "[[3]]\n",
       "\n",
       "Fraction in 1st window = 0.1\n",
       "Fraction in 2nd window = 0.5 \n",
       "\n",
       "       a        b    sigma \n",
       " 1.45194 -0.06412  0.79562 \n",
       "\n"
      ]
     },
     "metadata": {},
     "output_type": "display_data"
    }
   ],
   "source": [
    "geweke.diag(simple.regression.m0.mcmc)"
   ]
  },
  {
   "cell_type": "markdown",
   "metadata": {},
   "source": [
    "The resulting $Z$ scores should be compared to the quantiles $0.025$ and $0.975$ of a $\\normaldist(0,1)$. around $\\pm2$"
   ]
  },
  {
   "cell_type": "code",
   "execution_count": 25,
   "metadata": {},
   "outputs": [
    {
     "data": {
      "text/html": [
       "-1.95996398454005"
      ],
      "text/latex": [
       "-1.95996398454005"
      ],
      "text/markdown": [
       "-1.95996398454005"
      ],
      "text/plain": [
       "[1] -1.959964"
      ]
     },
     "metadata": {},
     "output_type": "display_data"
    },
    {
     "data": {
      "text/html": [
       "1.95996398454005"
      ],
      "text/latex": [
       "1.95996398454005"
      ],
      "text/markdown": [
       "1.95996398454005"
      ],
      "text/plain": [
       "[1] 1.959964"
      ]
     },
     "metadata": {},
     "output_type": "display_data"
    }
   ],
   "source": [
    "qnorm(0.025)\n",
    "qnorm(0.975)"
   ]
  },
  {
   "cell_type": "markdown",
   "metadata": {},
   "source": [
    "## 4. Geweke-Brooks plot"
   ]
  },
  {
   "cell_type": "markdown",
   "metadata": {},
   "source": [
    "If `geweke.diag` indicates that the first and last part of a sample from a Markov chain are not drawn from the same distribution,   \n",
    "it may be useful to discard the first few iterations to see if the rest of the chain has \"converged\". \n",
    "\n",
    "This plot shows what happens to Geweke's $Z$-score when successively larger numbers of iterations are discarded from the beginning of the chain. \n",
    "\n",
    "To preserve the asymptotic conditions required for Geweke's diagnostic, the plot never discards more than half the chain.\n",
    "\n",
    "The first half of the Markov chain is divided into `nbins - 1` segments, then Geweke's $Z$-score is repeatedly calculated. \n",
    "\n",
    "The first $Z$-score is calculated with all iterations in the chain,   \n",
    "the second after discarding the first segment,   \n",
    "the third after discarding the first two segments, and so on. \n",
    "\n",
    "The last $Z$-score is calculated using only the samples in the second half of the chain.\n",
    "\n",
    "#### Note\n",
    "\n",
    "The graphical implementation of Geweke's diagnostic was suggested by Steve Brooks."
   ]
  },
  {
   "cell_type": "code",
   "execution_count": 26,
   "metadata": {},
   "outputs": [
    {
     "data": {
      "image/png": "[encoded data removed]",
      "text/plain": [
       "Plot with title \"a (chain2)\""
      ]
     },
     "metadata": {
      "image/png": {
       "height": 480,
       "width": 960
      }
     },
     "output_type": "display_data"
    },
    {
     "data": {
      "image/png": "[encoded data removed]",
      "text/plain": [
       "Plot with title \"b (chain3)\""
      ]
     },
     "metadata": {
      "image/png": {
       "height": 480,
       "width": 960
      }
     },
     "output_type": "display_data"
    },
    {
     "data": {
      "image/png": "[encoded data removed]",
      "text/plain": [
       "Plot with title \"sigma (chain3)\""
      ]
     },
     "metadata": {
      "image/png": {
       "height": 480,
       "width": 960
      }
     },
     "output_type": "display_data"
    }
   ],
   "source": [
    "options(repr.plot.width=16,repr.plot.height=8)\n",
    "geweke.plot(simple.regression.m0.mcmc)"
   ]
  },
  {
   "cell_type": "markdown",
   "metadata": {},
   "source": [
    "## 5. Heidelberger and Welch's convergence diagnostic"
   ]
  },
  {
   "cell_type": "markdown",
   "metadata": {},
   "source": [
    "Heidelberger and Welch's (1983) method basically uses the Cramer-von-Mises statistic to test the null hypothesis that the sampled values for each variable form a stationary process.\n",
    "\n",
    "If the null hypothesis is rejected for a given variable, the test is repeated after discarding the first 10% of iterations. \n",
    "\n",
    "If the hypothesis is again rejected, a further 10% of iterations are discarded. \n",
    "\n",
    "This process is repeated until either a portion of the chain passes the test, or 50% of the iterations have been discarded and $H_{0}$ is still rejected. \n",
    "\n",
    "In the latter case, CODA reports the Cramer-von-Mises statistic and indicates that the stationarity test was failed.\n",
    "\n",
    "If the stationarity test is passed, CODA reports the number of iterations to keep, the number of initial iterations to discard and the Cramer-von Mises statistic. \n",
    "\n",
    "A halfwidth test is then carried out as follows: for each variable the portion of the data which passed the stationarity test is used to estimate the asymptotic standard error of the mean via a time-series method. \n",
    "\n",
    "CODA reports the sample mean of the retained iterates and the halfwidth of the associated 95% confidence interval for this mean. \n",
    "\n",
    "If the halfwidth is less than a given $\\epsilon$ (default is 0.1) times the sample mean, the halfwidth test is passed and the retained sample is deemed to estimate the posterior mean with acceptable precision. If the halfwidth test is failed, this implies a longer run is needed."
   ]
  },
  {
   "cell_type": "markdown",
   "metadata": {},
   "source": [
    "### References\n",
    "\n",
    "Heidelberger P, and Welch PD (1981), _A spectral method for confidence interval generation and run length control in simulations,_ Communications of the ACM 24, 233-245.\n",
    "\n",
    "Heidelberger P, and Welch PD (1983), _Simulation run length control in the presence of an initial transient,_ Operations Research 31, 1109-1144.\n",
    "\n",
    "Schruben LW (1982), _Detecting initialization bias in simulation experiments,_ Operations Research 30, 569-590."
   ]
  },
  {
   "cell_type": "code",
   "execution_count": 27,
   "metadata": {},
   "outputs": [
    {
     "data": {
      "text/plain": [
       "[[1]]\n",
       "                                    \n",
       "      Stationarity start     p-value\n",
       "      test         iteration        \n",
       "a     passed       1         0.843  \n",
       "b     passed       1         0.774  \n",
       "sigma passed       1         0.653  \n",
       "                              \n",
       "      Halfwidth Mean Halfwidth\n",
       "      test                    \n",
       "a     failed    1.25 0.3654   \n",
       "b     passed    4.80 0.0296   \n",
       "sigma passed    9.56 0.4636   \n",
       "\n",
       "[[2]]\n",
       "                                    \n",
       "      Stationarity start     p-value\n",
       "      test         iteration        \n",
       "a     passed       1         0.996  \n",
       "b     passed       1         0.156  \n",
       "sigma passed       1         0.558  \n",
       "                              \n",
       "      Halfwidth Mean Halfwidth\n",
       "      test                    \n",
       "a     failed    1.00 0.5137   \n",
       "b     passed    4.80 0.0307   \n",
       "sigma passed    9.68 0.3571   \n",
       "\n",
       "[[3]]\n",
       "                                    \n",
       "      Stationarity start     p-value\n",
       "      test         iteration        \n",
       "a     passed         1       0.9566 \n",
       "b     passed         1       0.0845 \n",
       "sigma passed       402       0.2754 \n",
       "                              \n",
       "      Halfwidth Mean Halfwidth\n",
       "      test                    \n",
       "a     failed    1.03 0.4314   \n",
       "b     passed    4.79 0.0517   \n",
       "sigma passed    9.66 0.4205   \n"
      ]
     },
     "metadata": {},
     "output_type": "display_data"
    }
   ],
   "source": [
    "heidel.diag(simple.regression.m0.mcmc)"
   ]
  },
  {
   "cell_type": "markdown",
   "metadata": {},
   "source": [
    "## 6. Raftery and Lewis's diagnostic"
   ]
  },
  {
   "cell_type": "markdown",
   "metadata": {},
   "source": [
    "Raftery and Lewis (1992) developed a method that can be used to determine the number of burn-in iterations to discard and the thinning, i.e. the number $k$ for storing every $k$-th iteration. \n",
    "\n",
    "This will reduce the amount of storage, especially when consecutive iterations are highly correlated, necessitating a long run.\n",
    "\n",
    "You must specify the quantile to be estimated (default is 2.5%), the desired degree of accuracy for the estimate of this quantile (default $=\\pm0.005$), and the required probability of attaining this degree of accuracy (default is 0.95). \n",
    "\n",
    "CODA then reports\n",
    "\n",
    "- `Nmin`, the minimum number of iterations that would be needed to estimate the specified quantile to the desired precision if the samples were independent. This is a theoretical value based on the binomial variance and provides a lower bound for the run-length of the Gibbs sampler. `Nmin` will increase as the required probability and degree of accuracy increase.\n",
    "- `N`, the total number of iterations that should be run for each variable.\n",
    "- `M`, the number of initial iterations to discard as the burn-in.\n",
    "- `k`, the thinning interval to be used.\n",
    "- `I = N/Nmin`, which measures the increase in number of iterations needed to reach convergence due to dependence between the samples in the chain.   \n",
    "Values of `I` much greater than 1 (`I` > 5) indicate high within-chain correlations and likely convergence failure and reparametrization is advised. "
   ]
  },
  {
   "cell_type": "markdown",
   "metadata": {},
   "source": [
    "### References\n",
    "\n",
    "Raftery, AE, and Lewis SM (1992), _One long run with diagnostics: Implementation strategies for Markov chain Monte Carlo,_ Statistical Science 7, 493-497.\n",
    "\n",
    "Raftery, AE, and Lewis SM (1995), _The number of iterations, convergence diagnostics and generic Metropolis algorithms,_      \n",
    "In: Gilks WR, Spiegelhalter DJ, and Richardson  S (eds.), _Practical Markov Chain Monte Carlo_ London, UK: Chapman and Hall."
   ]
  },
  {
   "cell_type": "code",
   "execution_count": 28,
   "metadata": {},
   "outputs": [
    {
     "data": {
      "text/plain": [
       "[[1]]\n",
       "\n",
       "Quantile (q) = 0.025\n",
       "Accuracy (r) = +/- 0.005\n",
       "Probability (s) = 0.95 \n",
       "                                             \n",
       "       Burn-in  Total Lower bound  Dependence\n",
       "       (M)      (N)   (Nmin)       factor (I)\n",
       " a     27       29213 3746          7.80     \n",
       " b     21       23313 3746          6.22     \n",
       " sigma 54       56160 3746         15.00     \n",
       "\n",
       "\n",
       "[[2]]\n",
       "\n",
       "Quantile (q) = 0.025\n",
       "Accuracy (r) = +/- 0.005\n",
       "Probability (s) = 0.95 \n",
       "                                             \n",
       "       Burn-in  Total Lower bound  Dependence\n",
       "       (M)      (N)   (Nmin)       factor (I)\n",
       " a     39       42799 3746         11.40     \n",
       " b     20       22730 3746          6.07     \n",
       " sigma 40       42850 3746         11.40     \n",
       "\n",
       "\n",
       "[[3]]\n",
       "\n",
       "Quantile (q) = 0.025\n",
       "Accuracy (r) = +/- 0.005\n",
       "Probability (s) = 0.95 \n",
       "                                             \n",
       "       Burn-in  Total Lower bound  Dependence\n",
       "       (M)      (N)   (Nmin)       factor (I)\n",
       " a     72       83046 3746         22.20     \n",
       " b     49       49729 3746         13.30     \n",
       " sigma 33       35444 3746          9.46     \n",
       "\n"
      ]
     },
     "metadata": {},
     "output_type": "display_data"
    }
   ],
   "source": [
    "raftery.diag(simple.regression.m0.mcmc)"
   ]
  }
 ],
 "metadata": {
  "kernelspec": {
   "display_name": "R",
   "language": "R",
   "name": "ir"
  },
  "language_info": {
   "codemirror_mode": "r",
   "file_extension": ".r",
   "mimetype": "text/x-r-source",
   "name": "R",
   "pygments_lexer": "r",
   "version": "4.3.0"
  }
 },
 "nbformat": 4,
 "nbformat_minor": 4
}
