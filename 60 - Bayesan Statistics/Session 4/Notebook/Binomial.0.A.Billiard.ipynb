{
 "cells": [
  {
   "cell_type": "markdown",
   "metadata": {
    "tags": []
   },
   "source": [
    "# Beta-Binomial model - Bayes' billiard - Estimating a probability"
   ]
  },
  {
   "cell_type": "markdown",
   "metadata": {},
   "source": [
    "# A. Experiment and simulation with iid randoom numbers"
   ]
  },
  {
   "cell_type": "markdown",
   "metadata": {},
   "source": [
    "# _Josep Fortiana &emsp;&emsp;&emsp;&emsp;&emsp; 2023-03-06_"
   ]
  },
  {
   "cell_type": "markdown",
   "metadata": {
    "tags": []
   },
   "source": [
    "**** \n",
    "###### LaTeX macros\n",
    "$\\def\\argmax{\\operatorname{arg\\,max}}$\n",
    "$\\def\\argmin{\\operatorname{arg\\,min}}$\n",
    "$\\def\\binomdist{\\operatorname{Binomial}}$\n",
    "$\\def\\berndist{\\operatorname{Bernoulli}}$\n",
    "$\\def\\betabinomdist{\\operatorname{Beta-Binomial}}$\n",
    "$\\def\\betadist{\\operatorname{Beta}}$\n",
    "$\\def\\betahat{\\kern1.3pt\\hat{\\kern-1.3pt \\beta}}$\n",
    "$\\def\\borel{\\operatorname{Borel}}$\n",
    "$\\def\\cauchydist{\\operatorname{Cauchy}}$\n",
    "$\\def\\CondTo{\\mathbin{|\\mskip0.5mu}}$\n",
    "$\\def\\cov{\\operatorname{cov}}$\n",
    "$\\def\\cor{\\operatorname{cor}}$\n",
    "$\\def\\dexpdist{\\operatorname{DExp}}$\n",
    "$\\def\\diag{\\operatorname{diag}}$\n",
    "$\\def\\eqdef{\\stackrel{\\text{def}}{\\mskip3mu=\\mskip3mu}}$\n",
    "$\\def\\cE{\\cal E}$\n",
    "$\\def\\Ee{\\operatorname{E}}$\n",
    "$\\def\\expdist{\\operatorname{Exponential}}$\n",
    "$\\def\\fdist{\\operatorname{F}}$\n",
    "$\\def\\gammadist{\\operatorname{Gamma}}$\n",
    "$\\def\\geomdist{\\operatorname{Geom}}$\n",
    "$\\def\\halfcauchydist{\\operatorname{Cauchy}^{+}}$\n",
    "$\\def\\hyperdist{\\operatorname{Hypergeom}}$\n",
    "$\\def\\invgammadist{\\operatorname{InvGamma}}$\n",
    "$\\def\\invwishartdist{\\operatorname{InvWishart}}$\n",
    "$\\def\\hypergeomdist{\\operatorname{Hypergeom}}$\n",
    "$\\def\\indep{\\perp{\\mskip-16mu}\\perp}$\n",
    "$\\DeclareMathOperator{\\indica}{\\mathbb{1}}$\n",
    "$\\DeclareMathOperator{\\invgammadist}{InvGamma}$\n",
    "$\\newcommand{\\KL}[2]{\\operatorname{KL}(\\mkern2mu#1\\mkern2mu\\mathrel\\mid\\mathrel{\\mkern-8mu}\\mid\\mkern2mu#2\\mkern2mu)}$\n",
    "$\\def\\laplacedist{\\operatorname{Laplace}}$\n",
    "$\\def\\lognormaldist{\\operatorname{Log-Normal}}$\n",
    "$\\DeclareMathOperator{\\multinomialdist}{Multinomial}$\n",
    "$\\DeclareMathOperator{\\multinomdist}{Multinomial}$\n",
    "$\\def\\N{\\mathbb{N}}$\n",
    "$\\def\\negbindist{\\operatorname{NegativeBinomial}}$\n",
    "$\\def\\normaldist{\\operatorname{Normal}}$\n",
    "$\\def\\Normaldist{\\operatorname{MNormal}}$\n",
    "$\\def\\cP{\\cal P}$\n",
    "$\\def\\poissondist{\\operatorname{Poisson}}$\n",
    "$\\def\\prob{\\operatorname{Prob}}$\n",
    "$\\def\\R{\\mathbb{R}}$ \n",
    "$\\def\\stilde{\\tilde{s}}$ \n",
    "$\\def\\sqtilde{\\tilde{s}{}^{2}}$ \n",
    "$\\def\\tdist{\\operatorname{t}}$\n",
    "$\\def\\u{\\mathbb{1}}$\n",
    "$\\def\\unifdist{\\operatorname{Unif}}$\n",
    "$\\def\\va{\\text{v.a.}}$\n",
    "$\\def\\var{\\operatorname{var}}$\n",
    "$\\def\\Var{\\operatorname{Var}}$\n",
    "$\\def\\xbar{\\kern1.3pt\\overline{\\kern-1.3pt x}}$\n",
    "$\\def\\Xbar{\\kern1.3pt\\overline{\\kern-1.3pt X}}$\n",
    "$\\def\\yhat{\\kern1.3pt\\hat{\\kern-1.3pt y}}$\n",
    "$\\def\\Z{\\mathbb{Z}}$\n",
    "***"
   ]
  },
  {
   "cell_type": "markdown",
   "metadata": {
    "tags": []
   },
   "source": [
    "<h1 style=\"color:DodgerBlue;\"> 00 - Experiment </h1>\n",
    "<h2 style=\"color:DodgerBlue;\">A one-dimensional pool table, with a position coordinate in $(0,1)$</h2>\n",
    "<h2 style=\"color:DodgerBlue;\">Generate a position of the cue ball: A <i>prior</i> pdf for $\\theta\\in(0,1)$.</h2>\n",
    "<h2 style=\"color:DodgerBlue;\">$n$ observations: independently throw balls $\\sim\\unifdist(0,1)$.</h2>\n",
    "<h2 style=\"color:DodgerBlue;\">$\\{x=1\\}$ means $\\{\\mskip4mu$ <i>\"ball falls to the left of the cue ball\"</i> $\\mskip4mu\\}$.</h2>\n",
    "<h2 style=\"color:DodgerBlue;\">Result: $n$ observations $x=(x_{1},\\dots,x_{n})$ iid$\\sim\\berndist(\\theta)$</h2>"
   ]
  },
  {
   "cell_type": "markdown",
   "metadata": {
    "tags": []
   },
   "source": [
    "## Run the experiment"
   ]
  },
  {
   "cell_type": "markdown",
   "metadata": {},
   "source": [
    "$\\theta=$ coordinate of the cue ball in the $[0,1]$ interval.\n",
    "\n",
    "Choose, for instance, $\\theta\\sim\\operatorname{Unif}(0,1)$."
   ]
  },
  {
   "cell_type": "code",
   "execution_count": 1,
   "metadata": {},
   "outputs": [],
   "source": [
    "set.seed(24025)"
   ]
  },
  {
   "cell_type": "code",
   "execution_count": 2,
   "metadata": {},
   "outputs": [
    {
     "data": {
      "text/html": [
       "0.338"
      ],
      "text/latex": [
       "0.338"
      ],
      "text/markdown": [
       "0.338"
      ],
      "text/plain": [
       "[1] 0.338"
      ]
     },
     "metadata": {},
     "output_type": "display_data"
    }
   ],
   "source": [
    "theta<-runif(1)\n",
    "round(theta,3)"
   ]
  },
  {
   "cell_type": "markdown",
   "metadata": {
    "jp-MarkdownHeadingCollapsed": true,
    "tags": []
   },
   "source": [
    "We throw a number $n$ of $\\unifdist(0,1)$-distributed balls.\n",
    "\n",
    "For each of them we register whether they fall on the left or on the right of $\\theta$"
   ]
  },
  {
   "cell_type": "code",
   "execution_count": 3,
   "metadata": {},
   "outputs": [
    {
     "data": {
      "text/html": [
       "<style>\n",
       ".list-inline {list-style: none; margin:0; padding: 0}\n",
       ".list-inline>li {display: inline-block}\n",
       ".list-inline>li:not(:last-child)::after {content: \"\\00b7\"; padding: 0 .5ex}\n",
       "</style>\n",
       "<ol class=list-inline><li>0.129</li><li>0.705</li><li>0.252</li><li>0.986</li><li>0.729</li><li>0.213</li><li>0.69</li><li>0.727</li><li>0.606</li><li>0.429</li></ol>\n"
      ],
      "text/latex": [
       "\\begin{enumerate*}\n",
       "\\item 0.129\n",
       "\\item 0.705\n",
       "\\item 0.252\n",
       "\\item 0.986\n",
       "\\item 0.729\n",
       "\\item 0.213\n",
       "\\item 0.69\n",
       "\\item 0.727\n",
       "\\item 0.606\n",
       "\\item 0.429\n",
       "\\end{enumerate*}\n"
      ],
      "text/markdown": [
       "1. 0.129\n",
       "2. 0.705\n",
       "3. 0.252\n",
       "4. 0.986\n",
       "5. 0.729\n",
       "6. 0.213\n",
       "7. 0.69\n",
       "8. 0.727\n",
       "9. 0.606\n",
       "10. 0.429\n",
       "\n",
       "\n"
      ],
      "text/plain": [
       " [1] 0.129 0.705 0.252 0.986 0.729 0.213 0.690 0.727 0.606 0.429"
      ]
     },
     "metadata": {},
     "output_type": "display_data"
    }
   ],
   "source": [
    "n<-10\n",
    "z<-runif(n)\n",
    "round(z,3)"
   ]
  },
  {
   "cell_type": "code",
   "execution_count": 4,
   "metadata": {},
   "outputs": [
    {
     "data": {
      "text/html": [
       "<style>\n",
       ".list-inline {list-style: none; margin:0; padding: 0}\n",
       ".list-inline>li {display: inline-block}\n",
       ".list-inline>li:not(:last-child)::after {content: \"\\00b7\"; padding: 0 .5ex}\n",
       "</style>\n",
       "<ol class=list-inline><li>1</li><li>0</li><li>1</li><li>0</li><li>0</li><li>1</li><li>0</li><li>0</li><li>0</li><li>0</li></ol>\n"
      ],
      "text/latex": [
       "\\begin{enumerate*}\n",
       "\\item 1\n",
       "\\item 0\n",
       "\\item 1\n",
       "\\item 0\n",
       "\\item 0\n",
       "\\item 1\n",
       "\\item 0\n",
       "\\item 0\n",
       "\\item 0\n",
       "\\item 0\n",
       "\\end{enumerate*}\n"
      ],
      "text/markdown": [
       "1. 1\n",
       "2. 0\n",
       "3. 1\n",
       "4. 0\n",
       "5. 0\n",
       "6. 1\n",
       "7. 0\n",
       "8. 0\n",
       "9. 0\n",
       "10. 0\n",
       "\n",
       "\n"
      ],
      "text/plain": [
       " [1] 1 0 1 0 0 1 0 0 0 0"
      ]
     },
     "metadata": {},
     "output_type": "display_data"
    }
   ],
   "source": [
    "y<-(z<theta)\n",
    "#y\n",
    "y.num<-1*y # cast the Boolean y to a numeric 0/1 variable\n",
    "y.num"
   ]
  },
  {
   "cell_type": "markdown",
   "metadata": {},
   "source": [
    "From a purely theoretical standpoint we do not need to follow step by step Bayes' billiard experiment.\n",
    "\n",
    "Instead of generating $n$ coordinates $z$ in $(0,1)$ and then compare them to the given $\\theta$,     \n",
    "a numerical vector statistically equivalent to  `y.n` could be obtained as $n$ random $0/1$ numbers $\\sim\\berndist(\\theta)\\equiv\\binomdist(1,\\theta)$."
   ]
  },
  {
   "cell_type": "code",
   "execution_count": 5,
   "metadata": {},
   "outputs": [
    {
     "data": {
      "text/html": [
       "<style>\n",
       ".list-inline {list-style: none; margin:0; padding: 0}\n",
       ".list-inline>li {display: inline-block}\n",
       ".list-inline>li:not(:last-child)::after {content: \"\\00b7\"; padding: 0 .5ex}\n",
       "</style>\n",
       "<ol class=list-inline><li>1</li><li>1</li><li>0</li><li>0</li><li>1</li><li>0</li><li>1</li><li>1</li><li>1</li><li>0</li></ol>\n"
      ],
      "text/latex": [
       "\\begin{enumerate*}\n",
       "\\item 1\n",
       "\\item 1\n",
       "\\item 0\n",
       "\\item 0\n",
       "\\item 1\n",
       "\\item 0\n",
       "\\item 1\n",
       "\\item 1\n",
       "\\item 1\n",
       "\\item 0\n",
       "\\end{enumerate*}\n"
      ],
      "text/markdown": [
       "1. 1\n",
       "2. 1\n",
       "3. 0\n",
       "4. 0\n",
       "5. 1\n",
       "6. 0\n",
       "7. 1\n",
       "8. 1\n",
       "9. 1\n",
       "10. 0\n",
       "\n",
       "\n"
      ],
      "text/plain": [
       " [1] 1 1 0 0 1 0 1 1 1 0"
      ]
     },
     "metadata": {},
     "output_type": "display_data"
    }
   ],
   "source": [
    "y.num.1<-rbinom(n,size=1,prob=theta)\n",
    "y.num.1"
   ]
  },
  {
   "cell_type": "markdown",
   "metadata": {},
   "source": [
    "For inference we need only the single number  $n_{1}$,  the absolute frequency (number) of 1's in the above sequence (together with the length $n$)."
   ]
  },
  {
   "cell_type": "code",
   "execution_count": 6,
   "metadata": {},
   "outputs": [
    {
     "data": {
      "text/html": [
       "3"
      ],
      "text/latex": [
       "3"
      ],
      "text/markdown": [
       "3"
      ],
      "text/plain": [
       "[1] 3"
      ]
     },
     "metadata": {},
     "output_type": "display_data"
    }
   ],
   "source": [
    "n1<-sum(y)\n",
    "n1"
   ]
  },
  {
   "cell_type": "markdown",
   "metadata": {},
   "source": [
    "Which, again, in principle could be generated as a single Binomial random number. Here we are trying to re-live the original experiment."
   ]
  },
  {
   "cell_type": "code",
   "execution_count": 7,
   "metadata": {},
   "outputs": [
    {
     "data": {
      "text/html": [
       "3"
      ],
      "text/latex": [
       "3"
      ],
      "text/markdown": [
       "3"
      ],
      "text/plain": [
       "[1] 3"
      ]
     },
     "metadata": {},
     "output_type": "display_data"
    }
   ],
   "source": [
    "rbinom(1,size=n,prob=theta)"
   ]
  },
  {
   "cell_type": "markdown",
   "metadata": {},
   "source": [
    "# 01. Bayesian model - Simulation with i.i.d. random numbers"
   ]
  },
  {
   "cell_type": "markdown",
   "metadata": {},
   "source": [
    "## Prior $p(\\theta)$"
   ]
  },
  {
   "cell_type": "markdown",
   "metadata": {},
   "source": [
    "### $\\theta\\sim\\betadist(a,b)$, \n",
    "\n",
    "#### Generalizing the assumption $\\unifdist(0,1)=\\betadist(1,1)$."
   ]
  },
  {
   "cell_type": "markdown",
   "metadata": {},
   "source": [
    "### Set either    \n",
    "\n",
    "A _\"sensible\" prior (some historical info),_    \n",
    "or a  _\"non-informative\"_ prior _(nothing is known in advance)_\n",
    "\n",
    "#### Here we take $a=2$, $b=5$ (just as an example)."
   ]
  },
  {
   "cell_type": "code",
   "execution_count": 8,
   "metadata": {},
   "outputs": [],
   "source": [
    "#  a=1, b=1 is the Unif(0,1) distribution\n",
    "a<-2\n",
    "b<-5"
   ]
  },
  {
   "cell_type": "code",
   "execution_count": 9,
   "metadata": {},
   "outputs": [],
   "source": [
    "prior.pdf<-function(theta){dbeta(theta,a,b)}"
   ]
  },
  {
   "cell_type": "code",
   "execution_count": 10,
   "metadata": {},
   "outputs": [
    {
     "data": {
      "image/png": "[encoded data removed]",
      "text/plain": [
       "Plot with title \"Beta(2,5) pdf\""
      ]
     },
     "metadata": {
      "image/png": {
       "height": 360,
       "width": 600
      }
     },
     "output_type": "display_data"
    }
   ],
   "source": [
    "options(repr.plot.width=10,repr.plot.height=6)\n",
    "u<-seq(0,1,length=1000)\n",
    "v<-dbeta(u,a,b)\n",
    "plot(u,v,ylim=c(0,max(v)*1.05),xlim=c(-0.15,1.15),\n",
    "     ylab=\"Density\",type=\"l\",lwd=3.5,col=\"blue\",main=sprintf(\"Beta(%d,%d) pdf\",a,b))\n",
    "lines(c(-0.15,0),c(0,0),lwd=3.5,col=\"blue\")\n",
    "lines(c(1,1.15),c(0,0),lwd=3.5,col=\"blue\")\n",
    "lines(c(0,1),c(0,0),lwd=1.0,col=\"black\")"
   ]
  },
  {
   "cell_type": "markdown",
   "metadata": {},
   "source": [
    "### Generate samples from the prior"
   ]
  },
  {
   "cell_type": "code",
   "execution_count": 11,
   "metadata": {},
   "outputs": [
    {
     "name": "stdout",
     "output_type": "stream",
     "text": [
      " num [1:30000] 0.177 0.435 0.392 0.106 0.295 ...\n"
     ]
    }
   ],
   "source": [
    "N<-30000\n",
    "thetas<-rbeta(N,a,b)\n",
    "str(thetas)"
   ]
  },
  {
   "cell_type": "markdown",
   "metadata": {},
   "source": [
    "## Likelihood  $p(y\\CondTo \\theta)$\n",
    "\n",
    "$Y\\sim\\binomdist(\\text{size}=n,\\text{prob}=\\theta)$\n",
    "\n",
    "We already have an observed datum: `n1`\n",
    "\n",
    "For a given $\\theta$ we could generate samples of the observed variable as we did above. \n",
    "\n",
    "We **cannot do this now** since $\\theta$ is unknown at this stage."
   ]
  },
  {
   "cell_type": "code",
   "execution_count": 12,
   "metadata": {},
   "outputs": [],
   "source": [
    "n<-10\n",
    "n1<-3\n",
    "x.obs<-n1\n",
    "#rbinom(1,size=n,prob=theta) # CAN'T DO THIS"
   ]
  },
  {
   "cell_type": "markdown",
   "metadata": {},
   "source": [
    "## Prior predictive _a.k.a._ $x$ marginal $p(x)$"
   ]
  },
  {
   "cell_type": "markdown",
   "metadata": {},
   "source": [
    "For a prior pdf $p(\\theta)$ and a likelihood $p(x\\CondTo\\theta)$ the $x$-marginal, also called the _prior predictive pmf_ is obtained as the integral of the joint pdf $p(x\\,,\\,\\theta)$ with respect to $\\theta$. \n",
    "\n",
    "Equivalently, the average of likelihood values, for all possible parameter values, weighted according to their prior probability:\n",
    "\n",
    "$$\n",
    "    p(x)=\\displaystyle\\int_{\\Theta}p(x\\,,\\,\\theta)\\,d\\theta=\n",
    "    \\displaystyle\\int_{\\Theta}p(x\\CondTo\\theta)\\cdot p(\\theta)\\,d\\theta\n",
    "$$\n",
    "\n",
    "At the samples level this is achieved as follows: \n",
    "\n",
    "For each $\\theta$ in the prior sample we generate a binomial random number. \n",
    "\n",
    "The result is a collection of binomial random numbers, each of which has been generated with a different value of $\\theta$. \n",
    "\n",
    "The proportion of each $\\theta$ values is given by its prior probability."
   ]
  },
  {
   "cell_type": "code",
   "execution_count": 13,
   "metadata": {},
   "outputs": [
    {
     "name": "stdout",
     "output_type": "stream",
     "text": [
      " int [1:30000] 2 4 7 1 4 1 3 3 4 6 ...\n"
     ]
    }
   ],
   "source": [
    "# Beware of the vectorized syntax: each i-th random number is generated from a different binomial    \n",
    "# namely the binomial with prob=theta[i]\n",
    "x<-rbinom(N,size=n,prob=thetas)\n",
    "str(x)"
   ]
  },
  {
   "cell_type": "code",
   "execution_count": 14,
   "metadata": {},
   "outputs": [
    {
     "data": {
      "text/plain": [
       "x\n",
       "   0    1    2    3    4    5    6    7    8    9   10 \n",
       "3826 5331 5540 4959 3893 2837 1846 1022  529  172   45 "
      ]
     },
     "metadata": {},
     "output_type": "display_data"
    }
   ],
   "source": [
    "# Table of absolute frequencies\n",
    "T<-table(x)\n",
    "T"
   ]
  },
  {
   "cell_type": "code",
   "execution_count": 15,
   "metadata": {},
   "outputs": [
    {
     "data": {
      "text/plain": [
       "x\n",
       "    0     1     2     3     4     5     6     7     8     9    10 \n",
       "0.128 0.178 0.185 0.165 0.130 0.095 0.062 0.034 0.018 0.006 0.002 "
      ]
     },
     "metadata": {},
     "output_type": "display_data"
    }
   ],
   "source": [
    "# Table of relative frequencies (proportions)\n",
    "f<-T/N\n",
    "round(f,3)"
   ]
  },
  {
   "cell_type": "markdown",
   "metadata": {},
   "source": [
    "### Compare the sampled simulated prior predictive pmf and the theoretical one\n",
    "\n",
    "It is known that in a model with Binomial likelihood $X\\sim p(x\\CondTo \\theta)\\sim\\binomdist(n\\,,\\,\\theta)$ and Beta prior \n",
    "$\\theta\\sim p(\\theta)\\sim\\betadist(a,b)$,    \n",
    "the prior predictive distribution is a Beta-Binomial,\n",
    "\n",
    "$$\n",
    "    \\mskip-400mu\\betabinomdist(n,a,b)\\mskip400mu\n",
    "$$\n",
    "(see [Wikipedia](https://en.wikipedia.org/wiki/Beta-binomial_distribution))."
   ]
  },
  {
   "cell_type": "code",
   "execution_count": 16,
   "metadata": {},
   "outputs": [],
   "source": [
    "#install.packages(\"extraDistr\",dependencies=TRUE,repos= \"https://cloud.r-project.org\")\n",
    "require(\"extraDistr\",quietly=TRUE)"
   ]
  },
  {
   "cell_type": "code",
   "execution_count": 17,
   "metadata": {
    "tags": []
   },
   "outputs": [
    {
     "data": {
      "text/html": [
       "<style>\n",
       ".list-inline {list-style: none; margin:0; padding: 0}\n",
       ".list-inline>li {display: inline-block}\n",
       ".list-inline>li:not(:last-child)::after {content: \"\\00b7\"; padding: 0 .5ex}\n",
       "</style>\n",
       "<ol class=list-inline><li>0.125</li><li>0.179</li><li>0.185</li><li>0.165</li><li>0.131</li><li>0.094</li><li>0.061</li><li>0.035</li><li>0.017</li><li>0.006</li><li>0.001</li></ol>\n"
      ],
      "text/latex": [
       "\\begin{enumerate*}\n",
       "\\item 0.125\n",
       "\\item 0.179\n",
       "\\item 0.185\n",
       "\\item 0.165\n",
       "\\item 0.131\n",
       "\\item 0.094\n",
       "\\item 0.061\n",
       "\\item 0.035\n",
       "\\item 0.017\n",
       "\\item 0.006\n",
       "\\item 0.001\n",
       "\\end{enumerate*}\n"
      ],
      "text/markdown": [
       "1. 0.125\n",
       "2. 0.179\n",
       "3. 0.185\n",
       "4. 0.165\n",
       "5. 0.131\n",
       "6. 0.094\n",
       "7. 0.061\n",
       "8. 0.035\n",
       "9. 0.017\n",
       "10. 0.006\n",
       "11. 0.001\n",
       "\n",
       "\n"
      ],
      "text/plain": [
       " [1] 0.125 0.179 0.185 0.165 0.131 0.094 0.061 0.035 0.017 0.006 0.001"
      ]
     },
     "metadata": {},
     "output_type": "display_data"
    }
   ],
   "source": [
    "# Beta-Binomial probabilities, to be compared to the above relative frequencies\n",
    "x.vals<-0:n\n",
    "g<-dbbinom(x.vals,size=n,alpha=a,beta=b)\n",
    "round(g,3)"
   ]
  },
  {
   "cell_type": "code",
   "execution_count": 18,
   "metadata": {
    "scrolled": true
   },
   "outputs": [
    {
     "data": {
      "text/html": [
       "<table class=\"dataframe\">\n",
       "<caption>A matrix: 2 × 11 of type dbl</caption>\n",
       "<thead>\n",
       "\t<tr><th></th><th scope=col>0</th><th scope=col>1</th><th scope=col>2</th><th scope=col>3</th><th scope=col>4</th><th scope=col>5</th><th scope=col>6</th><th scope=col>7</th><th scope=col>8</th><th scope=col>9</th><th scope=col>10</th></tr>\n",
       "</thead>\n",
       "<tbody>\n",
       "\t<tr><th scope=row>f</th><td>0.128</td><td>0.178</td><td>0.185</td><td>0.165</td><td>0.130</td><td>0.095</td><td>0.062</td><td>0.034</td><td>0.018</td><td>0.006</td><td>0.002</td></tr>\n",
       "\t<tr><th scope=row>g</th><td>0.125</td><td>0.179</td><td>0.185</td><td>0.165</td><td>0.131</td><td>0.094</td><td>0.061</td><td>0.035</td><td>0.017</td><td>0.006</td><td>0.001</td></tr>\n",
       "</tbody>\n",
       "</table>\n"
      ],
      "text/latex": [
       "A matrix: 2 × 11 of type dbl\n",
       "\\begin{tabular}{r|lllllllllll}\n",
       "  & 0 & 1 & 2 & 3 & 4 & 5 & 6 & 7 & 8 & 9 & 10\\\\\n",
       "\\hline\n",
       "\tf & 0.128 & 0.178 & 0.185 & 0.165 & 0.130 & 0.095 & 0.062 & 0.034 & 0.018 & 0.006 & 0.002\\\\\n",
       "\tg & 0.125 & 0.179 & 0.185 & 0.165 & 0.131 & 0.094 & 0.061 & 0.035 & 0.017 & 0.006 & 0.001\\\\\n",
       "\\end{tabular}\n"
      ],
      "text/markdown": [
       "\n",
       "A matrix: 2 × 11 of type dbl\n",
       "\n",
       "| <!--/--> | 0 | 1 | 2 | 3 | 4 | 5 | 6 | 7 | 8 | 9 | 10 |\n",
       "|---|---|---|---|---|---|---|---|---|---|---|---|\n",
       "| f | 0.128 | 0.178 | 0.185 | 0.165 | 0.130 | 0.095 | 0.062 | 0.034 | 0.018 | 0.006 | 0.002 |\n",
       "| g | 0.125 | 0.179 | 0.185 | 0.165 | 0.131 | 0.094 | 0.061 | 0.035 | 0.017 | 0.006 | 0.001 |\n",
       "\n"
      ],
      "text/plain": [
       "  0     1     2     3     4     5     6     7     8     9     10   \n",
       "f 0.128 0.178 0.185 0.165 0.130 0.095 0.062 0.034 0.018 0.006 0.002\n",
       "g 0.125 0.179 0.185 0.165 0.131 0.094 0.061 0.035 0.017 0.006 0.001"
      ]
     },
     "metadata": {},
     "output_type": "display_data"
    }
   ],
   "source": [
    "# For a uniform prior both vectors approach the probabilities of a discrete uniform distribution\n",
    "# For a Beta(a,b) prior the shape of the Beta-Binomial pdf mimicks that of the prior pdf\n",
    "yfg<-cbind(f,g)\n",
    "round(t(yfg),3)"
   ]
  },
  {
   "cell_type": "code",
   "execution_count": 19,
   "metadata": {},
   "outputs": [
    {
     "data": {
      "image/png": "[encoded data removed]",
      "text/plain": [
       "Plot with title \"Simulated and theoretical prior predictive pmf\""
      ]
     },
     "metadata": {
      "image/png": {
       "height": 480,
       "width": 480
      }
     },
     "output_type": "display_data"
    }
   ],
   "source": [
    "options(repr.plot.width=8,repr.plot.height=8)\n",
    "y.max<-max(yfg)*1.15\n",
    "matplot(x=cbind(x.vals-0.1,x.vals+0.1),y=yfg,type=\"h\",lwd=8, lty=1,col=c(\"LightGreen\",\"DarkGreen\"),\n",
    "        ylim=c(0,y.max),xlab=\"x\",ylab=\"Rel. Freqs./Probs.\",\n",
    "        main=\"Simulated and theoretical prior predictive pmf\",cex.main=1.8)\n",
    "legend(\"topright\",legend=c(\"Simulated prior pred. pmf\",\"Theoretical prior pred. pmf\"),\n",
    "       lwd=8, lty=1,col=c(\"LightGreen\",\"DarkGreen\"))"
   ]
  },
  {
   "cell_type": "markdown",
   "metadata": {},
   "source": [
    "## Validating the model"
   ]
  },
  {
   "cell_type": "markdown",
   "metadata": {},
   "source": [
    "As the _prior predictive_ distribution is a weighted average of probabilities for each value of the observed quantity with weights given by the prior pdf, one can use it as a validation of the prior choice.    \n",
    "\n",
    "The likelihood is the probability of each possible value of $x$ given some value of the parameter $\\theta$, when the only knowledge on the parameter is that contained in the prior pdf,\n",
    "we can compute the resulting pdf of $x$, after averaging on all possible parameter values, each with a weight proportional to its _a priori_ probability. \n",
    "\n",
    "Comparing the actually observed value of $x$ with its probability so obtained we can validate the model: if the observed value is unlikely possibly we should revise the model (prior pdf).\n",
    "\n",
    "In the present example, the observed datum is `n1=3` which is one of the three values with highest probability\n",
    "according to the prior predictive derived from a $\\betadist(2,5)$. \n",
    "\n",
    "Thus we can keep this prior as compatible with the observation.\n",
    "\n",
    "This is **not at all** a hypothesis test but just a **cautionary preview of the possible adequacy** of an intended model or otherwise.\n",
    "\n",
    "For instance, repeating the analysis with a $\\betadist(5,2)$. we find the observed `n1=3` is a rather improbable value with this likelihood and prior."
   ]
  },
  {
   "cell_type": "markdown",
   "metadata": {},
   "source": [
    "## Posterior distribution"
   ]
  },
  {
   "cell_type": "markdown",
   "metadata": {},
   "source": [
    "To condition on the observed data we select, from the list of generated random values of $X$,    \n",
    "those corresponding the the actually observed $x_{\\text{obs}}$."
   ]
  },
  {
   "cell_type": "code",
   "execution_count": 20,
   "metadata": {},
   "outputs": [
    {
     "name": "stdout",
     "output_type": "stream",
     "text": [
      " logi [1:30000] FALSE FALSE FALSE FALSE FALSE FALSE ...\n"
     ]
    }
   ],
   "source": [
    "x.obs.indexes<-(x==x.obs)\n",
    "str(x.obs.indexes)"
   ]
  },
  {
   "cell_type": "code",
   "execution_count": 21,
   "metadata": {},
   "outputs": [
    {
     "name": "stdout",
     "output_type": "stream",
     "text": [
      " num [1:4959] 0.151 0.465 0.202 0.346 0.27 ...\n"
     ]
    }
   ],
   "source": [
    "thetas.post<-thetas[x.obs.indexes]\n",
    "str(thetas.post)"
   ]
  },
  {
   "cell_type": "markdown",
   "metadata": {},
   "source": [
    "The set of $\\theta$ samples for these indexes will be approximately distributed following the posterior distribution. \n",
    "\n",
    "The performed selection of samples is the realization of the conditioning operation:"
   ]
  },
  {
   "cell_type": "code",
   "execution_count": 22,
   "metadata": {},
   "outputs": [
    {
     "name": "stdout",
     "output_type": "stream",
     "text": [
      "From the original N = 30000 samples, 4959 have been selected, corresponding to the observed value x.obs = 3"
     ]
    }
   ],
   "source": [
    "cat(paste(sprintf(\"From the original N = %d samples,\", N),\n",
    "      sprintf(\"%d have been selected, corresponding to the observed value x.obs = %d\", length(thetas.post),x.obs)))"
   ]
  },
  {
   "cell_type": "markdown",
   "metadata": {},
   "source": [
    "## Bayes' formula"
   ]
  },
  {
   "cell_type": "markdown",
   "metadata": {},
   "source": [
    "The posterior pdf $p(\\theta\\,|\\,x)$ is obtained from Bayes' formula:\n",
    "\n",
    "$$\n",
    "    p(\\theta\\CondTo x)=\\dfrac{p(x\\,,\\,\\theta)}{p(x)}=\n",
    "    \\dfrac{p(x\\CondTo\\theta)\\cdot p(\\theta)}{p(x)}.\n",
    "$$\n",
    "\n",
    "\n",
    "From the theory, in a model with Binomial likelihood $X\\sim\\operatorname{Binomial}(n\\CondTo\\theta)$    \n",
    "with a Beta prior $\\theta\\sim\\operatorname{Beta}(a,b)$,    \n",
    "when the observed datum is $X=x_{\\text{obs}}$    \n",
    "the posterior distribution is another Beta (this is a conjugate model),\n",
    "$$\n",
    "    \\betadist(a+x_{\\text{obs}},b+n-x_{\\text{obs}}).\n",
    "$$\n",
    "\n",
    "Here we compare the histogram of the $\\theta_{\\text{post}}\\mskip10mu$ sample with the theoretical pdf:"
   ]
  },
  {
   "cell_type": "code",
   "execution_count": 23,
   "metadata": {},
   "outputs": [
    {
     "data": {
      "image/png": "[encoded data removed]",
      "text/plain": [
       "Plot with title \"Simulated and theoretical posterior pdf\""
      ]
     },
     "metadata": {
      "image/png": {
       "height": 480,
       "width": 480
      }
     },
     "output_type": "display_data"
    }
   ],
   "source": [
    "options(repr.plot.width=8,repr.plot.height=8)\n",
    "u<-seq(0,1,length=1000)\n",
    "y<-dbeta(u,shape1=a+n1,b+n-n1)\n",
    "y.max<-max(y)\n",
    "hist(thetas.post,freq=FALSE,col=\"LightGreen\",xlab=expression(theta),ylim=c(0,y.max*1.2),\n",
    "     main=\"Simulated and theoretical posterior pdf\",cex.main=1.8,cex.lab=1.5)\n",
    "lines(u,y,lwd=2.5,col=\"DarkGreen\")\n",
    "legend(\"topright\",legend=c(\"Simul. post. pdf\",\"Theor. post. pdf\"),\n",
    "       lwd=2.5,col=c(\"LightGreen\",\"DarkGreen\"))\n",
    "legx<-ifelse(n1/n<0.5,n1/n+0.1,n1/n-0.1)\n",
    "abline(v=n1/n,col=\"Blue\",lwd=5)\n",
    "text(legx+0.09,0.9,expression(paste(\"ML estimate of \",theta)),col=\"blue\",cex=1.8)\n",
    "abline(v=(n1+a-1)/(n+a+b-2),col=\"DarkRed\",lwd=4)\n",
    "text(legx+0.1,0.5,expression(paste(\"MAP estimate of \",theta)),col=\"DarkRed\",cex=1.8)"
   ]
  },
  {
   "cell_type": "markdown",
   "metadata": {},
   "source": [
    "## A sequential visualization of the Beta-Binomial model \n",
    "## (updating after each new observation)\n",
    "\n",
    "### Taken from [_Rasmus Bååth_ research blog](http://www.sumsar.net/blog/2018/12/visualizing-the-beta-binomial/)"
   ]
  },
  {
   "cell_type": "code",
   "execution_count": 24,
   "metadata": {},
   "outputs": [
    {
     "name": "stderr",
     "output_type": "stream",
     "text": [
      "── \u001b[1mAttaching core tidyverse packages\u001b[22m ──────────────────────────────────────────────────────────────── tidyverse 2.0.0 ──\n",
      "\u001b[32m✔\u001b[39m \u001b[34mdplyr    \u001b[39m 1.1.0     \u001b[32m✔\u001b[39m \u001b[34mreadr    \u001b[39m 2.1.4\n",
      "\u001b[32m✔\u001b[39m \u001b[34mforcats  \u001b[39m 1.0.0     \u001b[32m✔\u001b[39m \u001b[34mstringr  \u001b[39m 1.5.0\n",
      "\u001b[32m✔\u001b[39m \u001b[34mggplot2  \u001b[39m 3.4.1     \u001b[32m✔\u001b[39m \u001b[34mtibble   \u001b[39m 3.1.8\n",
      "\u001b[32m✔\u001b[39m \u001b[34mlubridate\u001b[39m 1.9.2     \u001b[32m✔\u001b[39m \u001b[34mtidyr    \u001b[39m 1.3.0\n",
      "\u001b[32m✔\u001b[39m \u001b[34mpurrr    \u001b[39m 1.0.1     \n",
      "── \u001b[1mConflicts\u001b[22m ────────────────────────────────────────────────────────────────────────────────── tidyverse_conflicts() ──\n",
      "\u001b[31m✖\u001b[39m \u001b[34mdplyr\u001b[39m::\u001b[32mfilter()\u001b[39m masks \u001b[34mstats\u001b[39m::filter()\n",
      "\u001b[31m✖\u001b[39m \u001b[34mdplyr\u001b[39m::\u001b[32mlag()\u001b[39m    masks \u001b[34mstats\u001b[39m::lag()\n",
      "\u001b[31m✖\u001b[39m \u001b[34mpurrr\u001b[39m::\u001b[32mrdunif()\u001b[39m masks \u001b[34mextraDistr\u001b[39m::rdunif()\n",
      "\u001b[36mℹ\u001b[39m Use the conflicted package (\u001b[3m\u001b[34m<http://conflicted.r-lib.org/>\u001b[39m\u001b[23m) to force all conflicts to become errors\n"
     ]
    }
   ],
   "source": [
    "#install.packages(\"tidyverse\",dependencies=TRUE,repos= \"https://cloud.r-project.org\")\n",
    "#install.packages(\"ggridges\",dependencies=TRUE,repos= \"https://cloud.r-project.org\")\n",
    "require(\"tidyverse\",quietly=TRUE)"
   ]
  },
  {
   "cell_type": "code",
   "execution_count": 25,
   "metadata": {},
   "outputs": [],
   "source": [
    "# This function takes a number of successes and failures coded as a TRUE/FALSE\n",
    "# or 0/1 vector. This should be given as the data argument.\n",
    "# The result is a visualization of the how a Beta-Binomial\n",
    "# model gradualy learns the underlying proportion of successes \n",
    "# using this data. The function also returns a sample from the\n",
    "# posterior distribution that can be further manipulated and inspected.\n",
    "# The default prior is a Beta(1,1) distribution, but this can be set using the\n",
    "# prior_prop argument.\n",
    "\n",
    "# Make sure the packages tidyverse and ggridges are installed, otherwise run:\n",
    "# install.packages(c(\"tidyverse\", \"ggridges\"))\n",
    "\n",
    "# Example usage:\n",
    "# data <- c(TRUE, FALSE, TRUE, TRUE, FALSE, TRUE, TRUE)\n",
    "# prop_model(data)\n",
    "prop_model <- function(data = c(), prior_prop = c(1, 1), n_draws = 10000) {\n",
    "  data <- as.logical(data)\n",
    "  # data_indices decides what densities to plot between the prior and the posterior\n",
    "  # For 20 datapoints and less we're plotting all of them.\n",
    "  data_indices <- round(seq(0, length(data), length.out = min(length(data) + 1, 20)))\n",
    "\n",
    "  # dens_curves will be a data frame with the x & y coordinates for the \n",
    "  # denities to plot where x = proportion_success and y = probability\n",
    "  proportion_success <- c(0, seq(0, 1, length.out = 100), 1)\n",
    "  dens_curves <- map_dfr(data_indices, function(i) {\n",
    "    value <- ifelse(i == 0, \"Prior\", ifelse(data[i], \"Success\", \"Failure\"))\n",
    "    label <- paste0(\"n=\", i)\n",
    "    probability <- dbeta(proportion_success,\n",
    "                         prior_prop[1] + sum(data[seq_len(i)]),\n",
    "                         prior_prop[2] + sum(!data[seq_len(i)]))\n",
    "    probability <- probability / max(probability)\n",
    "    #data_frame(value, label, proportion_success, probability)\n",
    "    tibble(value, label, proportion_success, probability)\n",
    "  })\n",
    "  # Turning label and value into factors with the right ordering for the plot\n",
    "  dens_curves$label <- fct_rev(factor(dens_curves$label, levels =  paste0(\"n=\", data_indices )))\n",
    "  dens_curves$value <- factor(dens_curves$value, levels = c(\"Prior\", \"Success\", \"Failure\"))\n",
    "\n",
    "  p <- ggplot(dens_curves, aes(x = proportion_success, y = label,\n",
    "                               height = probability, fill = value)) +\n",
    "    ggridges::geom_density_ridges(stat=\"identity\", color = \"white\", alpha = 0.8,\n",
    "                                  panel_scaling = TRUE, size = 1) +\n",
    "    scale_y_discrete(\"\", expand = c(0.01, 0)) +\n",
    "    scale_x_continuous(\"Underlying proportion of success\") +\n",
    "    scale_fill_manual(values = hcl(120 * 2:0 + 15, 100, 65), name = \"\", drop = FALSE,\n",
    "                      labels =  c(\"Prior   \", \"Success   \", \"Failure   \")) +\n",
    "    ggtitle(paste0(\n",
    "      \"Binomial model - Data: \", sum(data),  \" successes, \" , sum(!data), \" failures\")) +\n",
    "    theme_light() +\n",
    "    theme(legend.position = \"top\")\n",
    "  print(p)\n",
    "\n",
    "  # Returning a sample from the posterior distribution that can be further \n",
    "  # manipulated and inspected\n",
    "  posterior_sample <- rbeta(n_draws, prior_prop[1] + sum(data), prior_prop[2] + sum(!data))\n",
    "  invisible(posterior_sample)\n",
    "}"
   ]
  },
  {
   "cell_type": "code",
   "execution_count": 26,
   "metadata": {},
   "outputs": [
    {
     "data": {
      "image/png": "[encoded data removed]",
      "text/plain": [
       "plot without title"
      ]
     },
     "metadata": {
      "image/png": {
       "height": 480,
       "width": 480
      }
     },
     "output_type": "display_data"
    }
   ],
   "source": [
    "data<-c(TRUE,FALSE,TRUE,FALSE,FALSE,TRUE,FALSE,FALSE,FALSE,FALSE)\n",
    "prior_prop<-c(2,5)\n",
    "prop_model(data,prior_prop)"
   ]
  },
  {
   "cell_type": "markdown",
   "metadata": {},
   "source": [
    "## Analysis of posterior quantities"
   ]
  },
  {
   "cell_type": "markdown",
   "metadata": {},
   "source": [
    "The total posterior information IS the posterior pdf\n",
    "\n",
    "Any relevant statistical quantities we are interested in we can be extract from it:"
   ]
  },
  {
   "cell_type": "markdown",
   "metadata": {},
   "source": [
    "### 01 - MAP estimate"
   ]
  },
  {
   "cell_type": "markdown",
   "metadata": {},
   "source": [
    "By definition, the mode of the posterior distribution. \n",
    "\n",
    "For a generic $\\betadist(\\alpha,\\beta)$, the mode is:\n",
    "\n",
    " \n",
    "$$\n",
    "\\mskip-600mu\n",
    "    \\begin{array}{ll}\n",
    "    &\\dfrac{\\alpha -1}{\\alpha+\\beta-2},\\mskip20mu&\\text{for}\\mskip8mu\\alpha, \\beta > 1,\\\\[0.25cm]\n",
    "    &\\text{Any value in }(0,1),                       &\\text{for}\\mskip8mu  \\alpha, \\beta = 1\\\\[0.25cm]\n",
    "    &\\{0, 1\\}\\mskip8mu\\text{(bimodal)},               &\\text{for}\\mskip8mu \\alpha, \\beta < 1\\\\[0.25cm]\n",
    "    &0,                                               &\\text{for}\\mskip8mu \\alpha\\leq 1, \\beta > 1\\\\[0.25cm]\n",
    "    &1,                                               &\\text{for}\\mskip8mu \\alpha > 1, \\beta ≤ 1.\n",
    "    \\end{array}\n",
    "$$\n",
    "\n",
    "In the current case $\\operatorname{Beta}(a+x_{\\text{obs}},b+n-x_{\\text{obs}})$,\n",
    "\n",
    "$$\n",
    "\\mskip-500mu\n",
    "    \\text{MAP}=\\dfrac{a+x_{\\text{obs}}-1}{a+x_{\\text{obs}}+b+n-x_{\\text{obs}}-2}\n",
    "               =\\dfrac{x_{\\text{obs}}+a-1}{n+a+b-2}\n",
    "$$"
   ]
  },
  {
   "cell_type": "markdown",
   "metadata": {},
   "source": [
    "#### Note\n",
    "\n",
    "For the uniform prior $a=1$, $b=1$, the MAP estimate of $\\theta$ coincides with the frequentist ML estimate."
   ]
  },
  {
   "cell_type": "code",
   "execution_count": 27,
   "metadata": {},
   "outputs": [
    {
     "name": "stdout",
     "output_type": "stream",
     "text": [
      "Beta(5,12), Theor.MAP = 4/15 = 0.27"
     ]
    }
   ],
   "source": [
    "cat(paste(sprintf(\"Beta(%d,%d)\",a+x.obs,b+n-x.obs),\", \",\n",
    "          sprintf(\"Theor.MAP = %d/%d = %4.2f\",x.obs+a-1,n+a+b-2,(x.obs+a-1)/(n+a+b-2)),sep=\"\"))"
   ]
  },
  {
   "cell_type": "markdown",
   "metadata": {},
   "source": [
    "For the simulated $\\theta_{\\text{post}}$ sample:"
   ]
  },
  {
   "cell_type": "code",
   "execution_count": 28,
   "metadata": {},
   "outputs": [
    {
     "name": "stdout",
     "output_type": "stream",
     "text": [
      "Sim.MAP = 0.28"
     ]
    }
   ],
   "source": [
    "# See the help for density()\n",
    "thetas.post.est.dens<-density(thetas.post)\n",
    "Sim.MAP<-thetas.post.est.dens$x[which.max(thetas.post.est.dens$y)]\n",
    "cat(sprintf(\"Sim.MAP = %4.2f\", round(Sim.MAP,3)))"
   ]
  },
  {
   "cell_type": "markdown",
   "metadata": {},
   "source": [
    "### 02 - Posterior expectation"
   ]
  },
  {
   "cell_type": "markdown",
   "metadata": {},
   "source": [
    "By definition, the expectation of the posterior distribution. For a generic $Z\\sim\\operatorname{Beta}(\\alpha,\\beta)$, the expectation is:\n",
    "\n",
    " \n",
    "$$\n",
    "    \\mskip-600mu\n",
    "    \\operatorname{E}(Z)=\\dfrac{\\alpha}{\\alpha+\\beta}.\n",
    "$$\n",
    "\n",
    "In the current case $\\operatorname{Beta}(a+x_{\\text{obs}},b+n-x_{\\text{obs}})$,\n",
    "\n",
    "$$\n",
    "    \\mskip-500mu\n",
    "    \\operatorname{E}(Z)=\\dfrac{a+x_{\\text{obs}}}{a+x_{\\text{obs}}+b+n-x_{\\text{obs}}}\n",
    "               =\\dfrac{x_{\\text{obs}}+a}{n+a+b}\n",
    "$$"
   ]
  },
  {
   "cell_type": "code",
   "execution_count": 29,
   "metadata": {},
   "outputs": [
    {
     "name": "stdout",
     "output_type": "stream",
     "text": [
      "Beta(5,12), Theor.Post.Expectation = 5/17 = 0.29."
     ]
    }
   ],
   "source": [
    "cat(paste(sprintf(\"Beta(%d,%d),\",a+x.obs,b+n-x.obs),\" \",\n",
    "          sprintf(\"Theor.Post.Expectation = %d/%d = %4.2f.\",x.obs+a,n+a+b,(x.obs+a)/(n+a+b)),sep=\"\"))"
   ]
  },
  {
   "cell_type": "markdown",
   "metadata": {},
   "source": [
    "For the simulated $\\theta_{\\text{post}}$ sample:"
   ]
  },
  {
   "cell_type": "code",
   "execution_count": 30,
   "metadata": {},
   "outputs": [],
   "source": [
    "Sim.Post.Expectation<-mean(thetas.post)"
   ]
  },
  {
   "cell_type": "code",
   "execution_count": 31,
   "metadata": {},
   "outputs": [
    {
     "name": "stdout",
     "output_type": "stream",
     "text": [
      "Beta(5,12), Sim.Post.Expectation = 0.295."
     ]
    }
   ],
   "source": [
    "cat(paste(sprintf(\"Beta(%d,%d),\",a+x.obs,b+n-x.obs),\" \",\n",
    "          sprintf(\"Sim.Post.Expectation = %4.3f.\",round(Sim.Post.Expectation,3)),sep=\"\"))"
   ]
  },
  {
   "cell_type": "markdown",
   "metadata": {},
   "source": [
    "### 03 - Posterior variance"
   ]
  },
  {
   "cell_type": "markdown",
   "metadata": {},
   "source": [
    "By definition, the variance of the posterior distribution. For a generic $Z\\sim\\operatorname{Beta}(\\alpha,\\beta)$, the variance is:\n",
    "\n",
    " \n",
    "$$\n",
    "    \\mskip-600mu\n",
    "    \\operatorname{var}(Z)=\n",
    "    \\dfrac{\\alpha\\,\\beta}{(\\alpha+\\beta)^2\\,(\\alpha+\\beta+1)}.\n",
    "$$\n",
    "\n",
    "In the current case $\\operatorname{Beta}(a+x_{\\text{obs}},b+n-x_{\\text{obs}})$,\n",
    "\n",
    "$$\n",
    "    \\mskip-500mu\n",
    "    \\operatorname{var}(Z)=\\dfrac{(a+x_{\\text{obs}})\\,(b+n-x_{\\text{obs}})}\n",
    "    {(a+b+n)^{2}\\,(a+b+n+1)}.\n",
    "$$\n",
    "\n",
    "Observe that for a large sample size $n$ in the original experiment, assuming that both $x_{\\text{obs}}$ and $n-x_{\\text{obs}}$ grow following $n$, then the posterior variance diminishes as $1/n$."
   ]
  },
  {
   "cell_type": "code",
   "execution_count": 32,
   "metadata": {},
   "outputs": [
    {
     "name": "stdout",
     "output_type": "stream",
     "text": [
      "Beta(5,12), Theor.Post.Variance = 60/5202 =  0.0115"
     ]
    }
   ],
   "source": [
    "cat(paste(sprintf(\"Beta(%d,%d)\",a+x.obs,b+n-x.obs),\", \",\n",
    "          sprintf(\"Theor.Post.Variance = %d/%d = %7.4f\",(x.obs+a)*(b+n-x.obs),(n+a+b)^2*(a+b+n+1),\n",
    "                round((x.obs+a)*(b+n-x.obs)/((n+a+b)^2*(a+b+n+1)),4)),sep=\"\"))"
   ]
  },
  {
   "cell_type": "code",
   "execution_count": 33,
   "metadata": {},
   "outputs": [],
   "source": [
    "Sim.Post.Variance<-var(thetas.post)"
   ]
  },
  {
   "cell_type": "code",
   "execution_count": 34,
   "metadata": {},
   "outputs": [
    {
     "name": "stdout",
     "output_type": "stream",
     "text": [
      "Beta(5,12), Sim.Post.Variance =  0.0120"
     ]
    }
   ],
   "source": [
    "cat(paste(sprintf(\"Beta(%d,%d)\",a+x.obs,b+n-x.obs),\", \",\n",
    "          sprintf(\"Sim.Post.Variance = %7.4f\",round(Sim.Post.Variance,4)),sep=\"\"))"
   ]
  },
  {
   "cell_type": "markdown",
   "metadata": {},
   "source": [
    "### 04 - Posterior quartiles and, in general, quantiles"
   ]
  },
  {
   "cell_type": "markdown",
   "metadata": {},
   "source": [
    "The median (second quartile) is the only quartile with a usable analytical approximation. \n",
    "\n",
    "For a generic $Z\\sim\\betadist(\\alpha,\\beta)$, the median can be approximated by the expression:\n",
    "\n",
    "$$\n",
    "    \\text{Median}(Z)\\approx \\dfrac{\\alpha-\\tfrac{1}{3}}{\\alpha+\\beta-\\tfrac{2}{3}},\\mskip18mu\\text{for}\n",
    "    \\mskip8mu\\alpha,\\,\\beta>1.\n",
    "$$"
   ]
  },
  {
   "cell_type": "markdown",
   "metadata": {},
   "source": [
    "Empirical quartiles and, in general, quantiles can be readily obtained trom the sample:"
   ]
  },
  {
   "cell_type": "code",
   "execution_count": 35,
   "metadata": {},
   "outputs": [
    {
     "data": {
      "text/html": [
       "<style>\n",
       ".dl-inline {width: auto; margin:0; padding: 0}\n",
       ".dl-inline>dt, .dl-inline>dd {float: none; width: auto; display: inline-block}\n",
       ".dl-inline>dt::after {content: \":\\0020\"; padding-right: .5ex}\n",
       ".dl-inline>dt:not(:first-of-type) {padding-left: .5ex}\n",
       "</style><dl class=dl-inline><dt>0%</dt><dd>0.0387</dd><dt>25%</dt><dd>0.2133</dd><dt>50%</dt><dd>0.2871</dd><dt>75%</dt><dd>0.3665</dd><dt>100%</dt><dd>0.7119</dd></dl>\n"
      ],
      "text/latex": [
       "\\begin{description*}\n",
       "\\item[0\\textbackslash{}\\%] 0.0387\n",
       "\\item[25\\textbackslash{}\\%] 0.2133\n",
       "\\item[50\\textbackslash{}\\%] 0.2871\n",
       "\\item[75\\textbackslash{}\\%] 0.3665\n",
       "\\item[100\\textbackslash{}\\%] 0.7119\n",
       "\\end{description*}\n"
      ],
      "text/markdown": [
       "0%\n",
       ":   0.038725%\n",
       ":   0.213350%\n",
       ":   0.287175%\n",
       ":   0.3665100%\n",
       ":   0.7119\n",
       "\n"
      ],
      "text/plain": [
       "    0%    25%    50%    75%   100% \n",
       "0.0387 0.2133 0.2871 0.3665 0.7119 "
      ]
     },
     "metadata": {},
     "output_type": "display_data"
    }
   ],
   "source": [
    "Sim.Post.Quartiles<-quantile(thetas.post,c(0,0.25,0.50,0.75,1))\n",
    "round(Sim.Post.Quartiles,4)"
   ]
  },
  {
   "cell_type": "markdown",
   "metadata": {},
   "source": [
    "### 05 - Credible intervals"
   ]
  },
  {
   "cell_type": "markdown",
   "metadata": {},
   "source": [
    "The Bayesian concept of _credible interval_ has not the intrinsic \"conceptual instability\" of frequentist _confidence intervals (C.I.)._ In a frequentist context almost everyone indulges in thinking of _the probability_ that the parameter belongs to a given C.I., meaningless within this conceptual framework where a parameter $\\theta$ is a non random quantity, and a C.I. for $\\theta$ with confidence coefficient $\\gamma\\in(0,1)$ (usually $\\gamma=0.90$ or $\\gamma=0.95$) is a pair of r.v. $A(X)$, $B(X)$, functions of the random sample $X$, such that:\n",
    "\n",
    "$$\n",
    "    \\operatorname{Prob}\\big(A(X)\\leq \\theta \\leq B(X)\\big) \\geq \\gamma.\n",
    "$$\n",
    "\n",
    "When we evaluate $X$ as the actually observed sample $x$, we get the two numbers $a=A(x)$ and $b=B(x)$. We tend to believe that with probability $\\geq\\gamma$ the $[a,b]\\subset\\mathbb{R}$ interval contains $\\theta$, which is a FALSEHOOD. \n",
    "\n",
    "After a calm reflection, we must agree that either $\\gamma\\in[a,b]$ or $\\gamma\\notin[a,b]$. We do not know and will never know which one is true. Remember, in the frequentist framework $\\theta$ is a constant, therefore an expression such as:\n",
    "\n",
    "$$\n",
    "    \\tag{$\\star$}\n",
    "    \\operatorname{Prob}\\big(a\\leq \\theta \\leq b\\big)\\geq\\gamma\n",
    "$$\n",
    "\n",
    "is MEANINGLESS: nothing random there. The frequentist interpretation is, of course, that a large number $n$ of\n",
    "independent realizations of the experiment should give intervals $(a_{j},b_{j})$, $1\\leq j\\leq n$, and we expect that a proportion $\\geq\\gamma$ of them will contain $\\theta$ (but, again, this cannot be ascertained)."
   ]
  },
  {
   "cell_type": "markdown",
   "metadata": {},
   "source": [
    "In the Bayesian framework parameters are random, thus a _credible interval_ (more generally, a _credible region)_ is a sound concept. \n",
    "\n",
    "Statement $(\\star)$ has a well-defined meaning in Bayesian statistics."
   ]
  },
  {
   "cell_type": "markdown",
   "metadata": {},
   "source": [
    "For the billiard problem any interval $(a,b)\\subset[0,1]$ satisfying $(\\star)$ could be a Credible Interval. "
   ]
  },
  {
   "cell_type": "markdown",
   "metadata": {},
   "source": [
    "#### (1)  A reasonable credible interval is the one centered on the MAP estimate, an interval of the form:\n",
    "\n",
    "$$\n",
    "    (\\mbox{MAP}-t,\\mbox{MAP}+t),\n",
    "$$\n",
    "\n",
    "where the half-width $t$ is determined by the condition that the proportion of samples in the interval is $\\geq\\gamma$."
   ]
  },
  {
   "cell_type": "code",
   "execution_count": 36,
   "metadata": {},
   "outputs": [
    {
     "data": {
      "text/html": [
       "0.1775"
      ],
      "text/latex": [
       "0.1775"
      ],
      "text/markdown": [
       "0.1775"
      ],
      "text/plain": [
       "[1] 0.1775"
      ]
     },
     "metadata": {},
     "output_type": "display_data"
    }
   ],
   "source": [
    "gamma<-0.90\n",
    "Sim.gamma<-function(t){sum((Sim.MAP-t<=thetas.post)&(thetas.post<=Sim.MAP+t))/length(thetas.post)-gamma}\n",
    "G.t<-uniroot(Sim.gamma,c(0,0.5))\n",
    "Sim.t<-G.t$root\n",
    "round(Sim.t,4)"
   ]
  },
  {
   "cell_type": "markdown",
   "metadata": {},
   "source": [
    "We should see to it that the interval does not overstep the support boundaries, which is, in principle, possible with this construction."
   ]
  },
  {
   "cell_type": "code",
   "execution_count": 37,
   "metadata": {},
   "outputs": [
    {
     "name": "stdout",
     "output_type": "stream",
     "text": [
      "Credible interval 01 (90.00 %): (0.1054, 0.4603)"
     ]
    }
   ],
   "source": [
    "Credible.Interval.01<-c(max(0,Sim.MAP-Sim.t),min(1,Sim.MAP+Sim.t))\n",
    "cat(sprintf(\"Credible interval 01 (%5.2f %%): (%6.4f, %6.4f)\",gamma*100, \n",
    "            round(Credible.Interval.01[1],4),round(Credible.Interval.01[2],4)))"
   ]
  },
  {
   "cell_type": "code",
   "execution_count": 38,
   "metadata": {},
   "outputs": [
    {
     "data": {
      "text/html": [
       "0.3549"
      ],
      "text/latex": [
       "0.3549"
      ],
      "text/markdown": [
       "0.3549"
      ],
      "text/plain": [
       "[1] 0.3549"
      ]
     },
     "metadata": {},
     "output_type": "display_data"
    }
   ],
   "source": [
    "width.01<-diff(Credible.Interval.01)\n",
    "round(width.01,4)"
   ]
  },
  {
   "cell_type": "markdown",
   "metadata": {},
   "source": [
    "#### (2) An easier determination is the interval symmetrically placed in probabilities, leaving out a probability $(1-\\gamma)/2$ on both sides."
   ]
  },
  {
   "cell_type": "code",
   "execution_count": 39,
   "metadata": {},
   "outputs": [
    {
     "name": "stdout",
     "output_type": "stream",
     "text": [
      "Credible interval 02 (90.00 %): (0.1309, 0.4938)"
     ]
    }
   ],
   "source": [
    "gamma<-0.90\n",
    "delta<-(1-gamma)/2\n",
    "Credible.Interval.02<-as.numeric(quantile(thetas.post,c(delta,1-delta)))\n",
    "cat(sprintf(\"Credible interval 02 (%5.2f %%): (%6.4f, %6.4f)\",gamma*100, \n",
    "            round(Credible.Interval.02[1],4),round(Credible.Interval.02[2],4)))"
   ]
  },
  {
   "cell_type": "code",
   "execution_count": 40,
   "metadata": {},
   "outputs": [
    {
     "data": {
      "text/html": [
       "0.3629"
      ],
      "text/latex": [
       "0.3629"
      ],
      "text/markdown": [
       "0.3629"
      ],
      "text/plain": [
       "[1] 0.3629"
      ]
     },
     "metadata": {},
     "output_type": "display_data"
    }
   ],
   "source": [
    "width.02<-diff(Credible.Interval.02)\n",
    "round(width.02,4)"
   ]
  },
  {
   "cell_type": "markdown",
   "metadata": {},
   "source": [
    "In principle solution (1) would seem better, giving a narrower interval, as it is centered around the peak of the probability density. However we see that, in fact, it is the other way around, solution (2) gives a narrower interval. The reason is that\n",
    "to find an optimal, minimizing width, interval we should take into account the asymmetry of the pdf."
   ]
  },
  {
   "cell_type": "markdown",
   "metadata": {},
   "source": [
    "#### (3) Another possibility is the interval determined by intersecting the empirical pdf with a horizontal line"
   ]
  },
  {
   "cell_type": "code",
   "execution_count": 41,
   "metadata": {},
   "outputs": [
    {
     "data": {
      "image/png": "[encoded data removed]",
      "text/plain": [
       "Plot with title \"Estimated posterior pdf\""
      ]
     },
     "metadata": {
      "image/png": {
       "height": 480,
       "width": 480
      }
     },
     "output_type": "display_data"
    }
   ],
   "source": [
    "options(repr.plot.width=8,repr.plot.height=8)\n",
    "u<-seq(0,1,length=1000)\n",
    "#     col=\"LightGreen\",\n",
    "thetas.post.est.dens<-density(thetas.post)\n",
    "Sim.MAP<-thetas.post.est.dens$x[which.max(thetas.post.est.dens$y)]\n",
    "y.max<-max(thetas.post.est.dens$y)\n",
    "plot(thetas.post.est.dens,type=\"l\",lwd=3.5,col=\"DarkGreen\",\n",
    "     xlab=expression(theta),ylim=c(0,y.max*1.2),main=\"Estimated posterior pdf\",cex.main=1.8,cex.lab=1.5)\n",
    "legx<-ifelse(n1/n<0.5,n1/n+0.1,n1/n-0.1)\n",
    "abline(v=Sim.MAP,col=\"DarkRed\",lwd=3)\n",
    "text(legx,0.5,\"MAP\",col=\"DarkRed\",cex=1.8)\n",
    "d<-1.8\n",
    "abline(h=y.max-d,lwd=2.5,col=\"red\")"
   ]
  },
  {
   "cell_type": "code",
   "execution_count": 42,
   "metadata": {},
   "outputs": [
    {
     "data": {
      "text/html": [
       "2.4597"
      ],
      "text/latex": [
       "2.4597"
      ],
      "text/markdown": [
       "2.4597"
      ],
      "text/plain": [
       "[1] 2.4597"
      ]
     },
     "metadata": {},
     "output_type": "display_data"
    }
   ],
   "source": [
    "y.max<-max(thetas.post.est.dens$y)\n",
    "gamma<-0.90\n",
    "Sim.gamma.3<-function(s){\n",
    "    CI.thetas<-(thetas.post.est.dens$x)[which(thetas.post.est.dens$y>=(y.max-s))]\n",
    "    return(sum((min(CI.thetas)<=thetas.post)&(thetas.post<=max(CI.thetas)))/length(thetas.post)-gamma)\n",
    "    }\n",
    "G.s<-uniroot(Sim.gamma.3,c(0,y.max))\n",
    "Sim.s<-G.s$root\n",
    "round(Sim.s,4)"
   ]
  },
  {
   "cell_type": "code",
   "execution_count": 43,
   "metadata": {},
   "outputs": [
    {
     "name": "stdout",
     "output_type": "stream",
     "text": [
      "Credible interval 03 (90.00 %): (0.1697, 0.3715)"
     ]
    }
   ],
   "source": [
    "CI.thetas<-(thetas.post.est.dens$x)[which(thetas.post.est.dens$y>=Sim.s)]\n",
    "Credible.Interval.03<-c(min(CI.thetas),max(CI.thetas))\n",
    "cat(sprintf(\"Credible interval 03 (%5.2f %%): (%6.4f, %6.4f)\",gamma*100, \n",
    "            round(Credible.Interval.03[1],4),round(Credible.Interval.03[2],4)))"
   ]
  },
  {
   "cell_type": "code",
   "execution_count": 44,
   "metadata": {},
   "outputs": [
    {
     "data": {
      "text/html": [
       "0.2018"
      ],
      "text/latex": [
       "0.2018"
      ],
      "text/markdown": [
       "0.2018"
      ],
      "text/plain": [
       "[1] 0.2018"
      ]
     },
     "metadata": {},
     "output_type": "display_data"
    }
   ],
   "source": [
    "width.03<-diff(Credible.Interval.03)\n",
    "round(width.03,4)"
   ]
  },
  {
   "cell_type": "markdown",
   "metadata": {},
   "source": [
    "## Forecasting results of further experiments - Posterior predictive pdf "
   ]
  },
  {
   "cell_type": "markdown",
   "metadata": {},
   "source": [
    "For a likelihood $p(x\\CondTo\\theta)$, after entering prior $p(\\theta)$ and observed data $x$, we obtain as above\n",
    "the posterior pdf $p(\\theta\\,|\\,x)$ with Bayes' formula:\n",
    "\n",
    "$$\n",
    "    p(\\theta\\CondTo x)=\\dfrac{p(x\\,,\\,\\theta)}{p(x)}=\n",
    "    \\dfrac{p(x\\CondTo\\theta)\\cdot p(\\theta)}{p(x)}.\n",
    "$$"
   ]
  },
  {
   "cell_type": "markdown",
   "metadata": {},
   "source": [
    "Then, using all this, we derive the _posterior predictive pmf_ for new observations $\\tilde{x}$ in the same way as we did with the prior predictive pmf but now substituting the posterior pdf given $x$, for the prior pdf.\n",
    "\n",
    "That is, we integrate with respect to $\\theta$:\n",
    "\n",
    "$$\n",
    "    p(\\tilde{x}\\CondTo x)=\\displaystyle\\int_{\\Theta}p(\\tilde{x}\\CondTo\\theta)\\cdot p(\\theta\\CondTo x)\\,d\\theta\n",
    "$$\n",
    "\n",
    "Equivalently, the average of likelihood values, for all possible parameter values, weighted according to their posterior probability given $x$."
   ]
  },
  {
   "cell_type": "markdown",
   "metadata": {},
   "source": [
    "In this particular model this can be achieved analytically: A Binomial likelihood $X\\sim\\binomdist(n\\,|\\,\\theta)$ where $\\theta$ follows a Beta distribution, $\\theta\\sim\\betadist(a',b')$, has a Beta-Binomial distribution:\n",
    "\n",
    "$$\n",
    "    \\betabinomdist(n,a',b')\n",
    "$$\n",
    "\n",
    "Furthermore, we know that in a model with Binomial likelihood $X\\sim\\operatorname{Binomial}(n\\CondTo\\theta)$ with a Beta prior $\\theta\\sim\\operatorname{Beta}(a,b)$, when the observed datum is $X=x_{\\text{obs}}$ the posterior distribution is another Beta (this is a conjugate model),\n",
    "\n",
    "$$\n",
    "    \\betadist(a',b'),\n",
    "    \\mskip40mu\\text{where}\n",
    "    \\mskip40mu\n",
    "    \\left\\{\\begin{array}{lcl}\n",
    "    a' &= &a+x_{\\text{obs}},\\\\[0.3cm]\n",
    "    b' &= &b+n-x_{\\text{obs}}.\n",
    "    \\end{array}\\right.\n",
    "$$\n",
    "\n",
    "Putting all together, we conclude that the posterior predictive distribution is a:\n",
    "\n",
    "$$\n",
    "  \\betabinomdist(n,a+x_{\\text{obs}},b+n-x_{\\text{obs}}).\n",
    "$$"
   ]
  },
  {
   "cell_type": "code",
   "execution_count": 45,
   "metadata": {},
   "outputs": [
    {
     "data": {
      "text/html": [
       "<style>\n",
       ".list-inline {list-style: none; margin:0; padding: 0}\n",
       ".list-inline>li {display: inline-block}\n",
       ".list-inline>li:not(:last-child)::after {content: \"\\00b7\"; padding: 0 .5ex}\n",
       "</style>\n",
       "<ol class=list-inline><li>5</li><li>12</li></ol>\n"
      ],
      "text/latex": [
       "\\begin{enumerate*}\n",
       "\\item 5\n",
       "\\item 12\n",
       "\\end{enumerate*}\n"
      ],
      "text/markdown": [
       "1. 5\n",
       "2. 12\n",
       "\n",
       "\n"
      ],
      "text/plain": [
       "[1]  5 12"
      ]
     },
     "metadata": {},
     "output_type": "display_data"
    }
   ],
   "source": [
    "a1<-a+x.obs\n",
    "b1<-b+n-x.obs\n",
    "c(a1,b1)"
   ]
  },
  {
   "cell_type": "code",
   "execution_count": 46,
   "metadata": {
    "tags": []
   },
   "outputs": [
    {
     "data": {
      "text/html": [
       "<style>\n",
       ".list-inline {list-style: none; margin:0; padding: 0}\n",
       ".list-inline>li {display: inline-block}\n",
       ".list-inline>li:not(:last-child)::after {content: \"\\00b7\"; padding: 0 .5ex}\n",
       "</style>\n",
       "<ol class=list-inline><li>0.066</li><li>0.158</li><li>0.213</li><li>0.21</li><li>0.163</li><li>0.104</li><li>0.054</li><li>0.023</li><li>0.007</li><li>0.002</li><li>0</li></ol>\n"
      ],
      "text/latex": [
       "\\begin{enumerate*}\n",
       "\\item 0.066\n",
       "\\item 0.158\n",
       "\\item 0.213\n",
       "\\item 0.21\n",
       "\\item 0.163\n",
       "\\item 0.104\n",
       "\\item 0.054\n",
       "\\item 0.023\n",
       "\\item 0.007\n",
       "\\item 0.002\n",
       "\\item 0\n",
       "\\end{enumerate*}\n"
      ],
      "text/markdown": [
       "1. 0.066\n",
       "2. 0.158\n",
       "3. 0.213\n",
       "4. 0.21\n",
       "5. 0.163\n",
       "6. 0.104\n",
       "7. 0.054\n",
       "8. 0.023\n",
       "9. 0.007\n",
       "10. 0.002\n",
       "11. 0\n",
       "\n",
       "\n"
      ],
      "text/plain": [
       " [1] 0.066 0.158 0.213 0.210 0.163 0.104 0.054 0.023 0.007 0.002 0.000"
      ]
     },
     "metadata": {},
     "output_type": "display_data"
    }
   ],
   "source": [
    "# Posterior predictive Beta-Binomial probabilities\n",
    "x.vals<-0:n\n",
    "g<-dbbinom(x.vals,size=n,alpha=a1,beta=b1)\n",
    "round(g,3)"
   ]
  },
  {
   "cell_type": "code",
   "execution_count": 47,
   "metadata": {},
   "outputs": [
    {
     "data": {
      "image/png": "[encoded data removed]",
      "text/plain": [
       "Plot with title \"Theoretical posterior predictive pmf\""
      ]
     },
     "metadata": {
      "image/png": {
       "height": 480,
       "width": 480
      }
     },
     "output_type": "display_data"
    }
   ],
   "source": [
    "options(repr.plot.width=8,repr.plot.height=8)\n",
    "y.max<-max(g)*1.15\n",
    "matplot(x=x.vals,y=g,type=\"h\",lwd=8, lty=1,col=\"DarkGreen\",\n",
    "        ylim=c(0,y.max),xlab=\"x\",ylab=\"Probs.\",\n",
    "        main=\"Theoretical posterior predictive pmf\",cex.main=1.8)"
   ]
  },
  {
   "cell_type": "markdown",
   "metadata": {},
   "source": [
    "At the samples level this is achieved as follows: \n",
    "\n",
    "For each $\\theta$ in the posterior sample (given $x$) we generate a binomial random number. The result is a collection of binomial random numbers, each of which has been generated with a different value of $\\theta$. The proportion of each $\\theta$ values is given by its posterior probability  (given $x$)."
   ]
  },
  {
   "cell_type": "code",
   "execution_count": 48,
   "metadata": {
    "tags": []
   },
   "outputs": [
    {
     "data": {
      "text/plain": [
       "x\n",
       "    0     1     2     3     4     5     6     7     8     9    10 \n",
       "0.066 0.158 0.209 0.210 0.161 0.105 0.057 0.023 0.008 0.002 0.000 "
      ]
     },
     "metadata": {},
     "output_type": "display_data"
    }
   ],
   "source": [
    "# Take notice of the vectorized syntax: each i-th random number is generated from the binomial with prob=thetas.post[i]\n",
    "x<-rbinom(N,size=n,prob=thetas.post)\n",
    "T<-table(x)\n",
    "# Table of relative frequencies (proportions)\n",
    "f<-T/N\n",
    "round(f,3)"
   ]
  },
  {
   "cell_type": "code",
   "execution_count": 49,
   "metadata": {},
   "outputs": [
    {
     "data": {
      "text/html": [
       "<table class=\"dataframe\">\n",
       "<caption>A matrix: 2 × 11 of type dbl</caption>\n",
       "<thead>\n",
       "\t<tr><th></th><th scope=col>0</th><th scope=col>1</th><th scope=col>2</th><th scope=col>3</th><th scope=col>4</th><th scope=col>5</th><th scope=col>6</th><th scope=col>7</th><th scope=col>8</th><th scope=col>9</th><th scope=col>10</th></tr>\n",
       "</thead>\n",
       "<tbody>\n",
       "\t<tr><th scope=row>f</th><td>0.066</td><td>0.158</td><td>0.209</td><td>0.21</td><td>0.161</td><td>0.105</td><td>0.057</td><td>0.023</td><td>0.008</td><td>0.002</td><td>0</td></tr>\n",
       "\t<tr><th scope=row>g</th><td>0.066</td><td>0.158</td><td>0.213</td><td>0.21</td><td>0.163</td><td>0.104</td><td>0.054</td><td>0.023</td><td>0.007</td><td>0.002</td><td>0</td></tr>\n",
       "</tbody>\n",
       "</table>\n"
      ],
      "text/latex": [
       "A matrix: 2 × 11 of type dbl\n",
       "\\begin{tabular}{r|lllllllllll}\n",
       "  & 0 & 1 & 2 & 3 & 4 & 5 & 6 & 7 & 8 & 9 & 10\\\\\n",
       "\\hline\n",
       "\tf & 0.066 & 0.158 & 0.209 & 0.21 & 0.161 & 0.105 & 0.057 & 0.023 & 0.008 & 0.002 & 0\\\\\n",
       "\tg & 0.066 & 0.158 & 0.213 & 0.21 & 0.163 & 0.104 & 0.054 & 0.023 & 0.007 & 0.002 & 0\\\\\n",
       "\\end{tabular}\n"
      ],
      "text/markdown": [
       "\n",
       "A matrix: 2 × 11 of type dbl\n",
       "\n",
       "| <!--/--> | 0 | 1 | 2 | 3 | 4 | 5 | 6 | 7 | 8 | 9 | 10 |\n",
       "|---|---|---|---|---|---|---|---|---|---|---|---|\n",
       "| f | 0.066 | 0.158 | 0.209 | 0.21 | 0.161 | 0.105 | 0.057 | 0.023 | 0.008 | 0.002 | 0 |\n",
       "| g | 0.066 | 0.158 | 0.213 | 0.21 | 0.163 | 0.104 | 0.054 | 0.023 | 0.007 | 0.002 | 0 |\n",
       "\n"
      ],
      "text/plain": [
       "  0     1     2     3    4     5     6     7     8     9     10\n",
       "f 0.066 0.158 0.209 0.21 0.161 0.105 0.057 0.023 0.008 0.002 0 \n",
       "g 0.066 0.158 0.213 0.21 0.163 0.104 0.054 0.023 0.007 0.002 0 "
      ]
     },
     "metadata": {},
     "output_type": "display_data"
    }
   ],
   "source": [
    "# For a uniform prior both vectors approach the probabilities of a discrete uniform distribution\n",
    "yfg<-cbind(f,g)\n",
    "round(t(yfg),3)"
   ]
  },
  {
   "cell_type": "code",
   "execution_count": 50,
   "metadata": {},
   "outputs": [
    {
     "data": {
      "image/png": "[encoded data removed]",
      "text/plain": [
       "Plot with title \"Simulated and theoretical posterior predictive pmf\""
      ]
     },
     "metadata": {
      "image/png": {
       "height": 420,
       "width": 420
      }
     },
     "output_type": "display_data"
    }
   ],
   "source": [
    "options(repr.plot.width=7,repr.plot.height=7)\n",
    "y.max<-max(yfg)*1.15\n",
    "matplot(x=cbind(x.vals-0.1,x.vals+0.1),y=yfg,type=\"h\",lwd=8, lty=1,col=c(\"LightGreen\",\"DarkGreen\"),\n",
    "        ylim=c(0,y.max),xlab=\"x\",ylab=\"Rel. Freqs./Probs.\",\n",
    "        main=\"Simulated and theoretical posterior predictive pmf\",cex.main=1.6)\n",
    "legend(\"topright\",legend=c(\"Simulated posterior pred. pmf\",\"Theoretical posterior pred. pmf\"),\n",
    "       lwd=8, lty=1,col=c(\"LightGreen\",\"DarkGreen\"))"
   ]
  }
 ],
 "metadata": {
  "kernelspec": {
   "display_name": "R",
   "language": "R",
   "name": "ir"
  },
  "language_info": {
   "codemirror_mode": "r",
   "file_extension": ".r",
   "mimetype": "text/x-r-source",
   "name": "R",
   "pygments_lexer": "r",
   "version": "4.2.2"
  }
 },
 "nbformat": 4,
 "nbformat_minor": 4
}
