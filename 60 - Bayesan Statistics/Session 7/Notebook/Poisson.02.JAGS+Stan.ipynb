{
 "cells": [
  {
   "cell_type": "markdown",
   "metadata": {},
   "source": [
    "# Poisson-Gamma model"
   ]
  },
  {
   "cell_type": "markdown",
   "metadata": {},
   "source": [
    "## _Josep Fortiana_ &emsp;&emsp;&emsp;&emsp;&emsp;&emsp; 2023-03-27"
   ]
  },
  {
   "cell_type": "markdown",
   "metadata": {},
   "source": [
    "### Adapted from [Brian Reich - NC State University](https://bjreich.wordpress.ncsu.edu/) - [Poisson/Gamma model](https://www4.stat.ncsu.edu/~bjreich/BSMdata/JAGS2.html)"
   ]
  },
  {
   "cell_type": "markdown",
   "metadata": {},
   "source": [
    "***\n",
    "###### LaTeX macros\n",
    "$\\def\\prob{P}$\n",
    "$\\def\\argmax{\\operatorname{arg\\,max}}$\n",
    "$\\def\\argmin{\\operatorname{arg\\,min}}$\n",
    "$\\def\\borel{\\operatorname{Borel}}$\n",
    "$\\def\\cE{\\cal E}$\n",
    "$\\def\\cP{\\cal P}$\n",
    "$\\def\\R{\\mathbb{R}}$ \n",
    "$\\def\\N{\\mathbb{N}}$\n",
    "$\\def\\Z{\\mathbb{Z}}$\n",
    "$\\def\\Ee{\\operatorname{E}}$\n",
    "$\\def\\va{\\text{v.a.}}$\n",
    "$\\def\\var{\\operatorname{var}}$\n",
    "$\\def\\cov{\\operatorname{cov}}$\n",
    "$\\def\\cor{\\operatorname{cor}}$\n",
    "$\\def\\binomdist{\\operatorname{Binom}}$\n",
    "$\\def\\berndist{\\operatorname{Ber}}$\n",
    "$\\def\\betabinomdist{\\operatorname{Beta-Binom}}$\n",
    "$\\def\\betadist{\\operatorname{Beta}}$\n",
    "$\\def\\gammadist{\\operatorname{Gamma}}$\n",
    "$\\def\\hyperdist{\\operatorname{Hypergeom}}$\n",
    "$\\def\\hypergeomdist{\\operatorname{Hypergeom}}$\n",
    "$\\def\\poissondist{\\operatorname{Poisson}}$\n",
    "$\\def\\geomdist{\\operatorname{Geom}}$\n",
    "$\\def\\normaldist{\\operatorname{N}}$\n",
    "$\\def\\unifdist{\\operatorname{Unif}}$\n",
    "$\\DeclareMathOperator{\\indica}{\\mathbb{1}}$\n",
    "$\\def\\CondTo{\\mathbin{|\\mskip0.5mu}}$\n",
    "***"
   ]
  },
  {
   "cell_type": "markdown",
   "metadata": {},
   "source": [
    "# 00 - Data and model"
   ]
  },
  {
   "cell_type": "markdown",
   "metadata": {},
   "source": [
    "Our objective is to describe the number $\\lambda$ of animals of a given species per square mile in a state.\n",
    "\n",
    "We sample **$ n$ square miles** of the state and observe **$y\\in\\{0,1,2,\\dots\\}$ animals** of the species of interest. \n",
    "\n",
    "The statistical model (likelihood and prior) is:\n",
    "\n",
    "$$\n",
    "    y\\,|\\,\\lambda\\sim\\poissondist(n\\cdot\\lambda),\\mskip50mu \\lambda\\sim\\gammadist(\\alpha,\\beta).\n",
    "$$"
   ]
  },
  {
   "cell_type": "markdown",
   "metadata": {},
   "source": [
    "## Problem constant ($ n$) and observed data ($y$)"
   ]
  },
  {
   "cell_type": "code",
   "execution_count": 1,
   "metadata": {},
   "outputs": [],
   "source": [
    "n<-20\n",
    "y<-11"
   ]
  },
  {
   "cell_type": "markdown",
   "metadata": {},
   "source": [
    "## Prior parameters"
   ]
  },
  {
   "cell_type": "markdown",
   "metadata": {},
   "source": [
    "The expectation of a $ \\gammadist(a,b)$ is $a/b$ and its variance is $a/b^2$."
   ]
  },
  {
   "cell_type": "code",
   "execution_count": 2,
   "metadata": {},
   "outputs": [],
   "source": [
    "prior.a<-0.5\n",
    "prior.b<-0.5"
   ]
  },
  {
   "cell_type": "code",
   "execution_count": 3,
   "metadata": {},
   "outputs": [
    {
     "data": {
      "text/html": [
       "1"
      ],
      "text/latex": [
       "1"
      ],
      "text/markdown": [
       "1"
      ],
      "text/plain": [
       "[1] 1"
      ]
     },
     "metadata": {},
     "output_type": "display_data"
    },
    {
     "data": {
      "text/html": [
       "2"
      ],
      "text/latex": [
       "2"
      ],
      "text/markdown": [
       "2"
      ],
      "text/plain": [
       "[1] 2"
      ]
     },
     "metadata": {},
     "output_type": "display_data"
    }
   ],
   "source": [
    "prior.m<-prior.a/prior.b\n",
    "prior.v<-prior.a/prior.b^2\n",
    "round(prior.m,2)\n",
    "round(prior.v,2)"
   ]
  },
  {
   "cell_type": "markdown",
   "metadata": {},
   "source": [
    "# 01 - Exact treatment, using the conjugate property"
   ]
  },
  {
   "cell_type": "markdown",
   "metadata": {},
   "source": [
    "The prior is $ \\gammadist(\\alpha,\\beta)$. Given the observed $y$ in $n$ square miles, the posterior is: \n",
    "\n",
    "$$\n",
    "    \\lambda\\,|\\,y\\sim\\gammadist(\\alpha',\\beta').\n",
    "$$\n",
    "\n",
    "$$\n",
    "    \\left\\{\\begin{array}{lcl}\n",
    "    \\alpha'  &=& \\alpha+y,\\\\[0.25cm]\n",
    "    \\beta'   &=& \\beta+n.\n",
    "    \\end{array}\\right.\n",
    "$$\n",
    "\n",
    "Therefore, the posterior mean, standard deviation, and 90% interval can be found exactly."
   ]
  },
  {
   "cell_type": "code",
   "execution_count": 4,
   "metadata": {},
   "outputs": [],
   "source": [
    "posterior.a<-prior.a+y\n",
    "posterior.b<-prior.b+n"
   ]
  },
  {
   "cell_type": "code",
   "execution_count": 5,
   "metadata": {},
   "outputs": [
    {
     "data": {
      "text/html": [
       "0.56098"
      ],
      "text/latex": [
       "0.56098"
      ],
      "text/markdown": [
       "0.56098"
      ],
      "text/plain": [
       "[1] 0.56098"
      ]
     },
     "metadata": {},
     "output_type": "display_data"
    }
   ],
   "source": [
    "# Posterior mean \n",
    "round(posterior.a/posterior.b,5)                  "
   ]
  },
  {
   "cell_type": "code",
   "execution_count": 6,
   "metadata": {},
   "outputs": [
    {
     "data": {
      "text/html": [
       "0.16542"
      ],
      "text/latex": [
       "0.16542"
      ],
      "text/markdown": [
       "0.16542"
      ],
      "text/plain": [
       "[1] 0.16542"
      ]
     },
     "metadata": {},
     "output_type": "display_data"
    }
   ],
   "source": [
    "# Posterior sd \n",
    "round(sqrt(posterior.a)/posterior.b,5)                    "
   ]
  },
  {
   "cell_type": "code",
   "execution_count": 7,
   "metadata": {
    "tags": []
   },
   "outputs": [
    {
     "data": {
      "text/html": [
       "<style>\n",
       ".list-inline {list-style: none; margin:0; padding: 0}\n",
       ".list-inline>li {display: inline-block}\n",
       ".list-inline>li:not(:last-child)::after {content: \"\\00b7\"; padding: 0 .5ex}\n",
       "</style>\n",
       "<ol class=list-inline><li>0.28509</li><li>0.92867</li></ol>\n"
      ],
      "text/latex": [
       "\\begin{enumerate*}\n",
       "\\item 0.28509\n",
       "\\item 0.92867\n",
       "\\end{enumerate*}\n"
      ],
      "text/markdown": [
       "1. 0.28509\n",
       "2. 0.92867\n",
       "\n",
       "\n"
      ],
      "text/plain": [
       "[1] 0.28509 0.92867"
      ]
     },
     "metadata": {},
     "output_type": "display_data"
    }
   ],
   "source": [
    "# Posterior (quantile-centered) 95% interval\n",
    "round(qgamma(c(0.025,0.975),shape=posterior.a,rate=posterior.b),5)     "
   ]
  },
  {
   "cell_type": "code",
   "execution_count": 8,
   "metadata": {
    "tags": []
   },
   "outputs": [
    {
     "data": {
      "text/html": [
       "<style>\n",
       ".list-inline {list-style: none; margin:0; padding: 0}\n",
       ".list-inline>li {display: inline-block}\n",
       ".list-inline>li:not(:last-child)::after {content: \"\\00b7\"; padding: 0 .5ex}\n",
       "</style>\n",
       "<ol class=list-inline><li>0.31928</li><li>0.85786</li></ol>\n"
      ],
      "text/latex": [
       "\\begin{enumerate*}\n",
       "\\item 0.31928\n",
       "\\item 0.85786\n",
       "\\end{enumerate*}\n"
      ],
      "text/markdown": [
       "1. 0.31928\n",
       "2. 0.85786\n",
       "\n",
       "\n"
      ],
      "text/plain": [
       "[1] 0.31928 0.85786"
      ]
     },
     "metadata": {},
     "output_type": "display_data"
    }
   ],
   "source": [
    "# Posterior (quantile-centered) 90% interval\n",
    "round(qgamma(c(0.05,0.95),shape=posterior.a,rate=posterior.b),5)     "
   ]
  },
  {
   "cell_type": "markdown",
   "metadata": {},
   "source": [
    "# 02 - Numerical treatment with discretization"
   ]
  },
  {
   "cell_type": "markdown",
   "metadata": {},
   "source": [
    "## Discretization grid"
   ]
  },
  {
   "cell_type": "code",
   "execution_count": 9,
   "metadata": {},
   "outputs": [],
   "source": [
    "# Interval [0,2] determined to contain most of the gamma probability (gamma density near 0)\n",
    "# Grid of lambda values\n",
    "grid<-seq(0.01,2,by=0.01)    "
   ]
  },
  {
   "cell_type": "markdown",
   "metadata": {},
   "source": [
    "## Likelihood, prior, posterior"
   ]
  },
  {
   "cell_type": "code",
   "execution_count": 10,
   "metadata": {},
   "outputs": [],
   "source": [
    "Lik <- dpois(y,n*grid)\n",
    "Lik <- Lik/sum(Lik)      #standardize"
   ]
  },
  {
   "cell_type": "code",
   "execution_count": 11,
   "metadata": {},
   "outputs": [],
   "source": [
    "Prior <- dgamma(grid,prior.a,prior.b)\n",
    "Prior <- Prior/sum(Prior) #standardize"
   ]
  },
  {
   "cell_type": "code",
   "execution_count": 12,
   "metadata": {},
   "outputs": [],
   "source": [
    "Joint  <- Lik*Prior\n",
    "\n",
    "Post   <- Joint/sum(Joint)"
   ]
  },
  {
   "cell_type": "markdown",
   "metadata": {},
   "source": [
    "## Plots"
   ]
  },
  {
   "cell_type": "code",
   "execution_count": 13,
   "metadata": {},
   "outputs": [
    {
     "data": {
      "image/png": "[encoded data removed]",
      "text/plain": [
       "Plot with title \"Prior, posterior, likelihood\""
      ]
     },
     "metadata": {
      "image/png": {
       "height": 390,
       "width": 390
      }
     },
     "output_type": "display_data"
    }
   ],
   "source": [
    "options(repr.plot.width=6.5,repr.plot.height=6.5)\n",
    "plot(grid,Lik,type=\"l\",lty=3,col=\"blue\",cex.lab=1.5,lwd=3,\n",
    "     ylim=c(0,0.025),xlab=expression(lambda),ylab=\"Density\",main=\"Prior, posterior, likelihood\",\n",
    "     cex.lab=1.3,cex.main=1.5)\n",
    "lines(grid,Prior,col=\"cyan\",lwd=3)\n",
    "lines(grid,Post,col=\"magenta\",lwd=3)\n",
    "legend(\"topright\",c(\"Likelihood\",\"Prior\",\"Posterior\"),lwd=c(3,3,3),lty=c(3,1,1),col=c(\"blue\",\"cyan\",\"magenta\"),inset=0.05)"
   ]
  },
  {
   "cell_type": "markdown",
   "metadata": {},
   "source": [
    "# 03 - JAGS treatment with `rjags`"
   ]
  },
  {
   "cell_type": "code",
   "execution_count": 14,
   "metadata": {},
   "outputs": [
    {
     "name": "stderr",
     "output_type": "stream",
     "text": [
      "Loading required package: rjags\n",
      "\n",
      "Loading required package: coda\n",
      "\n",
      "Linked to JAGS 4.3.1\n",
      "\n",
      "Loaded modules: basemod,bugs\n",
      "\n"
     ]
    }
   ],
   "source": [
    "#install.packages(\"rjags\",repos= \"https://cloud.r-project.org\")\n",
    "require(rjags)"
   ]
  },
  {
   "cell_type": "markdown",
   "metadata": {},
   "source": [
    "## Write model data"
   ]
  },
  {
   "cell_type": "code",
   "execution_count": 15,
   "metadata": {},
   "outputs": [],
   "source": [
    "Poiss.01.data<-list(y=y,n=n,a=prior.a,b=prior.b)\n",
    "Poiss.01.model_string <- \"model{\n",
    "  # Likelihood (can't have formulas in distribution functions)\n",
    "  y  ~  dpois(mu)\n",
    "  mu <- n*lambda\n",
    "  # Prior\n",
    "  lambda ~ dgamma(a, b)\n",
    " }\""
   ]
  },
  {
   "cell_type": "markdown",
   "metadata": {},
   "source": [
    "## Compile model"
   ]
  },
  {
   "cell_type": "code",
   "execution_count": 16,
   "metadata": {},
   "outputs": [
    {
     "name": "stdout",
     "output_type": "stream",
     "text": [
      "Compiling model graph\n",
      "   Resolving undeclared variables\n",
      "   Allocating nodes\n",
      "Graph information:\n",
      "   Observed stochastic nodes: 1\n",
      "   Unobserved stochastic nodes: 1\n",
      "   Total graph size: 6\n",
      "\n",
      "Initializing model\n",
      "\n"
     ]
    }
   ],
   "source": [
    "Poiss.01.model <- jags.model(textConnection(Poiss.01.model_string), data = Poiss.01.data)"
   ]
  },
  {
   "cell_type": "markdown",
   "metadata": {},
   "source": [
    "## Generate and summarize samples"
   ]
  },
  {
   "cell_type": "code",
   "execution_count": 17,
   "metadata": {},
   "outputs": [],
   "source": [
    "update(Poiss.01.model, 10000, progress.bar=\"none\")"
   ]
  },
  {
   "cell_type": "code",
   "execution_count": 18,
   "metadata": {},
   "outputs": [
    {
     "data": {
      "text/plain": [
       "\n",
       "Iterations = 10001:30000\n",
       "Thinning interval = 1 \n",
       "Number of chains = 1 \n",
       "Sample size per chain = 20000 \n",
       "\n",
       "1. Empirical mean and standard deviation for each variable,\n",
       "   plus standard error of the mean:\n",
       "\n",
       "          Mean             SD       Naive SE Time-series SE \n",
       "      0.561084       0.165684       0.001172       0.001176 \n",
       "\n",
       "2. Quantiles for each variable:\n",
       "\n",
       "  2.5%    25%    50%    75%  97.5% \n",
       "0.2878 0.4418 0.5455 0.6648 0.9268 \n"
      ]
     },
     "metadata": {},
     "output_type": "display_data"
    }
   ],
   "source": [
    "Poiss.01.samples <- coda.samples(Poiss.01.model,variable.names=c(\"lambda\"),n.iter=20000, progress.bar=\"none\")\n",
    "summary(Poiss.01.samples)"
   ]
  },
  {
   "cell_type": "code",
   "execution_count": 19,
   "metadata": {},
   "outputs": [
    {
     "data": {
      "image/png": "[encoded data removed]",
      "text/plain": [
       "Plot with title \"Density of lambda\""
      ]
     },
     "metadata": {
      "image/png": {
       "height": 390,
       "width": 780
      }
     },
     "output_type": "display_data"
    }
   ],
   "source": [
    "options(repr.plot.width=13,repr.plot.height=6.5)\n",
    "plot(Poiss.01.samples)"
   ]
  },
  {
   "cell_type": "markdown",
   "metadata": {},
   "source": [
    "# 04 - Stan treatment "
   ]
  },
  {
   "cell_type": "code",
   "execution_count": 20,
   "metadata": {},
   "outputs": [
    {
     "name": "stderr",
     "output_type": "stream",
     "text": [
      "Loading required package: rstan\n",
      "\n",
      "Loading required package: StanHeaders\n",
      "\n",
      "\n",
      "rstan version 2.26.13 (Stan version 2.26.1)\n",
      "\n",
      "\n",
      "For execution on a local, multicore CPU with excess RAM we recommend calling\n",
      "options(mc.cores = parallel::detectCores()).\n",
      "To avoid recompilation of unchanged Stan programs, we recommend calling\n",
      "rstan_options(auto_write = TRUE)\n",
      "For within-chain threading using `reduce_sum()` or `map_rect()` Stan functions,\n",
      "change `threads_per_chain` option:\n",
      "rstan_options(threads_per_chain = 1)\n",
      "\n",
      "\n",
      "Do not specify '-march=native' in 'LOCAL_CPPFLAGS' or a Makevars file\n",
      "\n",
      "\n",
      "Attaching package: 'rstan'\n",
      "\n",
      "\n",
      "The following object is masked from 'package:coda':\n",
      "\n",
      "    traceplot\n",
      "\n",
      "\n"
     ]
    }
   ],
   "source": [
    "#install.packages(\"rstan\", dependencies=TRUE,repos= \"https://cloud.r-project.org\")\n",
    "require(rstan)"
   ]
  },
  {
   "cell_type": "code",
   "execution_count": 21,
   "metadata": {},
   "outputs": [],
   "source": [
    "# Following directions:\n",
    "# For execution on a local, multicore CPU with excess RAM we recommend calling\n",
    "# options(mc.cores = parallel::detectCores()).\n",
    "# To avoid recompilation of unchanged Stan programs, we recommend calling\n",
    "# rstan_options(auto_write = TRUE)\n",
    "options(mc.cores = parallel::detectCores())\n",
    "rstan_options(auto_write = TRUE)"
   ]
  },
  {
   "cell_type": "markdown",
   "metadata": {},
   "source": [
    "## Specify model"
   ]
  },
  {
   "cell_type": "code",
   "execution_count": 22,
   "metadata": {},
   "outputs": [],
   "source": [
    "modelString = \"\n",
    "  data{\n",
    "    int<lower=0> n ;\n",
    "    int<lower=0> y ; \n",
    "    real<lower=0> a ;\n",
    "    real<lower=0> b ;\n",
    "    }\n",
    "  parameters{\n",
    "    real<lower=0> lambda ;\n",
    "    }\n",
    "  model{\n",
    "    lambda ~ gamma(a,b) ;\n",
    "    y ~ poisson(n*lambda) ; \n",
    "    }\""
   ]
  },
  {
   "cell_type": "markdown",
   "metadata": {},
   "source": [
    "## Compile model and sample from the posterior pdf"
   ]
  },
  {
   "cell_type": "code",
   "execution_count": 23,
   "metadata": {},
   "outputs": [],
   "source": [
    "# Translate model to C++ and compile to DSO:\n",
    "stanDso <- stan_model( model_code=modelString ) "
   ]
  },
  {
   "cell_type": "code",
   "execution_count": 24,
   "metadata": {},
   "outputs": [],
   "source": [
    "# Specify data:\n",
    "n<-20\n",
    "y<-11\n",
    "prior.a<-0.5\n",
    "prior.b<-0.5\n",
    "a <- prior.a\n",
    "b <- prior.b\n",
    "dataList = list(n=n,y=y,a=a,b=b)"
   ]
  },
  {
   "cell_type": "code",
   "execution_count": 25,
   "metadata": {},
   "outputs": [],
   "source": [
    "# Generate posterior sample:\n",
    "stanFit <- sampling( object=stanDso, \n",
    "                     data = dataList, \n",
    "                     chains = 3,\n",
    "                     iter = 3000, \n",
    "                     warmup = 200, \n",
    "                     thin = 1)"
   ]
  },
  {
   "cell_type": "code",
   "execution_count": 26,
   "metadata": {},
   "outputs": [
    {
     "data": {
      "text/html": [
       "<table class=\"dataframe\">\n",
       "<caption>A matrix: 2 × 10 of type dbl</caption>\n",
       "<thead>\n",
       "\t<tr><th></th><th scope=col>mean</th><th scope=col>se_mean</th><th scope=col>sd</th><th scope=col>2.5%</th><th scope=col>25%</th><th scope=col>50%</th><th scope=col>75%</th><th scope=col>97.5%</th><th scope=col>n_eff</th><th scope=col>Rhat</th></tr>\n",
       "</thead>\n",
       "<tbody>\n",
       "\t<tr><th scope=row>lambda</th><td> 0.56056</td><td>0.00306</td><td>0.16461</td><td> 0.28575</td><td> 0.44288</td><td> 0.54540</td><td> 0.66029</td><td> 0.92785</td><td>2887.019</td><td>1.00115</td></tr>\n",
       "\t<tr><th scope=row>lp__</th><td>14.30166</td><td>0.01270</td><td>0.73006</td><td>12.24820</td><td>14.14859</td><td>14.57715</td><td>14.75620</td><td>14.80468</td><td>3303.598</td><td>1.00043</td></tr>\n",
       "</tbody>\n",
       "</table>\n"
      ],
      "text/latex": [
       "A matrix: 2 × 10 of type dbl\n",
       "\\begin{tabular}{r|llllllllll}\n",
       "  & mean & se\\_mean & sd & 2.5\\% & 25\\% & 50\\% & 75\\% & 97.5\\% & n\\_eff & Rhat\\\\\n",
       "\\hline\n",
       "\tlambda &  0.56056 & 0.00306 & 0.16461 &  0.28575 &  0.44288 &  0.54540 &  0.66029 &  0.92785 & 2887.019 & 1.00115\\\\\n",
       "\tlp\\_\\_ & 14.30166 & 0.01270 & 0.73006 & 12.24820 & 14.14859 & 14.57715 & 14.75620 & 14.80468 & 3303.598 & 1.00043\\\\\n",
       "\\end{tabular}\n"
      ],
      "text/markdown": [
       "\n",
       "A matrix: 2 × 10 of type dbl\n",
       "\n",
       "| <!--/--> | mean | se_mean | sd | 2.5% | 25% | 50% | 75% | 97.5% | n_eff | Rhat |\n",
       "|---|---|---|---|---|---|---|---|---|---|---|\n",
       "| lambda |  0.56056 | 0.00306 | 0.16461 |  0.28575 |  0.44288 |  0.54540 |  0.66029 |  0.92785 | 2887.019 | 1.00115 |\n",
       "| lp__ | 14.30166 | 0.01270 | 0.73006 | 12.24820 | 14.14859 | 14.57715 | 14.75620 | 14.80468 | 3303.598 | 1.00043 |\n",
       "\n"
      ],
      "text/plain": [
       "       mean     se_mean sd      2.5%     25%      50%      75%      97.5%   \n",
       "lambda  0.56056 0.00306 0.16461  0.28575  0.44288  0.54540  0.66029  0.92785\n",
       "lp__   14.30166 0.01270 0.73006 12.24820 14.14859 14.57715 14.75620 14.80468\n",
       "       n_eff    Rhat   \n",
       "lambda 2887.019 1.00115\n",
       "lp__   3303.598 1.00043"
      ]
     },
     "metadata": {},
     "output_type": "display_data"
    }
   ],
   "source": [
    "S<-summary(stanFit)\n",
    "round(S$summary,5)"
   ]
  },
  {
   "cell_type": "markdown",
   "metadata": {},
   "source": [
    "# Diagnostic diagrams with the `bayesplot` package"
   ]
  },
  {
   "cell_type": "code",
   "execution_count": 27,
   "metadata": {},
   "outputs": [
    {
     "name": "stderr",
     "output_type": "stream",
     "text": [
      "Loading required package: bayesplot\n",
      "\n",
      "This is bayesplot version 1.10.0\n",
      "\n",
      "- Online documentation and vignettes at mc-stan.org/bayesplot\n",
      "\n",
      "- bayesplot theme set to bayesplot::theme_default()\n",
      "\n",
      "   * Does _not_ affect other ggplot2 plots\n",
      "\n",
      "   * See ?bayesplot_theme_set for details on theme setting\n",
      "\n"
     ]
    }
   ],
   "source": [
    "#install.packages(\"bayesplot\", dependencies=TRUE,repos= \"https://cloud.r-project.org\")\n",
    "require(bayesplot)"
   ]
  },
  {
   "cell_type": "code",
   "execution_count": 28,
   "metadata": {},
   "outputs": [
    {
     "data": {
      "image/png": "[encoded data removed]",
      "text/plain": [
       "plot without title"
      ]
     },
     "metadata": {
      "image/png": {
       "height": 360,
       "width": 600
      }
     },
     "output_type": "display_data"
    }
   ],
   "source": [
    "color_scheme_set(\"green\")\n",
    "options(repr.plot.width=10,repr.plot.height=6)\n",
    "mcmc_trace(stanFit, pars = c(\"lambda\"))"
   ]
  },
  {
   "cell_type": "code",
   "execution_count": 29,
   "metadata": {},
   "outputs": [
    {
     "data": {
      "image/png": "[encoded data removed]",
      "text/plain": [
       "plot without title"
      ]
     },
     "metadata": {
      "image/png": {
       "height": 360,
       "width": 600
      }
     },
     "output_type": "display_data"
    }
   ],
   "source": [
    "options(repr.plot.width=10,repr.plot.height=6)\n",
    "mcmc_acf(stanFit,pars=c(\"lambda\"))"
   ]
  },
  {
   "cell_type": "code",
   "execution_count": 30,
   "metadata": {},
   "outputs": [
    {
     "data": {
      "image/png": "[encoded data removed]",
      "text/plain": [
       "plot without title"
      ]
     },
     "metadata": {
      "image/png": {
       "height": 360,
       "width": 600
      }
     },
     "output_type": "display_data"
    }
   ],
   "source": [
    "color_scheme_set(\"viridisC\")\n",
    "options(repr.plot.width=10,repr.plot.height=6)\n",
    "mcmc_acf_bar(stanFit,pars=c(\"lambda\"))"
   ]
  },
  {
   "cell_type": "markdown",
   "metadata": {},
   "source": [
    "# Analysis of posterior pdf properties"
   ]
  },
  {
   "cell_type": "markdown",
   "metadata": {},
   "source": [
    "### Posterior credible interval "
   ]
  },
  {
   "cell_type": "code",
   "execution_count": 31,
   "metadata": {},
   "outputs": [
    {
     "data": {
      "image/png": "[encoded data removed]",
      "text/plain": [
       "plot without title"
      ]
     },
     "metadata": {
      "image/png": {
       "height": 240,
       "width": 420
      }
     },
     "output_type": "display_data"
    }
   ],
   "source": [
    "color_scheme_set(\"yellow\")\n",
    "options(repr.plot.width=7,repr.plot.height=4)\n",
    "mcmc_intervals(stanFit, pars = c(\"lambda\"),prob=0.75,prob_outer=0.95)\n",
    "# Defaults are\n",
    "# prob = 0.5,\n",
    "# prob_outer = 0.9,"
   ]
  },
  {
   "cell_type": "markdown",
   "metadata": {},
   "source": [
    "### Areas diagram"
   ]
  },
  {
   "cell_type": "code",
   "execution_count": 32,
   "metadata": {},
   "outputs": [
    {
     "data": {
      "image/png": "[encoded data removed]",
      "text/plain": [
       "plot without title"
      ]
     },
     "metadata": {
      "image/png": {
       "height": 420,
       "width": 420
      }
     },
     "output_type": "display_data"
    }
   ],
   "source": [
    "options(repr.plot.width=7,repr.plot.height=7)\n",
    "mcmc_areas(stanFit, pars = c(\"lambda\"),prob=0.75,prob_outer=0.95)"
   ]
  },
  {
   "cell_type": "markdown",
   "metadata": {},
   "source": [
    "### Histogram"
   ]
  },
  {
   "cell_type": "code",
   "execution_count": 33,
   "metadata": {},
   "outputs": [
    {
     "data": {
      "image/png": "[encoded data removed]",
      "text/plain": [
       "plot without title"
      ]
     },
     "metadata": {
      "image/png": {
       "height": 420,
       "width": 420
      }
     },
     "output_type": "display_data"
    }
   ],
   "source": [
    "color_scheme_set(\"brightblue\")\n",
    "options(repr.plot.width=7,repr.plot.height=7)\n",
    "mcmc_hist(stanFit, pars = c(\"lambda\"),binwidth=0.05)"
   ]
  },
  {
   "cell_type": "markdown",
   "metadata": {},
   "source": [
    "### Density plot"
   ]
  },
  {
   "cell_type": "code",
   "execution_count": 34,
   "metadata": {},
   "outputs": [
    {
     "data": {
      "image/png": "[encoded data removed]",
      "text/plain": [
       "plot without title"
      ]
     },
     "metadata": {
      "image/png": {
       "height": 420,
       "width": 420
      }
     },
     "output_type": "display_data"
    }
   ],
   "source": [
    "options(repr.plot.width=7,repr.plot.height=7)\n",
    "mcmc_dens(stanFit, pars = c(\"lambda\"))"
   ]
  },
  {
   "cell_type": "code",
   "execution_count": 35,
   "metadata": {},
   "outputs": [
    {
     "data": {
      "image/png": "[encoded data removed]",
      "text/plain": [
       "plot without title"
      ]
     },
     "metadata": {
      "image/png": {
       "height": 420,
       "width": 420
      }
     },
     "output_type": "display_data"
    }
   ],
   "source": [
    "color_scheme_set(\"viridisE\")\n",
    "options(repr.plot.width=7,repr.plot.height=7)\n",
    "mcmc_dens_chains(stanFit, pars = c(\"lambda\"))"
   ]
  },
  {
   "cell_type": "markdown",
   "metadata": {},
   "source": [
    "### Violin plot"
   ]
  },
  {
   "cell_type": "code",
   "execution_count": 36,
   "metadata": {},
   "outputs": [
    {
     "data": {
      "image/png": "[encoded data removed]",
      "text/plain": [
       "plot without title"
      ]
     },
     "metadata": {
      "image/png": {
       "height": 420,
       "width": 420
      }
     },
     "output_type": "display_data"
    }
   ],
   "source": [
    "color_scheme_set(\"brightblue\")\n",
    "options(repr.plot.width=7,repr.plot.height=7)\n",
    "mcmc_violin(stanFit, pars = c(\"lambda\"))"
   ]
  }
 ],
 "metadata": {
  "kernelspec": {
   "display_name": "R",
   "language": "R",
   "name": "ir"
  },
  "language_info": {
   "codemirror_mode": "r",
   "file_extension": ".r",
   "mimetype": "text/x-r-source",
   "name": "R",
   "pygments_lexer": "r",
   "version": "4.2.2"
  }
 },
 "nbformat": 4,
 "nbformat_minor": 4
}
