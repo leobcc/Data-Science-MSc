{
 "cells": [
  {
   "cell_type": "markdown",
   "metadata": {},
   "source": [
    "# Poisson-Gamma model"
   ]
  },
  {
   "cell_type": "markdown",
   "metadata": {},
   "source": [
    "## _Josep Fortiana_ &emsp;&emsp;&emsp;&emsp;&emsp;&emsp; 2023-03-27"
   ]
  },
  {
   "cell_type": "markdown",
   "metadata": {},
   "source": [
    "# Case study 01: asthma mortality"
   ]
  },
  {
   "cell_type": "markdown",
   "metadata": {},
   "source": [
    "Example adapted from Gelman et al (2014), _Bayesian Data Analysis - 3rd edition (BDA3),_ p. 45."
   ]
  },
  {
   "cell_type": "markdown",
   "metadata": {},
   "source": [
    "Causes of death are reviewed in detail for a city in the United States for a single year.   \n",
    "It is found that 3 persons, out of a population of 200,000, died of asthma, giving a crude estimated asthma mortality rate in the city of 1.5 cases per 100,000 persons per year. "
   ]
  },
  {
   "cell_type": "markdown",
   "metadata": {},
   "source": [
    "## Likelihood \n",
    "\n",
    "A Poisson sampling model is often used for epidemiological data of this form. The Poisson model derives from an assumption of _exchangeability_ among all small intervals of exposure. \n",
    "\n",
    "Under the Poisson model, the sampling distribution of $y$, the number of deaths in a city of 200,000 in one year, may be expressed as:\n",
    "\n",
    "$$\n",
    "    \\mbox{Poisson}(2.00\\cdot\\theta),\n",
    "$$\n",
    "\n",
    "where $\\theta$ represents the true underlying long-term asthma mortality rate in our city (measured in cases per 100,000 persons per year)."
   ]
  },
  {
   "cell_type": "markdown",
   "metadata": {},
   "source": [
    "## Observed evidence\n",
    "\n",
    "In the above notation, $y = 3$ is a single observation with exposure $x = 2.0$ (since $\\theta$ is defined in units of\n",
    "100,000 people) and unknown rate $\\theta$."
   ]
  },
  {
   "cell_type": "markdown",
   "metadata": {},
   "source": [
    "## Prior\n",
    "\n",
    "Knowledge about asthma mortality rates around the world to construct a prior distribution for $\\theta$, then combine the datum $y = 3$ with that prior distribution to obtain a posterior distribution.\n",
    "\n",
    "What is a sensible prior distribution for $\\theta$?   \n",
    "Reviews suggest mortality rates above 1.5 per 100,000 people are rare in Western countries, with typical asthma mortality rates around 0.6 per 100,000. \n",
    "\n",
    "Trial-and-error exploration of the properties of the gamma distribution, the conjugate prior family for this problem, reveals that a $\\mbox{Gamma}(3.0, 5.0)$ density provides a plausible prior density for the asthma mortality rate in this example if we assume exchangeability between this city and other cities and this year and other years. \n",
    "\n",
    "The mean of this prior distribution is $0.6$ (with a mode of $0.4$), and $97.5\\%$ of the mass of the density lies below $1.44$.\n",
    "\n",
    "Specifying a prior mean sets the ratio of the two gamma parameters, then the shape parameter can be altered by trial and error to match the prior knowledge about the tail of the distribution"
   ]
  },
  {
   "cell_type": "markdown",
   "metadata": {},
   "source": [
    "## Prior construction from known information"
   ]
  },
  {
   "cell_type": "code",
   "execution_count": 1,
   "metadata": {},
   "outputs": [],
   "source": [
    "theta.max<-1.5\n",
    "theta.average<-0.6"
   ]
  },
  {
   "cell_type": "code",
   "execution_count": 2,
   "metadata": {},
   "outputs": [
    {
     "data": {
      "text/html": [
       "99.7208"
      ],
      "text/latex": [
       "99.7208"
      ],
      "text/markdown": [
       "99.7208"
      ],
      "text/plain": [
       "[1] 99.7208"
      ]
     },
     "metadata": {},
     "output_type": "display_data"
    }
   ],
   "source": [
    "# We find alpha and beta for theta~Gamma(alpha,beta) such that \n",
    "# Gamma.expectation = alpha/beta = 0.6\n",
    "\n",
    "# For instance:\n",
    "alpha<-6\n",
    "beta<-10\n",
    "\n",
    "# 1.5 must be a high quantile of this distribution\n",
    "round(100*pgamma(1.5,shape=alpha,rate=beta),4)"
   ]
  },
  {
   "cell_type": "code",
   "execution_count": 3,
   "metadata": {},
   "outputs": [
    {
     "data": {
      "text/html": [
       "97.9743"
      ],
      "text/latex": [
       "97.9743"
      ],
      "text/markdown": [
       "97.9743"
      ],
      "text/plain": [
       "[1] 97.9743"
      ]
     },
     "metadata": {},
     "output_type": "display_data"
    }
   ],
   "source": [
    "# Too high, try another pair:\n",
    "alpha<-3\n",
    "beta<-5\n",
    "# 1.5 must be a high quantile of this distribution\n",
    "round(100*pgamma(1.5,shape=alpha,rate=beta),4)"
   ]
  },
  {
   "cell_type": "markdown",
   "metadata": {},
   "source": [
    "Keep these values, $\\alpha=3$, $\\beta=5$."
   ]
  },
  {
   "cell_type": "markdown",
   "metadata": {},
   "source": [
    "## Posterior\n",
    "\n",
    "The posterior distribution of $\\theta$ for a $\\mbox{Gamma}(\\alpha,\\beta)$ prior distribution is $\\mbox{Gamma}\\alpha_{1},\\beta_{1})$,\n",
    "\n",
    "$$\n",
    "    \\left\\{\\begin{array}{lcl}\n",
    "    \\alpha_{1} &= &\\alpha+y,\\\\[0.2cm]\n",
    "    \\beta_{1}  &=&\\beta+x.\n",
    "    \\end{array}\\right.\n",
    "$$\n",
    "\n",
    "With the prior distribution and data described notation, ($y = 3$, $x = 2.0$), the posterior distribution for $\\theta$ is $\\mbox{Gamma}(6.0, 7.0)$, which has mean 0.86."
   ]
  },
  {
   "cell_type": "markdown",
   "metadata": {},
   "source": [
    "## Posterior updated parameters"
   ]
  },
  {
   "cell_type": "code",
   "execution_count": 4,
   "metadata": {},
   "outputs": [
    {
     "data": {
      "text/html": [
       "6"
      ],
      "text/latex": [
       "6"
      ],
      "text/markdown": [
       "6"
      ],
      "text/plain": [
       "[1] 6"
      ]
     },
     "metadata": {},
     "output_type": "display_data"
    },
    {
     "data": {
      "text/html": [
       "7"
      ],
      "text/latex": [
       "7"
      ],
      "text/markdown": [
       "7"
      ],
      "text/plain": [
       "[1] 7"
      ]
     },
     "metadata": {},
     "output_type": "display_data"
    }
   ],
   "source": [
    "y<-3\n",
    "x<-2\n",
    "alpha1<-alpha+y\n",
    "beta1<-beta+x\n",
    "round(alpha1,3)\n",
    "round(beta1,3)"
   ]
  },
  {
   "cell_type": "code",
   "execution_count": 5,
   "metadata": {},
   "outputs": [
    {
     "data": {
      "text/html": [
       "0.857"
      ],
      "text/latex": [
       "0.857"
      ],
      "text/markdown": [
       "0.857"
      ],
      "text/plain": [
       "[1] 0.857"
      ]
     },
     "metadata": {},
     "output_type": "display_data"
    }
   ],
   "source": [
    "Theor.post.mean<-alpha1/beta1\n",
    "round(Theor.post.mean,3)"
   ]
  },
  {
   "cell_type": "code",
   "execution_count": 6,
   "metadata": {},
   "outputs": [],
   "source": [
    "# A sample from this posterior\n",
    "N<-10000\n",
    "z<-rgamma(N,alpha1,beta1)"
   ]
  },
  {
   "cell_type": "code",
   "execution_count": 7,
   "metadata": {
    "tags": []
   },
   "outputs": [
    {
     "data": {
      "image/png": "[encoded data removed]",
      "text/plain": [
       "Plot with title \"Histogram of posterior samples\""
      ]
     },
     "metadata": {
      "image/png": {
       "height": 360,
       "width": 420
      }
     },
     "output_type": "display_data"
    }
   ],
   "source": [
    "options(repr.plot.width=7,repr.plot.height=6)\n",
    "hist(z,col=\"LightGreen\",freq=FALSE,\n",
    "     main=\"Histogram of posterior samples\",cex.main=1.8)"
   ]
  },
  {
   "cell_type": "markdown",
   "metadata": {},
   "source": [
    "## Posterior with additional data\n",
    "\n",
    "Assume we have observed $y_2=30$ deaths over 10 years. Assuming the remaining quantities, (population size and overall rate) are invariant, now $x_2=20$ and the posterior pdf is a $\\mbox{Gamma}(\\alpha+y_2, \\beta+x_2)=\\mbox{Gamma}(33,25)$."
   ]
  },
  {
   "cell_type": "code",
   "execution_count": 8,
   "metadata": {},
   "outputs": [],
   "source": [
    "y2<-30\n",
    "x2<-20\n",
    "alpha2<-alpha+y2\n",
    "beta2<-beta+x2"
   ]
  },
  {
   "cell_type": "code",
   "execution_count": 9,
   "metadata": {},
   "outputs": [
    {
     "data": {
      "text/html": [
       "1.32"
      ],
      "text/latex": [
       "1.32"
      ],
      "text/markdown": [
       "1.32"
      ],
      "text/plain": [
       "[1] 1.32"
      ]
     },
     "metadata": {},
     "output_type": "display_data"
    }
   ],
   "source": [
    "m2<-alpha2/beta2\n",
    "round(m2,3)"
   ]
  },
  {
   "cell_type": "code",
   "execution_count": 10,
   "metadata": {},
   "outputs": [],
   "source": [
    "# A sample from this posterior\n",
    "N<-10000\n",
    "z<-rgamma(N,alpha2,beta2)"
   ]
  },
  {
   "cell_type": "code",
   "execution_count": 12,
   "metadata": {},
   "outputs": [
    {
     "data": {
      "image/png": "[encoded data removed]",
      "text/plain": [
       "Plot with title \"Histogram of posterior samples with additional data\""
      ]
     },
     "metadata": {
      "image/png": {
       "height": 420,
       "width": 420
      }
     },
     "output_type": "display_data"
    }
   ],
   "source": [
    "options(repr.plot.width=7,repr.plot.height=7)\n",
    "hist(z,col=\"LightGreen\",freq=FALSE,xlab=expression(theta),cex.lab=1.5,\n",
    "     main=\"Histogram of posterior samples with additional data\",cex.main=1.6)"
   ]
  },
  {
   "cell_type": "markdown",
   "metadata": {},
   "source": [
    "## Exercise 01\n",
    "\n",
    "Generate:\n",
    "\n",
    " 1. A sample from the prior predictive distribution,\n",
    " \n",
    " 2. A sample from the posterior predictive distribution after the first experiment (with $y=3$ after one year in a population of 200,000). \n",
    "\n",
    "In both cases plot the simulated pmf and compare it with the theoretical one.\n",
    "\n",
    "Estimate the probability of having more than 25 fatalities in the next 10 years (assuming all other conditions remain constant)"
   ]
  },
  {
   "cell_type": "raw",
   "metadata": {},
   "source": [
    "#\n",
    "# Insert here your code\n",
    "#"
   ]
  }
 ],
 "metadata": {
  "kernelspec": {
   "display_name": "R",
   "language": "R",
   "name": "ir"
  },
  "language_info": {
   "codemirror_mode": "r",
   "file_extension": ".r",
   "mimetype": "text/x-r-source",
   "name": "R",
   "pygments_lexer": "r",
   "version": "4.2.2"
  }
 },
 "nbformat": 4,
 "nbformat_minor": 4
}
