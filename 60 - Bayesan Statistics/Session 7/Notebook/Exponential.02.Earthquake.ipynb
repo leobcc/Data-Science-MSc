{
 "cells": [
  {
   "cell_type": "markdown",
   "metadata": {
    "tags": []
   },
   "source": [
    "# Exponential data 02"
   ]
  },
  {
   "cell_type": "markdown",
   "metadata": {},
   "source": [
    "## _Josep Fortiana_ &emsp;&emsp;&emsp;&emsp;&emsp;&emsp; 2023-03-27"
   ]
  },
  {
   "cell_type": "markdown",
   "metadata": {
    "tags": []
   },
   "source": [
    "## Modelling Earthquake Waiting Times"
   ]
  },
  {
   "cell_type": "markdown",
   "metadata": {
    "tags": []
   },
   "source": [
    "***\n",
    "###### LaTeX macros\n",
    "$\\def\\prob{P}$\n",
    "$\\def\\argmax{\\operatorname{arg\\,max}}$\n",
    "$\\def\\argmin{\\operatorname{arg\\,min}}$\n",
    "$\\def\\borel{\\operatorname{Borel}}$\n",
    "$\\def\\cE{\\cal E}$\n",
    "$\\def\\cP{\\cal P}$\n",
    "$\\def\\R{\\mathbb{R}}$ \n",
    "$\\def\\N{\\mathbb{N}}$\n",
    "$\\def\\Z{\\mathbb{Z}}$\n",
    "$\\def\\Ee{\\operatorname{E}}$\n",
    "$\\def\\va{\\text{v.a.}}$\n",
    "$\\def\\var{\\operatorname{var}}$\n",
    "$\\def\\cov{\\operatorname{cov}}$\n",
    "$\\def\\cor{\\operatorname{cor}}$\n",
    "$\\def\\binomdist{\\operatorname{Binom}}$\n",
    "$\\def\\berndist{\\operatorname{Ber}}$\n",
    "$\\def\\betabinomdist{\\operatorname{Beta-Binom}}$\n",
    "$\\def\\betadist{\\operatorname{Beta}}$\n",
    "$\\def\\expdist{\\operatorname{Exp}}$\n",
    "$\\def\\gammadist{\\operatorname{Gamma}}$\n",
    "$\\def\\hyperdist{\\operatorname{Hypergeom}}$\n",
    "$\\def\\hypergeomdist{\\operatorname{Hypergeom}}$\n",
    "$\\DeclareMathOperator{\\multinomialdist}{Multinomial}$\n",
    "$\\DeclareMathOperator{\\multinomdist}{Multinom}$\n",
    "$\\def\\poissondist{\\operatorname{Poisson}}$\n",
    "$\\def\\geomdist{\\operatorname{Geom}}$\n",
    "$\\def\\normaldist{\\operatorname{N}}$\n",
    "$\\def\\unifdist{\\operatorname{Unif}}$\n",
    "$\\DeclareMathOperator{\\indica}{\\mathbb{1}}$\n",
    "$\\def\\CondTo{\\mathbin{|\\mskip0.5mu}}$\n",
    "***"
   ]
  },
  {
   "cell_type": "markdown",
   "metadata": {},
   "source": [
    "#### Data and explanations, from [Tutorial on Bayesian Data Analysis by Ankit Tewari](https://rstudio-pubs-static.s3.amazonaws.com/370794_abaf71444ad04cd0b05c0a8d41b4de98.html)."
   ]
  },
  {
   "cell_type": "markdown",
   "metadata": {},
   "source": [
    "We're going to practise how to model the waiting times between serious earthquakes using a bayesian approach.   \n",
    "The United States Geological Survey maintains a list of significant earthquakes worldwide.   \n",
    "We will model the rate of earthquakes of magnitude 4.0+ in the state of California during 2015.   \n",
    "An iid exponential model on the waiting time between significant earthquakes is appropriate if we assume:\n",
    "\n",
    "1. Earthquake events are independent,\n",
    "2. The rate at which earthquakes occur does not change during the year, and \n",
    "3. The earthquake hazard rate does not change (i.e., the probability of an earthquake happening tomorrow is constant regardless of whether the previous earthquake was yesterday or 100 days ago)."
   ]
  },
  {
   "cell_type": "markdown",
   "metadata": {},
   "source": [
    "### Earthquake data:\n",
    "\n",
    "The significant earthquakes of magnitude 4.0+ in the state of California during 2015 occurred on the following dates :\n",
    "\n",
    "January 4, January 20, January 28, May 22, July 21, July 25, August 17, September 16, December 30. \n",
    "\n",
    "Let $ Y_{i}$ denote the waiting time in days between the $i$-th earthquake and the following earthquake. Our model is \n",
    "\n",
    "$$\n",
    "    Y_{i}\\mskip8mu\\text{i.i.d.}\\sim\\mskip8mu\\operatorname{Exponential}(\\lambda),\n",
    "$$\n",
    "\n",
    "where the expected waiting time between earthquakes is $\\operatorname{E}(Y)=1/\\lambda$ days."
   ]
  },
  {
   "cell_type": "markdown",
   "metadata": {},
   "source": [
    "Assume the conjugate prior $ \\lambda\\sim\\operatorname{Gamma}(\\alpha,\\beta)$. Suppose our prior expectation for $\\lambda$ is $1/30$, and we wish to use a prior effective sample size of one interval between earthquakes.\n",
    "\n",
    "A good question then is that what is the value of $\\alpha$ and $\\beta$ so that we can use them in our prior distribution? Well, as you might have guessed, we can use $\\alpha=1$ and $\\beta=30$. It is so because in the exponential-gamma model, $\\alpha$ is the prior effective sample size and the prior mean is $\\alpha/\\beta=1/30$, and since we know the effective sample size $\\alpha=1$, we have $\\beta=30$."
   ]
  },
  {
   "cell_type": "markdown",
   "metadata": {},
   "source": [
    "The reason why $ \\alpha$ is called _prior effective sample size_ is the updating formula. If  the prior pdf for $\\lambda$ is a $\\operatorname{Gamma}$ with parameters $\\alpha$ and $\\beta$, and an experiment is performed, taking $n$ independent exponential observations $y=(y_{1},\\dots,y_{n})$ with average $\\overline{y}$, the posterior pdf for $\\lambda$ is a $\\operatorname{Gamma}$ with parameters $\\alpha'$ and $\\beta'$:\n",
    "\n",
    "$$\n",
    "    \\left\\{\n",
    "    \\begin{array}{lcl}\n",
    "    \\alpha'&=&\\alpha+n,\\\\\n",
    "    \\beta'&=&\\beta+n\\,\\overline{y}.\n",
    "    \\end{array}\\right.\n",
    "$$\n",
    "\n",
    "thus we might think of the prior pdf as information from $n_{0}=\\alpha$ virtual observations with average $\\beta$."
   ]
  },
  {
   "cell_type": "markdown",
   "metadata": {},
   "source": [
    "Which of the following is our data vector? The first of the following:\n",
    "\n",
    "$$\n",
    "    \\begin{array}{lcl}\n",
    "    y &= &(16, 8, 114, 60, 4, 23, 30, 105),\\\\\n",
    "    y &= &(3, 16, 8, 114, 60, 4, 23, 30, 105, 1),\\\\\n",
    "    y &= &(3, 16, 8, 114, 60, 4, 23, 30, 105).\n",
    "    \\end{array}\n",
    "$$\n",
    "\n",
    "Recall that we are modeling the waiting times between earthquakes in days. There are eight intervals between the first and last event. We are excluding four days of the year in which no events were observed. A more comprehensive model (e.g., censoring methods) would account for the fact that there were no major earthquakes Jan. 1 to Jan. 4 and Dec. 30 to Dec. 31. This is beyond the scope of this tutorial."
   ]
  },
  {
   "cell_type": "code",
   "execution_count": 1,
   "metadata": {},
   "outputs": [],
   "source": [
    "prior.a<-1\n",
    "prior.b<-30"
   ]
  },
  {
   "cell_type": "markdown",
   "metadata": {},
   "source": [
    "# A.1. Simulate from the prior pdf"
   ]
  },
  {
   "cell_type": "code",
   "execution_count": 2,
   "metadata": {},
   "outputs": [],
   "source": [
    "N<-10000\n",
    "Sim.lambda.prior<-rgamma(N,prior.a,prior.b)"
   ]
  },
  {
   "cell_type": "code",
   "execution_count": 3,
   "metadata": {},
   "outputs": [
    {
     "data": {
      "text/html": [
       "0.0333"
      ],
      "text/latex": [
       "0.0333"
      ],
      "text/markdown": [
       "0.0333"
      ],
      "text/plain": [
       "[1] 0.0333"
      ]
     },
     "metadata": {},
     "output_type": "display_data"
    },
    {
     "data": {
      "text/html": [
       "0.0011"
      ],
      "text/latex": [
       "0.0011"
      ],
      "text/markdown": [
       "0.0011"
      ],
      "text/plain": [
       "[1] 0.0011"
      ]
     },
     "metadata": {},
     "output_type": "display_data"
    },
    {
     "data": {
      "text/html": [
       "0.0333"
      ],
      "text/latex": [
       "0.0333"
      ],
      "text/markdown": [
       "0.0333"
      ],
      "text/plain": [
       "[1] 0.0333"
      ]
     },
     "metadata": {},
     "output_type": "display_data"
    }
   ],
   "source": [
    "Theor.lambda.mean<-prior.a/prior.b\n",
    "# Theor.lambda.mode<-(prior.a-1)/prior.b  # For alpha>1, 0 for alpha=1.\n",
    "Theor.lambda.var<-prior.a/prior.b^2\n",
    "Theor.lambda.sd<-sqrt(Theor.lambda.var)\n",
    "round(Theor.lambda.mean,4)\n",
    "round(Theor.lambda.var,4)\n",
    "round(Theor.lambda.sd,4)"
   ]
  },
  {
   "cell_type": "code",
   "execution_count": 4,
   "metadata": {},
   "outputs": [
    {
     "data": {
      "image/png": "[encoded data removed]",
      "text/plain": [
       "Plot with title \"Histogram of Sim.lambda.prior\""
      ]
     },
     "metadata": {
      "image/png": {
       "height": 420,
       "width": 420
      }
     },
     "output_type": "display_data"
    }
   ],
   "source": [
    "# Plot histogram, compare with the theoretical Gamma pdf \n",
    "options(repr.plot.width=7,repr.plot.height=7)\n",
    "hist(Sim.lambda.prior,freq=FALSE,col=\"LightGreen\",xlab=expression(lambda),ylim=c(0,30),breaks=25)\n",
    "v<-seq(0,max(Sim.lambda.prior),length=1000)\n",
    "lines(v,dgamma(v,shape=prior.a,rate=prior.b),lwd=2.5,col=\"blue\")"
   ]
  },
  {
   "cell_type": "markdown",
   "metadata": {},
   "source": [
    "# A.2. Simulate from the prior predictive pdf"
   ]
  },
  {
   "cell_type": "markdown",
   "metadata": {},
   "source": [
    "The prior predictive joint pdf, for an $ n$-sample, is:\n",
    "\n",
    "$$\n",
    "f(y_{1},\\dots,y_{n})=\\dfrac{\\Gamma(\\alpha+n)}{\\Gamma(\\alpha)}\n",
    "    \\cdot\\dfrac{\\beta^{\\alpha}}{(n\\,\\overline{y}+\\beta)^{\\alpha+n}},\\mskip20mu\n",
    "        y_{1}>0,\\dots,y_{n}>0.\n",
    "$$"
   ]
  },
  {
   "cell_type": "markdown",
   "metadata": {},
   "source": [
    "We can use it for $ n=1$, to check a single observation from this distribution,\n",
    "\n",
    "$$\n",
    "f(y)=\\dfrac{\\Gamma(\\alpha+1)}{\\Gamma(\\alpha)}\n",
    "    \\cdot\\dfrac{\\beta^{\\alpha}}{(y+\\beta)^{\\alpha+1}}\n",
    "    =\\alpha\\cdot\\dfrac{\\beta^{\\alpha}}{(y+\\beta)^{\\alpha+1}},\\mskip20mu y>0.\n",
    "$$"
   ]
  },
  {
   "cell_type": "markdown",
   "metadata": {},
   "source": [
    "In this case the predictive distribution is a [Pareto II (Lomax)](https://en.wikipedia.org/wiki/Lomax_distribution). The expectation is:\n",
    "\n",
    "$$\n",
    "    \\operatorname{E}(Y)=\\dfrac{\\beta}{\\alpha-1},\\mskip20mu\\alpha>1,\\mskip30mu\n",
    "    \\operatorname{var}(Y)=\\dfrac{\\beta^{2}\\,\\alpha}{(\\alpha-1)^{2}\\,(\\alpha-2)},\\mskip20mu \\alpha>2,\n",
    "$$\n",
    "\n",
    "The Lomax distribution is a special case of the [generalized Pareto distribution](https://en.wikipedia.org/wiki/Generalized_Pareto_distribution). \n",
    "\n",
    "$$\n",
    "    f_{(\\mu,\\sigma,\\xi)}(y)=\\dfrac{1}{\\sigma}\n",
    "    \\left(1+\\dfrac{\\xi\\,(y-\\mu)}{\\sigma }\\right)^{\\left(-{\\frac {1}{\\xi}}-1\\right)},\n",
    "$$\n",
    "\n",
    "where the support is  $ y\\geq\\mu$ when $\\xi\\geq0$, and $\\mu\\leq y\\leq\\mu-\\sigma/\\xi$ when  $\\xi<0$. Specifically:\n",
    "\n",
    "$$\n",
    "    \\mu =0,\\mskip20mu \\xi =\\dfrac{1}{\\alpha},\\mskip20mu \\sigma=\\dfrac{\\beta}{\\alpha}.\n",
    "$$"
   ]
  },
  {
   "cell_type": "code",
   "execution_count": 5,
   "metadata": {},
   "outputs": [],
   "source": [
    "Theor.pred.pdf<-function(y,a,b){return(ifelse(y>0,a*b^{a}/(y+b)^(a+1),0))}"
   ]
  },
  {
   "cell_type": "code",
   "execution_count": 6,
   "metadata": {},
   "outputs": [],
   "source": [
    "# Simulate from the prior predictive. Likelihood is exponential with parameter lambda\n",
    "Sim.y<-rexp(N,rate=Sim.lambda.prior)"
   ]
  },
  {
   "cell_type": "code",
   "execution_count": 7,
   "metadata": {},
   "outputs": [
    {
     "name": "stdout",
     "output_type": "stream",
     "text": [
      " num [1:10000] 93.97 161.81 494.68 5.22 1.97 ...\n"
     ]
    },
    {
     "data": {
      "text/plain": [
       "    Min.  1st Qu.   Median     Mean  3rd Qu.     Max. \n",
       "     0.0     10.3     29.8    319.7     90.3 581275.5 "
      ]
     },
     "metadata": {},
     "output_type": "display_data"
    },
    {
     "data": {
      "text/html": [
       "<style>\n",
       ".dl-inline {width: auto; margin:0; padding: 0}\n",
       ".dl-inline>dt, .dl-inline>dd {float: none; width: auto; display: inline-block}\n",
       ".dl-inline>dt::after {content: \":\\0020\"; padding-right: .5ex}\n",
       ".dl-inline>dt:not(:first-of-type) {padding-left: .5ex}\n",
       "</style><dl class=dl-inline><dt>5%</dt><dd>1.66</dd><dt>10%</dt><dd>3.4</dd><dt>20%</dt><dd>7.81</dd><dt>30%</dt><dd>13.2</dd><dt>40%</dt><dd>20.22</dd><dt>50%</dt><dd>29.84</dd><dt>60%</dt><dd>44.91</dd><dt>70%</dt><dd>70.98</dd><dt>80%</dt><dd>123.92</dd><dt>90%</dt><dd>276.45</dd></dl>\n"
      ],
      "text/latex": [
       "\\begin{description*}\n",
       "\\item[5\\textbackslash{}\\%] 1.66\n",
       "\\item[10\\textbackslash{}\\%] 3.4\n",
       "\\item[20\\textbackslash{}\\%] 7.81\n",
       "\\item[30\\textbackslash{}\\%] 13.2\n",
       "\\item[40\\textbackslash{}\\%] 20.22\n",
       "\\item[50\\textbackslash{}\\%] 29.84\n",
       "\\item[60\\textbackslash{}\\%] 44.91\n",
       "\\item[70\\textbackslash{}\\%] 70.98\n",
       "\\item[80\\textbackslash{}\\%] 123.92\n",
       "\\item[90\\textbackslash{}\\%] 276.45\n",
       "\\end{description*}\n"
      ],
      "text/markdown": [
       "5%\n",
       ":   1.6610%\n",
       ":   3.420%\n",
       ":   7.8130%\n",
       ":   13.240%\n",
       ":   20.2250%\n",
       ":   29.8460%\n",
       ":   44.9170%\n",
       ":   70.9880%\n",
       ":   123.9290%\n",
       ":   276.45\n",
       "\n"
      ],
      "text/plain": [
       "    5%    10%    20%    30%    40%    50%    60%    70%    80%    90% \n",
       "  1.66   3.40   7.81  13.20  20.22  29.84  44.91  70.98 123.92 276.45 "
      ]
     },
     "metadata": {},
     "output_type": "display_data"
    },
    {
     "data": {
      "text/html": [
       "276.45"
      ],
      "text/latex": [
       "276.45"
      ],
      "text/markdown": [
       "276.45"
      ],
      "text/plain": [
       "[1] 276.45"
      ]
     },
     "metadata": {},
     "output_type": "display_data"
    },
    {
     "name": "stdout",
     "output_type": "stream",
     "text": [
      " num [1:9000] 93.97 161.81 5.22 1.97 30.84 ...\n"
     ]
    }
   ],
   "source": [
    "str(Sim.y)\n",
    "summary(Sim.y)\n",
    "q.Sim.y<-quantile(Sim.y,c(0.05,0.1,0.2,0.3,0.4,0.5,0.6,0.7,0.8,0.9))\n",
    "round(q.Sim.y,2)\n",
    "ymax<-max(q.Sim.y)\n",
    "round(ymax,2)\n",
    "Sim.y.trunc<-Sim.y[Sim.y<ymax]  # truncate in order to be able to plot the histogram\n",
    "str(Sim.y.trunc)"
   ]
  },
  {
   "cell_type": "markdown",
   "metadata": {},
   "source": [
    "#### There is no theoretical expectation nor variance, as `prior.a=1`"
   ]
  },
  {
   "cell_type": "code",
   "execution_count": 8,
   "metadata": {
    "tags": []
   },
   "outputs": [
    {
     "data": {
      "image/png": "[encoded data removed]",
      "text/plain": [
       "Plot with title \"Histogram of Sim.y.trunc\""
      ]
     },
     "metadata": {
      "image/png": {
       "height": 420,
       "width": 420
      }
     },
     "output_type": "display_data"
    }
   ],
   "source": [
    "# Plot histogram, \n",
    "options(repr.plot.width=7,repr.plot.height=7)\n",
    "ymax<-max(q.Sim.y)\n",
    "u<-seq(0,ymax,length=1000)\n",
    "yu<-Theor.pred.pdf(u,a=prior.a,b=prior.b)\n",
    "hist(Sim.y.trunc,freq=FALSE,col=\"LightGreen\",breaks=c(min(Sim.y.trunc),q.Sim.y,max(Sim.y.trunc)),\n",
    "     ylim=c(0,0.040),xlab=\"Posterior y\",cex.lab=1.5,cex.main=1.6)\n",
    "lines(u,yu,lwd=2.5,col=\"DarkGreen\")"
   ]
  },
  {
   "cell_type": "markdown",
   "metadata": {},
   "source": [
    "# A.3. Simulate from the posterior pdf"
   ]
  },
  {
   "cell_type": "code",
   "execution_count": 9,
   "metadata": {},
   "outputs": [
    {
     "data": {
      "text/html": [
       "45"
      ],
      "text/latex": [
       "45"
      ],
      "text/markdown": [
       "45"
      ],
      "text/plain": [
       "[1] 45"
      ]
     },
     "metadata": {},
     "output_type": "display_data"
    }
   ],
   "source": [
    "y<-c(16, 8, 114, 60, 4, 23, 30, 105)\n",
    "n<-length(y)\n",
    "ybar<-mean(y)\n",
    "round(ybar,2)\n",
    "nybar<-sum(y)"
   ]
  },
  {
   "cell_type": "markdown",
   "metadata": {},
   "source": [
    "Posterior pdf is $ \\lambda\\sim\\operatorname{Gamma}(\\alpha',\\beta')$,\n",
    "\n",
    "$$\n",
    "    \\left\\{\n",
    "    \\begin{array}{lcl}\n",
    "    \\alpha'&=&\\alpha+n,\\\\[0.2cm]\n",
    "    \\beta'&=&\\beta+n\\,\\overline{y}.\n",
    "    \\end{array}\\right.\n",
    "$$"
   ]
  },
  {
   "cell_type": "code",
   "execution_count": 10,
   "metadata": {},
   "outputs": [
    {
     "data": {
      "text/html": [
       "9"
      ],
      "text/latex": [
       "9"
      ],
      "text/markdown": [
       "9"
      ],
      "text/plain": [
       "[1] 9"
      ]
     },
     "metadata": {},
     "output_type": "display_data"
    },
    {
     "data": {
      "text/html": [
       "390"
      ],
      "text/latex": [
       "390"
      ],
      "text/markdown": [
       "390"
      ],
      "text/plain": [
       "[1] 390"
      ]
     },
     "metadata": {},
     "output_type": "display_data"
    }
   ],
   "source": [
    "post.a<-prior.a+n\n",
    "post.b<-prior.b+nybar\n",
    "post.a\n",
    "post.b"
   ]
  },
  {
   "cell_type": "code",
   "execution_count": 11,
   "metadata": {},
   "outputs": [
    {
     "data": {
      "text/html": [
       "0.0231"
      ],
      "text/latex": [
       "0.0231"
      ],
      "text/markdown": [
       "0.0231"
      ],
      "text/plain": [
       "[1] 0.0231"
      ]
     },
     "metadata": {},
     "output_type": "display_data"
    },
    {
     "data": {
      "text/html": [
       "0.0205"
      ],
      "text/latex": [
       "0.0205"
      ],
      "text/markdown": [
       "0.0205"
      ],
      "text/plain": [
       "[1] 0.0205"
      ]
     },
     "metadata": {},
     "output_type": "display_data"
    },
    {
     "data": {
      "text/html": [
       "5.9e-05"
      ],
      "text/latex": [
       "5.9e-05"
      ],
      "text/markdown": [
       "5.9e-05"
      ],
      "text/plain": [
       "[1] 5.9e-05"
      ]
     },
     "metadata": {},
     "output_type": "display_data"
    },
    {
     "data": {
      "text/html": [
       "0.0077"
      ],
      "text/latex": [
       "0.0077"
      ],
      "text/markdown": [
       "0.0077"
      ],
      "text/plain": [
       "[1] 0.0077"
      ]
     },
     "metadata": {},
     "output_type": "display_data"
    }
   ],
   "source": [
    "Theor.lambda.post.mean<-post.a/post.b\n",
    "Theor.lambda.post.mode<-(post.a-1)/post.b  # For alpha>1, 0 for alpha=1.\n",
    "Theor.lambda.post.var<-post.a/post.b^2\n",
    "Theor.lambda.post.sd<-sqrt(Theor.lambda.post.var)\n",
    "round(Theor.lambda.post.mean,4)\n",
    "round(Theor.lambda.post.mode,4)\n",
    "round(Theor.lambda.post.var,6)\n",
    "round(Theor.lambda.post.sd,4)"
   ]
  },
  {
   "cell_type": "code",
   "execution_count": 12,
   "metadata": {},
   "outputs": [],
   "source": [
    "N1<-10000 \n",
    "Sim.lambda.post<-rgamma(N1,post.a,post.b)"
   ]
  },
  {
   "cell_type": "markdown",
   "metadata": {},
   "source": [
    "Well understood, this is _not_ an actual posterior sample, it is a sample from the distribution we _know_ will be the posterior, from the theory of conjugate pairs."
   ]
  },
  {
   "cell_type": "code",
   "execution_count": 13,
   "metadata": {},
   "outputs": [
    {
     "data": {
      "image/png": "[encoded data removed]",
      "text/plain": [
       "Plot with title \"Histogram of Sim.lambda.post\""
      ]
     },
     "metadata": {
      "image/png": {
       "height": 420,
       "width": 420
      }
     },
     "output_type": "display_data"
    }
   ],
   "source": [
    "# Plot histogram, superimpose the Gamma pdf \n",
    "options(repr.plot.width=7,repr.plot.height=7)\n",
    "v<-seq(0,max(Sim.lambda.post),length=1000)\n",
    "yv<-dgamma(v,shape=post.a,rate=post.b)\n",
    "max.yv<-max(yv)\n",
    "hist(Sim.lambda.post,freq=FALSE,col=\"LightGreen\",xlab=expression(lambda),ylim=c(0,max.yv*1.1),breaks=25)\n",
    "lines(v,yv,lwd=2.5,col=\"blue\")"
   ]
  },
  {
   "cell_type": "markdown",
   "metadata": {},
   "source": [
    "# A.4. Simulate from the posterior predictive pdf"
   ]
  },
  {
   "cell_type": "code",
   "execution_count": 15,
   "metadata": {},
   "outputs": [],
   "source": [
    "# Simulate from the prior predictive. Likelihood is exponential with parameter lambda\n",
    "N2<-N1\n",
    "Sim.y.pred<-rexp(N2,rate=Sim.lambda.post)"
   ]
  },
  {
   "cell_type": "code",
   "execution_count": 16,
   "metadata": {},
   "outputs": [
    {
     "name": "stdout",
     "output_type": "stream",
     "text": [
      " num [1:10000] 93.97 161.81 494.68 5.22 1.97 ...\n"
     ]
    },
    {
     "data": {
      "text/plain": [
       "   Min. 1st Qu.  Median    Mean 3rd Qu.    Max. \n",
       "   0.00   12.92   31.82   48.74   64.58  810.84 "
      ]
     },
     "metadata": {},
     "output_type": "display_data"
    },
    {
     "data": {
      "text/html": [
       "<style>\n",
       ".dl-inline {width: auto; margin:0; padding: 0}\n",
       ".dl-inline>dt, .dl-inline>dd {float: none; width: auto; display: inline-block}\n",
       ".dl-inline>dt::after {content: \":\\0020\"; padding-right: .5ex}\n",
       ".dl-inline>dt:not(:first-of-type) {padding-left: .5ex}\n",
       "</style><dl class=dl-inline><dt>5%</dt><dd>2.08</dd><dt>10%</dt><dd>4.49</dd><dt>20%</dt><dd>9.96</dd><dt>30%</dt><dd>16.04</dd><dt>40%</dt><dd>23.04</dd><dt>50%</dt><dd>31.82</dd><dt>60%</dt><dd>42.55</dd><dt>70%</dt><dd>55.96</dd><dt>80%</dt><dd>76.66</dd><dt>90%</dt><dd>112.45</dd></dl>\n"
      ],
      "text/latex": [
       "\\begin{description*}\n",
       "\\item[5\\textbackslash{}\\%] 2.08\n",
       "\\item[10\\textbackslash{}\\%] 4.49\n",
       "\\item[20\\textbackslash{}\\%] 9.96\n",
       "\\item[30\\textbackslash{}\\%] 16.04\n",
       "\\item[40\\textbackslash{}\\%] 23.04\n",
       "\\item[50\\textbackslash{}\\%] 31.82\n",
       "\\item[60\\textbackslash{}\\%] 42.55\n",
       "\\item[70\\textbackslash{}\\%] 55.96\n",
       "\\item[80\\textbackslash{}\\%] 76.66\n",
       "\\item[90\\textbackslash{}\\%] 112.45\n",
       "\\end{description*}\n"
      ],
      "text/markdown": [
       "5%\n",
       ":   2.0810%\n",
       ":   4.4920%\n",
       ":   9.9630%\n",
       ":   16.0440%\n",
       ":   23.0450%\n",
       ":   31.8260%\n",
       ":   42.5570%\n",
       ":   55.9680%\n",
       ":   76.6690%\n",
       ":   112.45\n",
       "\n"
      ],
      "text/plain": [
       "    5%    10%    20%    30%    40%    50%    60%    70%    80%    90% \n",
       "  2.08   4.49   9.96  16.04  23.04  31.82  42.55  55.96  76.66 112.45 "
      ]
     },
     "metadata": {},
     "output_type": "display_data"
    },
    {
     "data": {
      "text/html": [
       "112.45"
      ],
      "text/latex": [
       "112.45"
      ],
      "text/markdown": [
       "112.45"
      ],
      "text/plain": [
       "[1] 112.45"
      ]
     },
     "metadata": {},
     "output_type": "display_data"
    },
    {
     "name": "stdout",
     "output_type": "stream",
     "text": [
      " num [1:9000] 22.6 20 36.9 19.5 11.6 ...\n"
     ]
    }
   ],
   "source": [
    "str(Sim.y)\n",
    "summary(Sim.y.pred)\n",
    "q.Sim.y.pred<-quantile(Sim.y.pred,c(0.05,0.1,0.2,0.3,0.4,0.5,0.6,0.7,0.8,0.9))\n",
    "round(q.Sim.y.pred,2)\n",
    "ymax<-max(q.Sim.y.pred)\n",
    "round(ymax,2)\n",
    "Sim.y.pred.trunc<-Sim.y.pred[Sim.y.pred<ymax]  # truncate in order to be able to plot the histogram\n",
    "str(Sim.y.pred.trunc)"
   ]
  },
  {
   "cell_type": "code",
   "execution_count": 17,
   "metadata": {},
   "outputs": [
    {
     "data": {
      "text/html": [
       "48.75"
      ],
      "text/latex": [
       "48.75"
      ],
      "text/markdown": [
       "48.75"
      ],
      "text/plain": [
       "[1] 48.75"
      ]
     },
     "metadata": {},
     "output_type": "display_data"
    },
    {
     "data": {
      "text/html": [
       "3055.58"
      ],
      "text/latex": [
       "3055.58"
      ],
      "text/markdown": [
       "3055.58"
      ],
      "text/plain": [
       "[1] 3055.58"
      ]
     },
     "metadata": {},
     "output_type": "display_data"
    },
    {
     "data": {
      "text/html": [
       "55.277"
      ],
      "text/latex": [
       "55.277"
      ],
      "text/markdown": [
       "55.277"
      ],
      "text/plain": [
       "[1] 55.277"
      ]
     },
     "metadata": {},
     "output_type": "display_data"
    }
   ],
   "source": [
    "Theor.post.E.y<-post.b/(post.a-1)\n",
    "Theor.post.var.y<-post.b^2*post.a/((post.a-1)^2*(post.a-2))\n",
    "Theor.post.sd.y<-sqrt(Theor.post.var.y)\n",
    "round(Theor.post.E.y,3)\n",
    "round(Theor.post.var.y,3)\n",
    "round(Theor.post.sd.y,3)"
   ]
  },
  {
   "cell_type": "code",
   "execution_count": 18,
   "metadata": {
    "tags": []
   },
   "outputs": [
    {
     "data": {
      "image/png": "[encoded data removed]",
      "text/plain": [
       "Plot with title \"Histogram of Sim.y.pred.trunc\""
      ]
     },
     "metadata": {
      "image/png": {
       "height": 420,
       "width": 420
      }
     },
     "output_type": "display_data"
    }
   ],
   "source": [
    "# Plot histogram, \n",
    "options(repr.plot.width=7,repr.plot.height=7)\n",
    "u<-seq(0,ymax,length=1000)\n",
    "yu<-Theor.pred.pdf(u,a=post.a,b=post.b)\n",
    "ymax<-max(yu)\n",
    "hist(Sim.y.pred.trunc,freq=FALSE,col=\"LightGreen\",\n",
    "     breaks=c(min(Sim.y.pred.trunc),q.Sim.y.pred,max(Sim.y.pred.trunc)),ylim=c(0,ymax*1.1))\n",
    "lines(u,yu,lwd=2.5,col=\"DarkGreen\")"
   ]
  }
 ],
 "metadata": {
  "kernelspec": {
   "display_name": "R",
   "language": "R",
   "name": "ir"
  },
  "language_info": {
   "codemirror_mode": "r",
   "file_extension": ".r",
   "mimetype": "text/x-r-source",
   "name": "R",
   "pygments_lexer": "r",
   "version": "4.2.2"
  }
 },
 "nbformat": 4,
 "nbformat_minor": 4
}
