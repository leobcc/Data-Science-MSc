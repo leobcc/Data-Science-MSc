{
 "cells": [
  {
   "cell_type": "markdown",
   "metadata": {
    "tags": []
   },
   "source": [
    "# GLM 01 - Logistic regression - Challenger data"
   ]
  },
  {
   "cell_type": "markdown",
   "metadata": {},
   "source": [
    "# _Josep Fortiana_  &emsp;&emsp;&emsp;&emsp;&emsp; 2023-05-22"
   ]
  },
  {
   "cell_type": "markdown",
   "metadata": {},
   "source": [
    "***\n",
    "###### LaTeX macros\n",
    "$\\def\\prob{P}$\n",
    "$\\def\\argmax{\\operatorname{arg\\,max}}$\n",
    "$\\def\\argmin{\\operatorname{arg\\,min}}$\n",
    "$\\def\\borel{\\operatorname{Borel}}$\n",
    "$\\def\\cE{\\cal E}$\n",
    "$\\def\\cP{\\cal P}$\n",
    "$\\def\\R{\\mathbb{R}}$ \n",
    "$\\def\\N{\\mathbb{N}}$\n",
    "$\\def\\Z{\\mathbb{Z}}$\n",
    "$\\def\\Ee{\\operatorname{E}}$\n",
    "$\\def\\va{\\text{v.a.}}$\n",
    "$\\def\\var{\\operatorname{var}}$\n",
    "$\\def\\Var{\\operatorname{Var}}$\n",
    "$\\def\\cov{\\operatorname{cov}}$\n",
    "$\\def\\cor{\\operatorname{cor}}$\n",
    "$\\def\\binomdist{\\operatorname{Binomial}}$\n",
    "$\\def\\berndist{\\operatorname{Bernoulli}}$\n",
    "$\\def\\betabinomdist{\\operatorname{Beta-Binomial}}$\n",
    "$\\def\\betadist{\\operatorname{Beta}}$\n",
    "$\\def\\cauchydist{\\operatorname{Cauchy}}$\n",
    "$\\def\\expdist{\\operatorname{Exponential}}$\n",
    "$\\def\\fdist{\\operatorname{F}}$\n",
    "$\\def\\gammadist{\\operatorname{Gamma}}$\n",
    "$\\def\\hyperdist{\\operatorname{Hypergeom}}$\n",
    "$\\def\\hypergeomdist{\\operatorname{Hypergeom}}$\n",
    "$\\def\\indep{\\perp{\\mskip-16mu}\\perp}$\n",
    "$\\DeclareMathOperator{\\invgammadist}{IG}$\n",
    "$\\DeclareMathOperator{\\multinomialdist}{Multinomial}$\n",
    "$\\DeclareMathOperator{\\multinomdist}{Multinomial}$\n",
    "$\\def\\poissondist{\\operatorname{Poisson}}$\n",
    "$\\def\\geomdist{\\operatorname{Geom}}$\n",
    "$\\def\\normaldist{\\operatorname{Normal}}$\n",
    "$\\def\\unifdist{\\operatorname{Uniform}}$\n",
    "$\\def\\xbar{\\kern1.3pt\\overline{\\kern-1.3pt x}}$\n",
    "$\\def\\Xbar{\\kern1.3pt\\overline{\\kern-1.3pt X}}$\n",
    "$\\def\\yhat{\\kern1.3pt\\hat{\\kern-1.3pt y}}$\n",
    "$\\def\\betahat{\\kern1.3pt\\hat{\\kern-1.3pt \\beta}}$\n",
    "$\\DeclareMathOperator{\\indica}{\\mathbb{1}}$\n",
    "$\\def\\CondTo{\\mathbin{|\\mskip0.5mu}}$\n",
    "$\\def\\eqdef{\\stackrel{\\text{def}}{\\mskip3mu=\\mskip3mu}}$\n",
    "***"
   ]
  },
  {
   "cell_type": "markdown",
   "metadata": {},
   "source": [
    "# Challenger data"
   ]
  },
  {
   "cell_type": "markdown",
   "metadata": {},
   "source": [
    "Robert, Casella (2010), _Introducing Monte Carlo Methods with R,_ Exercise 6.13, Chapter 6 and Example 7.11, Chapter 7.\n",
    "\n",
    "In 1986, the space shuttle _Challenger_ exploded during takeoff, killing the seven astronauts aboard. \n",
    "\n",
    "The explosion was the result of an O-ring failure, a splitting of a ring of rubber that seals the parts of the ship together.\n",
    "\n",
    "The accident was believed to have been caused by the unusually cold weather ($31^{o}$F or $0^{o}C$) at the time of launch, as there is reason to believe that the O-ring failure probabilities increase as temperature decreases. \n",
    "\n",
    "Data on previous space shuttle launches and O-ring failures is given in the dataset `challenger` provided with the `mcsm` package. The first column corresponds to the failure indicators $y_{i}$ and the second column to the corresponding temperature $x_{i}$ ($1\\leq i \\leq 23$)."
   ]
  },
  {
   "cell_type": "raw",
   "metadata": {},
   "source": [
    "#install.packages(\"mcsm\",dependencies=TRUE,repos=\"https://cloud.r-project.org\")\n",
    "require(mcsm)\n",
    "data(challenger)\n",
    "str(challenger)\n",
    "y<-challenger$oring\n",
    "x<-challenger$temp\n",
    "n<-length(y)\n",
    "print(y)\n",
    "print(x)"
   ]
  },
  {
   "cell_type": "code",
   "execution_count": 1,
   "metadata": {},
   "outputs": [],
   "source": [
    "y<-c(1,1,1,1,0,0,0,0,0,0,0,0,1,1,0,0,0,1,0,0,0,0,0)\n",
    "x<-c(53,57,58,63,66,67,67,67,68,69,70,70,70,70,72,73,75,75,76,76,78,79,81)\n",
    "n<-length(y)"
   ]
  },
  {
   "cell_type": "code",
   "execution_count": 2,
   "metadata": {},
   "outputs": [
    {
     "data": {
      "text/plain": [
       "y\n",
       " 0  1 \n",
       "16  7 "
      ]
     },
     "metadata": {},
     "output_type": "display_data"
    },
    {
     "data": {
      "text/plain": [
       "   Min. 1st Qu.  Median    Mean 3rd Qu.    Max. \n",
       "  53.00   67.00   70.00   69.57   75.00   81.00 "
      ]
     },
     "metadata": {},
     "output_type": "display_data"
    }
   ],
   "source": [
    "table(y)\n",
    "summary(x)"
   ]
  },
  {
   "cell_type": "code",
   "execution_count": 3,
   "metadata": {},
   "outputs": [
    {
     "data": {
      "text/html": [
       "0.304"
      ],
      "text/latex": [
       "0.304"
      ],
      "text/markdown": [
       "0.304"
      ],
      "text/plain": [
       "[1] 0.304"
      ]
     },
     "metadata": {},
     "output_type": "display_data"
    }
   ],
   "source": [
    "n1<-sum(y)\n",
    "f<-n1/n\n",
    "round(f,3)"
   ]
  },
  {
   "cell_type": "markdown",
   "metadata": {},
   "source": [
    "## Proportion of broken rings by temperature intervals"
   ]
  },
  {
   "cell_type": "code",
   "execution_count": 4,
   "metadata": {},
   "outputs": [
    {
     "data": {
      "text/html": [
       "<style>\n",
       ".list-inline {list-style: none; margin:0; padding: 0}\n",
       ".list-inline>li {display: inline-block}\n",
       ".list-inline>li:not(:last-child)::after {content: \"\\00b7\"; padding: 0 .5ex}\n",
       "</style>\n",
       "<ol class=list-inline><li>3</li><li>3</li><li>1</li><li>0</li></ol>\n"
      ],
      "text/latex": [
       "\\begin{enumerate*}\n",
       "\\item 3\n",
       "\\item 3\n",
       "\\item 1\n",
       "\\item 0\n",
       "\\end{enumerate*}\n"
      ],
      "text/markdown": [
       "1. 3\n",
       "2. 3\n",
       "3. 1\n",
       "4. 0\n",
       "\n",
       "\n"
      ],
      "text/plain": [
       "[1] 3 3 1 0"
      ]
     },
     "metadata": {},
     "output_type": "display_data"
    },
    {
     "data": {
      "text/html": [
       "<style>\n",
       ".list-inline {list-style: none; margin:0; padding: 0}\n",
       ".list-inline>li {display: inline-block}\n",
       ".list-inline>li:not(:last-child)::after {content: \"\\00b7\"; padding: 0 .5ex}\n",
       "</style>\n",
       "<ol class=list-inline><li>3</li><li>11</li><li>9</li><li>0</li></ol>\n"
      ],
      "text/latex": [
       "\\begin{enumerate*}\n",
       "\\item 3\n",
       "\\item 11\n",
       "\\item 9\n",
       "\\item 0\n",
       "\\end{enumerate*}\n"
      ],
      "text/markdown": [
       "1. 3\n",
       "2. 11\n",
       "3. 9\n",
       "4. 0\n",
       "\n",
       "\n"
      ],
      "text/plain": [
       "[1]  3 11  9  0"
      ]
     },
     "metadata": {},
     "output_type": "display_data"
    }
   ],
   "source": [
    "x.min<-min(x)\n",
    "x.max<-max(x)\n",
    "mm<-4\n",
    "x.intervals<-seq(x.min,x.max,length=mm)\n",
    "#str(x.intervals)\n",
    "x.int.lower<-x.intervals[-mm]\n",
    "x.int.upper<-x.intervals[-1]\n",
    "ni<-rep(0,mm)\n",
    "Fi<-rep(0,mm)\n",
    "for (i in 1:mm){\n",
    "    Idx.i<-which((x.int.lower[i]<=x)&(x<=x.int.upper[i]))\n",
    "    ni[i]<-length(Idx.i)\n",
    "    Fi[i]<-sum(y[Idx.i])\n",
    "}\n",
    "Fi\n",
    "ni"
   ]
  },
  {
   "cell_type": "code",
   "execution_count": 5,
   "metadata": {},
   "outputs": [
    {
     "data": {
      "text/html": [
       "<style>\n",
       ".list-inline {list-style: none; margin:0; padding: 0}\n",
       ".list-inline>li {display: inline-block}\n",
       ".list-inline>li:not(:last-child)::after {content: \"\\00b7\"; padding: 0 .5ex}\n",
       "</style>\n",
       "<ol class=list-inline><li>1</li><li>0.27</li><li>0.11</li><li>0</li></ol>\n"
      ],
      "text/latex": [
       "\\begin{enumerate*}\n",
       "\\item 1\n",
       "\\item 0.27\n",
       "\\item 0.11\n",
       "\\item 0\n",
       "\\end{enumerate*}\n"
      ],
      "text/markdown": [
       "1. 1\n",
       "2. 0.27\n",
       "3. 0.11\n",
       "4. 0\n",
       "\n",
       "\n"
      ],
      "text/plain": [
       "[1] 1.00 0.27 0.11 0.00"
      ]
     },
     "metadata": {},
     "output_type": "display_data"
    },
    {
     "data": {
      "image/png": "[encoded data removed]",
      "text/plain": [
       "Plot with title \"Proportion of broken rings as a function of temperature\""
      ]
     },
     "metadata": {
      "image/png": {
       "height": 270,
       "width": 540
      }
     },
     "output_type": "display_data"
    }
   ],
   "source": [
    "fi<-ifelse(ni==0,0,Fi/ni)\n",
    "round(fi,2)\n",
    "yi<-round(rep(fi,ni),2)\n",
    "options(repr.plot.width=9.0,repr.plot.height=4.5)\n",
    "plot(x,yi,pch=19,col=\"blue\",cex=1.2,xlab=\"Deg. F\",ylim=c(-0.02,1.02),ylab=\"Proportion\",\n",
    "     main=\"Proportion of broken rings as a function of temperature\")"
   ]
  },
  {
   "cell_type": "markdown",
   "metadata": {},
   "source": [
    "# 1. Frequentist logistic regression"
   ]
  },
  {
   "cell_type": "markdown",
   "metadata": {},
   "source": [
    "$$\n",
    "\t\\operatorname{P}(Y_{i} = 1\\,|\\,x_{i}) \\equiv p(x_{i}) =\\operatorname{Logistic}(\\alpha+\\beta\\,x_{i})\n",
    "\t=\\dfrac{\\exp(\\alpha+\\beta\\,x_{i})}{1+\\exp(\\alpha+\\beta\\,x_{i})},\n",
    "$$\n",
    "\n",
    "using the `glm` function in the `stats` package, obtaining the classic MLE's for $\\alpha$ and $\\beta$, along with their standard errors."
   ]
  },
  {
   "cell_type": "markdown",
   "metadata": {},
   "source": [
    "$$\n",
    "    Y_{i}\\sim\\operatorname{Bernoulli}(p_{i}),\\mskip30mu\\text{where }p_{i}\\equiv \n",
    "    p(x_{i})=\\operatorname{Logistic}(a+b\\,x_{i}),\\mskip30mu 1\\leq i\\leq n.\n",
    "$$\n",
    "\n",
    "According to the model these observations are assumed to be independent, but they are NOT identically distributed: each Bernoulli observation has its own probability parameter, a linear function of the corresponding $x_{i}$. The ikelihood function is the product of $n$ factors, one for each observation:\n",
    "\n",
    "$$\n",
    "    \\cal{L}(a,b,\\mathbf{y})=\\prod_{i=1}^{n}\\cal{L}_{i},\\mskip30mu\\operatorname{ where }\\mskip8mu\n",
    "    \\cal{L}_{i}\\equiv\\cal{L}_{i}(a,b,y_{i})=p_{i}^{y_{i}}\\cdot(1-p_{i})^{(1-y_{i})},\\mskip30mu 1\\leq i\\leq n.\n",
    "$$\n",
    "\n",
    "The log-likelihood is:\n",
    "\n",
    "$$\n",
    "    \\ell=\\log\\cal{L}(a,b,\\mathbf{y})=\\sum_{i=1}^{n}\n",
    "    \\left[y_{i}\\cdot\\log p_{i}+(1-y_{i})\\cdot\\log (1-p_{i})\\right],\\mskip30mu\\operatorname{where }\\mskip8mu\n",
    "    p_{i}\\equiv p(x_{i})=\\operatorname{Logistic}(a+b\\,x_{i}).\n",
    "$$\n",
    "\n",
    "In the classical approach we find the ML estimates $\\hat{a}$ and $\\hat{b}$ of parameters $a$ and $b$.  With them we have the ML estimate $\\hat{p}$ of $p$.\n",
    "\n",
    "The _deviance_ is:\n",
    "\n",
    "$$\n",
    "    D=-2\\cdot\\log\\cal{L}.\n",
    "$$"
   ]
  },
  {
   "cell_type": "markdown",
   "metadata": {},
   "source": [
    "In the (over)simplified _null model_ with $b=0$, observations are i.i.d., with $p_{i}=p$, $1\\leq i\\leq n$, and the ML estimator of $p$ is the relative frequency:\n",
    "\n",
    "$$\n",
    "    \\hat{p}_{0}=f=\\frac{n_{1}}{n}=0.304.\n",
    "$$\n",
    "\n",
    "\n",
    "For this null model, the deviance is:\n",
    "\n",
    "$$\n",
    "    D_{0}=-2\\cdot\\log\\cal{L}_{0}=28.267.\n",
    "$$\n",
    "\n",
    "The complete model, with $a$ and $b$, is fitted with the `glm` function. See the listing. Notice, in particular, how the deviance decreases, from the $D_{0}$ value to the fitted model value  $D=20.315$."
   ]
  },
  {
   "cell_type": "code",
   "execution_count": 6,
   "metadata": {},
   "outputs": [],
   "source": [
    "#\n",
    "# The logistic function and its inverse, the logit function (naive version)\n",
    "# A more robust, overflow/underflow- concerned version is advisable.\n",
    "#\n",
    "Logistic<-function(z){exp(z)/(1+exp(z))}\n",
    "logit<-function(t){log(t/(1-t))}"
   ]
  },
  {
   "cell_type": "markdown",
   "metadata": {},
   "source": [
    "### ML estimation of alpha in the null model (with only the intercept term, and `beta`=0)"
   ]
  },
  {
   "cell_type": "code",
   "execution_count": 7,
   "metadata": {},
   "outputs": [
    {
     "data": {
      "text/html": [
       "-0.827"
      ],
      "text/latex": [
       "-0.827"
      ],
      "text/markdown": [
       "-0.827"
      ],
      "text/plain": [
       "[1] -0.827"
      ]
     },
     "metadata": {},
     "output_type": "display_data"
    }
   ],
   "source": [
    "a0.hat<-logit(f)\n",
    "round(a0.hat,3)"
   ]
  },
  {
   "cell_type": "code",
   "execution_count": 8,
   "metadata": {},
   "outputs": [],
   "source": [
    "#\n",
    "# Likelihood function \n",
    "#\n",
    "Lik<-function(a,b){\n",
    "    p<-Logistic(a+b*x)\n",
    "    return(prod(p^y*(1-p)^(1-y)))\n",
    "    }\n",
    "#\n",
    "# Log-Likelihood function - Naive version, using the literal definition of Logistic\n",
    "#\n",
    "LogLik.0<-function(a,b){\n",
    "    eta<-a+b*x\n",
    "    logp<- eta-log(1+exp(eta))\n",
    "    logq<- -log(1+exp(eta))\n",
    "    LL<-sum(logp[y==1])+sum(logq[y==0])\n",
    "    return(LL)\n",
    "    }\n",
    "#\n",
    "# Log-Likelihood function - Numerically aware version, borrowed from the mcmc package demo.\n",
    "# Here the log1p function, defined as log1p(x)=log(1+x), is used.\n",
    "#\n",
    "LogLik.1<- function(a,b){\n",
    "    eta<-a+b*x\n",
    "    logp<-ifelse(eta < 0, eta - log1p(exp(eta)), - log1p(exp(- eta)))\n",
    "    logq<-ifelse(eta < 0, - log1p(exp(eta)), - eta - log1p(exp(- eta)))\n",
    "    LL  <-sum(logp[y == 1]) + sum(logq[y == 0])\n",
    "    return(LL)\n",
    "    }"
   ]
  },
  {
   "cell_type": "code",
   "execution_count": 9,
   "metadata": {},
   "outputs": [
    {
     "data": {
      "text/html": [
       "28.267"
      ],
      "text/latex": [
       "28.267"
      ],
      "text/markdown": [
       "28.267"
      ],
      "text/plain": [
       "[1] 28.267"
      ]
     },
     "metadata": {},
     "output_type": "display_data"
    }
   ],
   "source": [
    "#\n",
    "# Null deviance: by definition, -2*LogLik(a0.hat,0)\n",
    "# This quantity is used for comparison with the model with b, see below.\n",
    "#\n",
    "Null.deviance<--2*LogLik.0(a0.hat,0)\n",
    "round(Null.deviance,3)"
   ]
  },
  {
   "cell_type": "markdown",
   "metadata": {},
   "source": [
    "## Frequentist logistic regression with the `glm` function"
   ]
  },
  {
   "cell_type": "code",
   "execution_count": 10,
   "metadata": {},
   "outputs": [
    {
     "data": {
      "text/plain": [
       "\n",
       "Call:\n",
       "glm(formula = y ~ x, family = binomial)\n",
       "\n",
       "Coefficients:\n",
       "            Estimate Std. Error z value Pr(>|z|)  \n",
       "(Intercept)  15.0429     7.3786   2.039   0.0415 *\n",
       "x            -0.2322     0.1082  -2.145   0.0320 *\n",
       "---\n",
       "Signif. codes:  0 '***' 0.001 '**' 0.01 '*' 0.05 '.' 0.1 ' ' 1\n",
       "\n",
       "(Dispersion parameter for binomial family taken to be 1)\n",
       "\n",
       "    Null deviance: 28.267  on 22  degrees of freedom\n",
       "Residual deviance: 20.315  on 21  degrees of freedom\n",
       "AIC: 24.315\n",
       "\n",
       "Number of Fisher Scoring iterations: 5\n"
      ]
     },
     "metadata": {},
     "output_type": "display_data"
    }
   ],
   "source": [
    "challenger.glm.01<-glm(y~x,family=binomial)\n",
    "challenger.glm.01.summary<-summary(challenger.glm.01)\n",
    "challenger.glm.01.summary"
   ]
  },
  {
   "cell_type": "code",
   "execution_count": 11,
   "metadata": {},
   "outputs": [
    {
     "data": {
      "text/html": [
       "<style>\n",
       ".dl-inline {width: auto; margin:0; padding: 0}\n",
       ".dl-inline>dt, .dl-inline>dd {float: none; width: auto; display: inline-block}\n",
       ".dl-inline>dt::after {content: \":\\0020\"; padding-right: .5ex}\n",
       ".dl-inline>dt:not(:first-of-type) {padding-left: .5ex}\n",
       "</style><dl class=dl-inline><dt>(Intercept)</dt><dd>15.043</dd><dt>x</dt><dd>-0.232</dd></dl>\n"
      ],
      "text/latex": [
       "\\begin{description*}\n",
       "\\item[(Intercept)] 15.043\n",
       "\\item[x] -0.232\n",
       "\\end{description*}\n"
      ],
      "text/markdown": [
       "(Intercept)\n",
       ":   15.043x\n",
       ":   -0.232\n",
       "\n"
      ],
      "text/plain": [
       "(Intercept)           x \n",
       "     15.043      -0.232 "
      ]
     },
     "metadata": {},
     "output_type": "display_data"
    },
    {
     "data": {
      "text/html": [
       "20.315"
      ],
      "text/latex": [
       "20.315"
      ],
      "text/markdown": [
       "20.315"
      ],
      "text/plain": [
       "[1] 20.315"
      ]
     },
     "metadata": {},
     "output_type": "display_data"
    }
   ],
   "source": [
    "# Reproduce 'by hand' the computation of the \"Residual deviance\"\n",
    "Reg.coef<-coef(challenger.glm.01)\n",
    "round(Reg.coef,3)\n",
    "Residual.deviance<--2*LogLik.0(Reg.coef[1],Reg.coef[2])\n",
    "round(Residual.deviance,3)"
   ]
  },
  {
   "cell_type": "markdown",
   "metadata": {},
   "source": [
    "#### Akaike's Information Criterion (AIC) and Bayesian Information Criterion (BIC)\n",
    "\n",
    "$$\n",
    "    \\operatorname{AIC} = -2\\cdot\\log{\\cal{L}}\\text{(fitted.model)} + k\\cdot p= \\text{Residual deviance} + k\\cdot p,\n",
    "$$\n",
    "\n",
    "Where $k=2$ and $p=$ number of parameters in the model. A related quantity is:\n",
    "\n",
    "$$\n",
    "     \\operatorname{BIC} = -2\\cdot\\log{\\cal{L}}\\text{(fitted.model)} + \\log n\\cdot p= \\text{Residual deviance}+ \\log n\\cdot p.\n",
    "$$"
   ]
  },
  {
   "cell_type": "code",
   "execution_count": 12,
   "metadata": {},
   "outputs": [
    {
     "data": {
      "text/html": [
       "24.3152"
      ],
      "text/latex": [
       "24.3152"
      ],
      "text/markdown": [
       "24.3152"
      ],
      "text/plain": [
       "[1] 24.3152"
      ]
     },
     "metadata": {},
     "output_type": "display_data"
    },
    {
     "data": {
      "text/html": [
       "26.5862"
      ],
      "text/latex": [
       "26.5862"
      ],
      "text/markdown": [
       "26.5862"
      ],
      "text/plain": [
       "[1] 26.5862"
      ]
     },
     "metadata": {},
     "output_type": "display_data"
    },
    {
     "data": {
      "text/html": [
       "24.3152"
      ],
      "text/latex": [
       "24.3152"
      ],
      "text/markdown": [
       "24.3152"
      ],
      "text/plain": [
       "[1] 24.3152"
      ]
     },
     "metadata": {},
     "output_type": "display_data"
    },
    {
     "data": {
      "text/html": [
       "26.5862"
      ],
      "text/latex": [
       "26.5862"
      ],
      "text/markdown": [
       "26.5862"
      ],
      "text/plain": [
       "[1] 26.5862"
      ]
     },
     "metadata": {},
     "output_type": "display_data"
    }
   ],
   "source": [
    "AIC.challenger.glm.01<-Residual.deviance + 2 * 2\n",
    "round(AIC.challenger.glm.01,4)\n",
    "BIC.challenger.glm.01<-Residual.deviance + log(n) * 2\n",
    "round(BIC.challenger.glm.01,4)\n",
    "# There is an AIC()  and a BIC() function\n",
    "round(AIC(challenger.glm.01),4)\n",
    "round(BIC(challenger.glm.01),4)"
   ]
  },
  {
   "cell_type": "code",
   "execution_count": 13,
   "metadata": {},
   "outputs": [
    {
     "data": {
      "text/html": [
       "<table class=\"dataframe\">\n",
       "<caption>A matrix: 2 × 2 of type dbl</caption>\n",
       "<thead>\n",
       "\t<tr><th></th><th scope=col>(Intercept)</th><th scope=col>x</th></tr>\n",
       "</thead>\n",
       "<tbody>\n",
       "\t<tr><th scope=row>(Intercept)</th><td>54.4441826</td><td>-0.79638547</td></tr>\n",
       "\t<tr><th scope=row>x</th><td>-0.7963855</td><td> 0.01171512</td></tr>\n",
       "</tbody>\n",
       "</table>\n"
      ],
      "text/latex": [
       "A matrix: 2 × 2 of type dbl\n",
       "\\begin{tabular}{r|ll}\n",
       "  & (Intercept) & x\\\\\n",
       "\\hline\n",
       "\t(Intercept) & 54.4441826 & -0.79638547\\\\\n",
       "\tx & -0.7963855 &  0.01171512\\\\\n",
       "\\end{tabular}\n"
      ],
      "text/markdown": [
       "\n",
       "A matrix: 2 × 2 of type dbl\n",
       "\n",
       "| <!--/--> | (Intercept) | x |\n",
       "|---|---|---|\n",
       "| (Intercept) | 54.4441826 | -0.79638547 |\n",
       "| x | -0.7963855 |  0.01171512 |\n",
       "\n"
      ],
      "text/plain": [
       "            (Intercept) x          \n",
       "(Intercept) 54.4441826  -0.79638547\n",
       "x           -0.7963855   0.01171512"
      ]
     },
     "metadata": {},
     "output_type": "display_data"
    }
   ],
   "source": [
    "vcov(challenger.glm.01)"
   ]
  },
  {
   "cell_type": "markdown",
   "metadata": {},
   "source": [
    "### Predicted probability of rupture as a (continuous) function of temperature"
   ]
  },
  {
   "cell_type": "code",
   "execution_count": 14,
   "metadata": {},
   "outputs": [
    {
     "data": {
      "image/png": "[encoded data removed]",
      "text/plain": [
       "Plot with title \"Predicted rupture probability as a function of temperature\""
      ]
     },
     "metadata": {
      "image/png": {
       "height": 330,
       "width": 450
      }
     },
     "output_type": "display_data"
    }
   ],
   "source": [
    "# Use 'predict' function for a grid of points on the observed temperature range\n",
    "MM<-500\n",
    "xx<-seq(x.min*0.5,x.max*1.5,length=MM)\n",
    "yy<-predict(challenger.glm.01,newdata=data.frame(x=xx),type=\"response\")\n",
    "options(repr.plot.width=7.5,repr.plot.height=5.5)\n",
    "plot(xx,yy,type=\"l\",col=\"DarkGreen\",lwd=3.0,xlab=\"Deg. F\",ylim=c(-0.02,1.02),ylab=\"Proportion\",\n",
    "    main=\"Predicted rupture probability as a function of temperature\")"
   ]
  },
  {
   "cell_type": "markdown",
   "metadata": {},
   "source": [
    "### Compare residual deviance of `glm.01` and the null model"
   ]
  },
  {
   "cell_type": "code",
   "execution_count": 15,
   "metadata": {},
   "outputs": [
    {
     "data": {
      "text/html": [
       "<table class=\"dataframe\">\n",
       "<caption>A anova: 2 × 4</caption>\n",
       "<thead>\n",
       "\t<tr><th></th><th scope=col>Df</th><th scope=col>Deviance</th><th scope=col>Resid. Df</th><th scope=col>Resid. Dev</th></tr>\n",
       "\t<tr><th></th><th scope=col>&lt;int&gt;</th><th scope=col>&lt;dbl&gt;</th><th scope=col>&lt;int&gt;</th><th scope=col>&lt;dbl&gt;</th></tr>\n",
       "</thead>\n",
       "<tbody>\n",
       "\t<tr><th scope=row>NULL</th><td>NA</td><td>     NA</td><td>22</td><td>28.26715</td></tr>\n",
       "\t<tr><th scope=row>x</th><td> 1</td><td>7.95196</td><td>21</td><td>20.31519</td></tr>\n",
       "</tbody>\n",
       "</table>\n"
      ],
      "text/latex": [
       "A anova: 2 × 4\n",
       "\\begin{tabular}{r|llll}\n",
       "  & Df & Deviance & Resid. Df & Resid. Dev\\\\\n",
       "  & <int> & <dbl> & <int> & <dbl>\\\\\n",
       "\\hline\n",
       "\tNULL & NA &      NA & 22 & 28.26715\\\\\n",
       "\tx &  1 & 7.95196 & 21 & 20.31519\\\\\n",
       "\\end{tabular}\n"
      ],
      "text/markdown": [
       "\n",
       "A anova: 2 × 4\n",
       "\n",
       "| <!--/--> | Df &lt;int&gt; | Deviance &lt;dbl&gt; | Resid. Df &lt;int&gt; | Resid. Dev &lt;dbl&gt; |\n",
       "|---|---|---|---|---|\n",
       "| NULL | NA |      NA | 22 | 28.26715 |\n",
       "| x |  1 | 7.95196 | 21 | 20.31519 |\n",
       "\n"
      ],
      "text/plain": [
       "     Df Deviance Resid. Df Resid. Dev\n",
       "NULL NA      NA  22        28.26715  \n",
       "x     1 7.95196  21        20.31519  "
      ]
     },
     "metadata": {},
     "output_type": "display_data"
    }
   ],
   "source": [
    "anova(challenger.glm.01)"
   ]
  },
  {
   "cell_type": "markdown",
   "metadata": {},
   "source": [
    "# 2. Bayesian logistic regression with JAGS"
   ]
  },
  {
   "cell_type": "code",
   "execution_count": 16,
   "metadata": {},
   "outputs": [
    {
     "name": "stderr",
     "output_type": "stream",
     "text": [
      "Linked to JAGS 4.3.1\n",
      "\n",
      "Loaded modules: basemod,bugs\n",
      "\n",
      "\n",
      "Attaching package: 'R2jags'\n",
      "\n",
      "\n",
      "The following object is masked from 'package:coda':\n",
      "\n",
      "    traceplot\n",
      "\n",
      "\n"
     ]
    }
   ],
   "source": [
    "#install.packages(\"R2jags\",dependencies=TRUE,repos=\"https://cloud.r-project.org\")\n",
    "require(R2jags,quietly=TRUE)"
   ]
  },
  {
   "cell_type": "code",
   "execution_count": 17,
   "metadata": {},
   "outputs": [
    {
     "name": "stderr",
     "output_type": "stream",
     "text": [
      "This is bayesplot version 1.10.0\n",
      "\n",
      "- Online documentation and vignettes at mc-stan.org/bayesplot\n",
      "\n",
      "- bayesplot theme set to bayesplot::theme_default()\n",
      "\n",
      "   * Does _not_ affect other ggplot2 plots\n",
      "\n",
      "   * See ?bayesplot_theme_set for details on theme setting\n",
      "\n"
     ]
    }
   ],
   "source": [
    "#install.packages(\"bayesplot\",dependencies=TRUE,repos=\"https://cloud.r-project.org\")\n",
    "require(bayesplot,quietly=TRUE)\n",
    "color_scheme_set(\"brightblue\")"
   ]
  },
  {
   "cell_type": "code",
   "execution_count": 18,
   "metadata": {},
   "outputs": [],
   "source": [
    "n<-length(y)\n",
    "X<-cbind(rep(1,n),x) # build by hand the model matrix\n",
    "#X"
   ]
  },
  {
   "cell_type": "markdown",
   "metadata": {},
   "source": [
    "Each of the $n$ observed responses $y_{i}$ ($1\\leq i\\leq n$) is assumed to be drawn from a Bernoulli distribution with probability $p_{i}$, themselves determined by the linear predictor ($\\eta_{i}=\\beta_{0}+x_{i}\\cdot\\beta$), $x_{i}\\in\\mathbb{R}^p$.   \n",
    "In this case, $\\beta_{0}$ represents the intercept and $\\beta_{j}\\in\\mathbb{R}$ represents the rate of change in the odds-ratio of $y$ for every unit change in the $j$-th effect $x_{j}$ ($1\\leq j\\leq p$).\n",
    "\n",
    "For this simple model, we will go with zero-centered Gaussian (normal) priors with relatively large standard deviations for both intercept and treatment effects and a uniform for the standard deviation. \n",
    " \n",
    "$$\n",
    "\\begin{array}{lcl}\n",
    "        y_{i}           &\\sim &\\operatorname{Bernoulli}(p_{i}),\\\\\n",
    "        \\eta_{i}        &=    &\\beta_{0}+x_{i}\\cdot\\beta,\\mskip66mu 1\\leq i\\leq n.\\\\\n",
    "        \\beta_{0}       &\\sim &\\operatorname{N}(0,1.0E-6), \\mskip40mu 1.0E-6 \\mskip10mu\\text{is the precision.}\\\\\n",
    "        \\beta_{j}       &\\sim &\\operatorname{N}(0,1.0E-6),\\mskip40mu 1\\leq j\\leq p.\n",
    "\\end{array}\n",
    "$$"
   ]
  },
  {
   "cell_type": "code",
   "execution_count": 19,
   "metadata": {},
   "outputs": [],
   "source": [
    "challenger.data <- list(y=y,n=n,logn=log(n),x=x)"
   ]
  },
  {
   "cell_type": "code",
   "execution_count": 20,
   "metadata": {},
   "outputs": [],
   "source": [
    "cat(\"\n",
    "model{\n",
    "    # Priors\n",
    "    b0~dnorm(0,1.0e-6)\n",
    "    b1~dnorm(0,1.0e-6)\n",
    "\n",
    "    # Likelihood\n",
    "    for (i in 1:n){\n",
    "        y[i] ~ dbern(p[i])\n",
    "        #logit(p[i]) <- eta[i]\n",
    "       \n",
    "        # logit(p[i]) <- max(-20,min(20,eta[i])) used to avoid numerical instabilities\n",
    "        p[i] <- 1/(1+exp(-eta[i])) # can use for logit(p[i]) above\n",
    "        \n",
    "        eta[i] <- b0+b1*x[i]\n",
    "        LLi[i] <- y[i] * log(p[i]) + (1 - y[i]) * log(1 - p[i])\n",
    "    }\n",
    "\n",
    "    LogL <- sum(LLi[1:n])\n",
    "    Deviance <- -2 * LogL            # Compute 'Deviance' by hand, to compare with JAGS-computed 'deviance'\n",
    "    AIC <- -2 * LogL + 2 * 2\n",
    "    BIC <- -2 * LogL + logn * 2\n",
    "}\n",
    "\",file=\"challenger.jag\")"
   ]
  },
  {
   "cell_type": "code",
   "execution_count": 21,
   "metadata": {},
   "outputs": [],
   "source": [
    "# Initial parameter values\n",
    "inits <- function () {\n",
    "    list(b0 = rnorm(1, 0, 0.1),b1=rnorm(1,0,0.1)) }"
   ]
  },
  {
   "cell_type": "code",
   "execution_count": 22,
   "metadata": {},
   "outputs": [],
   "source": [
    "params <- c(\"b0\", \"b1\", \"LogL\", \"AIC\", \"BIC\", \"Deviance\")"
   ]
  },
  {
   "cell_type": "code",
   "execution_count": 23,
   "metadata": {},
   "outputs": [
    {
     "name": "stderr",
     "output_type": "stream",
     "text": [
      "module glm loaded\n",
      "\n"
     ]
    },
    {
     "name": "stdout",
     "output_type": "stream",
     "text": [
      "Compiling model graph\n",
      "   Resolving undeclared variables\n",
      "   Allocating nodes\n",
      "Graph information:\n",
      "   Observed stochastic nodes: 23\n",
      "   Unobserved stochastic nodes: 2\n",
      "   Total graph size: 262\n",
      "\n",
      "Initializing model\n",
      "\n"
     ]
    }
   ],
   "source": [
    "challenger.jags.01 <- jags(data = challenger.data,\n",
    "             inits = inits,\n",
    "             parameters = params,\n",
    "             model.file = \"challenger.jag\",\n",
    "             n.thin = 1,\n",
    "             n.chains = 3,\n",
    "             n.burnin = 10000,\n",
    "             n.iter = 30000)"
   ]
  },
  {
   "cell_type": "code",
   "execution_count": 24,
   "metadata": {},
   "outputs": [
    {
     "name": "stdout",
     "output_type": "stream",
     "text": [
      "Inference for Bugs model at \"challenger.jag\", fit using jags,\n",
      " 3 chains, each with 30000 iterations (first 10000 discarded)\n",
      " n.sims = 60000 iterations saved\n",
      "         mu.vect sd.vect    2.5%   97.5%  Rhat n.eff\n",
      "AIC       26.402   2.066  24.370  31.920 1.026   150\n",
      "BIC       28.673   2.066  26.641  34.191 1.026   150\n",
      "Deviance  22.402   2.066  20.370  27.920 1.025   150\n",
      "LogL     -11.201   1.033 -13.960 -10.185 1.029   150\n",
      "b0        19.082   8.269   5.148  37.892 1.051    63\n",
      "b1        -0.292   0.121  -0.569  -0.088 1.052    63\n",
      "deviance  22.402   2.066  20.370  27.920 1.025   150\n",
      "\n",
      "For each parameter, n.eff is a crude measure of effective sample size,\n",
      "and Rhat is the potential scale reduction factor (at convergence, Rhat=1).\n",
      "\n",
      "DIC info (using the rule, pD = var(deviance)/2)\n",
      "pD = 2.1 and DIC = 24.5\n",
      "DIC is an estimate of expected predictive error (lower deviance is better).\n"
     ]
    }
   ],
   "source": [
    "print(challenger.jags.01, intervals=c(0.025, 0.975), digits=3)"
   ]
  },
  {
   "cell_type": "code",
   "execution_count": 25,
   "metadata": {},
   "outputs": [],
   "source": [
    "challenger.jags.01.mcmc<-as.mcmc(challenger.jags.01)"
   ]
  },
  {
   "cell_type": "code",
   "execution_count": 26,
   "metadata": {
    "tags": []
   },
   "outputs": [
    {
     "data": {
      "image/png": "[encoded data removed]",
      "text/plain": [
       "plot without title"
      ]
     },
     "metadata": {
      "image/png": {
       "height": 330,
       "width": 840
      }
     },
     "output_type": "display_data"
    }
   ],
   "source": [
    "options(repr.plot.width=14,repr.plot.height=5.5)\n",
    "mcmc_trace(challenger.jags.01.mcmc,pars=c(\"b0\",\"b1\"))"
   ]
  },
  {
   "cell_type": "code",
   "execution_count": 27,
   "metadata": {
    "tags": []
   },
   "outputs": [
    {
     "data": {
      "image/png": "[encoded data removed]",
      "text/plain": [
       "plot without title"
      ]
     },
     "metadata": {
      "image/png": {
       "height": 330,
       "width": 330
      }
     },
     "output_type": "display_data"
    }
   ],
   "source": [
    "options(repr.plot.width=5.5,repr.plot.height=5.5)\n",
    "mcmc_intervals(challenger.jags.01.mcmc)"
   ]
  },
  {
   "cell_type": "code",
   "execution_count": 28,
   "metadata": {},
   "outputs": [
    {
     "data": {
      "image/png": "[encoded data removed]",
      "text/plain": [
       "plot without title"
      ]
     },
     "metadata": {
      "image/png": {
       "height": 150,
       "width": 330
      }
     },
     "output_type": "display_data"
    }
   ],
   "source": [
    "options(repr.plot.width=5.5,repr.plot.height=2.5)\n",
    "mcmc_intervals(challenger.jags.01.mcmc,pars=\"b0\")"
   ]
  },
  {
   "cell_type": "code",
   "execution_count": 29,
   "metadata": {},
   "outputs": [
    {
     "data": {
      "image/png": "[encoded data removed]",
      "text/plain": [
       "plot without title"
      ]
     },
     "metadata": {
      "image/png": {
       "height": 150,
       "width": 330
      }
     },
     "output_type": "display_data"
    }
   ],
   "source": [
    "options(repr.plot.width=5.5,repr.plot.height=2.5)\n",
    "# mcmc_intervals(challenger.Bglm.01,,pars=\"(Intercept)\",cex=1.5) #cex does not work\n",
    "mcmc_intervals(challenger.jags.01.mcmc,pars=\"b1\")"
   ]
  },
  {
   "cell_type": "code",
   "execution_count": 30,
   "metadata": {},
   "outputs": [
    {
     "data": {
      "image/png": "[encoded data removed]",
      "text/plain": [
       "plot without title"
      ]
     },
     "metadata": {
      "image/png": {
       "height": 360,
       "width": 720
      }
     },
     "output_type": "display_data"
    }
   ],
   "source": [
    "options(repr.plot.width=12,repr.plot.height=6)\n",
    "mcmc_dens(challenger.jags.01.mcmc,pars=c(\"b0\",\"b1\"))"
   ]
  },
  {
   "cell_type": "markdown",
   "metadata": {
    "tags": []
   },
   "source": [
    "# 3. Bayesian logistic regression with Stan"
   ]
  },
  {
   "cell_type": "code",
   "execution_count": 31,
   "metadata": {},
   "outputs": [
    {
     "name": "stderr",
     "output_type": "stream",
     "text": [
      "Loading required package: rstan\n",
      "\n",
      "Loading required package: StanHeaders\n",
      "\n",
      "\n",
      "rstan version 2.26.13 (Stan version 2.26.1)\n",
      "\n",
      "\n",
      "For execution on a local, multicore CPU with excess RAM we recommend calling\n",
      "options(mc.cores = parallel::detectCores()).\n",
      "To avoid recompilation of unchanged Stan programs, we recommend calling\n",
      "rstan_options(auto_write = TRUE)\n",
      "For within-chain threading using `reduce_sum()` or `map_rect()` Stan functions,\n",
      "change `threads_per_chain` option:\n",
      "rstan_options(threads_per_chain = 1)\n",
      "\n",
      "\n",
      "Do not specify '-march=native' in 'LOCAL_CPPFLAGS' or a Makevars file\n",
      "\n",
      "\n",
      "Attaching package: 'rstan'\n",
      "\n",
      "\n",
      "The following object is masked from 'package:R2jags':\n",
      "\n",
      "    traceplot\n",
      "\n",
      "\n",
      "The following object is masked from 'package:coda':\n",
      "\n",
      "    traceplot\n",
      "\n",
      "\n"
     ]
    }
   ],
   "source": [
    "#install.packages(\"rstan\",dependencies=TRUE,repos= \"https://cloud.r-project.org\")\n",
    "options(mc.cores = parallel::detectCores())\n",
    "require(rstan)\n",
    "rstan_options(auto_write = TRUE)\n",
    "Sys.setenv(LOCAL_CPPFLAGS = '-march=corei7 -mtune=corei7')"
   ]
  },
  {
   "cell_type": "code",
   "execution_count": 32,
   "metadata": {},
   "outputs": [],
   "source": [
    "#install.packages(\"bayesplot\",dependencies=TRUE,repos=\"https://cloud.r-project.org\")\n",
    "require(bayesplot,quietly=TRUE)\n",
    "color_scheme_set(\"brightblue\")"
   ]
  },
  {
   "cell_type": "code",
   "execution_count": 33,
   "metadata": {},
   "outputs": [],
   "source": [
    "challenger.stan.01a.model.string<-\"\n",
    "data {\n",
    "  int<lower=0> n;\n",
    "  vector[n] x;\n",
    "  int<lower=0,upper=1> y[n];\n",
    "}\n",
    "parameters {\n",
    "  real b0;\n",
    "  real b1;\n",
    "}\n",
    "model {\n",
    "  y ~ bernoulli_logit(b0 + b1 * x);\n",
    "}\""
   ]
  },
  {
   "cell_type": "code",
   "execution_count": 34,
   "metadata": {},
   "outputs": [],
   "source": [
    "# Translate model to C++ and compile to DSO:\n",
    "challenger.stan.01a.stanDso <- stan_model(model_code=challenger.stan.01a.model.string) "
   ]
  },
  {
   "cell_type": "markdown",
   "metadata": {},
   "source": [
    "## MCMC sampling"
   ]
  },
  {
   "cell_type": "code",
   "execution_count": 35,
   "metadata": {},
   "outputs": [],
   "source": [
    "challenger.stan.01a.data.list<-list(x=x,y=y,n=n)"
   ]
  },
  {
   "cell_type": "code",
   "execution_count": 36,
   "metadata": {},
   "outputs": [],
   "source": [
    "# Generate posterior sample:\n",
    "challenger.stan.01a<-sampling(challenger.stan.01a.stanDso,data=challenger.stan.01a.data.list, iter = 15000,\n",
    "                         chains=3, verbose=FALSE, seed=101, warmup=4000)"
   ]
  },
  {
   "cell_type": "code",
   "execution_count": 37,
   "metadata": {},
   "outputs": [
    {
     "name": "stdout",
     "output_type": "stream",
     "text": [
      "Inference for Stan model: anon_model.\n",
      "3 chains, each with iter=15000; warmup=4000; thin=1; \n",
      "post-warmup draws per chain=11000, total post-warmup draws=33000.\n",
      "\n",
      "       mean se_mean   sd   2.5%    25%    50%    75%  97.5% n_eff Rhat\n",
      "b0    19.02    0.13 8.82   5.19  12.74  17.80  24.04  39.78  4274    1\n",
      "b1    -0.29    0.00 0.13  -0.60  -0.36  -0.27  -0.20  -0.09  4265    1\n",
      "lp__ -11.24    0.02 1.08 -14.17 -11.64 -10.90 -10.47 -10.18  5124    1\n",
      "\n",
      "Samples were drawn using NUTS(diag_e) at Sun May 21 18:07:13 2023.\n",
      "For each parameter, n_eff is a crude measure of effective sample size,\n",
      "and Rhat is the potential scale reduction factor on split chains (at \n",
      "convergence, Rhat=1).\n"
     ]
    }
   ],
   "source": [
    "print(challenger.stan.01a)"
   ]
  },
  {
   "cell_type": "code",
   "execution_count": 38,
   "metadata": {},
   "outputs": [
    {
     "data": {
      "image/png": "[encoded data removed]",
      "text/plain": [
       "plot without title"
      ]
     },
     "metadata": {
      "image/png": {
       "height": 300,
       "width": 720
      }
     },
     "output_type": "display_data"
    }
   ],
   "source": [
    "options(repr.plot.width=12,repr.plot.height=5)\n",
    "mcmc_trace(challenger.stan.01a, pars=c(\"b0\",\"b1\"))"
   ]
  },
  {
   "cell_type": "code",
   "execution_count": 39,
   "metadata": {},
   "outputs": [
    {
     "name": "stderr",
     "output_type": "stream",
     "text": [
      "Warning message:\n",
      "\"\u001b[1m\u001b[22mThe `facets` argument of `facet_grid()` is deprecated as of ggplot2 2.2.0.\n",
      "\u001b[36mℹ\u001b[39m Please use the `rows` argument instead.\n",
      "\u001b[36mℹ\u001b[39m The deprecated feature was likely used in the \u001b[34mbayesplot\u001b[39m package.\n",
      "  Please report the issue at \u001b[3m\u001b[34m<https://github.com/stan-dev/bayesplot/issues/>\u001b[39m\u001b[23m.\"\n"
     ]
    },
    {
     "data": {
      "image/png": "[encoded data removed]",
      "text/plain": [
       "plot without title"
      ]
     },
     "metadata": {
      "image/png": {
       "height": 300,
       "width": 600
      }
     },
     "output_type": "display_data"
    }
   ],
   "source": [
    "options(repr.plot.width=10, repr.plot.height=5)\n",
    "mcmc_acf(challenger.stan.01a,pars=c(\"b0\",\"b1\"))"
   ]
  },
  {
   "cell_type": "code",
   "execution_count": 40,
   "metadata": {},
   "outputs": [
    {
     "name": "stderr",
     "output_type": "stream",
     "text": [
      "\u001b[1m\u001b[22m`stat_bin()` using `bins = 30`. Pick better value with `binwidth`.\n"
     ]
    },
    {
     "data": {
      "image/png": "[encoded data removed]",
      "text/plain": [
       "plot without title"
      ]
     },
     "metadata": {
      "image/png": {
       "height": 300,
       "width": 600
      }
     },
     "output_type": "display_data"
    }
   ],
   "source": [
    "options(repr.plot.width=10,repr.plot.height=5)\n",
    "mcmc_hist(challenger.stan.01a, pars=c(\"b0\",\"b1\"))"
   ]
  },
  {
   "cell_type": "code",
   "execution_count": 41,
   "metadata": {},
   "outputs": [
    {
     "data": {
      "image/png": "[encoded data removed]",
      "text/plain": [
       "plot without title"
      ]
     },
     "metadata": {
      "image/png": {
       "height": 300,
       "width": 300
      }
     },
     "output_type": "display_data"
    }
   ],
   "source": [
    "options(repr.plot.width=5,repr.plot.height=5)\n",
    "mcmc_hist(challenger.stan.01a, pars=\"b0\",binwidth=2)"
   ]
  },
  {
   "cell_type": "code",
   "execution_count": 42,
   "metadata": {},
   "outputs": [
    {
     "data": {
      "image/png": "[encoded data removed]",
      "text/plain": [
       "plot without title"
      ]
     },
     "metadata": {
      "image/png": {
       "height": 360,
       "width": 360
      }
     },
     "output_type": "display_data"
    }
   ],
   "source": [
    "options(repr.plot.width=6,repr.plot.height=6)\n",
    "mcmc_hist(challenger.stan.01a, pars=\"b1\",binwidth=0.03)"
   ]
  },
  {
   "cell_type": "code",
   "execution_count": 43,
   "metadata": {},
   "outputs": [
    {
     "data": {
      "image/png": "[encoded data removed]",
      "text/plain": [
       "plot without title"
      ]
     },
     "metadata": {
      "image/png": {
       "height": 300,
       "width": 600
      }
     },
     "output_type": "display_data"
    }
   ],
   "source": [
    "options(repr.plot.width=10,repr.plot.height=5)\n",
    "mcmc_dens(challenger.stan.01a, pars=c(\"b0\",\"b1\"))"
   ]
  },
  {
   "cell_type": "markdown",
   "metadata": {},
   "source": [
    "## Another syntax for the same model\n",
    "\n",
    "Here the parameter is a 2-dim vector and the linear predictor is obtained as a matrix product X*b"
   ]
  },
  {
   "cell_type": "code",
   "execution_count": 44,
   "metadata": {},
   "outputs": [],
   "source": [
    "challenger.stan.01b.model.string<-\"\n",
    "data {\n",
    "   int<lower=0> n;\n",
    "   matrix[n,2] X;\n",
    "   int<lower=0,upper=1> y[n];\n",
    "}\n",
    "parameters {\n",
    "   vector[2] b;\n",
    "   }\n",
    "model {\n",
    "  y ~ bernoulli_logit(X*b);\n",
    "}\n",
    "\n",
    "generated quantities{\n",
    "    \n",
    "}\n",
    "\n",
    "\""
   ]
  },
  {
   "cell_type": "code",
   "execution_count": 45,
   "metadata": {},
   "outputs": [],
   "source": [
    "# Translate model to C++ and compile to DSO:\n",
    "challenger.stan.01b.stanDso <- stan_model(model_code=challenger.stan.01b.model.string) "
   ]
  },
  {
   "cell_type": "markdown",
   "metadata": {},
   "source": [
    "## MCMC sampling"
   ]
  },
  {
   "cell_type": "code",
   "execution_count": 46,
   "metadata": {},
   "outputs": [],
   "source": [
    "challenger.stan.01b.data.list<-list(X=cbind(rep(1,n),x),y=y,n=n)"
   ]
  },
  {
   "cell_type": "code",
   "execution_count": 47,
   "metadata": {},
   "outputs": [],
   "source": [
    "# Generate posterior sample:\n",
    "challenger.stan.01b<-sampling(challenger.stan.01b.stanDso,data=challenger.stan.01b.data.list, iter = 15000,\n",
    "                         chains=3, verbose=FALSE, seed=101, warmup=4000)"
   ]
  },
  {
   "cell_type": "code",
   "execution_count": 48,
   "metadata": {},
   "outputs": [
    {
     "name": "stdout",
     "output_type": "stream",
     "text": [
      "Inference for Stan model: anon_model.\n",
      "3 chains, each with iter=15000; warmup=4000; thin=1; \n",
      "post-warmup draws per chain=11000, total post-warmup draws=33000.\n",
      "\n",
      "       mean se_mean   sd   2.5%    25%    50%    75%  97.5% n_eff Rhat\n",
      "b[1]  18.82    0.14 8.84   4.69  12.71  17.71  23.78  39.50  3830    1\n",
      "b[2]  -0.29    0.00 0.13  -0.59  -0.36  -0.27  -0.20  -0.08  3825    1\n",
      "lp__ -11.25    0.02 1.09 -14.18 -11.68 -10.92 -10.47 -10.19  5049    1\n",
      "\n",
      "Samples were drawn using NUTS(diag_e) at Sun May 21 18:07:59 2023.\n",
      "For each parameter, n_eff is a crude measure of effective sample size,\n",
      "and Rhat is the potential scale reduction factor on split chains (at \n",
      "convergence, Rhat=1).\n"
     ]
    }
   ],
   "source": [
    "print(challenger.stan.01b)"
   ]
  },
  {
   "cell_type": "markdown",
   "metadata": {},
   "source": [
    "## A third version with posterior predictive pdf samples \n",
    "\n",
    "For the linear predictor and probability of rupture for a new dataset.\n",
    "\n",
    "As this new dataset we choose a grid spanning the interval of observed temperatures."
   ]
  },
  {
   "cell_type": "code",
   "execution_count": 49,
   "metadata": {},
   "outputs": [],
   "source": [
    "N<-100\n",
    "x.min<-min(x)\n",
    "x.max<-max(x)\n",
    "new.x<-cbind(rep(1,N),seq(x.min,x.max,length=N))     # Add the intercept column of ones"
   ]
  },
  {
   "cell_type": "code",
   "execution_count": 50,
   "metadata": {},
   "outputs": [],
   "source": [
    "challenger.stan.01c.model.string<-\"\n",
    "data {\n",
    "   int<lower=0> n;\n",
    "   matrix[n,2] X;\n",
    "   int<lower=0,upper=1> y[n];\n",
    "   int<lower=1> N;      // number of new x \n",
    "   matrix[N,2] new_X;\n",
    "   }\n",
    "parameters {\n",
    "   vector[2] b;\n",
    "   }\n",
    "model {\n",
    "   y ~ bernoulli_logit(X*b);\n",
    "   }\n",
    "\n",
    "generated quantities{\n",
    "   vector[N] Eta;\n",
    "   vector[N] Prob;\n",
    "\n",
    "   Eta=new_X*b;\n",
    "   Prob=inv_logit(Eta);\n",
    "   }\n",
    "\""
   ]
  },
  {
   "cell_type": "code",
   "execution_count": 51,
   "metadata": {},
   "outputs": [],
   "source": [
    "# Translate model to C++ and compile to DSO:\n",
    "challenger.stan.01c.stanDso <- stan_model(model_code=challenger.stan.01c.model.string) "
   ]
  },
  {
   "cell_type": "markdown",
   "metadata": {},
   "source": [
    "## MCMC sampling"
   ]
  },
  {
   "cell_type": "code",
   "execution_count": 52,
   "metadata": {},
   "outputs": [],
   "source": [
    "challenger.stan.01c.data.list<-list(X=cbind(rep(1,n),x),y=y,n=n,N=N,new_X=new.x)"
   ]
  },
  {
   "cell_type": "code",
   "execution_count": 53,
   "metadata": {},
   "outputs": [],
   "source": [
    "# Generate posterior sample:\n",
    "challenger.stan.01c<-sampling(challenger.stan.01c.stanDso,data=challenger.stan.01c.data.list, iter = 15000,\n",
    "                         chains=3, verbose=FALSE, seed=101, warmup=4000)"
   ]
  },
  {
   "cell_type": "code",
   "execution_count": 54,
   "metadata": {},
   "outputs": [
    {
     "name": "stdout",
     "output_type": "stream",
     "text": [
      "Inference for Stan model: anon_model.\n",
      "3 chains, each with iter=15000; warmup=4000; thin=1; \n",
      "post-warmup draws per chain=11000, total post-warmup draws=33000.\n",
      "\n",
      "      mean se_mean   sd  2.5%   25%   50%   75% 97.5% n_eff Rhat\n",
      "b[1] 18.82    0.14 8.84  4.69 12.71 17.71 23.78 39.50  3830    1\n",
      "b[2] -0.29    0.00 0.13 -0.59 -0.36 -0.27 -0.20 -0.08  3825    1\n",
      "\n",
      "Samples were drawn using NUTS(diag_e) at Sun May 21 18:08:42 2023.\n",
      "For each parameter, n_eff is a crude measure of effective sample size,\n",
      "and Rhat is the potential scale reduction factor on split chains (at \n",
      "convergence, Rhat=1).\n"
     ]
    }
   ],
   "source": [
    "print(challenger.stan.01c, pars=\"b\")"
   ]
  },
  {
   "cell_type": "code",
   "execution_count": 55,
   "metadata": {},
   "outputs": [],
   "source": [
    "# extract Prob\n",
    "Prob <- extract(challenger.stan.01c, 'Prob')$Prob\n",
    "#str(Prob)\n",
    "save(Prob,file=\"Challenger.sim.Prob.Rdata\")"
   ]
  },
  {
   "cell_type": "markdown",
   "metadata": {},
   "source": [
    "### Graphics for representing predicted posterior probabilities"
   ]
  },
  {
   "cell_type": "markdown",
   "metadata": {},
   "source": [
    "Obtain MAP estimates for the probability at each temperature in the grid"
   ]
  },
  {
   "cell_type": "code",
   "execution_count": 56,
   "metadata": {},
   "outputs": [],
   "source": [
    "MAP<-function(t){\n",
    "    A<-density(t)\n",
    "    return(A$x[which.max(A$y)])\n",
    "}\n",
    "Prob.MAP<-apply(Prob,2,MAP)\n",
    "#str(Prob.MAP)"
   ]
  },
  {
   "cell_type": "markdown",
   "metadata": {},
   "source": [
    "Generate a smooth curve from these points, using the \"Supersmoother\" function"
   ]
  },
  {
   "cell_type": "code",
   "execution_count": 57,
   "metadata": {},
   "outputs": [],
   "source": [
    "xy<-supsmu(seq(x.min,x.max,length=N),Prob.MAP)  # Supersmoother\n",
    "#str(xy)"
   ]
  },
  {
   "cell_type": "code",
   "execution_count": 58,
   "metadata": {},
   "outputs": [
    {
     "data": {
      "image/png": "[encoded data removed]",
      "text/plain": [
       "Plot with title \"MAP Probability of rupture as a function of temperature\""
      ]
     },
     "metadata": {
      "image/png": {
       "height": 300,
       "width": 600
      }
     },
     "output_type": "display_data"
    }
   ],
   "source": [
    "plot(xy$x,xy$y,\"l\",lwd=2.5,col=\"blue\",\n",
    "    xlab=\"Temp Deg. F\",ylab=\"Prob\",main=\"MAP Probability of rupture as a function of temperature\")"
   ]
  },
  {
   "cell_type": "markdown",
   "metadata": {},
   "source": [
    "#### Visualization of posterior pdfs for each temperature in the grid"
   ]
  },
  {
   "cell_type": "code",
   "execution_count": 59,
   "metadata": {},
   "outputs": [],
   "source": [
    "Prob.df<-as.data.frame(Prob)\n",
    "#str(Prob.df,list.len=3)\n",
    "Prob.dens<-lapply(Prob.df,density)\n",
    "#str(Prob.dens,list.len=3)\n",
    "getx<-function(A){return(A$x)}\n",
    "gety<-function(A){return(A$y)}\n",
    "getbw<-function(A){return(A$bw)}\n",
    "Prob.dens.x<-sapply(Prob.dens,getx)\n",
    "Prob.dens.y<-sapply(Prob.dens,gety)\n",
    "Prob.dens.bw<-sapply(Prob.dens,getbw)\n",
    "Dens.min<-apply(Prob.dens.x,2,min)\n",
    "Dens.max<-apply(Prob.dens.x,2,max)\n",
    "Prob.dens.std<-as.matrix(scale(Prob.dens.y))\n",
    "#str(Prob.dens.std)"
   ]
  },
  {
   "cell_type": "code",
   "execution_count": 60,
   "metadata": {},
   "outputs": [
    {
     "data": {
      "image/png": "[encoded data removed]",
      "text/plain": [
       "plot without title"
      ]
     },
     "metadata": {
      "image/png": {
       "height": 300,
       "width": 600
      }
     },
     "output_type": "display_data"
    }
   ],
   "source": [
    "image(Prob.dens.std,col=topo.colors(15))\n",
    "abline(h=0.5,lwd=3,col=\"white\")"
   ]
  },
  {
   "cell_type": "markdown",
   "metadata": {},
   "source": [
    "#### Visualization of posterior pdf quantiles for each temperature in the grid"
   ]
  },
  {
   "cell_type": "code",
   "execution_count": 61,
   "metadata": {},
   "outputs": [
    {
     "data": {
      "image/png": "[encoded data removed]",
      "text/plain": [
       "plot without title"
      ]
     },
     "metadata": {
      "image/png": {
       "height": 300,
       "width": 600
      }
     },
     "output_type": "display_data"
    }
   ],
   "source": [
    "Qprobs<-c(0.05,0.25,0.5,0.75,0.95)\n",
    "Quantiles<-function(A){quantile(A,probs=Qprobs)}\n",
    "Qpost<-sapply(Prob.df,Quantiles)\n",
    "#str(Qpost)\n",
    "u<-seq(0,1,length=N)\n",
    "plot(u,rep(0,N),type=\"n\",ylim=c(0,1))\n",
    "lines(supsmu(u,Qpost[3,]),lwd=3,col=\"MediumSlateBlue\")\n",
    "lines(supsmu(u,Qpost[2,]),lwd=3,col=\"LightSlateBlue\")\n",
    "lines(supsmu(u,Qpost[4,]),lwd=3,col=\"LightSlateBlue\")\n",
    "lines(supsmu(u,Qpost[1,]),lwd=3,col=\"LightSkyBlue\")\n",
    "lines(supsmu(u,Qpost[5,]),lwd=3,col=\"LightSkyBlue\")"
   ]
  },
  {
   "cell_type": "markdown",
   "metadata": {
    "tags": []
   },
   "source": [
    "# 4. Bayesian logistic regression with Stan - ADVI Variational Inference"
   ]
  },
  {
   "cell_type": "code",
   "execution_count": 62,
   "metadata": {},
   "outputs": [
    {
     "name": "stdout",
     "output_type": "stream",
     "text": [
      "Chain 1: ------------------------------------------------------------\n",
      "Chain 1: EXPERIMENTAL ALGORITHM:\n",
      "Chain 1:   This procedure has not been thoroughly tested and may be unstable\n",
      "Chain 1:   or buggy. The interface is subject to change.\n",
      "Chain 1: ------------------------------------------------------------\n",
      "Chain 1: \n",
      "Chain 1: \n",
      "Chain 1: \n",
      "Chain 1: Gradient evaluation took 1.6e-05 seconds\n",
      "Chain 1: 1000 transitions using 10 leapfrog steps per transition would take 0.16 seconds.\n",
      "Chain 1: Adjust your expectations accordingly!\n",
      "Chain 1: \n",
      "Chain 1: \n",
      "Chain 1: Begin eta adaptation.\n",
      "Chain 1: Iteration:   1 / 750 [  0%]  (Adaptation)\n",
      "Chain 1: Iteration: 150 / 750 [ 20%]  (Adaptation)\n",
      "Chain 1: Iteration: 300 / 750 [ 40%]  (Adaptation)\n",
      "Chain 1: Iteration: 450 / 750 [ 60%]  (Adaptation)\n",
      "Chain 1: Iteration: 600 / 750 [ 80%]  (Adaptation)\n",
      "Chain 1: Iteration: 750 / 750 [100%]  (Adaptation)\n",
      "Chain 1: Success! Found best value [eta = 0.1].\n",
      "Chain 1: \n",
      "Chain 1: Begin stochastic gradient ascent.\n",
      "Chain 1:   iter             ELBO   delta_ELBO_mean   delta_ELBO_med   notes \n",
      "Chain 1:    100         -573.409             1.000            1.000\n",
      "Chain 1:    200          -64.641             4.435            7.871\n",
      "Chain 1:    300          -19.114             3.751            2.382\n",
      "Chain 1:    400          -19.391             2.817            2.382\n",
      "Chain 1:    500          -18.000             2.269            1.000\n",
      "Chain 1:    600          -20.492             1.911            1.000\n",
      "Chain 1:    700          -17.967             1.658            0.141\n",
      "Chain 1:    800          -19.437             1.460            0.141\n",
      "Chain 1:    900          -19.793             1.300            0.122\n",
      "Chain 1:   1000          -18.564             1.177            0.122\n",
      "Chain 1:   1100          -17.774             1.074            0.077   MAY BE DIVERGING... INSPECT ELBO\n",
      "Chain 1:   1200          -17.846             0.985            0.077   MAY BE DIVERGING... INSPECT ELBO\n",
      "Chain 1:   1300          -17.643             0.910            0.076   MAY BE DIVERGING... INSPECT ELBO\n",
      "Chain 1:   1400          -17.742             0.845            0.076   MAY BE DIVERGING... INSPECT ELBO\n",
      "Chain 1:   1500          -17.485             0.790            0.066   MAY BE DIVERGING... INSPECT ELBO\n",
      "Chain 1:   1600          -17.948             0.725            0.044   MAY BE DIVERGING... INSPECT ELBO\n",
      "Chain 1:   1700          -17.320             0.202            0.036\n",
      "Chain 1:   1800          -18.047             0.046            0.036\n",
      "Chain 1:   1900          -17.877             0.046            0.036\n",
      "Chain 1:   2000          -17.319             0.043            0.032\n",
      "Chain 1:   2100          -18.768             0.040            0.032\n",
      "Chain 1:   2200          -17.487             0.036            0.032\n",
      "Chain 1:   2300          -18.101             0.033            0.032\n",
      "Chain 1:   2400          -17.739             0.033            0.032\n",
      "Chain 1:   2500          -18.251             0.030            0.028\n",
      "Chain 1:   2600          -16.975             0.033            0.028\n",
      "Chain 1:   2700          -17.001             0.032            0.028\n",
      "Chain 1:   2800          -16.866             0.032            0.028\n",
      "Chain 1:   2900          -16.978             0.032            0.028\n",
      "Chain 1:   3000          -17.443             0.033            0.028\n",
      "Chain 1:   3100          -17.460             0.031            0.028\n",
      "Chain 1:   3200          -17.784             0.030            0.027\n",
      "Chain 1:   3300          -17.201             0.030            0.027\n",
      "Chain 1:   3400          -17.667             0.031            0.027\n",
      "Chain 1:   3500          -17.090             0.031            0.027\n",
      "Chain 1:   3600          -16.788             0.027            0.026\n",
      "Chain 1:   3700          -16.889             0.023            0.020\n",
      "Chain 1:   3800          -16.889             0.020            0.018\n",
      "Chain 1:   3900          -16.920             0.019            0.018\n",
      "Chain 1:   4000          -16.770             0.018            0.009   MEDIAN ELBO CONVERGED\n",
      "Chain 1: \n",
      "Chain 1: Drawing a sample of size 2000 from the approximate posterior... \n",
      "Chain 1: COMPLETED.\n"
     ]
    },
    {
     "name": "stderr",
     "output_type": "stream",
     "text": [
      "Warning message:\n",
      "\"Pareto k diagnostic value is 1.1. Resampling is disabled. Decreasing tol_rel_obj may help if variational algorithm has terminated prematurely. Otherwise consider using sampling instead.\"\n"
     ]
    }
   ],
   "source": [
    "challenger.stan.01a.vb<-vb(challenger.stan.01a.stanDso,data=challenger.stan.01a.data.list,\n",
    "                          algorithm='fullrank',\n",
    "                          iter=15000,output_samples=2000,tol_rel_obj=0.01,adapt_iter=150)"
   ]
  },
  {
   "cell_type": "code",
   "execution_count": 63,
   "metadata": {},
   "outputs": [
    {
     "data": {
      "text/html": [
       "<table class=\"dataframe\">\n",
       "<caption>A matrix: 3 × 10 of type dbl</caption>\n",
       "<thead>\n",
       "\t<tr><th></th><th scope=col>mean</th><th scope=col>se_mean</th><th scope=col>sd</th><th scope=col>2.5%</th><th scope=col>25%</th><th scope=col>50%</th><th scope=col>75%</th><th scope=col>97.5%</th><th scope=col>n_eff</th><th scope=col>khat</th></tr>\n",
       "</thead>\n",
       "<tbody>\n",
       "\t<tr><th scope=row>b0</th><td>-1.94994791</td><td>NaN</td><td>2.38654186</td><td>-6.55525000</td><td>-3.57498500</td><td>-1.9508550</td><td>-0.33765375</td><td>2.76130500</td><td>NaN</td><td>1.309072</td></tr>\n",
       "\t<tr><th scope=row>b1</th><td> 0.01213137</td><td>NaN</td><td>0.03397295</td><td>-0.05411028</td><td>-0.01142678</td><td> 0.0118432</td><td> 0.03517398</td><td>0.07615129</td><td>NaN</td><td>1.101592</td></tr>\n",
       "\t<tr><th scope=row>lp__</th><td> 0.00000000</td><td>NaN</td><td>0.00000000</td><td> 0.00000000</td><td> 0.00000000</td><td> 0.0000000</td><td> 0.00000000</td><td>0.00000000</td><td>NaN</td><td>1.101329</td></tr>\n",
       "</tbody>\n",
       "</table>\n"
      ],
      "text/latex": [
       "A matrix: 3 × 10 of type dbl\n",
       "\\begin{tabular}{r|llllllllll}\n",
       "  & mean & se\\_mean & sd & 2.5\\% & 25\\% & 50\\% & 75\\% & 97.5\\% & n\\_eff & khat\\\\\n",
       "\\hline\n",
       "\tb0 & -1.94994791 & NaN & 2.38654186 & -6.55525000 & -3.57498500 & -1.9508550 & -0.33765375 & 2.76130500 & NaN & 1.309072\\\\\n",
       "\tb1 &  0.01213137 & NaN & 0.03397295 & -0.05411028 & -0.01142678 &  0.0118432 &  0.03517398 & 0.07615129 & NaN & 1.101592\\\\\n",
       "\tlp\\_\\_ &  0.00000000 & NaN & 0.00000000 &  0.00000000 &  0.00000000 &  0.0000000 &  0.00000000 & 0.00000000 & NaN & 1.101329\\\\\n",
       "\\end{tabular}\n"
      ],
      "text/markdown": [
       "\n",
       "A matrix: 3 × 10 of type dbl\n",
       "\n",
       "| <!--/--> | mean | se_mean | sd | 2.5% | 25% | 50% | 75% | 97.5% | n_eff | khat |\n",
       "|---|---|---|---|---|---|---|---|---|---|---|\n",
       "| b0 | -1.94994791 | NaN | 2.38654186 | -6.55525000 | -3.57498500 | -1.9508550 | -0.33765375 | 2.76130500 | NaN | 1.309072 |\n",
       "| b1 |  0.01213137 | NaN | 0.03397295 | -0.05411028 | -0.01142678 |  0.0118432 |  0.03517398 | 0.07615129 | NaN | 1.101592 |\n",
       "| lp__ |  0.00000000 | NaN | 0.00000000 |  0.00000000 |  0.00000000 |  0.0000000 |  0.00000000 | 0.00000000 | NaN | 1.101329 |\n",
       "\n"
      ],
      "text/plain": [
       "     mean        se_mean sd         2.5%        25%         50%       \n",
       "b0   -1.94994791 NaN     2.38654186 -6.55525000 -3.57498500 -1.9508550\n",
       "b1    0.01213137 NaN     0.03397295 -0.05411028 -0.01142678  0.0118432\n",
       "lp__  0.00000000 NaN     0.00000000  0.00000000  0.00000000  0.0000000\n",
       "     75%         97.5%      n_eff khat    \n",
       "b0   -0.33765375 2.76130500 NaN   1.309072\n",
       "b1    0.03517398 0.07615129 NaN   1.101592\n",
       "lp__  0.00000000 0.00000000 NaN   1.101329"
      ]
     },
     "metadata": {},
     "output_type": "display_data"
    }
   ],
   "source": [
    "summary(challenger.stan.01a.vb)$summary"
   ]
  },
  {
   "cell_type": "code",
   "execution_count": 64,
   "metadata": {},
   "outputs": [
    {
     "data": {
      "image/png": "[encoded data removed]",
      "text/plain": [
       "plot without title"
      ]
     },
     "metadata": {
      "image/png": {
       "height": 300,
       "width": 600
      }
     },
     "output_type": "display_data"
    }
   ],
   "source": [
    "mcmc_dens(challenger.stan.01a.vb, pars=c(\"b0\",\"b1\"))"
   ]
  },
  {
   "cell_type": "code",
   "execution_count": 65,
   "metadata": {
    "tags": []
   },
   "outputs": [
    {
     "data": {
      "image/png": "[encoded data removed]",
      "text/plain": [
       "plot without title"
      ]
     },
     "metadata": {
      "image/png": {
       "height": 300,
       "width": 600
      }
     },
     "output_type": "display_data"
    }
   ],
   "source": [
    "mcmc_acf(challenger.stan.01a.vb, pars=c(\"b0\",\"b1\")) # Check these are independent samples!!"
   ]
  }
 ],
 "metadata": {
  "kernelspec": {
   "display_name": "R",
   "language": "R",
   "name": "ir"
  },
  "language_info": {
   "codemirror_mode": "r",
   "file_extension": ".r",
   "mimetype": "text/x-r-source",
   "name": "R",
   "pygments_lexer": "r",
   "version": "4.3.0"
  }
 },
 "nbformat": 4,
 "nbformat_minor": 4
}
