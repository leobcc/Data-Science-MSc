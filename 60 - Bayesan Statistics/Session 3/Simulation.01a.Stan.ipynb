{
 "cells": [
  {
   "cell_type": "markdown",
   "metadata": {},
   "source": [
    "# Simulation 01a\n",
    "\n",
    "# Using Stan for simulation"
   ]
  },
  {
   "cell_type": "markdown",
   "metadata": {},
   "source": [
    "## Josep Fortiana  2023-02-27"
   ]
  },
  {
   "cell_type": "markdown",
   "metadata": {},
   "source": [
    "***\n",
    "###### LaTeX macros\n",
    "$\\def\\prob{P}$\n",
    "$\\def\\borel{\\operatorname{Borel}}$\n",
    "$\\def\\cE{\\cal E}$\n",
    "$\\def\\cP{\\cal P}$\n",
    "$\\def\\R{\\mathbb{R}}$ \n",
    "$\\def\\N{\\mathbb{N}}$\n",
    "$\\def\\Z{\\mathbb{Z}}$\n",
    "$\\def\\Ee{\\operatorname{E}}$\n",
    "$\\def\\va{\\text{v.a.}}$\n",
    "$\\def\\var{\\operatorname{var}}$\n",
    "$\\def\\cov{\\operatorname{cov}}$\n",
    "$\\def\\cor{\\operatorname{cor}}$\n",
    "$\\def\\binomdist{\\operatorname{Binom}}$\n",
    "$\\def\\berndist{\\operatorname{Ber}}$\n",
    "$\\def\\gammadist{\\operatorname{Gamma}}$\n",
    "$\\def\\hyperdist{\\operatorname{Hypergeom}}$\n",
    "$\\def\\hypergeomdist{\\operatorname{Hypergeom}}$\n",
    "$\\def\\poissondist{\\operatorname{Poisson}}$\n",
    "$\\def\\geomdist{\\operatorname{Geom}}$\n",
    "$\\def\\normaldist{\\operatorname{N}}$\n",
    "$\\def\\unifdist{\\operatorname{Unif}}$\n",
    "$\\DeclareMathOperator{\\indica}{\\mathbb{1}}$\n",
    "$\\def\\CondTo{\\mathbin{|\\mskip0.5mu}}$\n",
    "$\\DeclareMathOperator{\\indep}{\\perp\\negthickspace\\negthinspace\\perp}$\n",
    "***"
   ]
  },
  {
   "cell_type": "markdown",
   "metadata": {},
   "source": [
    "# Structure of a Stan program"
   ]
  },
  {
   "cell_type": "markdown",
   "metadata": {},
   "source": [
    "Stan is a _probabilistic programming language,_ meaning  **it has probability distributions as primary objects**."
   ]
  },
  {
   "cell_type": "markdown",
   "metadata": {},
   "source": [
    "### Stan programs\n",
    "\n",
    "Programs in Stan are ASCII text files.\n",
    "\n",
    "Either standalone files which usually have the `.stan` extension\n",
    "\n",
    "Or just as string objects in the calling environment (R or Python code or notebooks) directly sent to the interpreter as shown below."
   ]
  },
  {
   "cell_type": "markdown",
   "metadata": {},
   "source": [
    "### Blocks in a Stan program\n",
    "\n",
    "Stan programs are organized in blocks. \n",
    "\n",
    "The following description is taken from _Stan Reference manual 2.29_:\n",
    "\n",
    "```\n",
    "functions {\n",
    "// ... function declarations and definitions ...\n",
    "}\n",
    "data {\n",
    "// ... declarations ...\n",
    "}\n",
    "transformed data {\n",
    "// ... declarations ... statements ...\n",
    "}\n",
    "parameters {\n",
    "// ... declarations ...\n",
    "}\n",
    "transformed parameters {\n",
    "// ... declarations ... statements ...\n",
    "}\n",
    "model {\n",
    "// ... declarations ... statements ...\n",
    "}\n",
    "generated quantities {\n",
    "// ... declarations ... statements ...\n",
    "}\n",
    "\n",
    "```"
   ]
  },
  {
   "cell_type": "markdown",
   "metadata": {},
   "source": [
    "The function-definition block `functions` contains user-defined functions.\n",
    "\n",
    "The `data` block declares the required data for the model. \n",
    "\n",
    "The `transformed data` block allows the definition of constants and transforms of the data. \n",
    "\n",
    "The `parameters` block declares the model's parameters — the unconstrained version of the parameters is what's sampled or optimized. \n",
    "\n",
    "The `transformed parameters` block allows variables to be defined in terms of data and parameters that may be used later and will be saved. \n",
    "\n",
    "The `model` block is where the log probability function is defined. \n",
    "\n",
    "The `generated quantities` block allows derived quantities based on parameters, data, and optionally (pseudo) random number generation. "
   ]
  },
  {
   "cell_type": "markdown",
   "metadata": {},
   "source": [
    "These blocks may be empty. \n",
    "\n",
    "For instance, `generated quantities` is the only strictly required block for the purpose of just generating random numbers which is what we will do today   \n",
    "(yes, this is using a sledgehammer to crack nuts but, of course, the main goal is to get acquainted with the language and auxiliary tools)."
   ]
  },
  {
   "cell_type": "markdown",
   "metadata": {},
   "source": [
    "# Loading `rstan` \n",
    "\n",
    "The R package to communicate with Stan."
   ]
  },
  {
   "cell_type": "code",
   "execution_count": 1,
   "metadata": {},
   "outputs": [
    {
     "name": "stderr",
     "output_type": "stream",
     "text": [
      "\n",
      "rstan version 2.26.13 (Stan version 2.26.1)\n",
      "\n",
      "\n",
      "For execution on a local, multicore CPU with excess RAM we recommend calling\n",
      "options(mc.cores = parallel::detectCores()).\n",
      "To avoid recompilation of unchanged Stan programs, we recommend calling\n",
      "rstan_options(auto_write = TRUE)\n",
      "For within-chain threading using `reduce_sum()` or `map_rect()` Stan functions,\n",
      "change `threads_per_chain` option:\n",
      "rstan_options(threads_per_chain = 1)\n",
      "\n",
      "\n",
      "Do not specify '-march=native' in 'LOCAL_CPPFLAGS' or a Makevars file\n",
      "\n"
     ]
    }
   ],
   "source": [
    "#install.packages(\"rstan\", dependencies=TRUE,repos= \"https://cloud.r-project.org\")\n",
    "require(rstan,quietly=TRUE)"
   ]
  },
  {
   "cell_type": "code",
   "execution_count": 2,
   "metadata": {},
   "outputs": [
    {
     "data": {
      "text/html": [
       "12"
      ],
      "text/latex": [
       "12"
      ],
      "text/markdown": [
       "12"
      ],
      "text/plain": [
       "[1] 12"
      ]
     },
     "metadata": {},
     "output_type": "display_data"
    }
   ],
   "source": [
    "# Following directions:\n",
    "# For execution on a local, multicore CPU with excess RAM we recommend calling\n",
    "# options(mc.cores = parallel::detectCores()).\n",
    "# To avoid recompilation of unchanged Stan programs, we recommend calling\n",
    "# rstan_options(auto_write = TRUE)\n",
    "parallel::detectCores()\n",
    "options(mc.cores = parallel::detectCores())\n",
    "rstan_options(auto_write = TRUE)"
   ]
  },
  {
   "cell_type": "markdown",
   "metadata": {},
   "source": [
    "# 1. A first program: generate uniform random numbers"
   ]
  },
  {
   "cell_type": "markdown",
   "metadata": {},
   "source": [
    "Random number generator function names in Stan are formed from the distribution name plus the suffix `_rng`. For instance:\n",
    "\n",
    "`uniform_rng(reals alpha, reals beta)`\n",
    "\n",
    "`beta_rng(reals alpha, reals beta)`\n",
    "\n",
    "`normal_rng(reals mu, reals sigma)`\n",
    "\n",
    "Here we generate uniform random numbers. \n",
    "\n",
    "We need only the `generated_quantities` block."
   ]
  },
  {
   "cell_type": "markdown",
   "metadata": {},
   "source": [
    "## 01 - Write Stan code"
   ]
  },
  {
   "cell_type": "code",
   "execution_count": 3,
   "metadata": {},
   "outputs": [],
   "source": [
    "Unif_modelString <- \"\n",
    "    //functions {}\n",
    "    //data{ }\n",
    "    transformed data {}\n",
    "    parameters{}\n",
    "    transformed parameters {}\n",
    "    model{ }\n",
    "    generated quantities{\n",
    "        real y=uniform_rng(0,1);\n",
    "        }\n",
    "\""
   ]
  },
  {
   "cell_type": "markdown",
   "metadata": {
    "tags": []
   },
   "source": [
    "## 02 - Generate a DSO\n",
    "\n",
    "(A Dynamic Shared Object, e.g., a DLL in Windows)"
   ]
  },
  {
   "cell_type": "markdown",
   "metadata": {},
   "source": [
    "### 02a - Either translate first the model to C++"
   ]
  },
  {
   "cell_type": "code",
   "execution_count": 4,
   "metadata": {},
   "outputs": [],
   "source": [
    "Unif_stan_cpp <- stanc( model_code=Unif_modelString ) "
   ]
  },
  {
   "cell_type": "code",
   "execution_count": 5,
   "metadata": {},
   "outputs": [
    {
     "name": "stdout",
     "output_type": "stream",
     "text": [
      "List of 5\n",
      " $ status       : logi TRUE\n",
      " $ model_cppname: chr \"model1de045576789_file1de04ed5549f\"\n",
      " $ cppcode      : chr \"#ifndef USE_STANC3\\n#define USE_STANC3\\n#endif\\n// Code generated by stanc v2.26.1-1-g67504470\\n#include <stan/\"| __truncated__\n",
      " $ model_name   : chr \"file1de04ed5549f\"\n",
      " $ model_code   : chr \"    //functions {}\\n    //data{ }\\n    transformed data {}\\n    parameters{}\\n    transformed parameters {}\\n  \"| __truncated__\n",
      "  ..- attr(*, \"model_name2\")= chr \"file1de04ed5549f\"\n"
     ]
    }
   ],
   "source": [
    "str(Unif_stan_cpp)"
   ]
  },
  {
   "cell_type": "markdown",
   "metadata": {},
   "source": [
    "If we want to see the cpp code (it is essentially unreadable)"
   ]
  },
  {
   "cell_type": "code",
   "execution_count": 6,
   "metadata": {},
   "outputs": [],
   "source": [
    "writeLines(Unif_stan_cpp$cppcode,\"Unif_Stan.cpp\")"
   ]
  },
  {
   "cell_type": "markdown",
   "metadata": {
    "tags": []
   },
   "source": [
    "### $\\dots$ and then compile cpp code to DSO"
   ]
  },
  {
   "cell_type": "code",
   "execution_count": 7,
   "metadata": {
    "tags": []
   },
   "outputs": [],
   "source": [
    "Unif_stan_DSO_a <- stan_model( stanc_ret=Unif_stan_cpp ) "
   ]
  },
  {
   "cell_type": "code",
   "execution_count": 8,
   "metadata": {},
   "outputs": [
    {
     "name": "stdout",
     "output_type": "stream",
     "text": [
      "Formal class 'stanmodel' [package \"rstan\"] with 5 slots\n",
      "  ..@ model_name  : chr \"file1de04ed5549f\"\n",
      "  ..@ model_code  : chr \"    //functions {}\\n    //data{ }\\n    transformed data {}\\n    parameters{}\\n    transformed parameters {}\\n  \"| __truncated__\n",
      "  .. ..- attr(*, \"model_name2\")= chr \"file1de04ed5549f\"\n",
      "  ..@ model_cpp   :List of 2\n",
      "  .. ..$ model_cppname: chr \"model1de045576789_file1de04ed5549f\"\n",
      "  .. ..$ model_cppcode: chr \"#ifndef MODELS_HPP\\n#define MODELS_HPP\\n#define STAN__SERVICES__COMMAND_HPP\\n#include <rstan/rstaninc.hpp>\\n#if\"| __truncated__\n",
      "  ..@ mk_cppmodule:function (object)  \n",
      "  ..@ dso         :Formal class 'cxxdso' [package \"rstan\"] with 7 slots\n",
      "  .. .. ..@ sig         :List of 1\n",
      "  .. .. .. ..$ file1de010e355c3: chr(0) \n",
      "  .. .. ..@ dso_saved   : logi TRUE\n",
      "  .. .. ..@ dso_filename: chr \"file1de010e355c3\"\n",
      "  .. .. ..@ modulename  : chr \"stan_fit4model1de045576789_file1de04ed5549f_mod\"\n",
      "  .. .. ..@ system      : chr \"x86_64, mingw32\"\n",
      "  .. .. ..@ cxxflags    : chr \"CXXFLAGS = -O2 -Wall $(DEBUGFLAG) -mfpmath=sse -msse2 -mstackrealign $(LTO)\"\n",
      "  .. .. ..@ .CXXDSOMISC :<environment: 0x000002314f18e440> \n"
     ]
    }
   ],
   "source": [
    "str(Unif_stan_DSO_a)"
   ]
  },
  {
   "cell_type": "markdown",
   "metadata": {},
   "source": [
    "A `.dll` file named `dso_filename` is created in the temp folder:"
   ]
  },
  {
   "cell_type": "code",
   "execution_count": 9,
   "metadata": {},
   "outputs": [
    {
     "data": {
      "text/html": [
       "'C:\\\\Users\\\\josep\\\\AppData\\\\Local\\\\Temp'"
      ],
      "text/latex": [
       "'C:\\textbackslash{}\\textbackslash{}Users\\textbackslash{}\\textbackslash{}josep\\textbackslash{}\\textbackslash{}AppData\\textbackslash{}\\textbackslash{}Local\\textbackslash{}\\textbackslash{}Temp'"
      ],
      "text/markdown": [
       "'C:\\\\Users\\\\josep\\\\AppData\\\\Local\\\\Temp'"
      ],
      "text/plain": [
       "[1] \"C:\\\\Users\\\\josep\\\\AppData\\\\Local\\\\Temp\""
      ]
     },
     "metadata": {},
     "output_type": "display_data"
    }
   ],
   "source": [
    "Sys.getenv(\"TEMP\")"
   ]
  },
  {
   "cell_type": "markdown",
   "metadata": {},
   "source": [
    "### 02b - Directly do both: translate model to C++ and compile to DSO\n",
    "\n",
    "Usually we do not need the C++ code. Possibly only for debugging."
   ]
  },
  {
   "cell_type": "code",
   "execution_count": 10,
   "metadata": {
    "tags": []
   },
   "outputs": [],
   "source": [
    "Unif_stan_DSO_b <- stan_model( model_code=Unif_modelString ) "
   ]
  },
  {
   "cell_type": "code",
   "execution_count": 11,
   "metadata": {},
   "outputs": [
    {
     "name": "stdout",
     "output_type": "stream",
     "text": [
      "Formal class 'stanmodel' [package \"rstan\"] with 5 slots\n",
      "  ..@ model_name  : chr \"file1de04ed5549f\"\n",
      "  ..@ model_code  : chr \"    //functions {}\\n    //data{ }\\n    transformed data {}\\n    parameters{}\\n    transformed parameters {}\\n  \"| __truncated__\n",
      "  .. ..- attr(*, \"model_name2\")= chr \"file1de04ed5549f\"\n",
      "  ..@ model_cpp   :List of 2\n",
      "  .. ..$ model_cppname: chr \"model1de045576789_file1de04ed5549f\"\n",
      "  .. ..$ model_cppcode: chr \"#ifndef MODELS_HPP\\n#define MODELS_HPP\\n#define STAN__SERVICES__COMMAND_HPP\\n#include <rstan/rstaninc.hpp>\\n#if\"| __truncated__\n",
      "  ..@ mk_cppmodule:function (object)  \n",
      "  ..@ dso         :Formal class 'cxxdso' [package \"rstan\"] with 7 slots\n",
      "  .. .. ..@ sig         :List of 1\n",
      "  .. .. .. ..$ file1de010e355c3: chr(0) \n",
      "  .. .. ..@ dso_saved   : logi TRUE\n",
      "  .. .. ..@ dso_filename: chr \"file1de010e355c3\"\n",
      "  .. .. ..@ modulename  : chr \"stan_fit4model1de045576789_file1de04ed5549f_mod\"\n",
      "  .. .. ..@ system      : chr \"x86_64, mingw32\"\n",
      "  .. .. ..@ cxxflags    : chr \"CXXFLAGS = -O2 -Wall $(DEBUGFLAG) -mfpmath=sse -msse2 -mstackrealign $(LTO)\"\n",
      "  .. .. ..@ .CXXDSOMISC :<environment: 0x000002314f18e440> \n"
     ]
    }
   ],
   "source": [
    "str(Unif_stan_DSO_b)"
   ]
  },
  {
   "cell_type": "markdown",
   "metadata": {
    "tags": []
   },
   "source": [
    "## 03 - Enter data (if any), specify runtime quantities (if any), and execute the code"
   ]
  },
  {
   "cell_type": "markdown",
   "metadata": {},
   "source": [
    "For this model, the sampler must be configured to use the `\"Fixed_parameters\"` setting because there are no parameters. \n",
    "\n",
    "Without parameter sampling there is no need for adaptation and the number of warmup iterations should be set to zero   \n",
    "(See section 15.3. _Sampling without parameters_ in the Reference manual, pag. 180)."
   ]
  },
  {
   "cell_type": "code",
   "execution_count": 13,
   "metadata": {},
   "outputs": [],
   "source": [
    "# Specify data:\n",
    "dataList <- NULL"
   ]
  },
  {
   "cell_type": "code",
   "execution_count": 14,
   "metadata": {},
   "outputs": [
    {
     "name": "stdout",
     "output_type": "stream",
     "text": [
      "\n",
      "SAMPLING FOR MODEL 'file1de04ed5549f' NOW (CHAIN 1).\n",
      "Chain 1: Iteration:    1 / 4000 [  0%]  (Sampling)\n",
      "Chain 1: Iteration:  400 / 4000 [ 10%]  (Sampling)\n",
      "Chain 1: Iteration:  800 / 4000 [ 20%]  (Sampling)\n",
      "Chain 1: Iteration: 1200 / 4000 [ 30%]  (Sampling)\n",
      "Chain 1: Iteration: 1600 / 4000 [ 40%]  (Sampling)\n",
      "Chain 1: Iteration: 2000 / 4000 [ 50%]  (Sampling)\n",
      "Chain 1: Iteration: 2400 / 4000 [ 60%]  (Sampling)\n",
      "Chain 1: Iteration: 2800 / 4000 [ 70%]  (Sampling)\n",
      "Chain 1: Iteration: 3200 / 4000 [ 80%]  (Sampling)\n",
      "Chain 1: Iteration: 3600 / 4000 [ 90%]  (Sampling)\n",
      "Chain 1: Iteration: 4000 / 4000 [100%]  (Sampling)\n",
      "Chain 1: \n",
      "Chain 1:  Elapsed Time: 0 seconds (Warm-up)\n",
      "Chain 1:                0.003 seconds (Sampling)\n",
      "Chain 1:                0.003 seconds (Total)\n",
      "Chain 1: \n"
     ]
    }
   ],
   "source": [
    "# Generate posterior sample:\n",
    "Unif_stanFit <- sampling( object=Unif_stan_DSO_a, \n",
    "                     data = dataList, algorithm=\"Fixed_param\",\n",
    "                     chains = 1, seed = 24056, iter = 4000, warmup = 0, thin = 1)"
   ]
  },
  {
   "cell_type": "markdown",
   "metadata": {},
   "source": [
    "## The resulting `stanFit` object contains all the information\n",
    "\n",
    "The line below is usually commented due to its long output"
   ]
  },
  {
   "cell_type": "code",
   "execution_count": 15,
   "metadata": {},
   "outputs": [
    {
     "name": "stdout",
     "output_type": "stream",
     "text": [
      "Formal class 'stanfit' [package \"rstan\"] with 10 slots\n",
      "  ..@ model_name: chr \"file1de04ed5549f\"\n",
      "  ..@ model_pars: chr [1:2] \"y\" \"lp__\"\n",
      "  ..@ par_dims  :List of 2\n",
      "  .. ..$ y   : num(0) \n",
      "  .. ..$ lp__: num(0) \n",
      "  ..@ mode      : int 0\n",
      "  ..@ sim       :List of 12\n",
      "  .. ..$ samples    :List of 1\n",
      "  .. .. ..$ :List of 2\n",
      "  .. .. .. ..$ y   : num [1:4000] 0.0296 0.5901 0.8318 0.455 0.0172 ...\n",
      "  .. .. .. ..$ lp__: num [1:4000] 0 0 0 0 0 0 0 0 0 0 ...\n",
      "  .. .. .. ..- attr(*, \"test_grad\")= logi FALSE\n",
      "  .. .. .. ..- attr(*, \"args\")=List of 16\n",
      "  .. .. .. .. ..$ append_samples    : logi FALSE\n",
      "  .. .. .. .. ..$ chain_id          : num 1\n",
      "  .. .. .. .. ..$ control           :List of 11\n",
      "  .. .. .. .. .. ..$ adapt_delta      : num 0.8\n",
      "  .. .. .. .. .. ..$ adapt_engaged    : logi FALSE\n",
      "  .. .. .. .. .. ..$ adapt_gamma      : num 0.05\n",
      "  .. .. .. .. .. ..$ adapt_init_buffer: num 75\n",
      "  .. .. .. .. .. ..$ adapt_kappa      : num 0.75\n",
      "  .. .. .. .. .. ..$ adapt_t0         : num 10\n",
      "  .. .. .. .. .. ..$ adapt_term_buffer: num 50\n",
      "  .. .. .. .. .. ..$ adapt_window     : num 25\n",
      "  .. .. .. .. .. ..$ metric           : chr \"diag_e\"\n",
      "  .. .. .. .. .. ..$ stepsize         : num 1\n",
      "  .. .. .. .. .. ..$ stepsize_jitter  : num 0\n",
      "  .. .. .. .. ..$ enable_random_init: logi TRUE\n",
      "  .. .. .. .. ..$ init              : chr \"random\"\n",
      "  .. .. .. .. ..$ init_list         : NULL\n",
      "  .. .. .. .. ..$ init_radius       : num 2\n",
      "  .. .. .. .. ..$ iter              : int 4000\n",
      "  .. .. .. .. ..$ method            : chr \"sampling\"\n",
      "  .. .. .. .. ..$ random_seed       : chr \"24056\"\n",
      "  .. .. .. .. ..$ refresh           : int 400\n",
      "  .. .. .. .. ..$ sampler_t         : chr \"(diag_e)\"\n",
      "  .. .. .. .. ..$ save_warmup       : logi FALSE\n",
      "  .. .. .. .. ..$ test_grad         : logi FALSE\n",
      "  .. .. .. .. ..$ thin              : int 1\n",
      "  .. .. .. .. ..$ warmup            : int 0\n",
      "  .. .. .. ..- attr(*, \"inits\")= num 0.0296\n",
      "  .. .. .. ..- attr(*, \"mean_pars\")= num 0.498\n",
      "  .. .. .. ..- attr(*, \"mean_lp__\")= num 0\n",
      "  .. .. .. ..- attr(*, \"adaptation_info\")= chr \"\"\n",
      "  .. .. .. ..- attr(*, \"elapsed_time\")= Named num [1:2] 0 0.003\n",
      "  .. .. .. .. ..- attr(*, \"names\")= chr [1:2] \"warmup\" \"sample\"\n",
      "  .. .. .. ..- attr(*, \"sampler_params\")=List of 1\n",
      "  .. .. .. .. ..$ accept_stat__: num [1:4000] 0 0 0 0 0 0 0 0 0 0 ...\n",
      "  .. .. .. ..- attr(*, \"return_code\")= int 0\n",
      "  .. ..$ iter       : num 4000\n",
      "  .. ..$ thin       : num 1\n",
      "  .. ..$ warmup     : num 0\n",
      "  .. ..$ chains     : num 1\n",
      "  .. ..$ n_save     : num 4000\n",
      "  .. ..$ warmup2    : num 0\n",
      "  .. ..$ permutation:List of 1\n",
      "  .. .. ..$ : int [1:4000] 2306 3771 3198 2228 135 2251 3493 3349 1594 1964 ...\n",
      "  .. ..$ pars_oi    : chr [1:2] \"y\" \"lp__\"\n",
      "  .. ..$ dims_oi    :List of 2\n",
      "  .. .. ..$ y   : num(0) \n",
      "  .. .. ..$ lp__: num(0) \n",
      "  .. ..$ fnames_oi  : chr [1:2] \"y\" \"lp__\"\n",
      "  .. ..$ n_flatnames: int 2\n",
      "  ..@ inits     :List of 1\n",
      "  .. ..$ :List of 1\n",
      "  .. .. ..$ y: num 0.0296\n",
      "  ..@ stan_args :List of 1\n",
      "  .. ..$ :List of 8\n",
      "  .. .. ..$ chain_id : int 1\n",
      "  .. .. ..$ iter     : int 4000\n",
      "  .. .. ..$ thin     : int 1\n",
      "  .. .. ..$ seed     : int 24056\n",
      "  .. .. ..$ warmup   : num 0\n",
      "  .. .. ..$ init     : chr \"random\"\n",
      "  .. .. ..$ algorithm: chr \"Fixed_param\"\n",
      "  .. .. ..$ method   : chr \"sampling\"\n",
      "  ..@ stanmodel :Formal class 'stanmodel' [package \"rstan\"] with 5 slots\n",
      "  .. .. ..@ model_name  : chr \"file1de04ed5549f\"\n",
      "  .. .. ..@ model_code  : chr \"    //functions {}\\n    //data{ }\\n    transformed data {}\\n    parameters{}\\n    transformed parameters {}\\n  \"| __truncated__\n",
      "  .. .. .. ..- attr(*, \"model_name2\")= chr \"file1de04ed5549f\"\n",
      "  .. .. ..@ model_cpp   :List of 2\n",
      "  .. .. .. ..$ model_cppname: chr \"model1de045576789_file1de04ed5549f\"\n",
      "  .. .. .. ..$ model_cppcode: chr \"#ifndef MODELS_HPP\\n#define MODELS_HPP\\n#define STAN__SERVICES__COMMAND_HPP\\n#include <rstan/rstaninc.hpp>\\n#if\"| __truncated__\n",
      "  .. .. ..@ mk_cppmodule:function (object)  \n",
      "  .. .. ..@ dso         :Formal class 'cxxdso' [package \"rstan\"] with 7 slots\n",
      "  .. .. .. .. ..@ sig         :List of 1\n",
      "  .. .. .. .. .. ..$ file1de010e355c3: chr(0) \n",
      "  .. .. .. .. ..@ dso_saved   : logi TRUE\n",
      "  .. .. .. .. ..@ dso_filename: chr \"file1de010e355c3\"\n",
      "  .. .. .. .. ..@ modulename  : chr \"stan_fit4model1de045576789_file1de04ed5549f_mod\"\n",
      "  .. .. .. .. ..@ system      : chr \"x86_64, mingw32\"\n",
      "  .. .. .. .. ..@ cxxflags    : chr \"CXXFLAGS = -O2 -Wall $(DEBUGFLAG) -mfpmath=sse -msse2 -mstackrealign $(LTO)\"\n",
      "  .. .. .. .. ..@ .CXXDSOMISC :<environment: 0x000002314f18e440> \n",
      "  ..@ date      : chr \"Mon Feb 27 09:10:50 2023\"\n",
      "  ..@ .MISC     :<environment: 0x0000023151eb0d60> \n"
     ]
    }
   ],
   "source": [
    "str(Unif_stanFit)"
   ]
  },
  {
   "cell_type": "markdown",
   "metadata": {
    "tags": []
   },
   "source": [
    "## 04 - Extract random numbers"
   ]
  },
  {
   "cell_type": "code",
   "execution_count": 16,
   "metadata": {},
   "outputs": [
    {
     "name": "stdout",
     "output_type": "stream",
     "text": [
      "List of 2\n",
      " $ y   : num [1:4000(1d)] 0.766 0.258 0.822 0.825 0.614 ...\n",
      "  ..- attr(*, \"dimnames\")=List of 1\n",
      "  .. ..$ iterations: NULL\n",
      " $ lp__: num [1:4000(1d)] 0 0 0 0 0 0 0 0 0 0 ...\n",
      "  ..- attr(*, \"dimnames\")=List of 1\n",
      "  .. ..$ iterations: NULL\n"
     ]
    }
   ],
   "source": [
    "Unif_Rnd<-extract(Unif_stanFit)\n",
    "str(Unif_Rnd)"
   ]
  },
  {
   "cell_type": "code",
   "execution_count": 17,
   "metadata": {},
   "outputs": [
    {
     "name": "stdout",
     "output_type": "stream",
     "text": [
      "List of 1\n",
      " $ y: num [1:4000(1d)] 0.766 0.258 0.822 0.825 0.614 ...\n",
      "  ..- attr(*, \"dimnames\")=List of 1\n",
      "  .. ..$ iterations: NULL\n"
     ]
    }
   ],
   "source": [
    "y<-extract(Unif_stanFit,par=\"y\")\n",
    "str(y)"
   ]
  },
  {
   "cell_type": "code",
   "execution_count": 18,
   "metadata": {},
   "outputs": [
    {
     "name": "stdout",
     "output_type": "stream",
     "text": [
      " num [1:4000(1d)] 0.766 0.258 0.822 0.825 0.614 ...\n",
      " - attr(*, \"dimnames\")=List of 1\n",
      "  ..$ iterations: NULL\n"
     ]
    }
   ],
   "source": [
    "y<-extract(Unif_stanFit,par=\"y\")$y\n",
    "str(y)"
   ]
  },
  {
   "cell_type": "code",
   "execution_count": 19,
   "metadata": {},
   "outputs": [
    {
     "name": "stdout",
     "output_type": "stream",
     "text": [
      " num [1:4000(1d)] 0.766 0.258 0.822 0.825 0.614 ...\n"
     ]
    }
   ],
   "source": [
    "# Discard the unneeded attribute\n",
    "attr(y,\"dimnames\")<-NULL\n",
    "str(y)"
   ]
  },
  {
   "cell_type": "code",
   "execution_count": 20,
   "metadata": {},
   "outputs": [
    {
     "data": {
      "image/png": "[encoded data removed]",
      "text/plain": [
       "Plot with title \"Histogram of y\""
      ]
     },
     "metadata": {
      "image/png": {
       "height": 480,
       "width": 480
      }
     },
     "output_type": "display_data"
    }
   ],
   "source": [
    "options(repr.plot.width=8,repr.plot.height=8)\n",
    "hist(y,freq=FALSE,col=\"cyan\",xlim=c(-0.2,1.2), ylim=c(0,1.2),cex.main=1.8)"
   ]
  },
  {
   "cell_type": "code",
   "execution_count": 20,
   "metadata": {},
   "outputs": [
    {
     "data": {
      "image/png": "[encoded data removed]",
      "text/plain": [
       "Plot with title \"Series  y\""
      ]
     },
     "metadata": {
      "image/png": {
       "height": 420,
       "width": 420
      }
     },
     "output_type": "display_data"
    }
   ],
   "source": [
    "acf(y)"
   ]
  },
  {
   "cell_type": "markdown",
   "metadata": {},
   "source": [
    "# 2. A second example: random $\\gammadist(\\alpha,\\beta)$ numbers"
   ]
  },
  {
   "cell_type": "markdown",
   "metadata": {},
   "source": [
    "$$\n",
    "    \\gammadist(y|\\alpha,\\beta) = \\dfrac{\\beta^{\\alpha}}{\\Gamma(\\alpha)}\\,y^{\\alpha-1}\\,\\exp(-\\beta\\,y).\n",
    "$$"
   ]
  },
  {
   "cell_type": "markdown",
   "metadata": {},
   "source": [
    "## 01 - Write Stan code"
   ]
  },
  {
   "cell_type": "markdown",
   "metadata": {},
   "source": [
    "Now the function to use is: `gamma_rng(reals alpha, reals beta)`.\n",
    "\n",
    "$\\alpha$ and $\\beta$ are declared in the data block.\n",
    "\n",
    "We will enter numerical values for $\\alpha$ and $\\beta$ at runtime"
   ]
  },
  {
   "cell_type": "code",
   "execution_count": 21,
   "metadata": {},
   "outputs": [],
   "source": [
    "Gamma_modelString <- \"\n",
    "    //functions {}\n",
    "    data{\n",
    "        real<lower=0> alpha;\n",
    "        real<lower=0> beta;\n",
    "        }\n",
    "    transformed data {}\n",
    "    parameters{}\n",
    "    transformed parameters {}\n",
    "    model{ }\n",
    "    generated quantities{\n",
    "        real y=gamma_rng(alpha,beta);\n",
    "        }\n",
    "\""
   ]
  },
  {
   "cell_type": "markdown",
   "metadata": {},
   "source": [
    "## 02 - Compile to DSO"
   ]
  },
  {
   "cell_type": "code",
   "execution_count": 22,
   "metadata": {},
   "outputs": [
    {
     "name": "stdout",
     "output_type": "stream",
     "text": [
      "Formal class 'stanmodel' [package \"rstan\"] with 5 slots\n",
      "  ..@ model_name  : chr \"anon_model\"\n",
      "  ..@ model_code  : chr \"    //functions {}\\n    data{\\n        real<lower=0> alpha;\\n        real<lower=0> beta;\\n        }\\n    transf\"| __truncated__\n",
      "  .. ..- attr(*, \"model_name2\")= chr \"96da8e9d8a26eb07c9caaf8839d531ac\"\n",
      "  ..@ model_cpp   :List of 2\n",
      "  .. ..$ model_cppname: chr \"model1de066df2571_\"\n",
      "  .. ..$ model_cppcode: chr \"#ifndef MODELS_HPP\\n#define MODELS_HPP\\n#define STAN__SERVICES__COMMAND_HPP\\n#include <rstan/rstaninc.hpp>\\n#if\"| __truncated__\n",
      "  ..@ mk_cppmodule:function (object)  \n",
      "  ..@ dso         :Formal class 'cxxdso' [package \"rstan\"] with 7 slots\n",
      "  .. .. ..@ sig         :List of 1\n",
      "  .. .. .. ..$ file1de07c27653: chr(0) \n",
      "  .. .. ..@ dso_saved   : logi TRUE\n",
      "  .. .. ..@ dso_filename: chr \"file1de07c27653\"\n",
      "  .. .. ..@ modulename  : chr \"stan_fit4model1de066df2571__mod\"\n",
      "  .. .. ..@ system      : chr \"x86_64, mingw32\"\n",
      "  .. .. ..@ cxxflags    : chr \"CXXFLAGS = -O2 -Wall $(DEBUGFLAG) -mfpmath=sse -msse2 -mstackrealign $(LTO)\"\n",
      "  .. .. ..@ .CXXDSOMISC :<environment: 0x000002314f5d4e80> \n"
     ]
    }
   ],
   "source": [
    "Gamma_stanDso <- stan_model( model_code=Gamma_modelString ) \n",
    "str(Gamma_stanDso)"
   ]
  },
  {
   "cell_type": "markdown",
   "metadata": {},
   "source": [
    "## 03 - Specify runtime quantities and execute the code"
   ]
  },
  {
   "cell_type": "markdown",
   "metadata": {},
   "source": [
    "For this model, the sampler must be configured to use the `\"fixed-parameters\"` setting because there are no parameters. \n",
    "\n",
    "Without parameter sampling there is no need for adaptation and the number of warmup iterations should be set to zero    \n",
    "(See section 15.3. _Sampling without parameters_ in the Reference manual)."
   ]
  },
  {
   "cell_type": "code",
   "execution_count": 23,
   "metadata": {},
   "outputs": [],
   "source": [
    "# Specify data:\n",
    "a <-2\n",
    "b <-4\n",
    "Gamma_dataList <- list(\"alpha\" = a, \"beta\" = b)"
   ]
  },
  {
   "cell_type": "code",
   "execution_count": 24,
   "metadata": {},
   "outputs": [
    {
     "name": "stdout",
     "output_type": "stream",
     "text": [
      "\n",
      "SAMPLING FOR MODEL 'anon_model' NOW (CHAIN 1).\n",
      "Chain 1: Iteration:    1 / 10000 [  0%]  (Sampling)\n",
      "Chain 1: Iteration: 1000 / 10000 [ 10%]  (Sampling)\n",
      "Chain 1: Iteration: 2000 / 10000 [ 20%]  (Sampling)\n",
      "Chain 1: Iteration: 3000 / 10000 [ 30%]  (Sampling)\n",
      "Chain 1: Iteration: 4000 / 10000 [ 40%]  (Sampling)\n",
      "Chain 1: Iteration: 5000 / 10000 [ 50%]  (Sampling)\n",
      "Chain 1: Iteration: 6000 / 10000 [ 60%]  (Sampling)\n",
      "Chain 1: Iteration: 7000 / 10000 [ 70%]  (Sampling)\n",
      "Chain 1: Iteration: 8000 / 10000 [ 80%]  (Sampling)\n",
      "Chain 1: Iteration: 9000 / 10000 [ 90%]  (Sampling)\n",
      "Chain 1: Iteration: 10000 / 10000 [100%]  (Sampling)\n",
      "Chain 1: \n",
      "Chain 1:  Elapsed Time: 0 seconds (Warm-up)\n",
      "Chain 1:                0.01 seconds (Sampling)\n",
      "Chain 1:                0.01 seconds (Total)\n",
      "Chain 1: \n"
     ]
    }
   ],
   "source": [
    "# Generate posterior sample:\n",
    "Gamma_stanFit <- sampling( object=Gamma_stanDso, \n",
    "                     data = Gamma_dataList, algorithm=\"Fixed_param\",\n",
    "                     chains = 1, seed = 24056, iter = 10000, warmup = 0, thin = 1)"
   ]
  },
  {
   "cell_type": "markdown",
   "metadata": {
    "tags": []
   },
   "source": [
    "## 04 - Extract random numbers"
   ]
  },
  {
   "cell_type": "code",
   "execution_count": 25,
   "metadata": {},
   "outputs": [
    {
     "name": "stdout",
     "output_type": "stream",
     "text": [
      " num [1:10000(1d)] 0.477 1.097 0.141 1.046 0.159 ...\n"
     ]
    }
   ],
   "source": [
    "y<-extract(Gamma_stanFit,par=\"y\")$y\n",
    "# Discard the unneeded attribute\n",
    "attr(y,\"dimnames\")<-NULL\n",
    "str(y)"
   ]
  },
  {
   "cell_type": "code",
   "execution_count": 27,
   "metadata": {},
   "outputs": [
    {
     "data": {
      "image/png": "[encoded data removed]",
      "text/plain": [
       "Plot with title \"Histogram of Gamma(2.0,4.0) random numbers\n",
       "    \n",
       " with the superimposed theoretical pdf\""
      ]
     },
     "metadata": {
      "image/png": {
       "height": 540,
       "width": 480
      }
     },
     "output_type": "display_data"
    }
   ],
   "source": [
    "y.max<-max(y)\n",
    "u<-seq(0,y.max,length=1000)\n",
    "df.theor<-dgamma(u,shape=a,rate=b)\n",
    "f.max<-max(df.theor)\n",
    "options(repr.plot.width=8,repr.plot.height=9)\n",
    "hist(y,freq=FALSE,col=\"LightSkyBlue\",ylim=c(0,f.max*1.1),main=sprintf(\"Histogram of Gamma(%2.1f,%2.1f) random numbers\n",
    "    \\n with the superimposed theoretical pdf\",a,b),nclass=50,cex.main=1.8)\n",
    "lines(u,df.theor,lwd=3.5,col=\"blue\")"
   ]
  },
  {
   "cell_type": "code",
   "execution_count": null,
   "metadata": {},
   "outputs": [],
   "source": []
  }
 ],
 "metadata": {
  "kernelspec": {
   "display_name": "R",
   "language": "R",
   "name": "ir"
  },
  "language_info": {
   "codemirror_mode": "r",
   "file_extension": ".r",
   "mimetype": "text/x-r-source",
   "name": "R",
   "pygments_lexer": "r",
   "version": "4.2.2"
  }
 },
 "nbformat": 4,
 "nbformat_minor": 4
}
