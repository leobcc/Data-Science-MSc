{
 "cells": [
  {
   "cell_type": "markdown",
   "metadata": {},
   "source": [
    "# H05  - Rethinking - Prosocial chimpanzees"
   ]
  },
  {
   "cell_type": "markdown",
   "metadata": {},
   "source": [
    "# 2023-05-15\n",
    "\n",
    "## Data, explanation and code from Richard McElreath (2020),   \n",
    "## _\"Statistical Rethinking - 2nd ed\"_  (Chapters 11 and 13)"
   ]
  },
  {
   "cell_type": "markdown",
   "metadata": {},
   "source": [
    "# Prosocial chimpanzees\n",
    "\n",
    "The data for this example come from an experiment ($\\star$) aimed at evaluating the prosocial tendencies of chimpanzees _(Pan troglodytes)._ The experimental structure mimics many common experiments conducted on human students _(Homo sapiens studiensis)_ by economists and psychologists. \n",
    "\n",
    "($\\star$) Joan B. Silk _et al._ (2005), _\"Chimpanzees are indifferent to the welfare of unrelated group members\",_ Nature, **437,** 1357-1359. \n",
    "\n",
    "One year later there was a contesting paper: Beninger _et al._ (2006), _\"Chimpanzee choice and prosociality\",_ Nature **440,** E6,   \n",
    "and a reply from the original authors,_ Nature **440,** (same E6 page)."
   ]
  },
  {
   "cell_type": "markdown",
   "metadata": {},
   "source": [
    "A focal chimpanzee _(not shown in the picture, meant to represent its point-of-view)_ sits at one end of a long table with two levers, one on the left and one on the right:"
   ]
  },
  {
   "cell_type": "markdown",
   "metadata": {},
   "source": [
    "<figure>\n",
    "<Center><img src=\"Img/Chimpanzees.jpg\" style= \"width:8cm;height:8m\"/>\n",
    "<figcaption>\n",
    "Figure   11.2.  Chimpanzee   prosociality experiment, as seen from the perspective of  the  focal animal.   \n",
    "<p>The  left  and  right levers  are  indicated  in  the  foreground.</p>\n",
    "<p>Pulling  either expands  an  accordion  device in the center, pushing the food trays towards both ends of the table.</p>\n",
    "<p>Both food trays close to the focal animal have food in them.</p>\n",
    "<p>Only one of the food trays on the other side contains food.</p>\n",
    "<p>The partner condition means another animal, as pictured, sits on the other end of the table.</p>\n",
    "<p>Otherwise the other end was empty.</p>\n",
    "</figcaption></Center>\n",
    "</figure>"
   ]
  },
  {
   "cell_type": "markdown",
   "metadata": {},
   "source": [
    "On the table are four dishes which may contain desirable food items.\n",
    "\n",
    "The two dishes on the right side of the table are attached by a mechanism to the right-hand lever. \n",
    "\n",
    "The two dishes on the left side are similarly attached to the left-hand lever.\n",
    "\n",
    "When either the left or right lever is pulled by the focal animal, the two dishes on the same side slide towards opposite ends of the table. This delivers whatever is in those dishes to the opposite ends. In all experimental trials, both dishes on the focal animal's side contain food items. But only one of the dishes on the other side of the table contains a food item.\n",
    "\n",
    "Therefore while both levers deliver food to the focal animal, only one of the levers delivers food to the other side of the table. There are two experimental conditions. \n",
    "\n",
    "1. In the partner condition, another chimpanzee is seated at the opposite end of the table, _(as shown in the picture)._ \n",
    "2. In the control condition, the other side of the table is empty. Finally, two counterbalancing treatments alternate which side, left or right, has a food item for the other side of the table. This helps detect any handedness preferences for individual focal animals."
   ]
  },
  {
   "cell_type": "markdown",
   "metadata": {},
   "source": [
    "When human students participate in an experiment like this, they nearly always choose the lever linked to two pieces of food, the _prosocial option,_ but only when another student sits on the opposite side of the table. The motivating question is whether a focal chimpanzee behaves similarly, choosing the prosocial option more often when another animal is present.\n",
    "\n",
    "In terms of linear models, we want to estimate the interaction between condition (presence or absence of another animal) and option (which side is prosocial)."
   ]
  },
  {
   "cell_type": "code",
   "execution_count": 1,
   "metadata": {},
   "outputs": [
    {
     "name": "stderr",
     "output_type": "stream",
     "text": [
      "\n",
      "rstan version 2.26.13 (Stan version 2.26.1)\n",
      "\n",
      "\n",
      "For execution on a local, multicore CPU with excess RAM we recommend calling\n",
      "options(mc.cores = parallel::detectCores()).\n",
      "To avoid recompilation of unchanged Stan programs, we recommend calling\n",
      "rstan_options(auto_write = TRUE)\n",
      "For within-chain threading using `reduce_sum()` or `map_rect()` Stan functions,\n",
      "change `threads_per_chain` option:\n",
      "rstan_options(threads_per_chain = 1)\n",
      "\n",
      "\n",
      "Do not specify '-march=native' in 'LOCAL_CPPFLAGS' or a Makevars file\n",
      "\n",
      "This is cmdstanr version 0.5.3\n",
      "\n",
      "- CmdStanR documentation and vignettes: mc-stan.org/cmdstanr\n",
      "\n",
      "- CmdStan path: C:/R/R-4.3.0/.cmdstan/cmdstan-2.32.1\n",
      "\n",
      "- CmdStan version: 2.32.1\n",
      "\n",
      "rethinking (Version 2.31)\n",
      "\n",
      "\n",
      "Attaching package: 'rethinking'\n",
      "\n",
      "\n",
      "The following object is masked from 'package:rstan':\n",
      "\n",
      "    stan\n",
      "\n",
      "\n",
      "The following object is masked from 'package:stats':\n",
      "\n",
      "    rstudent\n",
      "\n",
      "\n"
     ]
    }
   ],
   "source": [
    "#install.packages(c(\"coda\",\"mvtnorm\",\"devtools\",\"loo\",\"dagitty\"))\n",
    "#require(devtools)\n",
    "#devtools::install_github(\"rmcelreath/rethinking\")\n",
    "\n",
    "## R code 11.1\n",
    "require(rethinking,quietly=TRUE)"
   ]
  },
  {
   "cell_type": "code",
   "execution_count": 2,
   "metadata": {},
   "outputs": [],
   "source": [
    "#set_cmdstan_path(\"C:/R/R-4.3.0/.cmdstan/cmdstan-2.32.1\")\n",
    "set_ulam_cmdstan(FALSE)"
   ]
  },
  {
   "cell_type": "markdown",
   "metadata": {},
   "source": [
    "## Chimpanzee prosocialty experiment data\n",
    "\n",
    "### Description\n",
    "\n",
    "Data from behavior trials in a captive group of chimpanzees, housed in Lousiana. From Silk et al. 2005. Nature 437:1357-1359.\n",
    "\n",
    "### Format\n",
    "\n",
    "01. `actor`:          name of actor\n",
    "01. `recipient`:      name of recipient (NA for partner absent condition)\n",
    "03. `condition`:      partner absent (0), partner present (1)\n",
    "04. `block`:          block of trials (each actor x each recipient 1 time)\n",
    "05. `trial`:          trial number (by chimp = ordinal sequence of trials for each chimp, ranges from 1-72; partner present trials were interspersed with partner absent trials)\n",
    "06. `prosocial_left`: 1 if prosocial (1/1) option was on left\n",
    "07. `chose_prosoc`:   choice chimp made (0 = 1/0 option, 1 = 1/1 option)\n",
    "08. `pulled_left`:    which side did chimp pull (1 = left, 0 = right)\n",
    "\n",
    "### Author(s)\n",
    "\n",
    "Richard McElreath\n",
    "\n",
    "### References\n",
    "\n",
    "Silk et al. 2005. Nature 437:1357-1359"
   ]
  },
  {
   "cell_type": "code",
   "execution_count": 3,
   "metadata": {},
   "outputs": [
    {
     "name": "stdout",
     "output_type": "stream",
     "text": [
      "'data.frame':\t504 obs. of  8 variables:\n",
      " $ actor       : int  1 1 1 1 1 1 1 1 1 1 ...\n",
      " $ recipient   : int  NA NA NA NA NA NA NA NA NA NA ...\n",
      " $ condition   : int  0 0 0 0 0 0 0 0 0 0 ...\n",
      " $ block       : int  1 1 1 1 1 1 2 2 2 2 ...\n",
      " $ trial       : int  2 4 6 8 10 12 14 16 18 20 ...\n",
      " $ prosoc_left : int  0 0 1 0 1 1 1 1 0 0 ...\n",
      " $ chose_prosoc: int  1 0 0 1 1 1 0 0 1 1 ...\n",
      " $ pulled_left : int  0 1 0 0 1 1 0 0 0 0 ...\n"
     ]
    }
   ],
   "source": [
    "data(chimpanzees)\n",
    "d <- chimpanzees\n",
    "str(d)"
   ]
  },
  {
   "cell_type": "markdown",
   "metadata": {},
   "source": [
    "We're going to focus on `pulled_left` as the outcome to predict, with `prosoc_left` and `condition` as predictor variables. The outcome pulled_left is a 0 or 1 indicator that the focal animal pulled the left-hand lever. \n",
    "\n",
    "The predictor `prosoc_left` is a 0/1 indicator that the left-hand lever was (1) or was not (0) attached to the prosocial option, the side with two pieces of food. The `condition` predictor is another 0/1 indicator, with value 1 for the partner\n",
    "condition and value 0 for the control condition.\n",
    "\n",
    "We'll want to infer what happens in each combination of prosoc_left and condition. There are four combinations:\n",
    "\n",
    "1.   `prosoc_left`= 0 and `condition`= 0: Two food items on right and no partner.\n",
    "2.   `prosoc_left`= 1 and `condition`= 0: Two food items on left and no partner.\n",
    "3.   `prosoc_left`= 0 and `condition`= 1: Two food items on right and partner present.\n",
    "4.   `prosoc_left`= 1 and `condition`= 1: Two food items on left and partner present.\n",
    "\n",
    "We build an index variable containing the values 1 through 4, to index the combinations above. A very quick way to do\n",
    "this is:"
   ]
  },
  {
   "cell_type": "code",
   "execution_count": 4,
   "metadata": {},
   "outputs": [],
   "source": [
    "## R code 11.2\n",
    "d$treatment <- 1 + d$prosoc_left + 2*d$condition"
   ]
  },
  {
   "cell_type": "markdown",
   "metadata": {},
   "source": [
    "The Figure above shows an instance of **Condition 3:** Two food items on right and partner present. "
   ]
  },
  {
   "cell_type": "code",
   "execution_count": 5,
   "metadata": {},
   "outputs": [
    {
     "data": {
      "text/plain": [
       ", , condition = 0\n",
       "\n",
       "         prosoc_left\n",
       "treatment   0   1\n",
       "        1 126   0\n",
       "        2   0 126\n",
       "        3   0   0\n",
       "        4   0   0\n",
       "\n",
       ", , condition = 1\n",
       "\n",
       "         prosoc_left\n",
       "treatment   0   1\n",
       "        1   0   0\n",
       "        2   0   0\n",
       "        3 126   0\n",
       "        4   0 126\n"
      ]
     },
     "metadata": {},
     "output_type": "display_data"
    }
   ],
   "source": [
    "## R code 11.3\n",
    "xtabs( ~ treatment + prosoc_left + condition , d )"
   ]
  },
  {
   "cell_type": "markdown",
   "metadata": {},
   "source": [
    "# Logistic regression model 01 - Laplace approximation"
   ]
  },
  {
   "cell_type": "markdown",
   "metadata": {},
   "source": [
    "$$\n",
    "\\mskip-500mu\n",
    "    \\begin{array}{lcl}\n",
    "        L_{i}                       &\\sim &\\operatorname{Binomial}(1; p_{i}),\\\\[0.25cm]\n",
    "        \\operatorname{logit}(p_{i}) &=    &\\alpha,\\\\[0.25cm]\n",
    "        \\alpha                      &\\sim &\\operatorname{Normal}(0; \\omega).\n",
    "    \\end{array}\n",
    "$$\n",
    "\n",
    "Flat prior: $\\omega=10$ "
   ]
  },
  {
   "cell_type": "code",
   "execution_count": 6,
   "metadata": {},
   "outputs": [],
   "source": [
    "## R code 11.4\n",
    "m11.1 <- quap(\n",
    "    alist(\n",
    "        pulled_left ~ dbinom( 1 , p ) ,\n",
    "        logit(p) <- a ,\n",
    "        a ~ dnorm( 0 , 1.5 )\n",
    "    ) , data=d )"
   ]
  },
  {
   "cell_type": "code",
   "execution_count": 7,
   "metadata": {},
   "outputs": [],
   "source": [
    "## R code 11.5\n",
    "set.seed(1999)\n",
    "prior <- extract.prior( m11.1 , n=1e4 )"
   ]
  },
  {
   "cell_type": "code",
   "execution_count": 8,
   "metadata": {},
   "outputs": [
    {
     "data": {
      "image/png": "[encoded data removed]",
      "text/plain": [
       "Plot with title \"\""
      ]
     },
     "metadata": {
      "image/png": {
       "height": 420,
       "width": 420
      }
     },
     "output_type": "display_data"
    }
   ],
   "source": [
    "## R code 11.6\n",
    "p <- inv_logit( prior$a )\n",
    "options(repr.plot.width=7,repr.plot.height=7)\n",
    "dens( p , adj=0.1 ,ylim=c(0,5))"
   ]
  },
  {
   "cell_type": "markdown",
   "metadata": {},
   "source": [
    "# Logistic regression model 02 - Laplace approximation"
   ]
  },
  {
   "cell_type": "markdown",
   "metadata": {},
   "source": [
    "We introduce a treatment coefficient `b` (with different values for each of the 4 possible treatments)"
   ]
  },
  {
   "cell_type": "code",
   "execution_count": 9,
   "metadata": {},
   "outputs": [],
   "source": [
    "## R code 11.7\n",
    "m11.2 <- quap(\n",
    "    alist(\n",
    "        pulled_left ~ dbinom( 1 , p ) ,\n",
    "        logit(p) <- a + b[treatment] ,\n",
    "        a ~ dnorm( 0 , 1.5 ),\n",
    "        b[treatment] ~ dnorm( 0 , 10 )\n",
    "    ) , data=d )"
   ]
  },
  {
   "cell_type": "code",
   "execution_count": 10,
   "metadata": {},
   "outputs": [],
   "source": [
    "set.seed(1999)\n",
    "prior <- extract.prior( m11.2 , n=1e4 )\n",
    "p <- sapply( 1:4 , function(k) inv_logit( prior$a + prior$b[,k] ) )"
   ]
  },
  {
   "cell_type": "code",
   "execution_count": 11,
   "metadata": {},
   "outputs": [
    {
     "data": {
      "image/png": "[encoded data removed]",
      "text/plain": [
       "Plot with title \"\""
      ]
     },
     "metadata": {
      "image/png": {
       "height": 420,
       "width": 420
      }
     },
     "output_type": "display_data"
    }
   ],
   "source": [
    "## R code 11.8\n",
    "options(repr.plot.width=7,repr.plot.height=7)\n",
    "dens( abs( p[,1] - p[,2] ) , adj=0.1 )"
   ]
  },
  {
   "cell_type": "markdown",
   "metadata": {},
   "source": [
    "Now with treatment prior std dev =0.5"
   ]
  },
  {
   "cell_type": "code",
   "execution_count": 12,
   "metadata": {},
   "outputs": [],
   "source": [
    "## R code 11.9\n",
    "m11.3 <- quap(\n",
    "    alist(\n",
    "        pulled_left ~ dbinom( 1 , p ) ,\n",
    "        logit(p) <- a + b[treatment] ,\n",
    "        a ~ dnorm( 0 , 1.5 ),\n",
    "        b[treatment] ~ dnorm( 0 , 0.5 )\n",
    "    ) , data=d )"
   ]
  },
  {
   "cell_type": "code",
   "execution_count": 13,
   "metadata": {},
   "outputs": [
    {
     "data": {
      "text/html": [
       "0.0983866320386242"
      ],
      "text/latex": [
       "0.0983866320386242"
      ],
      "text/markdown": [
       "0.0983866320386242"
      ],
      "text/plain": [
       "[1] 0.09838663"
      ]
     },
     "metadata": {},
     "output_type": "display_data"
    }
   ],
   "source": [
    "set.seed(1999)\n",
    "prior <- extract.prior( m11.3 , n=1e4 )\n",
    "p <- sapply( 1:4 , function(k) inv_logit( prior$a + prior$b[,k] ) )\n",
    "mean( abs( p[,1] - p[,2] ) )"
   ]
  },
  {
   "cell_type": "code",
   "execution_count": 14,
   "metadata": {},
   "outputs": [
    {
     "data": {
      "image/png": "[encoded data removed]",
      "text/plain": [
       "Plot with title \"\""
      ]
     },
     "metadata": {
      "image/png": {
       "height": 420,
       "width": 420
      }
     },
     "output_type": "display_data"
    }
   ],
   "source": [
    "options(repr.plot.width=7,repr.plot.height=7)\n",
    "dens( abs( p[,1] - p[,2] ),adj=0.1 )"
   ]
  },
  {
   "cell_type": "markdown",
   "metadata": {},
   "source": [
    "# Logistic regression - MCMC sampling from the posterior"
   ]
  },
  {
   "cell_type": "code",
   "execution_count": 15,
   "metadata": {},
   "outputs": [],
   "source": [
    "## R code 11.10\n",
    "# trimmed data list\n",
    "dat_list <- list(\n",
    "    pulled_left = d$pulled_left,\n",
    "    actor = d$actor,\n",
    "    treatment = as.integer(d$treatment) )"
   ]
  },
  {
   "cell_type": "code",
   "execution_count": 16,
   "metadata": {},
   "outputs": [
    {
     "name": "stdout",
     "output_type": "stream",
     "text": [
      "\n",
      "SAMPLING FOR MODEL 'anon_model' NOW (CHAIN 1).\n",
      "Chain 1: \n",
      "Chain 1: Gradient evaluation took 7.9e-05 seconds\n",
      "Chain 1: 1000 transitions using 10 leapfrog steps per transition would take 0.79 seconds.\n",
      "Chain 1: Adjust your expectations accordingly!\n",
      "Chain 1: \n",
      "Chain 1: \n",
      "Chain 1: Iteration:   1 / 1000 [  0%]  (Warmup)\n",
      "Chain 1: Iteration: 100 / 1000 [ 10%]  (Warmup)\n",
      "Chain 1: Iteration: 200 / 1000 [ 20%]  (Warmup)\n",
      "Chain 1: Iteration: 300 / 1000 [ 30%]  (Warmup)\n",
      "Chain 1: Iteration: 400 / 1000 [ 40%]  (Warmup)\n",
      "Chain 1: Iteration: 500 / 1000 [ 50%]  (Warmup)\n",
      "Chain 1: Iteration: 501 / 1000 [ 50%]  (Sampling)\n",
      "Chain 1: Iteration: 600 / 1000 [ 60%]  (Sampling)\n",
      "Chain 1: Iteration: 700 / 1000 [ 70%]  (Sampling)\n",
      "Chain 1: Iteration: 800 / 1000 [ 80%]  (Sampling)\n",
      "Chain 1: Iteration: 900 / 1000 [ 90%]  (Sampling)\n",
      "Chain 1: Iteration: 1000 / 1000 [100%]  (Sampling)\n",
      "Chain 1: \n",
      "Chain 1:  Elapsed Time: 0.332 seconds (Warm-up)\n",
      "Chain 1:                0.359 seconds (Sampling)\n",
      "Chain 1:                0.691 seconds (Total)\n",
      "Chain 1: \n",
      "\n",
      "SAMPLING FOR MODEL 'anon_model' NOW (CHAIN 2).\n",
      "Chain 2: \n",
      "Chain 2: Gradient evaluation took 4.5e-05 seconds\n",
      "Chain 2: 1000 transitions using 10 leapfrog steps per transition would take 0.45 seconds.\n",
      "Chain 2: Adjust your expectations accordingly!\n",
      "Chain 2: \n",
      "Chain 2: \n",
      "Chain 2: Iteration:   1 / 1000 [  0%]  (Warmup)\n",
      "Chain 2: Iteration: 100 / 1000 [ 10%]  (Warmup)\n",
      "Chain 2: Iteration: 200 / 1000 [ 20%]  (Warmup)\n",
      "Chain 2: Iteration: 300 / 1000 [ 30%]  (Warmup)\n",
      "Chain 2: Iteration: 400 / 1000 [ 40%]  (Warmup)\n",
      "Chain 2: Iteration: 500 / 1000 [ 50%]  (Warmup)\n",
      "Chain 2: Iteration: 501 / 1000 [ 50%]  (Sampling)\n",
      "Chain 2: Iteration: 600 / 1000 [ 60%]  (Sampling)\n",
      "Chain 2: Iteration: 700 / 1000 [ 70%]  (Sampling)\n",
      "Chain 2: Iteration: 800 / 1000 [ 80%]  (Sampling)\n",
      "Chain 2: Iteration: 900 / 1000 [ 90%]  (Sampling)\n",
      "Chain 2: Iteration: 1000 / 1000 [100%]  (Sampling)\n",
      "Chain 2: \n",
      "Chain 2:  Elapsed Time: 0.35 seconds (Warm-up)\n",
      "Chain 2:                0.289 seconds (Sampling)\n",
      "Chain 2:                0.639 seconds (Total)\n",
      "Chain 2: \n",
      "\n",
      "SAMPLING FOR MODEL 'anon_model' NOW (CHAIN 3).\n",
      "Chain 3: \n",
      "Chain 3: Gradient evaluation took 4.3e-05 seconds\n",
      "Chain 3: 1000 transitions using 10 leapfrog steps per transition would take 0.43 seconds.\n",
      "Chain 3: Adjust your expectations accordingly!\n",
      "Chain 3: \n",
      "Chain 3: \n",
      "Chain 3: Iteration:   1 / 1000 [  0%]  (Warmup)\n",
      "Chain 3: Iteration: 100 / 1000 [ 10%]  (Warmup)\n",
      "Chain 3: Iteration: 200 / 1000 [ 20%]  (Warmup)\n",
      "Chain 3: Iteration: 300 / 1000 [ 30%]  (Warmup)\n",
      "Chain 3: Iteration: 400 / 1000 [ 40%]  (Warmup)\n",
      "Chain 3: Iteration: 500 / 1000 [ 50%]  (Warmup)\n",
      "Chain 3: Iteration: 501 / 1000 [ 50%]  (Sampling)\n",
      "Chain 3: Iteration: 600 / 1000 [ 60%]  (Sampling)\n",
      "Chain 3: Iteration: 700 / 1000 [ 70%]  (Sampling)\n",
      "Chain 3: Iteration: 800 / 1000 [ 80%]  (Sampling)\n",
      "Chain 3: Iteration: 900 / 1000 [ 90%]  (Sampling)\n",
      "Chain 3: Iteration: 1000 / 1000 [100%]  (Sampling)\n",
      "Chain 3: \n",
      "Chain 3:  Elapsed Time: 0.346 seconds (Warm-up)\n",
      "Chain 3:                0.27 seconds (Sampling)\n",
      "Chain 3:                0.616 seconds (Total)\n",
      "Chain 3: \n",
      "\n",
      "SAMPLING FOR MODEL 'anon_model' NOW (CHAIN 4).\n",
      "Chain 4: \n",
      "Chain 4: Gradient evaluation took 4.8e-05 seconds\n",
      "Chain 4: 1000 transitions using 10 leapfrog steps per transition would take 0.48 seconds.\n",
      "Chain 4: Adjust your expectations accordingly!\n",
      "Chain 4: \n",
      "Chain 4: \n",
      "Chain 4: Iteration:   1 / 1000 [  0%]  (Warmup)\n",
      "Chain 4: Iteration: 100 / 1000 [ 10%]  (Warmup)\n",
      "Chain 4: Iteration: 200 / 1000 [ 20%]  (Warmup)\n",
      "Chain 4: Iteration: 300 / 1000 [ 30%]  (Warmup)\n",
      "Chain 4: Iteration: 400 / 1000 [ 40%]  (Warmup)\n",
      "Chain 4: Iteration: 500 / 1000 [ 50%]  (Warmup)\n",
      "Chain 4: Iteration: 501 / 1000 [ 50%]  (Sampling)\n",
      "Chain 4: Iteration: 600 / 1000 [ 60%]  (Sampling)\n",
      "Chain 4: Iteration: 700 / 1000 [ 70%]  (Sampling)\n",
      "Chain 4: Iteration: 800 / 1000 [ 80%]  (Sampling)\n",
      "Chain 4: Iteration: 900 / 1000 [ 90%]  (Sampling)\n",
      "Chain 4: Iteration: 1000 / 1000 [100%]  (Sampling)\n",
      "Chain 4: \n",
      "Chain 4:  Elapsed Time: 0.343 seconds (Warm-up)\n",
      "Chain 4:                0.289 seconds (Sampling)\n",
      "Chain 4:                0.632 seconds (Total)\n",
      "Chain 4: \n"
     ]
    }
   ],
   "source": [
    "## R code 11.11\n",
    "m11.4 <- ulam(\n",
    "    cmdstan=FALSE,\n",
    "    alist(\n",
    "        pulled_left ~ dbinom( 1 , p ) ,\n",
    "        logit(p) <- a[actor] + b[treatment] ,\n",
    "        a[actor] ~ dnorm( 0 , 1.5 ),\n",
    "        b[treatment] ~ dnorm( 0 , 0.5 )\n",
    "    ) , data=dat_list , chains=4 , log_lik=TRUE )"
   ]
  },
  {
   "cell_type": "code",
   "execution_count": 17,
   "metadata": {},
   "outputs": [
    {
     "data": {
      "text/html": [
       "<table class=\"dataframe\">\n",
       "<caption>A precis: 11 × 6</caption>\n",
       "<thead>\n",
       "\t<tr><th></th><th scope=col>mean</th><th scope=col>sd</th><th scope=col>5.5%</th><th scope=col>94.5%</th><th scope=col>n_eff</th><th scope=col>Rhat4</th></tr>\n",
       "\t<tr><th></th><th scope=col>&lt;dbl&gt;</th><th scope=col>&lt;dbl&gt;</th><th scope=col>&lt;dbl&gt;</th><th scope=col>&lt;dbl&gt;</th><th scope=col>&lt;dbl&gt;</th><th scope=col>&lt;dbl&gt;</th></tr>\n",
       "</thead>\n",
       "<tbody>\n",
       "\t<tr><th scope=row>a[1]</th><td>-0.45452838</td><td>0.3278455</td><td>-0.97428979</td><td> 0.05633733</td><td> 618.6859</td><td>1.007790</td></tr>\n",
       "\t<tr><th scope=row>a[2]</th><td> 3.87570394</td><td>0.7275517</td><td> 2.76657713</td><td> 5.14747922</td><td>1306.5162</td><td>1.002516</td></tr>\n",
       "\t<tr><th scope=row>a[3]</th><td>-0.75030298</td><td>0.3319683</td><td>-1.27857582</td><td>-0.22199795</td><td> 658.6755</td><td>1.006012</td></tr>\n",
       "\t<tr><th scope=row>a[4]</th><td>-0.74646697</td><td>0.3353481</td><td>-1.28305292</td><td>-0.23289459</td><td> 671.8760</td><td>1.010255</td></tr>\n",
       "\t<tr><th scope=row>a[5]</th><td>-0.45025996</td><td>0.3204826</td><td>-0.97250608</td><td> 0.03983956</td><td> 872.4934</td><td>1.001939</td></tr>\n",
       "\t<tr><th scope=row>a[6]</th><td> 0.47748575</td><td>0.3135428</td><td>-0.01167141</td><td> 0.98821730</td><td> 629.0855</td><td>1.009149</td></tr>\n",
       "\t<tr><th scope=row>a[7]</th><td> 1.95036354</td><td>0.4097641</td><td> 1.29196633</td><td> 2.60978487</td><td> 986.1479</td><td>1.001770</td></tr>\n",
       "\t<tr><th scope=row>b[1]</th><td>-0.03940276</td><td>0.2789146</td><td>-0.47517233</td><td> 0.39103998</td><td> 683.5683</td><td>1.007147</td></tr>\n",
       "\t<tr><th scope=row>b[2]</th><td> 0.48303991</td><td>0.2798537</td><td> 0.04147342</td><td> 0.91432370</td><td> 633.8484</td><td>1.005394</td></tr>\n",
       "\t<tr><th scope=row>b[3]</th><td>-0.38082565</td><td>0.2764895</td><td>-0.82897775</td><td> 0.05710524</td><td> 632.3770</td><td>1.006771</td></tr>\n",
       "\t<tr><th scope=row>b[4]</th><td> 0.37491068</td><td>0.2740707</td><td>-0.06246763</td><td> 0.80819481</td><td> 592.1209</td><td>1.008426</td></tr>\n",
       "</tbody>\n",
       "</table>\n"
      ],
      "text/latex": [
       "A precis: 11 × 6\n",
       "\\begin{tabular}{r|llllll}\n",
       "  & mean & sd & 5.5\\% & 94.5\\% & n\\_eff & Rhat4\\\\\n",
       "  & <dbl> & <dbl> & <dbl> & <dbl> & <dbl> & <dbl>\\\\\n",
       "\\hline\n",
       "\ta{[}1{]} & -0.45452838 & 0.3278455 & -0.97428979 &  0.05633733 &  618.6859 & 1.007790\\\\\n",
       "\ta{[}2{]} &  3.87570394 & 0.7275517 &  2.76657713 &  5.14747922 & 1306.5162 & 1.002516\\\\\n",
       "\ta{[}3{]} & -0.75030298 & 0.3319683 & -1.27857582 & -0.22199795 &  658.6755 & 1.006012\\\\\n",
       "\ta{[}4{]} & -0.74646697 & 0.3353481 & -1.28305292 & -0.23289459 &  671.8760 & 1.010255\\\\\n",
       "\ta{[}5{]} & -0.45025996 & 0.3204826 & -0.97250608 &  0.03983956 &  872.4934 & 1.001939\\\\\n",
       "\ta{[}6{]} &  0.47748575 & 0.3135428 & -0.01167141 &  0.98821730 &  629.0855 & 1.009149\\\\\n",
       "\ta{[}7{]} &  1.95036354 & 0.4097641 &  1.29196633 &  2.60978487 &  986.1479 & 1.001770\\\\\n",
       "\tb{[}1{]} & -0.03940276 & 0.2789146 & -0.47517233 &  0.39103998 &  683.5683 & 1.007147\\\\\n",
       "\tb{[}2{]} &  0.48303991 & 0.2798537 &  0.04147342 &  0.91432370 &  633.8484 & 1.005394\\\\\n",
       "\tb{[}3{]} & -0.38082565 & 0.2764895 & -0.82897775 &  0.05710524 &  632.3770 & 1.006771\\\\\n",
       "\tb{[}4{]} &  0.37491068 & 0.2740707 & -0.06246763 &  0.80819481 &  592.1209 & 1.008426\\\\\n",
       "\\end{tabular}\n"
      ],
      "text/markdown": [
       "\n",
       "A precis: 11 × 6\n",
       "\n",
       "| <!--/--> | mean &lt;dbl&gt; | sd &lt;dbl&gt; | 5.5% &lt;dbl&gt; | 94.5% &lt;dbl&gt; | n_eff &lt;dbl&gt; | Rhat4 &lt;dbl&gt; |\n",
       "|---|---|---|---|---|---|---|\n",
       "| a[1] | -0.45452838 | 0.3278455 | -0.97428979 |  0.05633733 |  618.6859 | 1.007790 |\n",
       "| a[2] |  3.87570394 | 0.7275517 |  2.76657713 |  5.14747922 | 1306.5162 | 1.002516 |\n",
       "| a[3] | -0.75030298 | 0.3319683 | -1.27857582 | -0.22199795 |  658.6755 | 1.006012 |\n",
       "| a[4] | -0.74646697 | 0.3353481 | -1.28305292 | -0.23289459 |  671.8760 | 1.010255 |\n",
       "| a[5] | -0.45025996 | 0.3204826 | -0.97250608 |  0.03983956 |  872.4934 | 1.001939 |\n",
       "| a[6] |  0.47748575 | 0.3135428 | -0.01167141 |  0.98821730 |  629.0855 | 1.009149 |\n",
       "| a[7] |  1.95036354 | 0.4097641 |  1.29196633 |  2.60978487 |  986.1479 | 1.001770 |\n",
       "| b[1] | -0.03940276 | 0.2789146 | -0.47517233 |  0.39103998 |  683.5683 | 1.007147 |\n",
       "| b[2] |  0.48303991 | 0.2798537 |  0.04147342 |  0.91432370 |  633.8484 | 1.005394 |\n",
       "| b[3] | -0.38082565 | 0.2764895 | -0.82897775 |  0.05710524 |  632.3770 | 1.006771 |\n",
       "| b[4] |  0.37491068 | 0.2740707 | -0.06246763 |  0.80819481 |  592.1209 | 1.008426 |\n",
       "\n"
      ],
      "text/plain": [
       "     mean        sd        5.5%        94.5%       n_eff     Rhat4   \n",
       "a[1] -0.45452838 0.3278455 -0.97428979  0.05633733  618.6859 1.007790\n",
       "a[2]  3.87570394 0.7275517  2.76657713  5.14747922 1306.5162 1.002516\n",
       "a[3] -0.75030298 0.3319683 -1.27857582 -0.22199795  658.6755 1.006012\n",
       "a[4] -0.74646697 0.3353481 -1.28305292 -0.23289459  671.8760 1.010255\n",
       "a[5] -0.45025996 0.3204826 -0.97250608  0.03983956  872.4934 1.001939\n",
       "a[6]  0.47748575 0.3135428 -0.01167141  0.98821730  629.0855 1.009149\n",
       "a[7]  1.95036354 0.4097641  1.29196633  2.60978487  986.1479 1.001770\n",
       "b[1] -0.03940276 0.2789146 -0.47517233  0.39103998  683.5683 1.007147\n",
       "b[2]  0.48303991 0.2798537  0.04147342  0.91432370  633.8484 1.005394\n",
       "b[3] -0.38082565 0.2764895 -0.82897775  0.05710524  632.3770 1.006771\n",
       "b[4]  0.37491068 0.2740707 -0.06246763  0.80819481  592.1209 1.008426"
      ]
     },
     "metadata": {},
     "output_type": "display_data"
    }
   ],
   "source": [
    "precis( m11.4 , depth=2 )"
   ]
  },
  {
   "cell_type": "code",
   "execution_count": 18,
   "metadata": {},
   "outputs": [
    {
     "data": {
      "image/png": "[encoded data removed]",
      "text/plain": [
       "plot without title"
      ]
     },
     "metadata": {
      "image/png": {
       "height": 300,
       "width": 420
      }
     },
     "output_type": "display_data"
    }
   ],
   "source": [
    "## R code 11.12\n",
    "post <- extract.samples(m11.4)\n",
    "p_left <- inv_logit( post$a )\n",
    "options(repr.plot.width=7,repr.plot.height=5)\n",
    "plot( precis( as.data.frame(p_left) ) , xlim=c(0,1) )"
   ]
  },
  {
   "cell_type": "code",
   "execution_count": 19,
   "metadata": {},
   "outputs": [
    {
     "data": {
      "image/png": "[encoded data removed]",
      "text/plain": [
       "plot without title"
      ]
     },
     "metadata": {
      "image/png": {
       "height": 300,
       "width": 420
      }
     },
     "output_type": "display_data"
    }
   ],
   "source": [
    "## R code 11.13\n",
    "labs <- c(\"R/N\",\"L/N\",\"R/P\",\"L/P\")\n",
    "options(repr.plot.width=7,repr.plot.height=5)\n",
    "plot( precis( m11.4 , depth=2 , pars=\"b\" ) , labels=labs )"
   ]
  },
  {
   "cell_type": "markdown",
   "metadata": {},
   "source": [
    "L/N means \"prosocial on left/no partner\". R/P means \"prosocial on right/partner\". To understand these distributions, it'll\n",
    "help to consider our expectations. What we are looking for is evidence that the chimpanzees choose the prosocial option more when a partner is present. \n",
    "\n",
    "This implies comparing the first row with the third row and the second row with the fourth row. You can probably see already that there isn't much evidence of prosocial intention in these data. \n",
    "\n",
    "But let's calculate  the differences between no-partner/partner and make sure."
   ]
  },
  {
   "cell_type": "code",
   "execution_count": 20,
   "metadata": {},
   "outputs": [
    {
     "data": {
      "image/png": "[encoded data removed]",
      "text/plain": [
       "plot without title"
      ]
     },
     "metadata": {
      "image/png": {
       "height": 300,
       "width": 420
      }
     },
     "output_type": "display_data"
    }
   ],
   "source": [
    "## R code 11.14\n",
    "diffs <- list(\n",
    "    db13 = post$b[,1] - post$b[,3],\n",
    "    db24 = post$b[,2] - post$b[,4] )\n",
    "options(repr.plot.width=7,repr.plot.height=5)\n",
    "plot( precis(diffs) )"
   ]
  },
  {
   "cell_type": "markdown",
   "metadata": {},
   "source": [
    "These are the constrasts between the no-partner/partner treatments. The scale is log-odds of pulling the left lever still. \n",
    "\n",
    "`db13` is the difference between no-partner/partner treatments when the prosocial option was on the right. So if there is evidence of more prosocial choice when partner is present, this will show up here as a larger difference, consistent with pulling right more when partner is present. There is indeed weak evidence that individuals pulled left more when the partner was absent, but the compatibility interval is quite wide. \n",
    "\n",
    "`db24` is the same difference, but for when the prosocial option was on the left. Now negative differences would be consistent with more prosocial choice when partner is present. Clearly that is not the case. If anything, individuals chose prosocial more when partner was absent. Overall, there isn't any compelling evidence of prosocial choice in this experiment."
   ]
  },
  {
   "cell_type": "markdown",
   "metadata": {},
   "source": [
    "Now let's consider a _posterior prediction check._ Let's summarize the proportions of left pulls for each actor in each treatment and then plot against the posterior predictions. \n",
    "\n",
    "First, calculate the proportion in each combination of actor and treatment in the original data:"
   ]
  },
  {
   "cell_type": "code",
   "execution_count": 21,
   "metadata": {},
   "outputs": [
    {
     "data": {
      "text/html": [
       "<table class=\"dataframe\">\n",
       "<caption>A matrix: 7 × 4 of type dbl</caption>\n",
       "<tbody>\n",
       "\t<tr><td>0.333</td><td>0.500</td><td>0.278</td><td>0.556</td></tr>\n",
       "\t<tr><td>1.000</td><td>1.000</td><td>1.000</td><td>1.000</td></tr>\n",
       "\t<tr><td>0.278</td><td>0.611</td><td>0.167</td><td>0.333</td></tr>\n",
       "\t<tr><td>0.333</td><td>0.500</td><td>0.111</td><td>0.444</td></tr>\n",
       "\t<tr><td>0.333</td><td>0.556</td><td>0.278</td><td>0.500</td></tr>\n",
       "\t<tr><td>0.778</td><td>0.611</td><td>0.556</td><td>0.611</td></tr>\n",
       "\t<tr><td>0.778</td><td>0.833</td><td>0.944</td><td>1.000</td></tr>\n",
       "</tbody>\n",
       "</table>\n"
      ],
      "text/latex": [
       "A matrix: 7 × 4 of type dbl\n",
       "\\begin{tabular}{llll}\n",
       "\t 0.333 & 0.500 & 0.278 & 0.556\\\\\n",
       "\t 1.000 & 1.000 & 1.000 & 1.000\\\\\n",
       "\t 0.278 & 0.611 & 0.167 & 0.333\\\\\n",
       "\t 0.333 & 0.500 & 0.111 & 0.444\\\\\n",
       "\t 0.333 & 0.556 & 0.278 & 0.500\\\\\n",
       "\t 0.778 & 0.611 & 0.556 & 0.611\\\\\n",
       "\t 0.778 & 0.833 & 0.944 & 1.000\\\\\n",
       "\\end{tabular}\n"
      ],
      "text/markdown": [
       "\n",
       "A matrix: 7 × 4 of type dbl\n",
       "\n",
       "| 0.333 | 0.500 | 0.278 | 0.556 |\n",
       "| 1.000 | 1.000 | 1.000 | 1.000 |\n",
       "| 0.278 | 0.611 | 0.167 | 0.333 |\n",
       "| 0.333 | 0.500 | 0.111 | 0.444 |\n",
       "| 0.333 | 0.556 | 0.278 | 0.500 |\n",
       "| 0.778 | 0.611 | 0.556 | 0.611 |\n",
       "| 0.778 | 0.833 | 0.944 | 1.000 |\n",
       "\n"
      ],
      "text/plain": [
       "     [,1]  [,2]  [,3]  [,4] \n",
       "[1,] 0.333 0.500 0.278 0.556\n",
       "[2,] 1.000 1.000 1.000 1.000\n",
       "[3,] 0.278 0.611 0.167 0.333\n",
       "[4,] 0.333 0.500 0.111 0.444\n",
       "[5,] 0.333 0.556 0.278 0.500\n",
       "[6,] 0.778 0.611 0.556 0.611\n",
       "[7,] 0.778 0.833 0.944 1.000"
      ]
     },
     "metadata": {},
     "output_type": "display_data"
    }
   ],
   "source": [
    "## R code 11.15\n",
    "pl <- as.matrix(by( d$pulled_left , list(d$actor,d$treatment) , mean,simplify=TRUE ))\n",
    "attr(pl,\"dimnames\")<-NULL\n",
    "attr(pl,\"call\")<-NULL\n",
    "class(pl)<-c(\"matrix\",\"array\")\n",
    "round(pl,3)"
   ]
  },
  {
   "cell_type": "markdown",
   "metadata": {},
   "source": [
    "The result `pl` is a matrix with 7 rows and 4 columns. Each row is an individual chimpanzee (actor). Each column is a treatment. And the cells contain proportions of pulls that were of the left lever. \n",
    "\n",
    "Above is the first row, showing the proportions for the first actor. \n",
    "\n",
    "The model will make predictions for these values, so we can see how the posterior predictions look against the raw data. Remember that we don't want an exact match—that would mean overfitting. \n",
    "\n",
    "But we would like to understand how the model sees the data and learn from any anomalies."
   ]
  },
  {
   "cell_type": "code",
   "execution_count": 22,
   "metadata": {},
   "outputs": [
    {
     "data": {
      "image/png": "[encoded data removed]",
      "text/plain": [
       "plot without title"
      ]
     },
     "metadata": {
      "image/png": {
       "height": 540,
       "width": 720
      }
     },
     "output_type": "display_data"
    }
   ],
   "source": [
    "## R code 11.16\n",
    "options(repr.plot.width=12,repr.plot.height=9)\n",
    "plot( NULL , xlim=c(1,28) , ylim=c(0,1) , xlab=\"\" ,\n",
    "    ylab=\"proportion left lever\" , xaxt=\"n\" , yaxt=\"n\" )\n",
    "axis( 2 , at=c(0,0.5,1) , labels=c(0,0.5,1) )\n",
    "abline( h=0.5 , lty=2 )\n",
    "for ( j in 1:7 ) abline( v=(j-1)*4+4.5 , lwd=0.5 )\n",
    "for ( j in 1:7 ) text( (j-1)*4+2.5 , 1.1 , concat(\"actor \",j) , xpd=TRUE )\n",
    "for ( j in (1:7)[-2] ) {\n",
    "    lines( (j-1)*4+c(1,3) , pl[j,c(1,3)] , lwd=2 , col=rangi2 )\n",
    "    lines( (j-1)*4+c(2,4) , pl[j,c(2,4)] , lwd=2 , col=rangi2 )\n",
    "}\n",
    "points( 1:28 , t(pl) , pch=16 , col=\"white\" , cex=1.9 )\n",
    "points( 1:28 , t(pl) , pch=c(1,1,16,16) , col=rangi2 , lwd=2, cex=1.9 )\n",
    "yoff <- 0.01\n",
    "text( 1 , pl[1,1]-yoff , \"R/N\" , pos=1 , cex=0.8 )\n",
    "text( 2 , pl[1,2]+yoff , \"L/N\" , pos=3 , cex=0.8 )\n",
    "text( 3 , pl[1,3]-yoff , \"R/P\" , pos=1 , cex=0.8 )\n",
    "text( 4 , pl[1,4]+yoff , \"L/P\" , pos=3 , cex=0.8 )\n",
    "mtext( \"observed proportions\\n\" )"
   ]
  },
  {
   "cell_type": "code",
   "execution_count": 23,
   "metadata": {},
   "outputs": [],
   "source": [
    "## R code 11.17\n",
    "dat <- list( actor=rep(1:7,each=4) , treatment=rep(1:4,times=7) )\n",
    "p_post <- link( m11.4 , data=dat )\n",
    "p_mu <- apply( p_post , 2 , mean )\n",
    "p_ci <- apply( p_post , 2 , PI )"
   ]
  },
  {
   "cell_type": "markdown",
   "metadata": {},
   "source": [
    "# Logistic regression - MCMC"
   ]
  },
  {
   "cell_type": "code",
   "execution_count": 24,
   "metadata": {},
   "outputs": [],
   "source": [
    "## R code 11.18\n",
    "d$side <- d$prosoc_left + 1 # right 1, left 2\n",
    "d$cond <- d$condition + 1 # no partner 1, partner 2"
   ]
  },
  {
   "cell_type": "code",
   "execution_count": 25,
   "metadata": {},
   "outputs": [],
   "source": [
    "## R code 11.19\n",
    "dat_list2 <- list(\n",
    "    pulled_left = d$pulled_left,\n",
    "    actor = d$actor,\n",
    "    side = d$side,\n",
    "    cond = d$cond )"
   ]
  },
  {
   "cell_type": "code",
   "execution_count": 26,
   "metadata": {},
   "outputs": [
    {
     "name": "stdout",
     "output_type": "stream",
     "text": [
      "\n",
      "SAMPLING FOR MODEL 'anon_model' NOW (CHAIN 1).\n",
      "Chain 1: \n",
      "Chain 1: Gradient evaluation took 7.1e-05 seconds\n",
      "Chain 1: 1000 transitions using 10 leapfrog steps per transition would take 0.71 seconds.\n",
      "Chain 1: Adjust your expectations accordingly!\n",
      "Chain 1: \n",
      "Chain 1: \n",
      "Chain 1: Iteration:   1 / 1000 [  0%]  (Warmup)\n",
      "Chain 1: Iteration: 100 / 1000 [ 10%]  (Warmup)\n",
      "Chain 1: Iteration: 200 / 1000 [ 20%]  (Warmup)\n",
      "Chain 1: Iteration: 300 / 1000 [ 30%]  (Warmup)\n",
      "Chain 1: Iteration: 400 / 1000 [ 40%]  (Warmup)\n",
      "Chain 1: Iteration: 500 / 1000 [ 50%]  (Warmup)\n",
      "Chain 1: Iteration: 501 / 1000 [ 50%]  (Sampling)\n",
      "Chain 1: Iteration: 600 / 1000 [ 60%]  (Sampling)\n",
      "Chain 1: Iteration: 700 / 1000 [ 70%]  (Sampling)\n",
      "Chain 1: Iteration: 800 / 1000 [ 80%]  (Sampling)\n",
      "Chain 1: Iteration: 900 / 1000 [ 90%]  (Sampling)\n",
      "Chain 1: Iteration: 1000 / 1000 [100%]  (Sampling)\n",
      "Chain 1: \n",
      "Chain 1:  Elapsed Time: 0.582 seconds (Warm-up)\n",
      "Chain 1:                0.527 seconds (Sampling)\n",
      "Chain 1:                1.109 seconds (Total)\n",
      "Chain 1: \n",
      "\n",
      "SAMPLING FOR MODEL 'anon_model' NOW (CHAIN 2).\n",
      "Chain 2: \n",
      "Chain 2: Gradient evaluation took 4.7e-05 seconds\n",
      "Chain 2: 1000 transitions using 10 leapfrog steps per transition would take 0.47 seconds.\n",
      "Chain 2: Adjust your expectations accordingly!\n",
      "Chain 2: \n",
      "Chain 2: \n",
      "Chain 2: Iteration:   1 / 1000 [  0%]  (Warmup)\n",
      "Chain 2: Iteration: 100 / 1000 [ 10%]  (Warmup)\n",
      "Chain 2: Iteration: 200 / 1000 [ 20%]  (Warmup)\n",
      "Chain 2: Iteration: 300 / 1000 [ 30%]  (Warmup)\n",
      "Chain 2: Iteration: 400 / 1000 [ 40%]  (Warmup)\n",
      "Chain 2: Iteration: 500 / 1000 [ 50%]  (Warmup)\n",
      "Chain 2: Iteration: 501 / 1000 [ 50%]  (Sampling)\n",
      "Chain 2: Iteration: 600 / 1000 [ 60%]  (Sampling)\n",
      "Chain 2: Iteration: 700 / 1000 [ 70%]  (Sampling)\n",
      "Chain 2: Iteration: 800 / 1000 [ 80%]  (Sampling)\n",
      "Chain 2: Iteration: 900 / 1000 [ 90%]  (Sampling)\n",
      "Chain 2: Iteration: 1000 / 1000 [100%]  (Sampling)\n",
      "Chain 2: \n",
      "Chain 2:  Elapsed Time: 0.587 seconds (Warm-up)\n",
      "Chain 2:                0.502 seconds (Sampling)\n",
      "Chain 2:                1.089 seconds (Total)\n",
      "Chain 2: \n",
      "\n",
      "SAMPLING FOR MODEL 'anon_model' NOW (CHAIN 3).\n",
      "Chain 3: \n",
      "Chain 3: Gradient evaluation took 4.8e-05 seconds\n",
      "Chain 3: 1000 transitions using 10 leapfrog steps per transition would take 0.48 seconds.\n",
      "Chain 3: Adjust your expectations accordingly!\n",
      "Chain 3: \n",
      "Chain 3: \n",
      "Chain 3: Iteration:   1 / 1000 [  0%]  (Warmup)\n",
      "Chain 3: Iteration: 100 / 1000 [ 10%]  (Warmup)\n",
      "Chain 3: Iteration: 200 / 1000 [ 20%]  (Warmup)\n",
      "Chain 3: Iteration: 300 / 1000 [ 30%]  (Warmup)\n",
      "Chain 3: Iteration: 400 / 1000 [ 40%]  (Warmup)\n",
      "Chain 3: Iteration: 500 / 1000 [ 50%]  (Warmup)\n",
      "Chain 3: Iteration: 501 / 1000 [ 50%]  (Sampling)\n",
      "Chain 3: Iteration: 600 / 1000 [ 60%]  (Sampling)\n",
      "Chain 3: Iteration: 700 / 1000 [ 70%]  (Sampling)\n",
      "Chain 3: Iteration: 800 / 1000 [ 80%]  (Sampling)\n",
      "Chain 3: Iteration: 900 / 1000 [ 90%]  (Sampling)\n",
      "Chain 3: Iteration: 1000 / 1000 [100%]  (Sampling)\n",
      "Chain 3: \n",
      "Chain 3:  Elapsed Time: 0.599 seconds (Warm-up)\n",
      "Chain 3:                0.491 seconds (Sampling)\n",
      "Chain 3:                1.09 seconds (Total)\n",
      "Chain 3: \n",
      "\n",
      "SAMPLING FOR MODEL 'anon_model' NOW (CHAIN 4).\n",
      "Chain 4: \n",
      "Chain 4: Gradient evaluation took 4.6e-05 seconds\n",
      "Chain 4: 1000 transitions using 10 leapfrog steps per transition would take 0.46 seconds.\n",
      "Chain 4: Adjust your expectations accordingly!\n",
      "Chain 4: \n",
      "Chain 4: \n",
      "Chain 4: Iteration:   1 / 1000 [  0%]  (Warmup)\n",
      "Chain 4: Iteration: 100 / 1000 [ 10%]  (Warmup)\n",
      "Chain 4: Iteration: 200 / 1000 [ 20%]  (Warmup)\n",
      "Chain 4: Iteration: 300 / 1000 [ 30%]  (Warmup)\n",
      "Chain 4: Iteration: 400 / 1000 [ 40%]  (Warmup)\n",
      "Chain 4: Iteration: 500 / 1000 [ 50%]  (Warmup)\n",
      "Chain 4: Iteration: 501 / 1000 [ 50%]  (Sampling)\n",
      "Chain 4: Iteration: 600 / 1000 [ 60%]  (Sampling)\n",
      "Chain 4: Iteration: 700 / 1000 [ 70%]  (Sampling)\n",
      "Chain 4: Iteration: 800 / 1000 [ 80%]  (Sampling)\n",
      "Chain 4: Iteration: 900 / 1000 [ 90%]  (Sampling)\n",
      "Chain 4: Iteration: 1000 / 1000 [100%]  (Sampling)\n",
      "Chain 4: \n",
      "Chain 4:  Elapsed Time: 0.591 seconds (Warm-up)\n",
      "Chain 4:                0.527 seconds (Sampling)\n",
      "Chain 4:                1.118 seconds (Total)\n",
      "Chain 4: \n"
     ]
    }
   ],
   "source": [
    "m11.5 <- ulam(\n",
    "    cmdstan=FALSE,\n",
    "    alist(\n",
    "        pulled_left ~ dbinom( 1 , p ) ,\n",
    "        logit(p) <- a[actor] + bs[side] + bc[cond] ,\n",
    "        a[actor] ~ dnorm( 0 , 1.5 ),\n",
    "        bs[side] ~ dnorm( 0 , 0.5 ),\n",
    "        bc[cond] ~ dnorm( 0 , 0.5 )\n",
    "    ) , data=dat_list2 , chains=4 , log_lik=TRUE )   #  'log_lik=TRUE' to allow Stan (ulam) to calculate LOOIS or WAIC"
   ]
  },
  {
   "cell_type": "markdown",
   "metadata": {},
   "source": [
    "PSIS = \"Pareto-smoothed importance sampling cross-validation\" (a cross-validation statistics)"
   ]
  },
  {
   "cell_type": "code",
   "execution_count": 27,
   "metadata": {},
   "outputs": [
    {
     "data": {
      "text/html": [
       "<table class=\"dataframe\">\n",
       "<caption>A compareIC: 2 × 6</caption>\n",
       "<thead>\n",
       "\t<tr><th></th><th scope=col>PSIS</th><th scope=col>SE</th><th scope=col>dPSIS</th><th scope=col>dSE</th><th scope=col>pPSIS</th><th scope=col>weight</th></tr>\n",
       "\t<tr><th></th><th scope=col>&lt;dbl&gt;</th><th scope=col>&lt;dbl&gt;</th><th scope=col>&lt;dbl&gt;</th><th scope=col>&lt;dbl&gt;</th><th scope=col>&lt;dbl&gt;</th><th scope=col>&lt;dbl&gt;</th></tr>\n",
       "</thead>\n",
       "<tbody>\n",
       "\t<tr><th scope=row>m11.5</th><td>530.5934</td><td>19.18263</td><td>0.000000</td><td>      NA</td><td>7.704792</td><td>0.7282215</td></tr>\n",
       "\t<tr><th scope=row>m11.4</th><td>532.5646</td><td>18.93198</td><td>1.971236</td><td>1.299141</td><td>8.631794</td><td>0.2717785</td></tr>\n",
       "</tbody>\n",
       "</table>\n"
      ],
      "text/latex": [
       "A compareIC: 2 × 6\n",
       "\\begin{tabular}{r|llllll}\n",
       "  & PSIS & SE & dPSIS & dSE & pPSIS & weight\\\\\n",
       "  & <dbl> & <dbl> & <dbl> & <dbl> & <dbl> & <dbl>\\\\\n",
       "\\hline\n",
       "\tm11.5 & 530.5934 & 19.18263 & 0.000000 &       NA & 7.704792 & 0.7282215\\\\\n",
       "\tm11.4 & 532.5646 & 18.93198 & 1.971236 & 1.299141 & 8.631794 & 0.2717785\\\\\n",
       "\\end{tabular}\n"
      ],
      "text/markdown": [
       "\n",
       "A compareIC: 2 × 6\n",
       "\n",
       "| <!--/--> | PSIS &lt;dbl&gt; | SE &lt;dbl&gt; | dPSIS &lt;dbl&gt; | dSE &lt;dbl&gt; | pPSIS &lt;dbl&gt; | weight &lt;dbl&gt; |\n",
       "|---|---|---|---|---|---|---|\n",
       "| m11.5 | 530.5934 | 19.18263 | 0.000000 |       NA | 7.704792 | 0.7282215 |\n",
       "| m11.4 | 532.5646 | 18.93198 | 1.971236 | 1.299141 | 8.631794 | 0.2717785 |\n",
       "\n"
      ],
      "text/plain": [
       "      PSIS     SE       dPSIS    dSE      pPSIS    weight   \n",
       "m11.5 530.5934 19.18263 0.000000       NA 7.704792 0.7282215\n",
       "m11.4 532.5646 18.93198 1.971236 1.299141 8.631794 0.2717785"
      ]
     },
     "metadata": {},
     "output_type": "display_data"
    }
   ],
   "source": [
    "## R code 11.20\n",
    "compare( m11.5 , m11.4 , func=PSIS )"
   ]
  },
  {
   "cell_type": "code",
   "execution_count": 28,
   "metadata": {},
   "outputs": [
    {
     "data": {
      "text/html": [
       "<table class=\"dataframe\">\n",
       "<caption>A compareIC: 2 × 6</caption>\n",
       "<thead>\n",
       "\t<tr><th></th><th scope=col>WAIC</th><th scope=col>SE</th><th scope=col>dWAIC</th><th scope=col>dSE</th><th scope=col>pWAIC</th><th scope=col>weight</th></tr>\n",
       "\t<tr><th></th><th scope=col>&lt;dbl&gt;</th><th scope=col>&lt;dbl&gt;</th><th scope=col>&lt;dbl&gt;</th><th scope=col>&lt;dbl&gt;</th><th scope=col>&lt;dbl&gt;</th><th scope=col>&lt;dbl&gt;</th></tr>\n",
       "</thead>\n",
       "<tbody>\n",
       "\t<tr><th scope=row>m11.5</th><td>530.5394</td><td>19.15988</td><td>0.00000</td><td>      NA</td><td>7.677800</td><td>0.7282902</td></tr>\n",
       "\t<tr><th scope=row>m11.4</th><td>532.5113</td><td>18.91142</td><td>1.97193</td><td>1.298639</td><td>8.605149</td><td>0.2717098</td></tr>\n",
       "</tbody>\n",
       "</table>\n"
      ],
      "text/latex": [
       "A compareIC: 2 × 6\n",
       "\\begin{tabular}{r|llllll}\n",
       "  & WAIC & SE & dWAIC & dSE & pWAIC & weight\\\\\n",
       "  & <dbl> & <dbl> & <dbl> & <dbl> & <dbl> & <dbl>\\\\\n",
       "\\hline\n",
       "\tm11.5 & 530.5394 & 19.15988 & 0.00000 &       NA & 7.677800 & 0.7282902\\\\\n",
       "\tm11.4 & 532.5113 & 18.91142 & 1.97193 & 1.298639 & 8.605149 & 0.2717098\\\\\n",
       "\\end{tabular}\n"
      ],
      "text/markdown": [
       "\n",
       "A compareIC: 2 × 6\n",
       "\n",
       "| <!--/--> | WAIC &lt;dbl&gt; | SE &lt;dbl&gt; | dWAIC &lt;dbl&gt; | dSE &lt;dbl&gt; | pWAIC &lt;dbl&gt; | weight &lt;dbl&gt; |\n",
       "|---|---|---|---|---|---|---|\n",
       "| m11.5 | 530.5394 | 19.15988 | 0.00000 |       NA | 7.677800 | 0.7282902 |\n",
       "| m11.4 | 532.5113 | 18.91142 | 1.97193 | 1.298639 | 8.605149 | 0.2717098 |\n",
       "\n"
      ],
      "text/plain": [
       "      WAIC     SE       dWAIC   dSE      pWAIC    weight   \n",
       "m11.5 530.5394 19.15988 0.00000       NA 7.677800 0.7282902\n",
       "m11.4 532.5113 18.91142 1.97193 1.298639 8.605149 0.2717098"
      ]
     },
     "metadata": {},
     "output_type": "display_data"
    }
   ],
   "source": [
    "## R code 11.20\n",
    "compare( m11.5 , m11.4 , func=WAIC )"
   ]
  },
  {
   "cell_type": "code",
   "execution_count": 29,
   "metadata": {},
   "outputs": [
    {
     "data": {
      "text/html": [
       "<table class=\"dataframe\">\n",
       "<caption>A compareIC: 2 × 6</caption>\n",
       "<thead>\n",
       "\t<tr><th></th><th scope=col>PSIS</th><th scope=col>SE</th><th scope=col>dPSIS</th><th scope=col>dSE</th><th scope=col>pPSIS</th><th scope=col>weight</th></tr>\n",
       "\t<tr><th></th><th scope=col>&lt;dbl&gt;</th><th scope=col>&lt;dbl&gt;</th><th scope=col>&lt;dbl&gt;</th><th scope=col>&lt;dbl&gt;</th><th scope=col>&lt;dbl&gt;</th><th scope=col>&lt;dbl&gt;</th></tr>\n",
       "</thead>\n",
       "<tbody>\n",
       "\t<tr><th scope=row>m11.5</th><td>530.5934</td><td>19.18263</td><td>0.000000</td><td>      NA</td><td>7.704792</td><td>0.7282215</td></tr>\n",
       "\t<tr><th scope=row>m11.4</th><td>532.5646</td><td>18.93198</td><td>1.971236</td><td>1.299141</td><td>8.631794</td><td>0.2717785</td></tr>\n",
       "</tbody>\n",
       "</table>\n"
      ],
      "text/latex": [
       "A compareIC: 2 × 6\n",
       "\\begin{tabular}{r|llllll}\n",
       "  & PSIS & SE & dPSIS & dSE & pPSIS & weight\\\\\n",
       "  & <dbl> & <dbl> & <dbl> & <dbl> & <dbl> & <dbl>\\\\\n",
       "\\hline\n",
       "\tm11.5 & 530.5934 & 19.18263 & 0.000000 &       NA & 7.704792 & 0.7282215\\\\\n",
       "\tm11.4 & 532.5646 & 18.93198 & 1.971236 & 1.299141 & 8.631794 & 0.2717785\\\\\n",
       "\\end{tabular}\n"
      ],
      "text/markdown": [
       "\n",
       "A compareIC: 2 × 6\n",
       "\n",
       "| <!--/--> | PSIS &lt;dbl&gt; | SE &lt;dbl&gt; | dPSIS &lt;dbl&gt; | dSE &lt;dbl&gt; | pPSIS &lt;dbl&gt; | weight &lt;dbl&gt; |\n",
       "|---|---|---|---|---|---|---|\n",
       "| m11.5 | 530.5934 | 19.18263 | 0.000000 |       NA | 7.704792 | 0.7282215 |\n",
       "| m11.4 | 532.5646 | 18.93198 | 1.971236 | 1.299141 | 8.631794 | 0.2717785 |\n",
       "\n"
      ],
      "text/plain": [
       "      PSIS     SE       dPSIS    dSE      pPSIS    weight   \n",
       "m11.5 530.5934 19.18263 0.000000       NA 7.704792 0.7282215\n",
       "m11.4 532.5646 18.93198 1.971236 1.299141 8.631794 0.2717785"
      ]
     },
     "metadata": {},
     "output_type": "display_data"
    }
   ],
   "source": [
    "# R code 11.20\n",
    "compare( m11.5 , m11.4 , func=LOO )"
   ]
  },
  {
   "cell_type": "code",
   "execution_count": 30,
   "metadata": {},
   "outputs": [
    {
     "name": "stdout",
     "output_type": "stream",
     "text": [
      "List of 4\n",
      " $ log_lik: num [1:2000, 1:504] -0.512 -0.473 -0.29 -0.534 -0.511 ...\n",
      " $ a      : num [1:2000, 1:7] -0.796 -0.194 -0.974 -0.608 -0.698 ...\n",
      " $ b      : num [1:2000, 1:4] 0.394 -0.309 -0.115 0.26 0.294 ...\n",
      " $ lp__   : num [1:2000(1d)] -267 -268 -270 -273 -268 ...\n",
      " - attr(*, \"source\")= chr \"ulam posterior: 2000 samples from object\"\n"
     ]
    }
   ],
   "source": [
    "## R code 11.21\n",
    "post <- extract.samples( m11.4 , clean=FALSE )\n",
    "str(post)"
   ]
  },
  {
   "cell_type": "code",
   "execution_count": 31,
   "metadata": {},
   "outputs": [
    {
     "name": "stdout",
     "output_type": "stream",
     "text": [
      "data{\n",
      "    array[504] int pulled_left;\n",
      "    array[504] int treatment;\n",
      "    array[504] int actor;\n",
      "}\n",
      "parameters{\n",
      "     vector[7] a;\n",
      "     vector[4] b;\n",
      "}\n",
      "model{\n",
      "     vector[504] p;\n",
      "    b ~ normal( 0 , 0.5 );\n",
      "    a ~ normal( 0 , 1.5 );\n",
      "    for ( i in 1:504 ) {\n",
      "        p[i] = a[actor[i]] + b[treatment[i]];\n",
      "        p[i] = inv_logit(p[i]);\n",
      "    }\n",
      "    pulled_left ~ binomial( 1 , p );\n",
      "}\n",
      "generated quantities{\n",
      "    vector[504] log_lik;\n",
      "     vector[504] p;\n",
      "    for ( i in 1:504 ) {\n",
      "        p[i] = a[actor[i]] + b[treatment[i]];\n",
      "        p[i] = inv_logit(p[i]);\n",
      "    }\n",
      "    for ( i in 1:504 ) log_lik[i] = binomial_lpmf( pulled_left[i] | 1 , p[i] );\n",
      "}\n",
      "\n"
     ]
    }
   ],
   "source": [
    "stancode(m11.4)"
   ]
  },
  {
   "cell_type": "code",
   "execution_count": 32,
   "metadata": {},
   "outputs": [
    {
     "name": "stdout",
     "output_type": "stream",
     "text": [
      "data{\n",
      "    array[504] int pulled_left;\n",
      "    array[504] int treatment;\n",
      "    array[504] int actor;\n",
      "}\n",
      "parameters{\n",
      "     vector[7] a;\n",
      "     vector[4] b;\n",
      "}\n",
      "model{\n",
      "     vector[504] p;\n",
      "    b ~ normal( 0 , 0.5 );\n",
      "    a ~ normal( 0 , 1.5 );\n",
      "    for ( i in 1:504 ) {\n",
      "        p[i] = a[actor[i]] + b[treatment[i]];\n",
      "        p[i] = inv_logit(p[i]);\n",
      "    }\n",
      "    pulled_left ~ binomial( 1 , p );\n",
      "}\n",
      "generated quantities{\n",
      "    vector[504] log_lik;\n",
      "     vector[504] p;\n",
      "    for ( i in 1:504 ) {\n",
      "        p[i] = a[actor[i]] + b[treatment[i]];\n",
      "        p[i] = inv_logit(p[i]);\n",
      "    }\n",
      "    for ( i in 1:504 ) log_lik[i] = binomial_lpmf( pulled_left[i] | 1 , p[i] );\n",
      "}\n",
      "\n",
      "\n",
      "SAMPLING FOR MODEL 'anon_model' NOW (CHAIN 1).\n",
      "Chain 1: \n",
      "Chain 1: Gradient evaluation took 6.8e-05 seconds\n",
      "Chain 1: 1000 transitions using 10 leapfrog steps per transition would take 0.68 seconds.\n",
      "Chain 1: Adjust your expectations accordingly!\n",
      "Chain 1: \n",
      "Chain 1: \n",
      "Chain 1: Iteration:    1 / 2000 [  0%]  (Warmup)\n",
      "Chain 1: Iteration:  200 / 2000 [ 10%]  (Warmup)\n",
      "Chain 1: Iteration:  400 / 2000 [ 20%]  (Warmup)\n",
      "Chain 1: Iteration:  600 / 2000 [ 30%]  (Warmup)\n",
      "Chain 1: Iteration:  800 / 2000 [ 40%]  (Warmup)\n",
      "Chain 1: Iteration: 1000 / 2000 [ 50%]  (Warmup)\n",
      "Chain 1: Iteration: 1001 / 2000 [ 50%]  (Sampling)\n",
      "Chain 1: Iteration: 1200 / 2000 [ 60%]  (Sampling)\n",
      "Chain 1: Iteration: 1400 / 2000 [ 70%]  (Sampling)\n",
      "Chain 1: Iteration: 1600 / 2000 [ 80%]  (Sampling)\n",
      "Chain 1: Iteration: 1800 / 2000 [ 90%]  (Sampling)\n",
      "Chain 1: Iteration: 2000 / 2000 [100%]  (Sampling)\n",
      "Chain 1: \n",
      "Chain 1:  Elapsed Time: 0.495 seconds (Warm-up)\n",
      "Chain 1:                0.477 seconds (Sampling)\n",
      "Chain 1:                0.972 seconds (Total)\n",
      "Chain 1: \n",
      "\n",
      "SAMPLING FOR MODEL 'anon_model' NOW (CHAIN 2).\n",
      "Chain 2: \n",
      "Chain 2: Gradient evaluation took 4.9e-05 seconds\n",
      "Chain 2: 1000 transitions using 10 leapfrog steps per transition would take 0.49 seconds.\n",
      "Chain 2: Adjust your expectations accordingly!\n",
      "Chain 2: \n",
      "Chain 2: \n",
      "Chain 2: Iteration:    1 / 2000 [  0%]  (Warmup)\n",
      "Chain 2: Iteration:  200 / 2000 [ 10%]  (Warmup)\n",
      "Chain 2: Iteration:  400 / 2000 [ 20%]  (Warmup)\n",
      "Chain 2: Iteration:  600 / 2000 [ 30%]  (Warmup)\n",
      "Chain 2: Iteration:  800 / 2000 [ 40%]  (Warmup)\n",
      "Chain 2: Iteration: 1000 / 2000 [ 50%]  (Warmup)\n",
      "Chain 2: Iteration: 1001 / 2000 [ 50%]  (Sampling)\n",
      "Chain 2: Iteration: 1200 / 2000 [ 60%]  (Sampling)\n",
      "Chain 2: Iteration: 1400 / 2000 [ 70%]  (Sampling)\n",
      "Chain 2: Iteration: 1600 / 2000 [ 80%]  (Sampling)\n",
      "Chain 2: Iteration: 1800 / 2000 [ 90%]  (Sampling)\n",
      "Chain 2: Iteration: 2000 / 2000 [100%]  (Sampling)\n",
      "Chain 2: \n",
      "Chain 2:  Elapsed Time: 0.491 seconds (Warm-up)\n",
      "Chain 2:                0.46 seconds (Sampling)\n",
      "Chain 2:                0.951 seconds (Total)\n",
      "Chain 2: \n",
      "\n",
      "SAMPLING FOR MODEL 'anon_model' NOW (CHAIN 3).\n",
      "Chain 3: \n",
      "Chain 3: Gradient evaluation took 4.9e-05 seconds\n",
      "Chain 3: 1000 transitions using 10 leapfrog steps per transition would take 0.49 seconds.\n",
      "Chain 3: Adjust your expectations accordingly!\n",
      "Chain 3: \n",
      "Chain 3: \n",
      "Chain 3: Iteration:    1 / 2000 [  0%]  (Warmup)\n",
      "Chain 3: Iteration:  200 / 2000 [ 10%]  (Warmup)\n",
      "Chain 3: Iteration:  400 / 2000 [ 20%]  (Warmup)\n",
      "Chain 3: Iteration:  600 / 2000 [ 30%]  (Warmup)\n",
      "Chain 3: Iteration:  800 / 2000 [ 40%]  (Warmup)\n",
      "Chain 3: Iteration: 1000 / 2000 [ 50%]  (Warmup)\n",
      "Chain 3: Iteration: 1001 / 2000 [ 50%]  (Sampling)\n",
      "Chain 3: Iteration: 1200 / 2000 [ 60%]  (Sampling)\n",
      "Chain 3: Iteration: 1400 / 2000 [ 70%]  (Sampling)\n",
      "Chain 3: Iteration: 1600 / 2000 [ 80%]  (Sampling)\n",
      "Chain 3: Iteration: 1800 / 2000 [ 90%]  (Sampling)\n",
      "Chain 3: Iteration: 2000 / 2000 [100%]  (Sampling)\n",
      "Chain 3: \n",
      "Chain 3:  Elapsed Time: 0.471 seconds (Warm-up)\n",
      "Chain 3:                0.458 seconds (Sampling)\n",
      "Chain 3:                0.929 seconds (Total)\n",
      "Chain 3: \n",
      "\n",
      "SAMPLING FOR MODEL 'anon_model' NOW (CHAIN 4).\n",
      "Chain 4: \n",
      "Chain 4: Gradient evaluation took 4.9e-05 seconds\n",
      "Chain 4: 1000 transitions using 10 leapfrog steps per transition would take 0.49 seconds.\n",
      "Chain 4: Adjust your expectations accordingly!\n",
      "Chain 4: \n",
      "Chain 4: \n",
      "Chain 4: Iteration:    1 / 2000 [  0%]  (Warmup)\n",
      "Chain 4: Iteration:  200 / 2000 [ 10%]  (Warmup)\n",
      "Chain 4: Iteration:  400 / 2000 [ 20%]  (Warmup)\n",
      "Chain 4: Iteration:  600 / 2000 [ 30%]  (Warmup)\n",
      "Chain 4: Iteration:  800 / 2000 [ 40%]  (Warmup)\n",
      "Chain 4: Iteration: 1000 / 2000 [ 50%]  (Warmup)\n",
      "Chain 4: Iteration: 1001 / 2000 [ 50%]  (Sampling)\n",
      "Chain 4: Iteration: 1200 / 2000 [ 60%]  (Sampling)\n",
      "Chain 4: Iteration: 1400 / 2000 [ 70%]  (Sampling)\n",
      "Chain 4: Iteration: 1600 / 2000 [ 80%]  (Sampling)\n",
      "Chain 4: Iteration: 1800 / 2000 [ 90%]  (Sampling)\n",
      "Chain 4: Iteration: 2000 / 2000 [100%]  (Sampling)\n",
      "Chain 4: \n",
      "Chain 4:  Elapsed Time: 0.471 seconds (Warm-up)\n",
      "Chain 4:                0.478 seconds (Sampling)\n",
      "Chain 4:                0.949 seconds (Total)\n",
      "Chain 4: \n"
     ]
    }
   ],
   "source": [
    "## R code 11.22\n",
    "m11.4_stan_code <- stancode(m11.4)\n",
    "m11.4_stan <- stan( model_code=m11.4_stan_code , data=dat_list , chains=4 )"
   ]
  },
  {
   "cell_type": "code",
   "execution_count": 33,
   "metadata": {},
   "outputs": [
    {
     "name": "stderr",
     "output_type": "stream",
     "text": [
      "Warning message in compare(m11.4_stan, m11.4):\n",
      "\"Not all model fits of same class.\n",
      "This is usually a bad idea, because it implies they were fit by different algorithms.\n",
      "Check yourself, before you wreck yourself.\"\n"
     ]
    },
    {
     "data": {
      "text/html": [
       "<table class=\"dataframe\">\n",
       "<caption>A compareIC: 2 × 6</caption>\n",
       "<thead>\n",
       "\t<tr><th></th><th scope=col>WAIC</th><th scope=col>SE</th><th scope=col>dWAIC</th><th scope=col>dSE</th><th scope=col>pWAIC</th><th scope=col>weight</th></tr>\n",
       "\t<tr><th></th><th scope=col>&lt;dbl&gt;</th><th scope=col>&lt;dbl&gt;</th><th scope=col>&lt;dbl&gt;</th><th scope=col>&lt;dbl&gt;</th><th scope=col>&lt;dbl&gt;</th><th scope=col>&lt;dbl&gt;</th></tr>\n",
       "</thead>\n",
       "<tbody>\n",
       "\t<tr><th scope=row>m11.4_stan</th><td>532.0084</td><td>18.89705</td><td>0.0000000</td><td>      NA</td><td>8.333763</td><td>0.5625351</td></tr>\n",
       "\t<tr><th scope=row>m11.4</th><td>532.5113</td><td>18.91142</td><td>0.5029137</td><td>0.111972</td><td>8.605149</td><td>0.4374649</td></tr>\n",
       "</tbody>\n",
       "</table>\n"
      ],
      "text/latex": [
       "A compareIC: 2 × 6\n",
       "\\begin{tabular}{r|llllll}\n",
       "  & WAIC & SE & dWAIC & dSE & pWAIC & weight\\\\\n",
       "  & <dbl> & <dbl> & <dbl> & <dbl> & <dbl> & <dbl>\\\\\n",
       "\\hline\n",
       "\tm11.4\\_stan & 532.0084 & 18.89705 & 0.0000000 &       NA & 8.333763 & 0.5625351\\\\\n",
       "\tm11.4 & 532.5113 & 18.91142 & 0.5029137 & 0.111972 & 8.605149 & 0.4374649\\\\\n",
       "\\end{tabular}\n"
      ],
      "text/markdown": [
       "\n",
       "A compareIC: 2 × 6\n",
       "\n",
       "| <!--/--> | WAIC &lt;dbl&gt; | SE &lt;dbl&gt; | dWAIC &lt;dbl&gt; | dSE &lt;dbl&gt; | pWAIC &lt;dbl&gt; | weight &lt;dbl&gt; |\n",
       "|---|---|---|---|---|---|---|\n",
       "| m11.4_stan | 532.0084 | 18.89705 | 0.0000000 |       NA | 8.333763 | 0.5625351 |\n",
       "| m11.4 | 532.5113 | 18.91142 | 0.5029137 | 0.111972 | 8.605149 | 0.4374649 |\n",
       "\n"
      ],
      "text/plain": [
       "           WAIC     SE       dWAIC     dSE      pWAIC    weight   \n",
       "m11.4_stan 532.0084 18.89705 0.0000000       NA 8.333763 0.5625351\n",
       "m11.4      532.5113 18.91142 0.5029137 0.111972 8.605149 0.4374649"
      ]
     },
     "metadata": {},
     "output_type": "display_data"
    }
   ],
   "source": [
    "compare( m11.4_stan , m11.4 )"
   ]
  },
  {
   "cell_type": "code",
   "execution_count": 34,
   "metadata": {},
   "outputs": [
    {
     "data": {
      "text/html": [
       "0.934457246892593"
      ],
      "text/latex": [
       "0.934457246892593"
      ],
      "text/markdown": [
       "0.934457246892593"
      ],
      "text/plain": [
       "[1] 0.9344572"
      ]
     },
     "metadata": {},
     "output_type": "display_data"
    }
   ],
   "source": [
    "## R code 11.23\n",
    "post <- extract.samples(m11.4)\n",
    "mean( exp(post$b[,4]-post$b[,2]) )"
   ]
  },
  {
   "cell_type": "markdown",
   "metadata": {},
   "source": [
    "# Logistic regression with aggregated data"
   ]
  },
  {
   "cell_type": "code",
   "execution_count": 35,
   "metadata": {},
   "outputs": [],
   "source": [
    "## R code 11.24\n",
    "data(chimpanzees)\n",
    "d <- chimpanzees\n",
    "d$treatment <- 1 + d$prosoc_left + 2*d$condition\n",
    "d$side <- d$prosoc_left + 1 # right 1, left 2\n",
    "d$cond <- d$condition + 1 # no partner 1, partner 2\n",
    "d_aggregated <- aggregate(\n",
    "    d$pulled_left ,\n",
    "    list( treatment=d$treatment , actor=d$actor ,\n",
    "          side=d$side , cond=d$cond ) ,\n",
    "    sum )\n",
    "colnames(d_aggregated)[5] <- \"left_pulls\""
   ]
  },
  {
   "cell_type": "code",
   "execution_count": 36,
   "metadata": {},
   "outputs": [
    {
     "data": {
      "text/html": [
       "<table class=\"dataframe\">\n",
       "<caption>A data.frame: 6 × 5</caption>\n",
       "<thead>\n",
       "\t<tr><th></th><th scope=col>treatment</th><th scope=col>actor</th><th scope=col>side</th><th scope=col>cond</th><th scope=col>left_pulls</th></tr>\n",
       "\t<tr><th></th><th scope=col>&lt;dbl&gt;</th><th scope=col>&lt;int&gt;</th><th scope=col>&lt;dbl&gt;</th><th scope=col>&lt;dbl&gt;</th><th scope=col>&lt;int&gt;</th></tr>\n",
       "</thead>\n",
       "<tbody>\n",
       "\t<tr><th scope=row>1</th><td>1</td><td>1</td><td>1</td><td>1</td><td> 6</td></tr>\n",
       "\t<tr><th scope=row>2</th><td>1</td><td>2</td><td>1</td><td>1</td><td>18</td></tr>\n",
       "\t<tr><th scope=row>3</th><td>1</td><td>3</td><td>1</td><td>1</td><td> 5</td></tr>\n",
       "\t<tr><th scope=row>4</th><td>1</td><td>4</td><td>1</td><td>1</td><td> 6</td></tr>\n",
       "\t<tr><th scope=row>5</th><td>1</td><td>5</td><td>1</td><td>1</td><td> 6</td></tr>\n",
       "\t<tr><th scope=row>6</th><td>1</td><td>6</td><td>1</td><td>1</td><td>14</td></tr>\n",
       "</tbody>\n",
       "</table>\n"
      ],
      "text/latex": [
       "A data.frame: 6 × 5\n",
       "\\begin{tabular}{r|lllll}\n",
       "  & treatment & actor & side & cond & left\\_pulls\\\\\n",
       "  & <dbl> & <int> & <dbl> & <dbl> & <int>\\\\\n",
       "\\hline\n",
       "\t1 & 1 & 1 & 1 & 1 &  6\\\\\n",
       "\t2 & 1 & 2 & 1 & 1 & 18\\\\\n",
       "\t3 & 1 & 3 & 1 & 1 &  5\\\\\n",
       "\t4 & 1 & 4 & 1 & 1 &  6\\\\\n",
       "\t5 & 1 & 5 & 1 & 1 &  6\\\\\n",
       "\t6 & 1 & 6 & 1 & 1 & 14\\\\\n",
       "\\end{tabular}\n"
      ],
      "text/markdown": [
       "\n",
       "A data.frame: 6 × 5\n",
       "\n",
       "| <!--/--> | treatment &lt;dbl&gt; | actor &lt;int&gt; | side &lt;dbl&gt; | cond &lt;dbl&gt; | left_pulls &lt;int&gt; |\n",
       "|---|---|---|---|---|---|\n",
       "| 1 | 1 | 1 | 1 | 1 |  6 |\n",
       "| 2 | 1 | 2 | 1 | 1 | 18 |\n",
       "| 3 | 1 | 3 | 1 | 1 |  5 |\n",
       "| 4 | 1 | 4 | 1 | 1 |  6 |\n",
       "| 5 | 1 | 5 | 1 | 1 |  6 |\n",
       "| 6 | 1 | 6 | 1 | 1 | 14 |\n",
       "\n"
      ],
      "text/plain": [
       "  treatment actor side cond left_pulls\n",
       "1 1         1     1    1     6        \n",
       "2 1         2     1    1    18        \n",
       "3 1         3     1    1     5        \n",
       "4 1         4     1    1     6        \n",
       "5 1         5     1    1     6        \n",
       "6 1         6     1    1    14        "
      ]
     },
     "metadata": {},
     "output_type": "display_data"
    }
   ],
   "source": [
    "head(d_aggregated)"
   ]
  },
  {
   "cell_type": "code",
   "execution_count": 37,
   "metadata": {},
   "outputs": [],
   "source": [
    "## R code 11.25\n",
    "dat <- with( d_aggregated , list(\n",
    "    left_pulls = left_pulls,\n",
    "    treatment = treatment,\n",
    "    actor = actor,\n",
    "    side = side,\n",
    "    cond = cond ) )"
   ]
  },
  {
   "cell_type": "code",
   "execution_count": 38,
   "metadata": {},
   "outputs": [
    {
     "name": "stdout",
     "output_type": "stream",
     "text": [
      "\n",
      "SAMPLING FOR MODEL 'anon_model' NOW (CHAIN 1).\n",
      "Chain 1: \n",
      "Chain 1: Gradient evaluation took 2e-05 seconds\n",
      "Chain 1: 1000 transitions using 10 leapfrog steps per transition would take 0.2 seconds.\n",
      "Chain 1: Adjust your expectations accordingly!\n",
      "Chain 1: \n",
      "Chain 1: \n",
      "Chain 1: Iteration:   1 / 1000 [  0%]  (Warmup)\n",
      "Chain 1: Iteration: 100 / 1000 [ 10%]  (Warmup)\n",
      "Chain 1: Iteration: 200 / 1000 [ 20%]  (Warmup)\n",
      "Chain 1: Iteration: 300 / 1000 [ 30%]  (Warmup)\n",
      "Chain 1: Iteration: 400 / 1000 [ 40%]  (Warmup)\n",
      "Chain 1: Iteration: 500 / 1000 [ 50%]  (Warmup)\n",
      "Chain 1: Iteration: 501 / 1000 [ 50%]  (Sampling)\n",
      "Chain 1: Iteration: 600 / 1000 [ 60%]  (Sampling)\n",
      "Chain 1: Iteration: 700 / 1000 [ 70%]  (Sampling)\n",
      "Chain 1: Iteration: 800 / 1000 [ 80%]  (Sampling)\n",
      "Chain 1: Iteration: 900 / 1000 [ 90%]  (Sampling)\n",
      "Chain 1: Iteration: 1000 / 1000 [100%]  (Sampling)\n",
      "Chain 1: \n",
      "Chain 1:  Elapsed Time: 0.043 seconds (Warm-up)\n",
      "Chain 1:                0.037 seconds (Sampling)\n",
      "Chain 1:                0.08 seconds (Total)\n",
      "Chain 1: \n",
      "\n",
      "SAMPLING FOR MODEL 'anon_model' NOW (CHAIN 2).\n",
      "Chain 2: \n",
      "Chain 2: Gradient evaluation took 6e-06 seconds\n",
      "Chain 2: 1000 transitions using 10 leapfrog steps per transition would take 0.06 seconds.\n",
      "Chain 2: Adjust your expectations accordingly!\n",
      "Chain 2: \n",
      "Chain 2: \n",
      "Chain 2: Iteration:   1 / 1000 [  0%]  (Warmup)\n",
      "Chain 2: Iteration: 100 / 1000 [ 10%]  (Warmup)\n",
      "Chain 2: Iteration: 200 / 1000 [ 20%]  (Warmup)\n",
      "Chain 2: Iteration: 300 / 1000 [ 30%]  (Warmup)\n",
      "Chain 2: Iteration: 400 / 1000 [ 40%]  (Warmup)\n",
      "Chain 2: Iteration: 500 / 1000 [ 50%]  (Warmup)\n",
      "Chain 2: Iteration: 501 / 1000 [ 50%]  (Sampling)\n",
      "Chain 2: Iteration: 600 / 1000 [ 60%]  (Sampling)\n",
      "Chain 2: Iteration: 700 / 1000 [ 70%]  (Sampling)\n",
      "Chain 2: Iteration: 800 / 1000 [ 80%]  (Sampling)\n",
      "Chain 2: Iteration: 900 / 1000 [ 90%]  (Sampling)\n",
      "Chain 2: Iteration: 1000 / 1000 [100%]  (Sampling)\n",
      "Chain 2: \n",
      "Chain 2:  Elapsed Time: 0.04 seconds (Warm-up)\n",
      "Chain 2:                0.034 seconds (Sampling)\n",
      "Chain 2:                0.074 seconds (Total)\n",
      "Chain 2: \n",
      "\n",
      "SAMPLING FOR MODEL 'anon_model' NOW (CHAIN 3).\n",
      "Chain 3: \n",
      "Chain 3: Gradient evaluation took 6e-06 seconds\n",
      "Chain 3: 1000 transitions using 10 leapfrog steps per transition would take 0.06 seconds.\n",
      "Chain 3: Adjust your expectations accordingly!\n",
      "Chain 3: \n",
      "Chain 3: \n",
      "Chain 3: Iteration:   1 / 1000 [  0%]  (Warmup)\n",
      "Chain 3: Iteration: 100 / 1000 [ 10%]  (Warmup)\n",
      "Chain 3: Iteration: 200 / 1000 [ 20%]  (Warmup)\n",
      "Chain 3: Iteration: 300 / 1000 [ 30%]  (Warmup)\n",
      "Chain 3: Iteration: 400 / 1000 [ 40%]  (Warmup)\n",
      "Chain 3: Iteration: 500 / 1000 [ 50%]  (Warmup)\n",
      "Chain 3: Iteration: 501 / 1000 [ 50%]  (Sampling)\n",
      "Chain 3: Iteration: 600 / 1000 [ 60%]  (Sampling)\n",
      "Chain 3: Iteration: 700 / 1000 [ 70%]  (Sampling)\n",
      "Chain 3: Iteration: 800 / 1000 [ 80%]  (Sampling)\n",
      "Chain 3: Iteration: 900 / 1000 [ 90%]  (Sampling)\n",
      "Chain 3: Iteration: 1000 / 1000 [100%]  (Sampling)\n",
      "Chain 3: \n",
      "Chain 3:  Elapsed Time: 0.043 seconds (Warm-up)\n",
      "Chain 3:                0.041 seconds (Sampling)\n",
      "Chain 3:                0.084 seconds (Total)\n",
      "Chain 3: \n",
      "\n",
      "SAMPLING FOR MODEL 'anon_model' NOW (CHAIN 4).\n",
      "Chain 4: \n",
      "Chain 4: Gradient evaluation took 6e-06 seconds\n",
      "Chain 4: 1000 transitions using 10 leapfrog steps per transition would take 0.06 seconds.\n",
      "Chain 4: Adjust your expectations accordingly!\n",
      "Chain 4: \n",
      "Chain 4: \n",
      "Chain 4: Iteration:   1 / 1000 [  0%]  (Warmup)\n",
      "Chain 4: Iteration: 100 / 1000 [ 10%]  (Warmup)\n",
      "Chain 4: Iteration: 200 / 1000 [ 20%]  (Warmup)\n",
      "Chain 4: Iteration: 300 / 1000 [ 30%]  (Warmup)\n",
      "Chain 4: Iteration: 400 / 1000 [ 40%]  (Warmup)\n",
      "Chain 4: Iteration: 500 / 1000 [ 50%]  (Warmup)\n",
      "Chain 4: Iteration: 501 / 1000 [ 50%]  (Sampling)\n",
      "Chain 4: Iteration: 600 / 1000 [ 60%]  (Sampling)\n",
      "Chain 4: Iteration: 700 / 1000 [ 70%]  (Sampling)\n",
      "Chain 4: Iteration: 800 / 1000 [ 80%]  (Sampling)\n",
      "Chain 4: Iteration: 900 / 1000 [ 90%]  (Sampling)\n",
      "Chain 4: Iteration: 1000 / 1000 [100%]  (Sampling)\n",
      "Chain 4: \n",
      "Chain 4:  Elapsed Time: 0.043 seconds (Warm-up)\n",
      "Chain 4:                0.046 seconds (Sampling)\n",
      "Chain 4:                0.089 seconds (Total)\n",
      "Chain 4: \n"
     ]
    }
   ],
   "source": [
    "m11.6 <- ulam(\n",
    "    cmdstan=FALSE,    \n",
    "    alist(\n",
    "        left_pulls ~ dbinom( 18 , p ) ,\n",
    "        logit(p) <- a[actor] + b[treatment] ,\n",
    "        a[actor] ~ dnorm( 0 , 1.5 ) ,\n",
    "        b[treatment] ~ dnorm( 0 , 0.5 )\n",
    "    ) , data=dat , chains=4 , log_lik=TRUE )"
   ]
  },
  {
   "cell_type": "code",
   "execution_count": 39,
   "metadata": {},
   "outputs": [
    {
     "data": {
      "text/html": [
       "<table class=\"dataframe\">\n",
       "<caption>A precis: 11 × 6</caption>\n",
       "<thead>\n",
       "\t<tr><th></th><th scope=col>mean</th><th scope=col>sd</th><th scope=col>5.5%</th><th scope=col>94.5%</th><th scope=col>n_eff</th><th scope=col>Rhat4</th></tr>\n",
       "\t<tr><th></th><th scope=col>&lt;dbl&gt;</th><th scope=col>&lt;dbl&gt;</th><th scope=col>&lt;dbl&gt;</th><th scope=col>&lt;dbl&gt;</th><th scope=col>&lt;dbl&gt;</th><th scope=col>&lt;dbl&gt;</th></tr>\n",
       "</thead>\n",
       "<tbody>\n",
       "\t<tr><th scope=row>a[1]</th><td>-0.43524282</td><td>0.3349244</td><td>-0.99271485</td><td> 0.06985630</td><td> 595.8587</td><td>1.004768</td></tr>\n",
       "\t<tr><th scope=row>a[2]</th><td> 3.88166443</td><td>0.7439820</td><td> 2.76928308</td><td> 5.12654859</td><td>1215.1551</td><td>1.002619</td></tr>\n",
       "\t<tr><th scope=row>a[3]</th><td>-0.74222146</td><td>0.3458104</td><td>-1.30417690</td><td>-0.20455884</td><td> 671.6294</td><td>1.003079</td></tr>\n",
       "\t<tr><th scope=row>a[4]</th><td>-0.74156929</td><td>0.3356084</td><td>-1.27927854</td><td>-0.21416583</td><td> 640.1288</td><td>1.005457</td></tr>\n",
       "\t<tr><th scope=row>a[5]</th><td>-0.44151691</td><td>0.3314547</td><td>-0.99411022</td><td> 0.06296176</td><td> 660.2078</td><td>1.003795</td></tr>\n",
       "\t<tr><th scope=row>a[6]</th><td> 0.49004328</td><td>0.3369249</td><td>-0.05754514</td><td> 1.03988955</td><td> 747.9984</td><td>1.001492</td></tr>\n",
       "\t<tr><th scope=row>a[7]</th><td> 1.97812909</td><td>0.4312653</td><td> 1.30113963</td><td> 2.68229867</td><td> 933.4373</td><td>1.002767</td></tr>\n",
       "\t<tr><th scope=row>b[1]</th><td>-0.05208483</td><td>0.2904467</td><td>-0.50211857</td><td> 0.42994952</td><td> 606.1239</td><td>1.004669</td></tr>\n",
       "\t<tr><th scope=row>b[2]</th><td> 0.48006684</td><td>0.2943675</td><td> 0.01948375</td><td> 0.96513710</td><td> 640.4628</td><td>1.004369</td></tr>\n",
       "\t<tr><th scope=row>b[3]</th><td>-0.39414992</td><td>0.2823222</td><td>-0.84744524</td><td> 0.06605805</td><td> 622.6605</td><td>1.005406</td></tr>\n",
       "\t<tr><th scope=row>b[4]</th><td> 0.36502775</td><td>0.2839415</td><td>-0.08428650</td><td> 0.80945103</td><td> 586.8508</td><td>1.005540</td></tr>\n",
       "</tbody>\n",
       "</table>\n"
      ],
      "text/latex": [
       "A precis: 11 × 6\n",
       "\\begin{tabular}{r|llllll}\n",
       "  & mean & sd & 5.5\\% & 94.5\\% & n\\_eff & Rhat4\\\\\n",
       "  & <dbl> & <dbl> & <dbl> & <dbl> & <dbl> & <dbl>\\\\\n",
       "\\hline\n",
       "\ta{[}1{]} & -0.43524282 & 0.3349244 & -0.99271485 &  0.06985630 &  595.8587 & 1.004768\\\\\n",
       "\ta{[}2{]} &  3.88166443 & 0.7439820 &  2.76928308 &  5.12654859 & 1215.1551 & 1.002619\\\\\n",
       "\ta{[}3{]} & -0.74222146 & 0.3458104 & -1.30417690 & -0.20455884 &  671.6294 & 1.003079\\\\\n",
       "\ta{[}4{]} & -0.74156929 & 0.3356084 & -1.27927854 & -0.21416583 &  640.1288 & 1.005457\\\\\n",
       "\ta{[}5{]} & -0.44151691 & 0.3314547 & -0.99411022 &  0.06296176 &  660.2078 & 1.003795\\\\\n",
       "\ta{[}6{]} &  0.49004328 & 0.3369249 & -0.05754514 &  1.03988955 &  747.9984 & 1.001492\\\\\n",
       "\ta{[}7{]} &  1.97812909 & 0.4312653 &  1.30113963 &  2.68229867 &  933.4373 & 1.002767\\\\\n",
       "\tb{[}1{]} & -0.05208483 & 0.2904467 & -0.50211857 &  0.42994952 &  606.1239 & 1.004669\\\\\n",
       "\tb{[}2{]} &  0.48006684 & 0.2943675 &  0.01948375 &  0.96513710 &  640.4628 & 1.004369\\\\\n",
       "\tb{[}3{]} & -0.39414992 & 0.2823222 & -0.84744524 &  0.06605805 &  622.6605 & 1.005406\\\\\n",
       "\tb{[}4{]} &  0.36502775 & 0.2839415 & -0.08428650 &  0.80945103 &  586.8508 & 1.005540\\\\\n",
       "\\end{tabular}\n"
      ],
      "text/markdown": [
       "\n",
       "A precis: 11 × 6\n",
       "\n",
       "| <!--/--> | mean &lt;dbl&gt; | sd &lt;dbl&gt; | 5.5% &lt;dbl&gt; | 94.5% &lt;dbl&gt; | n_eff &lt;dbl&gt; | Rhat4 &lt;dbl&gt; |\n",
       "|---|---|---|---|---|---|---|\n",
       "| a[1] | -0.43524282 | 0.3349244 | -0.99271485 |  0.06985630 |  595.8587 | 1.004768 |\n",
       "| a[2] |  3.88166443 | 0.7439820 |  2.76928308 |  5.12654859 | 1215.1551 | 1.002619 |\n",
       "| a[3] | -0.74222146 | 0.3458104 | -1.30417690 | -0.20455884 |  671.6294 | 1.003079 |\n",
       "| a[4] | -0.74156929 | 0.3356084 | -1.27927854 | -0.21416583 |  640.1288 | 1.005457 |\n",
       "| a[5] | -0.44151691 | 0.3314547 | -0.99411022 |  0.06296176 |  660.2078 | 1.003795 |\n",
       "| a[6] |  0.49004328 | 0.3369249 | -0.05754514 |  1.03988955 |  747.9984 | 1.001492 |\n",
       "| a[7] |  1.97812909 | 0.4312653 |  1.30113963 |  2.68229867 |  933.4373 | 1.002767 |\n",
       "| b[1] | -0.05208483 | 0.2904467 | -0.50211857 |  0.42994952 |  606.1239 | 1.004669 |\n",
       "| b[2] |  0.48006684 | 0.2943675 |  0.01948375 |  0.96513710 |  640.4628 | 1.004369 |\n",
       "| b[3] | -0.39414992 | 0.2823222 | -0.84744524 |  0.06605805 |  622.6605 | 1.005406 |\n",
       "| b[4] |  0.36502775 | 0.2839415 | -0.08428650 |  0.80945103 |  586.8508 | 1.005540 |\n",
       "\n"
      ],
      "text/plain": [
       "     mean        sd        5.5%        94.5%       n_eff     Rhat4   \n",
       "a[1] -0.43524282 0.3349244 -0.99271485  0.06985630  595.8587 1.004768\n",
       "a[2]  3.88166443 0.7439820  2.76928308  5.12654859 1215.1551 1.002619\n",
       "a[3] -0.74222146 0.3458104 -1.30417690 -0.20455884  671.6294 1.003079\n",
       "a[4] -0.74156929 0.3356084 -1.27927854 -0.21416583  640.1288 1.005457\n",
       "a[5] -0.44151691 0.3314547 -0.99411022  0.06296176  660.2078 1.003795\n",
       "a[6]  0.49004328 0.3369249 -0.05754514  1.03988955  747.9984 1.001492\n",
       "a[7]  1.97812909 0.4312653  1.30113963  2.68229867  933.4373 1.002767\n",
       "b[1] -0.05208483 0.2904467 -0.50211857  0.42994952  606.1239 1.004669\n",
       "b[2]  0.48006684 0.2943675  0.01948375  0.96513710  640.4628 1.004369\n",
       "b[3] -0.39414992 0.2823222 -0.84744524  0.06605805  622.6605 1.005406\n",
       "b[4]  0.36502775 0.2839415 -0.08428650  0.80945103  586.8508 1.005540"
      ]
     },
     "metadata": {},
     "output_type": "display_data"
    }
   ],
   "source": [
    "precis(m11.6,depth=2)"
   ]
  },
  {
   "cell_type": "code",
   "execution_count": 40,
   "metadata": {},
   "outputs": [
    {
     "name": "stderr",
     "output_type": "stream",
     "text": [
      "Warning message in compare(m11.6, m11.4, func = PSIS):\n",
      "\"Different numbers of observations found for at least two models.\n",
      "Model comparison is valid only for models fit to exactly the same observations.\n",
      "Number of observations for each model:\n",
      "m11.6 28 \n",
      "m11.4 504 \n",
      "\"\n",
      "Some Pareto k values are high (>0.5). Set pointwise=TRUE to inspect individual points.\n",
      "\n"
     ]
    },
    {
     "data": {
      "text/html": [
       "<table class=\"dataframe\">\n",
       "<caption>A compareIC: 2 × 6</caption>\n",
       "<thead>\n",
       "\t<tr><th></th><th scope=col>PSIS</th><th scope=col>SE</th><th scope=col>dPSIS</th><th scope=col>dSE</th><th scope=col>pPSIS</th><th scope=col>weight</th></tr>\n",
       "\t<tr><th></th><th scope=col>&lt;dbl&gt;</th><th scope=col>&lt;dbl&gt;</th><th scope=col>&lt;dbl&gt;</th><th scope=col>&lt;dbl&gt;</th><th scope=col>&lt;dbl&gt;</th><th scope=col>&lt;dbl&gt;</th></tr>\n",
       "</thead>\n",
       "<tbody>\n",
       "\t<tr><th scope=row>m11.6</th><td>114.1010</td><td> 8.402184</td><td>  0.0000</td><td>      NA</td><td>8.372782</td><td>1.000000e+00</td></tr>\n",
       "\t<tr><th scope=row>m11.4</th><td>532.5646</td><td>18.931982</td><td>418.4636</td><td>9.439002</td><td>8.631794</td><td>1.354547e-91</td></tr>\n",
       "</tbody>\n",
       "</table>\n"
      ],
      "text/latex": [
       "A compareIC: 2 × 6\n",
       "\\begin{tabular}{r|llllll}\n",
       "  & PSIS & SE & dPSIS & dSE & pPSIS & weight\\\\\n",
       "  & <dbl> & <dbl> & <dbl> & <dbl> & <dbl> & <dbl>\\\\\n",
       "\\hline\n",
       "\tm11.6 & 114.1010 &  8.402184 &   0.0000 &       NA & 8.372782 & 1.000000e+00\\\\\n",
       "\tm11.4 & 532.5646 & 18.931982 & 418.4636 & 9.439002 & 8.631794 & 1.354547e-91\\\\\n",
       "\\end{tabular}\n"
      ],
      "text/markdown": [
       "\n",
       "A compareIC: 2 × 6\n",
       "\n",
       "| <!--/--> | PSIS &lt;dbl&gt; | SE &lt;dbl&gt; | dPSIS &lt;dbl&gt; | dSE &lt;dbl&gt; | pPSIS &lt;dbl&gt; | weight &lt;dbl&gt; |\n",
       "|---|---|---|---|---|---|---|\n",
       "| m11.6 | 114.1010 |  8.402184 |   0.0000 |       NA | 8.372782 | 1.000000e+00 |\n",
       "| m11.4 | 532.5646 | 18.931982 | 418.4636 | 9.439002 | 8.631794 | 1.354547e-91 |\n",
       "\n"
      ],
      "text/plain": [
       "      PSIS     SE        dPSIS    dSE      pPSIS    weight      \n",
       "m11.6 114.1010  8.402184   0.0000       NA 8.372782 1.000000e+00\n",
       "m11.4 532.5646 18.931982 418.4636 9.439002 8.631794 1.354547e-91"
      ]
     },
     "metadata": {},
     "output_type": "display_data"
    }
   ],
   "source": [
    "## R code 11.26\n",
    "compare( m11.6 , m11.4 , func=PSIS )"
   ]
  },
  {
   "cell_type": "code",
   "execution_count": 41,
   "metadata": {},
   "outputs": [
    {
     "data": {
      "text/html": [
       "11.7904826594078"
      ],
      "text/latex": [
       "11.7904826594078"
      ],
      "text/markdown": [
       "11.7904826594078"
      ],
      "text/plain": [
       "[1] 11.79048"
      ]
     },
     "metadata": {},
     "output_type": "display_data"
    },
    {
     "data": {
      "text/html": [
       "20.6521162570945"
      ],
      "text/latex": [
       "20.6521162570945"
      ],
      "text/markdown": [
       "20.6521162570945"
      ],
      "text/plain": [
       "[1] 20.65212"
      ]
     },
     "metadata": {},
     "output_type": "display_data"
    }
   ],
   "source": [
    "## R code 11.27\n",
    "# deviance of aggregated 6-in-9\n",
    "-2*dbinom(6,9,0.2,log=TRUE)\n",
    "# deviance of dis-aggregated\n",
    "-2*sum(dbern(c(1,1,1,1,1,1,0,0,0),0.2,log=TRUE))"
   ]
  },
  {
   "cell_type": "code",
   "execution_count": 42,
   "metadata": {},
   "outputs": [
    {
     "name": "stderr",
     "output_type": "stream",
     "text": [
      "Some Pareto k values are high (>0.5). Set pointwise=TRUE to inspect individual points.\n",
      "\n"
     ]
    },
    {
     "data": {
      "text/html": [
       "<table class=\"dataframe\">\n",
       "<caption>A data.frame: 28 × 5</caption>\n",
       "<thead>\n",
       "\t<tr><th scope=col>PSIS</th><th scope=col>lppd</th><th scope=col>penalty</th><th scope=col>std_err</th><th scope=col>k</th></tr>\n",
       "\t<tr><th scope=col>&lt;dbl&gt;</th><th scope=col>&lt;dbl&gt;</th><th scope=col>&lt;dbl&gt;</th><th scope=col>&lt;dbl&gt;</th><th scope=col>&lt;dbl&gt;</th></tr>\n",
       "</thead>\n",
       "<tbody>\n",
       "\t<tr><td>3.9496512</td><td>-1.9748256</td><td>0.12686683</td><td>8.402184</td><td>0.3088487</td></tr>\n",
       "\t<tr><td>1.1440361</td><td>-0.5720180</td><td>0.13146249</td><td>8.402184</td><td>0.3789438</td></tr>\n",
       "\t<tr><td>3.7034070</td><td>-1.8517035</td><td>0.09224526</td><td>8.402184</td><td>0.3697451</td></tr>\n",
       "\t<tr><td>3.7203684</td><td>-1.8601842</td><td>0.07109906</td><td>8.402184</td><td>0.4044780</td></tr>\n",
       "\t<tr><td>3.9399427</td><td>-1.9699714</td><td>0.13379051</td><td>8.402184</td><td>0.3661083</td></tr>\n",
       "\t<tr><td>6.9168615</td><td>-3.4584307</td><td>0.90514462</td><td>8.402184</td><td>0.6265727</td></tr>\n",
       "\t<tr><td>5.2418614</td><td>-2.6209307</td><td>0.52215092</td><td>8.402184</td><td>0.5982386</td></tr>\n",
       "\t<tr><td>3.8509496</td><td>-1.9254748</td><td>0.07647216</td><td>8.402184</td><td>0.3530675</td></tr>\n",
       "\t<tr><td>0.6339291</td><td>-0.3169646</td><td>0.04488515</td><td>8.402184</td><td>0.2016119</td></tr>\n",
       "\t<tr><td>7.5579354</td><td>-3.7789677</td><td>1.14682978</td><td>8.402184</td><td>0.7421207</td></tr>\n",
       "\t<tr><td>4.3129811</td><td>-2.1564905</td><td>0.20362717</td><td>8.402184</td><td>0.4594022</td></tr>\n",
       "\t<tr><td>4.1047387</td><td>-2.0523693</td><td>0.15598186</td><td>8.402184</td><td>0.3898216</td></tr>\n",
       "\t<tr><td>5.4582941</td><td>-2.7291470</td><td>0.52089645</td><td>8.402184</td><td>0.4552222</td></tr>\n",
       "\t<tr><td>5.0934763</td><td>-2.5467382</td><td>0.45817686</td><td>8.402184</td><td>0.4670742</td></tr>\n",
       "\t<tr><td>3.6766477</td><td>-1.8383238</td><td>0.08688686</td><td>8.402184</td><td>0.3125433</td></tr>\n",
       "\t<tr><td>1.7365170</td><td>-0.8682585</td><td>0.27518190</td><td>8.402184</td><td>0.6144290</td></tr>\n",
       "\t<tr><td>4.0340344</td><td>-2.0170172</td><td>0.23419920</td><td>8.402184</td><td>0.4891669</td></tr>\n",
       "\t<tr><td>5.6276188</td><td>-2.8138094</td><td>0.63433461</td><td>8.402184</td><td>0.5469993</td></tr>\n",
       "\t<tr><td>3.6245426</td><td>-1.8122713</td><td>0.07138185</td><td>8.402184</td><td>0.2068134</td></tr>\n",
       "\t<tr><td>3.9354491</td><td>-1.9677245</td><td>0.10386993</td><td>8.402184</td><td>0.5378605</td></tr>\n",
       "\t<tr><td>5.6670581</td><td>-2.8335291</td><td>0.86648253</td><td>8.402184</td><td>0.7419389</td></tr>\n",
       "\t<tr><td>4.4700743</td><td>-2.2350371</td><td>0.25541329</td><td>8.402184</td><td>0.3866038</td></tr>\n",
       "\t<tr><td>0.7227834</td><td>-0.3613917</td><td>0.05885220</td><td>8.402184</td><td>0.3172027</td></tr>\n",
       "\t<tr><td>4.3512220</td><td>-2.1756110</td><td>0.23268172</td><td>8.402184</td><td>0.3260494</td></tr>\n",
       "\t<tr><td>3.9747988</td><td>-1.9873994</td><td>0.11336273</td><td>8.402184</td><td>0.4682296</td></tr>\n",
       "\t<tr><td>3.8554829</td><td>-1.9277415</td><td>0.08239885</td><td>8.402184</td><td>0.3382733</td></tr>\n",
       "\t<tr><td>4.7028071</td><td>-2.3514035</td><td>0.30123590</td><td>8.402184</td><td>0.4039842</td></tr>\n",
       "\t<tr><td>4.0935685</td><td>-2.0467843</td><td>0.46687163</td><td>8.402184</td><td>0.5407515</td></tr>\n",
       "</tbody>\n",
       "</table>\n"
      ],
      "text/latex": [
       "A data.frame: 28 × 5\n",
       "\\begin{tabular}{lllll}\n",
       " PSIS & lppd & penalty & std\\_err & k\\\\\n",
       " <dbl> & <dbl> & <dbl> & <dbl> & <dbl>\\\\\n",
       "\\hline\n",
       "\t 3.9496512 & -1.9748256 & 0.12686683 & 8.402184 & 0.3088487\\\\\n",
       "\t 1.1440361 & -0.5720180 & 0.13146249 & 8.402184 & 0.3789438\\\\\n",
       "\t 3.7034070 & -1.8517035 & 0.09224526 & 8.402184 & 0.3697451\\\\\n",
       "\t 3.7203684 & -1.8601842 & 0.07109906 & 8.402184 & 0.4044780\\\\\n",
       "\t 3.9399427 & -1.9699714 & 0.13379051 & 8.402184 & 0.3661083\\\\\n",
       "\t 6.9168615 & -3.4584307 & 0.90514462 & 8.402184 & 0.6265727\\\\\n",
       "\t 5.2418614 & -2.6209307 & 0.52215092 & 8.402184 & 0.5982386\\\\\n",
       "\t 3.8509496 & -1.9254748 & 0.07647216 & 8.402184 & 0.3530675\\\\\n",
       "\t 0.6339291 & -0.3169646 & 0.04488515 & 8.402184 & 0.2016119\\\\\n",
       "\t 7.5579354 & -3.7789677 & 1.14682978 & 8.402184 & 0.7421207\\\\\n",
       "\t 4.3129811 & -2.1564905 & 0.20362717 & 8.402184 & 0.4594022\\\\\n",
       "\t 4.1047387 & -2.0523693 & 0.15598186 & 8.402184 & 0.3898216\\\\\n",
       "\t 5.4582941 & -2.7291470 & 0.52089645 & 8.402184 & 0.4552222\\\\\n",
       "\t 5.0934763 & -2.5467382 & 0.45817686 & 8.402184 & 0.4670742\\\\\n",
       "\t 3.6766477 & -1.8383238 & 0.08688686 & 8.402184 & 0.3125433\\\\\n",
       "\t 1.7365170 & -0.8682585 & 0.27518190 & 8.402184 & 0.6144290\\\\\n",
       "\t 4.0340344 & -2.0170172 & 0.23419920 & 8.402184 & 0.4891669\\\\\n",
       "\t 5.6276188 & -2.8138094 & 0.63433461 & 8.402184 & 0.5469993\\\\\n",
       "\t 3.6245426 & -1.8122713 & 0.07138185 & 8.402184 & 0.2068134\\\\\n",
       "\t 3.9354491 & -1.9677245 & 0.10386993 & 8.402184 & 0.5378605\\\\\n",
       "\t 5.6670581 & -2.8335291 & 0.86648253 & 8.402184 & 0.7419389\\\\\n",
       "\t 4.4700743 & -2.2350371 & 0.25541329 & 8.402184 & 0.3866038\\\\\n",
       "\t 0.7227834 & -0.3613917 & 0.05885220 & 8.402184 & 0.3172027\\\\\n",
       "\t 4.3512220 & -2.1756110 & 0.23268172 & 8.402184 & 0.3260494\\\\\n",
       "\t 3.9747988 & -1.9873994 & 0.11336273 & 8.402184 & 0.4682296\\\\\n",
       "\t 3.8554829 & -1.9277415 & 0.08239885 & 8.402184 & 0.3382733\\\\\n",
       "\t 4.7028071 & -2.3514035 & 0.30123590 & 8.402184 & 0.4039842\\\\\n",
       "\t 4.0935685 & -2.0467843 & 0.46687163 & 8.402184 & 0.5407515\\\\\n",
       "\\end{tabular}\n"
      ],
      "text/markdown": [
       "\n",
       "A data.frame: 28 × 5\n",
       "\n",
       "| PSIS &lt;dbl&gt; | lppd &lt;dbl&gt; | penalty &lt;dbl&gt; | std_err &lt;dbl&gt; | k &lt;dbl&gt; |\n",
       "|---|---|---|---|---|\n",
       "| 3.9496512 | -1.9748256 | 0.12686683 | 8.402184 | 0.3088487 |\n",
       "| 1.1440361 | -0.5720180 | 0.13146249 | 8.402184 | 0.3789438 |\n",
       "| 3.7034070 | -1.8517035 | 0.09224526 | 8.402184 | 0.3697451 |\n",
       "| 3.7203684 | -1.8601842 | 0.07109906 | 8.402184 | 0.4044780 |\n",
       "| 3.9399427 | -1.9699714 | 0.13379051 | 8.402184 | 0.3661083 |\n",
       "| 6.9168615 | -3.4584307 | 0.90514462 | 8.402184 | 0.6265727 |\n",
       "| 5.2418614 | -2.6209307 | 0.52215092 | 8.402184 | 0.5982386 |\n",
       "| 3.8509496 | -1.9254748 | 0.07647216 | 8.402184 | 0.3530675 |\n",
       "| 0.6339291 | -0.3169646 | 0.04488515 | 8.402184 | 0.2016119 |\n",
       "| 7.5579354 | -3.7789677 | 1.14682978 | 8.402184 | 0.7421207 |\n",
       "| 4.3129811 | -2.1564905 | 0.20362717 | 8.402184 | 0.4594022 |\n",
       "| 4.1047387 | -2.0523693 | 0.15598186 | 8.402184 | 0.3898216 |\n",
       "| 5.4582941 | -2.7291470 | 0.52089645 | 8.402184 | 0.4552222 |\n",
       "| 5.0934763 | -2.5467382 | 0.45817686 | 8.402184 | 0.4670742 |\n",
       "| 3.6766477 | -1.8383238 | 0.08688686 | 8.402184 | 0.3125433 |\n",
       "| 1.7365170 | -0.8682585 | 0.27518190 | 8.402184 | 0.6144290 |\n",
       "| 4.0340344 | -2.0170172 | 0.23419920 | 8.402184 | 0.4891669 |\n",
       "| 5.6276188 | -2.8138094 | 0.63433461 | 8.402184 | 0.5469993 |\n",
       "| 3.6245426 | -1.8122713 | 0.07138185 | 8.402184 | 0.2068134 |\n",
       "| 3.9354491 | -1.9677245 | 0.10386993 | 8.402184 | 0.5378605 |\n",
       "| 5.6670581 | -2.8335291 | 0.86648253 | 8.402184 | 0.7419389 |\n",
       "| 4.4700743 | -2.2350371 | 0.25541329 | 8.402184 | 0.3866038 |\n",
       "| 0.7227834 | -0.3613917 | 0.05885220 | 8.402184 | 0.3172027 |\n",
       "| 4.3512220 | -2.1756110 | 0.23268172 | 8.402184 | 0.3260494 |\n",
       "| 3.9747988 | -1.9873994 | 0.11336273 | 8.402184 | 0.4682296 |\n",
       "| 3.8554829 | -1.9277415 | 0.08239885 | 8.402184 | 0.3382733 |\n",
       "| 4.7028071 | -2.3514035 | 0.30123590 | 8.402184 | 0.4039842 |\n",
       "| 4.0935685 | -2.0467843 | 0.46687163 | 8.402184 | 0.5407515 |\n",
       "\n"
      ],
      "text/plain": [
       "   PSIS      lppd       penalty    std_err  k        \n",
       "1  3.9496512 -1.9748256 0.12686683 8.402184 0.3088487\n",
       "2  1.1440361 -0.5720180 0.13146249 8.402184 0.3789438\n",
       "3  3.7034070 -1.8517035 0.09224526 8.402184 0.3697451\n",
       "4  3.7203684 -1.8601842 0.07109906 8.402184 0.4044780\n",
       "5  3.9399427 -1.9699714 0.13379051 8.402184 0.3661083\n",
       "6  6.9168615 -3.4584307 0.90514462 8.402184 0.6265727\n",
       "7  5.2418614 -2.6209307 0.52215092 8.402184 0.5982386\n",
       "8  3.8509496 -1.9254748 0.07647216 8.402184 0.3530675\n",
       "9  0.6339291 -0.3169646 0.04488515 8.402184 0.2016119\n",
       "10 7.5579354 -3.7789677 1.14682978 8.402184 0.7421207\n",
       "11 4.3129811 -2.1564905 0.20362717 8.402184 0.4594022\n",
       "12 4.1047387 -2.0523693 0.15598186 8.402184 0.3898216\n",
       "13 5.4582941 -2.7291470 0.52089645 8.402184 0.4552222\n",
       "14 5.0934763 -2.5467382 0.45817686 8.402184 0.4670742\n",
       "15 3.6766477 -1.8383238 0.08688686 8.402184 0.3125433\n",
       "16 1.7365170 -0.8682585 0.27518190 8.402184 0.6144290\n",
       "17 4.0340344 -2.0170172 0.23419920 8.402184 0.4891669\n",
       "18 5.6276188 -2.8138094 0.63433461 8.402184 0.5469993\n",
       "19 3.6245426 -1.8122713 0.07138185 8.402184 0.2068134\n",
       "20 3.9354491 -1.9677245 0.10386993 8.402184 0.5378605\n",
       "21 5.6670581 -2.8335291 0.86648253 8.402184 0.7419389\n",
       "22 4.4700743 -2.2350371 0.25541329 8.402184 0.3866038\n",
       "23 0.7227834 -0.3613917 0.05885220 8.402184 0.3172027\n",
       "24 4.3512220 -2.1756110 0.23268172 8.402184 0.3260494\n",
       "25 3.9747988 -1.9873994 0.11336273 8.402184 0.4682296\n",
       "26 3.8554829 -1.9277415 0.08239885 8.402184 0.3382733\n",
       "27 4.7028071 -2.3514035 0.30123590 8.402184 0.4039842\n",
       "28 4.0935685 -2.0467843 0.46687163 8.402184 0.5407515"
      ]
     },
     "metadata": {},
     "output_type": "display_data"
    }
   ],
   "source": [
    "LOO(m11.6,pointwise=TRUE) # different syntax  from the book draft - Not (still) documented in the package"
   ]
  },
  {
   "cell_type": "markdown",
   "metadata": {},
   "source": [
    "# Multilevel treatment (Chapter 13)"
   ]
  },
  {
   "cell_type": "markdown",
   "metadata": {},
   "source": [
    "Now we set a hierarchical model:\n",
    "\n",
    "1. Varying intercepts $\\alpha_{j}$, one for each of the 7 actors, but adding an adaptive prior with mean $\\bar{\\alpha}$.\n",
    "2. The same $\\beta_{j}$ coefficients, one for each of the 4 treatments (as in the previous version)\n",
    "3. A second clustering factor, $[BLOCK]=1,\\dots,6$. There are 6 blocks, each of 84 observations, $6\\times 84=504$. Within each block there are $84=7\\times (6+6)$ observations, 6 with no recipient and 6 with a partner, for each of the 7 actors.\n",
    "\n",
    "The resulting model is:"
   ]
  },
  {
   "cell_type": "markdown",
   "metadata": {},
   "source": [
    "$$\n",
    "    \\begin{array}{lcl}\n",
    "    L_{i}                      &\\sim &\\operatorname{Binomial}(1,p_{i})\\\\[0.25cm]\n",
    "    \\operatorname{logit}(p_{i})&=    \n",
    "           &\\alpha_{\\text{ACTOR}[i]}+\\gamma_{\\text{BLOCK}[i]}+\\beta_{\\text{TREATMENT}[i]}\\\\[0.25cm]\n",
    "    \\beta_{j}  &\\sim &\\operatorname{Normal}(0,0.5),\\mskip30mu\\text{for}\\mskip7mu j=1,\\dots,4,\\\\[0.25cm]\n",
    "    \\alpha_{j} &\\sim &\\operatorname{Normal}(\\bar{\\alpha},\\sigma_{\\alpha}),\\mskip30mu\\text{for}\\mskip7mu j=1,\\dots,7,\\\\[0.25cm]\n",
    "    \\gamma_{j} &\\sim &\\operatorname{Normal}(0,\\sigma_{\\gamma}),\\mskip30mu\\text{for}\\mskip7mu j=1,\\dots,6,\\\\[0.25cm]\n",
    "    \\bar{\\alpha}     &\\sim &\\operatorname{Normal}(0,1.5),\\\\[0.25cm]\n",
    "    \\sigma_{\\alpha}    &\\sim &\\operatorname{Exponential}(1),\\\\[0.25cm]\n",
    "    \\sigma_{\\gamma}    &\\sim &\\operatorname{Exponential}(1).\n",
    "    \\end{array}\n",
    "$$"
   ]
  },
  {
   "cell_type": "code",
   "execution_count": 43,
   "metadata": {},
   "outputs": [],
   "source": [
    "## R code 13.21\n",
    "require(rethinking)\n",
    "data(chimpanzees)\n",
    "d <- chimpanzees\n",
    "d$treatment <- 1 + d$prosoc_left + 2*d$condition"
   ]
  },
  {
   "cell_type": "code",
   "execution_count": 44,
   "metadata": {},
   "outputs": [],
   "source": [
    "dat_list <- list(\n",
    "    pulled_left = d$pulled_left,\n",
    "    actor = d$actor,\n",
    "    block_id = d$block,\n",
    "    treatment = as.integer(d$treatment) )"
   ]
  },
  {
   "cell_type": "code",
   "execution_count": 45,
   "metadata": {},
   "outputs": [
    {
     "name": "stderr",
     "output_type": "stream",
     "text": [
      "Warning message:\n",
      "\"There were 3 divergent transitions after warmup. See\n",
      "https://mc-stan.org/misc/warnings.html#divergent-transitions-after-warmup\n",
      "to find out why this is a problem and how to eliminate them.\"\n",
      "Warning message:\n",
      "\"Examine the pairs() plot to diagnose sampling problems\n",
      "\"\n",
      "Warning message:\n",
      "\"Bulk Effective Samples Size (ESS) is too low, indicating posterior means and medians may be unreliable.\n",
      "Running the chains for more iterations may help. See\n",
      "https://mc-stan.org/misc/warnings.html#bulk-ess\"\n"
     ]
    }
   ],
   "source": [
    "set.seed(13)\n",
    "m13.4 <- ulam(\n",
    "    cmdstan=FALSE,\n",
    "    alist(\n",
    "        pulled_left ~ dbinom( 1 , p ) ,\n",
    "        logit(p) <- a[actor] + g[block_id] + b[treatment] ,\n",
    "        b[treatment] ~ dnorm( 0 , 0.5 ),\n",
    "      ## adaptive priors\n",
    "        a[actor] ~ dnorm( a_bar , sigma_a ),\n",
    "        g[block_id] ~ dnorm( 0 , sigma_g ),\n",
    "      ## hyper-priors\n",
    "        a_bar ~ dnorm( 0 , 1.5 ),\n",
    "        sigma_a ~ dexp(1),\n",
    "        sigma_g ~ dexp(1)\n",
    "    ) , data=dat_list , chains=4 , cores=4 , log_lik=TRUE )"
   ]
  },
  {
   "cell_type": "code",
   "execution_count": 46,
   "metadata": {},
   "outputs": [
    {
     "data": {
      "text/html": [
       "<table class=\"dataframe\">\n",
       "<caption>A precis: 20 × 6</caption>\n",
       "<thead>\n",
       "\t<tr><th></th><th scope=col>mean</th><th scope=col>sd</th><th scope=col>5.5%</th><th scope=col>94.5%</th><th scope=col>n_eff</th><th scope=col>Rhat4</th></tr>\n",
       "\t<tr><th></th><th scope=col>&lt;dbl&gt;</th><th scope=col>&lt;dbl&gt;</th><th scope=col>&lt;dbl&gt;</th><th scope=col>&lt;dbl&gt;</th><th scope=col>&lt;dbl&gt;</th><th scope=col>&lt;dbl&gt;</th></tr>\n",
       "</thead>\n",
       "<tbody>\n",
       "\t<tr><th scope=row>b[1]</th><td>-0.10571151</td><td>0.2912853</td><td>-0.58302516</td><td> 0.35876720</td><td> 645.6862</td><td>1.004818</td></tr>\n",
       "\t<tr><th scope=row>b[2]</th><td> 0.42534087</td><td>0.3019959</td><td>-0.04503576</td><td> 0.91392852</td><td> 519.9028</td><td>1.006930</td></tr>\n",
       "\t<tr><th scope=row>b[3]</th><td>-0.44859334</td><td>0.2937052</td><td>-0.91392486</td><td> 0.01067822</td><td> 694.4587</td><td>1.001211</td></tr>\n",
       "\t<tr><th scope=row>b[4]</th><td> 0.31028077</td><td>0.2975650</td><td>-0.17317412</td><td> 0.78731935</td><td> 646.1250</td><td>1.004643</td></tr>\n",
       "\t<tr><th scope=row>a[1]</th><td>-0.38248640</td><td>0.3478814</td><td>-0.92510867</td><td> 0.18685334</td><td> 650.1185</td><td>1.002637</td></tr>\n",
       "\t<tr><th scope=row>a[2]</th><td> 4.64131026</td><td>1.2878007</td><td> 3.01169534</td><td> 6.98345095</td><td> 890.3389</td><td>1.002352</td></tr>\n",
       "\t<tr><th scope=row>a[3]</th><td>-0.68902740</td><td>0.3569642</td><td>-1.24560739</td><td>-0.13225735</td><td> 676.4517</td><td>1.003778</td></tr>\n",
       "\t<tr><th scope=row>a[4]</th><td>-0.69376374</td><td>0.3628796</td><td>-1.26271603</td><td>-0.09698361</td><td> 663.2162</td><td>1.003055</td></tr>\n",
       "\t<tr><th scope=row>a[5]</th><td>-0.38612975</td><td>0.3547351</td><td>-0.93961253</td><td> 0.18022578</td><td> 747.0305</td><td>1.003362</td></tr>\n",
       "\t<tr><th scope=row>a[6]</th><td> 0.55681157</td><td>0.3603690</td><td>-0.01026900</td><td> 1.13237667</td><td> 682.2844</td><td>1.002582</td></tr>\n",
       "\t<tr><th scope=row>a[7]</th><td> 2.07377699</td><td>0.4524654</td><td> 1.38396895</td><td> 2.81332793</td><td> 911.6668</td><td>1.004237</td></tr>\n",
       "\t<tr><th scope=row>g[1]</th><td>-0.16467994</td><td>0.2122773</td><td>-0.57165873</td><td> 0.07330607</td><td> 446.5266</td><td>1.002385</td></tr>\n",
       "\t<tr><th scope=row>g[2]</th><td> 0.03200890</td><td>0.1666193</td><td>-0.22210777</td><td> 0.29805363</td><td> 899.2220</td><td>1.004446</td></tr>\n",
       "\t<tr><th scope=row>g[3]</th><td> 0.04369782</td><td>0.1777030</td><td>-0.20999830</td><td> 0.32626070</td><td> 828.9196</td><td>1.005967</td></tr>\n",
       "\t<tr><th scope=row>g[4]</th><td> 0.01179064</td><td>0.1603535</td><td>-0.24919031</td><td> 0.27369638</td><td> 804.2162</td><td>1.011112</td></tr>\n",
       "\t<tr><th scope=row>g[5]</th><td>-0.02711168</td><td>0.1672057</td><td>-0.30943910</td><td> 0.20887025</td><td> 814.9564</td><td>1.002848</td></tr>\n",
       "\t<tr><th scope=row>g[6]</th><td> 0.10735640</td><td>0.1814941</td><td>-0.11403852</td><td> 0.44969618</td><td> 490.8986</td><td>1.005919</td></tr>\n",
       "\t<tr><th scope=row>a_bar</th><td> 0.57571964</td><td>0.7045946</td><td>-0.51174934</td><td> 1.69590180</td><td>1125.2433</td><td>1.000810</td></tr>\n",
       "\t<tr><th scope=row>sigma_a</th><td> 2.01330571</td><td>0.6603844</td><td> 1.20080357</td><td> 3.12193213</td><td>1040.0807</td><td>1.003424</td></tr>\n",
       "\t<tr><th scope=row>sigma_g</th><td> 0.20260635</td><td>0.1591380</td><td> 0.03362520</td><td> 0.50759464</td><td> 261.3789</td><td>1.007286</td></tr>\n",
       "</tbody>\n",
       "</table>\n"
      ],
      "text/latex": [
       "A precis: 20 × 6\n",
       "\\begin{tabular}{r|llllll}\n",
       "  & mean & sd & 5.5\\% & 94.5\\% & n\\_eff & Rhat4\\\\\n",
       "  & <dbl> & <dbl> & <dbl> & <dbl> & <dbl> & <dbl>\\\\\n",
       "\\hline\n",
       "\tb{[}1{]} & -0.10571151 & 0.2912853 & -0.58302516 &  0.35876720 &  645.6862 & 1.004818\\\\\n",
       "\tb{[}2{]} &  0.42534087 & 0.3019959 & -0.04503576 &  0.91392852 &  519.9028 & 1.006930\\\\\n",
       "\tb{[}3{]} & -0.44859334 & 0.2937052 & -0.91392486 &  0.01067822 &  694.4587 & 1.001211\\\\\n",
       "\tb{[}4{]} &  0.31028077 & 0.2975650 & -0.17317412 &  0.78731935 &  646.1250 & 1.004643\\\\\n",
       "\ta{[}1{]} & -0.38248640 & 0.3478814 & -0.92510867 &  0.18685334 &  650.1185 & 1.002637\\\\\n",
       "\ta{[}2{]} &  4.64131026 & 1.2878007 &  3.01169534 &  6.98345095 &  890.3389 & 1.002352\\\\\n",
       "\ta{[}3{]} & -0.68902740 & 0.3569642 & -1.24560739 & -0.13225735 &  676.4517 & 1.003778\\\\\n",
       "\ta{[}4{]} & -0.69376374 & 0.3628796 & -1.26271603 & -0.09698361 &  663.2162 & 1.003055\\\\\n",
       "\ta{[}5{]} & -0.38612975 & 0.3547351 & -0.93961253 &  0.18022578 &  747.0305 & 1.003362\\\\\n",
       "\ta{[}6{]} &  0.55681157 & 0.3603690 & -0.01026900 &  1.13237667 &  682.2844 & 1.002582\\\\\n",
       "\ta{[}7{]} &  2.07377699 & 0.4524654 &  1.38396895 &  2.81332793 &  911.6668 & 1.004237\\\\\n",
       "\tg{[}1{]} & -0.16467994 & 0.2122773 & -0.57165873 &  0.07330607 &  446.5266 & 1.002385\\\\\n",
       "\tg{[}2{]} &  0.03200890 & 0.1666193 & -0.22210777 &  0.29805363 &  899.2220 & 1.004446\\\\\n",
       "\tg{[}3{]} &  0.04369782 & 0.1777030 & -0.20999830 &  0.32626070 &  828.9196 & 1.005967\\\\\n",
       "\tg{[}4{]} &  0.01179064 & 0.1603535 & -0.24919031 &  0.27369638 &  804.2162 & 1.011112\\\\\n",
       "\tg{[}5{]} & -0.02711168 & 0.1672057 & -0.30943910 &  0.20887025 &  814.9564 & 1.002848\\\\\n",
       "\tg{[}6{]} &  0.10735640 & 0.1814941 & -0.11403852 &  0.44969618 &  490.8986 & 1.005919\\\\\n",
       "\ta\\_bar &  0.57571964 & 0.7045946 & -0.51174934 &  1.69590180 & 1125.2433 & 1.000810\\\\\n",
       "\tsigma\\_a &  2.01330571 & 0.6603844 &  1.20080357 &  3.12193213 & 1040.0807 & 1.003424\\\\\n",
       "\tsigma\\_g &  0.20260635 & 0.1591380 &  0.03362520 &  0.50759464 &  261.3789 & 1.007286\\\\\n",
       "\\end{tabular}\n"
      ],
      "text/markdown": [
       "\n",
       "A precis: 20 × 6\n",
       "\n",
       "| <!--/--> | mean &lt;dbl&gt; | sd &lt;dbl&gt; | 5.5% &lt;dbl&gt; | 94.5% &lt;dbl&gt; | n_eff &lt;dbl&gt; | Rhat4 &lt;dbl&gt; |\n",
       "|---|---|---|---|---|---|---|\n",
       "| b[1] | -0.10571151 | 0.2912853 | -0.58302516 |  0.35876720 |  645.6862 | 1.004818 |\n",
       "| b[2] |  0.42534087 | 0.3019959 | -0.04503576 |  0.91392852 |  519.9028 | 1.006930 |\n",
       "| b[3] | -0.44859334 | 0.2937052 | -0.91392486 |  0.01067822 |  694.4587 | 1.001211 |\n",
       "| b[4] |  0.31028077 | 0.2975650 | -0.17317412 |  0.78731935 |  646.1250 | 1.004643 |\n",
       "| a[1] | -0.38248640 | 0.3478814 | -0.92510867 |  0.18685334 |  650.1185 | 1.002637 |\n",
       "| a[2] |  4.64131026 | 1.2878007 |  3.01169534 |  6.98345095 |  890.3389 | 1.002352 |\n",
       "| a[3] | -0.68902740 | 0.3569642 | -1.24560739 | -0.13225735 |  676.4517 | 1.003778 |\n",
       "| a[4] | -0.69376374 | 0.3628796 | -1.26271603 | -0.09698361 |  663.2162 | 1.003055 |\n",
       "| a[5] | -0.38612975 | 0.3547351 | -0.93961253 |  0.18022578 |  747.0305 | 1.003362 |\n",
       "| a[6] |  0.55681157 | 0.3603690 | -0.01026900 |  1.13237667 |  682.2844 | 1.002582 |\n",
       "| a[7] |  2.07377699 | 0.4524654 |  1.38396895 |  2.81332793 |  911.6668 | 1.004237 |\n",
       "| g[1] | -0.16467994 | 0.2122773 | -0.57165873 |  0.07330607 |  446.5266 | 1.002385 |\n",
       "| g[2] |  0.03200890 | 0.1666193 | -0.22210777 |  0.29805363 |  899.2220 | 1.004446 |\n",
       "| g[3] |  0.04369782 | 0.1777030 | -0.20999830 |  0.32626070 |  828.9196 | 1.005967 |\n",
       "| g[4] |  0.01179064 | 0.1603535 | -0.24919031 |  0.27369638 |  804.2162 | 1.011112 |\n",
       "| g[5] | -0.02711168 | 0.1672057 | -0.30943910 |  0.20887025 |  814.9564 | 1.002848 |\n",
       "| g[6] |  0.10735640 | 0.1814941 | -0.11403852 |  0.44969618 |  490.8986 | 1.005919 |\n",
       "| a_bar |  0.57571964 | 0.7045946 | -0.51174934 |  1.69590180 | 1125.2433 | 1.000810 |\n",
       "| sigma_a |  2.01330571 | 0.6603844 |  1.20080357 |  3.12193213 | 1040.0807 | 1.003424 |\n",
       "| sigma_g |  0.20260635 | 0.1591380 |  0.03362520 |  0.50759464 |  261.3789 | 1.007286 |\n",
       "\n"
      ],
      "text/plain": [
       "        mean        sd        5.5%        94.5%       n_eff     Rhat4   \n",
       "b[1]    -0.10571151 0.2912853 -0.58302516  0.35876720  645.6862 1.004818\n",
       "b[2]     0.42534087 0.3019959 -0.04503576  0.91392852  519.9028 1.006930\n",
       "b[3]    -0.44859334 0.2937052 -0.91392486  0.01067822  694.4587 1.001211\n",
       "b[4]     0.31028077 0.2975650 -0.17317412  0.78731935  646.1250 1.004643\n",
       "a[1]    -0.38248640 0.3478814 -0.92510867  0.18685334  650.1185 1.002637\n",
       "a[2]     4.64131026 1.2878007  3.01169534  6.98345095  890.3389 1.002352\n",
       "a[3]    -0.68902740 0.3569642 -1.24560739 -0.13225735  676.4517 1.003778\n",
       "a[4]    -0.69376374 0.3628796 -1.26271603 -0.09698361  663.2162 1.003055\n",
       "a[5]    -0.38612975 0.3547351 -0.93961253  0.18022578  747.0305 1.003362\n",
       "a[6]     0.55681157 0.3603690 -0.01026900  1.13237667  682.2844 1.002582\n",
       "a[7]     2.07377699 0.4524654  1.38396895  2.81332793  911.6668 1.004237\n",
       "g[1]    -0.16467994 0.2122773 -0.57165873  0.07330607  446.5266 1.002385\n",
       "g[2]     0.03200890 0.1666193 -0.22210777  0.29805363  899.2220 1.004446\n",
       "g[3]     0.04369782 0.1777030 -0.20999830  0.32626070  828.9196 1.005967\n",
       "g[4]     0.01179064 0.1603535 -0.24919031  0.27369638  804.2162 1.011112\n",
       "g[5]    -0.02711168 0.1672057 -0.30943910  0.20887025  814.9564 1.002848\n",
       "g[6]     0.10735640 0.1814941 -0.11403852  0.44969618  490.8986 1.005919\n",
       "a_bar    0.57571964 0.7045946 -0.51174934  1.69590180 1125.2433 1.000810\n",
       "sigma_a  2.01330571 0.6603844  1.20080357  3.12193213 1040.0807 1.003424\n",
       "sigma_g  0.20260635 0.1591380  0.03362520  0.50759464  261.3789 1.007286"
      ]
     },
     "metadata": {},
     "output_type": "display_data"
    }
   ],
   "source": [
    "## R code 13.22\n",
    "precis( m13.4 , depth=2 )"
   ]
  },
  {
   "cell_type": "code",
   "execution_count": 47,
   "metadata": {},
   "outputs": [
    {
     "data": {
      "image/png": "[encoded data removed]",
      "text/plain": [
       "plot without title"
      ]
     },
     "metadata": {
      "image/png": {
       "height": 540,
       "width": 720
      }
     },
     "output_type": "display_data"
    }
   ],
   "source": [
    "plot( precis(m13.4,depth=2) ) # also plot"
   ]
  },
  {
   "cell_type": "code",
   "execution_count": 48,
   "metadata": {},
   "outputs": [
    {
     "name": "stdout",
     "output_type": "stream",
     "text": [
      "List of 1\n",
      " $ sigma_a: num [1:2000(1d)] 1.94 1.2 1.13 4.21 1.35 ...\n",
      " - attr(*, \"source\")= chr \"ulam posterior: 2000 samples from object\"\n"
     ]
    }
   ],
   "source": [
    "sigma_a.samples<-extract.samples(m13.4,par=\"sigma_a\")\n",
    "str(sigma_a.samples)"
   ]
  },
  {
   "cell_type": "code",
   "execution_count": 49,
   "metadata": {},
   "outputs": [
    {
     "data": {
      "image/png": "[encoded data removed]",
      "text/plain": [
       "Plot with title \"paste(\"Density of \", sigma[alpha])\""
      ]
     },
     "metadata": {
      "image/png": {
       "height": 420,
       "width": 420
      }
     },
     "output_type": "display_data"
    }
   ],
   "source": [
    "options(repr.plot.width=7,repr.plot.height=7)\n",
    "plot(density(sigma_a.samples$sigma_a),lwd=2.5,col=\"blue\",main=expression(paste(\"Density of \",sigma[alpha])))"
   ]
  },
  {
   "cell_type": "code",
   "execution_count": 50,
   "metadata": {},
   "outputs": [
    {
     "name": "stdout",
     "output_type": "stream",
     "text": [
      "List of 1\n",
      " $ sigma_g: num [1:2000(1d)] 0.1231 0.1052 0.0591 0.0631 0.1858 ...\n",
      " - attr(*, \"source\")= chr \"ulam posterior: 2000 samples from object\"\n"
     ]
    }
   ],
   "source": [
    "sigma_g.samples<-extract.samples(m13.4,par=\"sigma_g\")\n",
    "str(sigma_g.samples)"
   ]
  },
  {
   "cell_type": "markdown",
   "metadata": {},
   "source": [
    "Plot $\\sigma_{\\gamma}$ on the same scale as $\\sigma_{\\alpha}$ to be able to visualize that variation among actors is much larger than among blocks."
   ]
  },
  {
   "cell_type": "code",
   "execution_count": 51,
   "metadata": {},
   "outputs": [
    {
     "data": {
      "image/png": "[encoded data removed]",
      "text/plain": [
       "Plot with title \"paste(\"Density of \", sigma[gamma])\""
      ]
     },
     "metadata": {
      "image/png": {
       "height": 420,
       "width": 420
      }
     },
     "output_type": "display_data"
    }
   ],
   "source": [
    "options(repr.plot.width=7,repr.plot.height=7)\n",
    "plot(density(sigma_g.samples$sigma_g),lwd=2.5,col=\"blue\",xlim=c(0,6),\n",
    "     main=expression(paste(\"Density of \",sigma[gamma])))"
   ]
  },
  {
   "cell_type": "markdown",
   "metadata": {},
   "source": [
    "Compare the model we have just fit to the following model, that ignores the BLOCK factor"
   ]
  },
  {
   "cell_type": "code",
   "execution_count": 52,
   "metadata": {},
   "outputs": [],
   "source": [
    "## R code 13.23\n",
    "set.seed(14)\n",
    "m13.5 <- ulam(\n",
    "    cmdstan=FALSE,\n",
    "    alist(\n",
    "        pulled_left ~ dbinom( 1 , p ) ,\n",
    "        logit(p) <- a[actor] + b[treatment] ,\n",
    "        b[treatment] ~ dnorm( 0 , 0.5 ),\n",
    "        a[actor] ~ dnorm( a_bar , sigma_a ),\n",
    "        a_bar ~ dnorm( 0 , 1.5 ),\n",
    "        sigma_a ~ dexp(1)\n",
    "    ) , data=dat_list , chains=4 , cores=4 , log_lik=TRUE )"
   ]
  },
  {
   "cell_type": "code",
   "execution_count": 53,
   "metadata": {},
   "outputs": [
    {
     "data": {
      "text/html": [
       "<table class=\"dataframe\">\n",
       "<caption>A compareIC: 2 × 6</caption>\n",
       "<thead>\n",
       "\t<tr><th></th><th scope=col>WAIC</th><th scope=col>SE</th><th scope=col>dWAIC</th><th scope=col>dSE</th><th scope=col>pWAIC</th><th scope=col>weight</th></tr>\n",
       "\t<tr><th></th><th scope=col>&lt;dbl&gt;</th><th scope=col>&lt;dbl&gt;</th><th scope=col>&lt;dbl&gt;</th><th scope=col>&lt;dbl&gt;</th><th scope=col>&lt;dbl&gt;</th><th scope=col>&lt;dbl&gt;</th></tr>\n",
       "</thead>\n",
       "<tbody>\n",
       "\t<tr><th scope=row>m13.5</th><td>531.3762</td><td>19.12630</td><td>0.0000000</td><td>      NA</td><td> 8.592136</td><td>0.6121209</td></tr>\n",
       "\t<tr><th scope=row>m13.4</th><td>532.2886</td><td>19.32671</td><td>0.9124725</td><td>1.607122</td><td>10.596751</td><td>0.3878791</td></tr>\n",
       "</tbody>\n",
       "</table>\n"
      ],
      "text/latex": [
       "A compareIC: 2 × 6\n",
       "\\begin{tabular}{r|llllll}\n",
       "  & WAIC & SE & dWAIC & dSE & pWAIC & weight\\\\\n",
       "  & <dbl> & <dbl> & <dbl> & <dbl> & <dbl> & <dbl>\\\\\n",
       "\\hline\n",
       "\tm13.5 & 531.3762 & 19.12630 & 0.0000000 &       NA &  8.592136 & 0.6121209\\\\\n",
       "\tm13.4 & 532.2886 & 19.32671 & 0.9124725 & 1.607122 & 10.596751 & 0.3878791\\\\\n",
       "\\end{tabular}\n"
      ],
      "text/markdown": [
       "\n",
       "A compareIC: 2 × 6\n",
       "\n",
       "| <!--/--> | WAIC &lt;dbl&gt; | SE &lt;dbl&gt; | dWAIC &lt;dbl&gt; | dSE &lt;dbl&gt; | pWAIC &lt;dbl&gt; | weight &lt;dbl&gt; |\n",
       "|---|---|---|---|---|---|---|\n",
       "| m13.5 | 531.3762 | 19.12630 | 0.0000000 |       NA |  8.592136 | 0.6121209 |\n",
       "| m13.4 | 532.2886 | 19.32671 | 0.9124725 | 1.607122 | 10.596751 | 0.3878791 |\n",
       "\n"
      ],
      "text/plain": [
       "      WAIC     SE       dWAIC     dSE      pWAIC     weight   \n",
       "m13.5 531.3762 19.12630 0.0000000       NA  8.592136 0.6121209\n",
       "m13.4 532.2886 19.32671 0.9124725 1.607122 10.596751 0.3878791"
      ]
     },
     "metadata": {},
     "output_type": "display_data"
    }
   ],
   "source": [
    "## R code 13.24\n",
    "compare( m13.4 , m13.5 )"
   ]
  },
  {
   "cell_type": "markdown",
   "metadata": {},
   "source": [
    "Relevant bit here is `pWAIC`, the effective number of parameters. While `m13.4` has 7 more parrameters than `m13.5` has, it has only about 2.5 more effective parameters. Why? Because the posterior distribution for `sigma_g` ended up close to zero. This means each of the 6 `g[]` parametersis strongly shrunk towards zero.\n",
    "\n",
    "In contrast, the `a[]` parameters are shrunk towards zero much less, because the estimated variation across actors is much larger, resulting in less shrinkage. But as a consequence, each of the `a[]` parameters contributes much more to the `pWAIC`value.\n",
    "\n",
    "You might also notice that the difference in WAIC between these models is small, less than 1. This is especially small compared the standard deviation of the difference, 1.6. These two models imply nearly identical predictions, and so their expected out-of-sample accuracy is nearly identical. The block parameters have been shrunk so much towards zero that they do\n",
    "very little work in the model.\n",
    "\n",
    ">If you are feeling the urge to **\"select\"** `m13.4` as the _best_ model, pause for a moment. There is nothing to gain here by selecting either model. The comparison of the two models tells a richer story —whether we include block or not hardly matters, and the `g[]` and `sigma_g` estimates tell us why. By retaining and reporting both models, we and our readers learn more\n",
    "about the experiment. "
   ]
  },
  {
   "cell_type": "markdown",
   "metadata": {},
   "source": [
    "<span style=\"color:DarkCyan;font-size:22px\">\n",
    "    \n",
    "McElreath's LAPIDARY DICTUM:\n",
    "    \n",
    "Model comparison is of value. \n",
    "    \n",
    "Model selection, at least when we are pursuing scientific inference, is usually not.\n",
    "</span>"
   ]
  },
  {
   "cell_type": "markdown",
   "metadata": {},
   "source": [
    "### Even more clusters\n",
    "\n",
    "The treatment effects, the `b` parameters, look a lot like the `a` and `g` parameters. Could we also use partial pooling on the treatment effects? Yes, we could:\n",
    "\n",
    "$$\n",
    "    \\begin{array}{lcl}\n",
    "    L_{i}                      &\\sim &\\operatorname{Binomial}(1,p_{i})\\\\[0.10cm]\n",
    "    \\operatorname{logit}(p_{i})&=    \n",
    "           &\\alpha_{\\text{ACTOR}[i]}+\\gamma_{\\text{BLOCK}[i]}+\\beta_{\\text{TREATMENT}[i]}\\\\[0.10cm]\n",
    "    \\beta_{j}  &\\sim &\\operatorname{Normal}(0,\\sigma_{\\beta}),\\mskip30mu\\text{for}\\mskip7mu j=1,\\dots,4,\\\\[0.10cm]\n",
    "    \\alpha_{j} &\\sim &\\operatorname{Normal}(\\bar{\\alpha},\\sigma_{\\alpha}),\\mskip30mu\\text{for}\\mskip7mu j=1,\\dots,7,\\\\[0.10cm]\n",
    "    \\gamma_{j} &\\sim &\\operatorname{Normal}(0,\\sigma_{\\gamma}),\\mskip30mu\\text{for}\\mskip7mu j=1,\\dots,6,\\\\[0.10cm]\n",
    "    \\bar{\\alpha}     &\\sim &\\operatorname{Normal}(0,1.5),\\\\[0.10cm]\n",
    "    \\sigma_{\\alpha}    &\\sim &\\operatorname{Exponential}(1),\\\\[0.10cm]\n",
    "    \\sigma_{\\gamma}    &\\sim &\\operatorname{Exponential}(1),\\\\[0.10cm]\n",
    "    \\sigma_{\\beta}    &\\sim &\\operatorname{Exponential}(1).\n",
    "    \\end{array}\n",
    "$$"
   ]
  },
  {
   "cell_type": "code",
   "execution_count": 54,
   "metadata": {},
   "outputs": [
    {
     "name": "stderr",
     "output_type": "stream",
     "text": [
      "Warning message:\n",
      "\"There were 13 divergent transitions after warmup. See\n",
      "https://mc-stan.org/misc/warnings.html#divergent-transitions-after-warmup\n",
      "to find out why this is a problem and how to eliminate them.\"\n",
      "Warning message:\n",
      "\"Examine the pairs() plot to diagnose sampling problems\n",
      "\"\n",
      "Warning message:\n",
      "\"Bulk Effective Samples Size (ESS) is too low, indicating posterior means and medians may be unreliable.\n",
      "Running the chains for more iterations may help. See\n",
      "https://mc-stan.org/misc/warnings.html#bulk-ess\"\n",
      "Warning message:\n",
      "\"Tail Effective Samples Size (ESS) is too low, indicating posterior variances and tail quantiles may be unreliable.\n",
      "Running the chains for more iterations may help. See\n",
      "https://mc-stan.org/misc/warnings.html#tail-ess\"\n"
     ]
    }
   ],
   "source": [
    "## R code 13.25\n",
    "set.seed(15)\n",
    "m13.6 <- ulam(\n",
    "    cmdstan=FALSE,\n",
    "    alist(\n",
    "        pulled_left ~ dbinom( 1 , p ) ,\n",
    "        logit(p) <- a[actor] + g[block_id] + b[treatment] ,\n",
    "        b[treatment] ~ dnorm( 0 , sigma_b ),\n",
    "        a[actor] ~ dnorm( a_bar , sigma_a ),\n",
    "        g[block_id] ~ dnorm( 0 , sigma_g ),\n",
    "        a_bar ~ dnorm( 0 , 1.5 ),\n",
    "        sigma_a ~ dexp(1),\n",
    "        sigma_g ~ dexp(1),\n",
    "        sigma_b ~ dexp(1)\n",
    "    ) , data=dat_list , chains=4 , cores=4 , log_lik=TRUE )"
   ]
  },
  {
   "cell_type": "code",
   "execution_count": 55,
   "metadata": {},
   "outputs": [
    {
     "data": {
      "text/html": [
       "<table class=\"dataframe\">\n",
       "<caption>A precis: 21 × 6</caption>\n",
       "<thead>\n",
       "\t<tr><th></th><th scope=col>mean</th><th scope=col>sd</th><th scope=col>5.5%</th><th scope=col>94.5%</th><th scope=col>n_eff</th><th scope=col>Rhat4</th></tr>\n",
       "\t<tr><th></th><th scope=col>&lt;dbl&gt;</th><th scope=col>&lt;dbl&gt;</th><th scope=col>&lt;dbl&gt;</th><th scope=col>&lt;dbl&gt;</th><th scope=col>&lt;dbl&gt;</th><th scope=col>&lt;dbl&gt;</th></tr>\n",
       "</thead>\n",
       "<tbody>\n",
       "\t<tr><th scope=row>b[1]</th><td>-0.13736232</td><td>0.3807874</td><td>-0.69971097</td><td> 0.39117358</td><td>150.1645</td><td>1.023937</td></tr>\n",
       "\t<tr><th scope=row>b[2]</th><td> 0.35335574</td><td>0.3860101</td><td>-0.14696194</td><td> 0.92607893</td><td>184.5976</td><td>1.017205</td></tr>\n",
       "\t<tr><th scope=row>b[3]</th><td>-0.46235572</td><td>0.3967848</td><td>-1.05175948</td><td> 0.01451785</td><td>157.2731</td><td>1.019599</td></tr>\n",
       "\t<tr><th scope=row>b[4]</th><td> 0.24383892</td><td>0.3797104</td><td>-0.24875567</td><td> 0.80372220</td><td>174.7681</td><td>1.019955</td></tr>\n",
       "\t<tr><th scope=row>a[1]</th><td>-0.33426335</td><td>0.4209530</td><td>-0.95049742</td><td> 0.28650532</td><td>193.2283</td><td>1.019688</td></tr>\n",
       "\t<tr><th scope=row>a[2]</th><td> 4.69348439</td><td>1.3695110</td><td> 3.02836017</td><td> 6.98975437</td><td>403.3381</td><td>1.008437</td></tr>\n",
       "\t<tr><th scope=row>a[3]</th><td>-0.64558001</td><td>0.4304517</td><td>-1.25719517</td><td>-0.02071875</td><td>194.8894</td><td>1.015987</td></tr>\n",
       "\t<tr><th scope=row>a[4]</th><td>-0.64536195</td><td>0.4216700</td><td>-1.25913638</td><td>-0.01935673</td><td>180.2601</td><td>1.019653</td></tr>\n",
       "\t<tr><th scope=row>a[5]</th><td>-0.33505297</td><td>0.4237745</td><td>-0.93242526</td><td> 0.28560730</td><td>202.3018</td><td>1.015686</td></tr>\n",
       "\t<tr><th scope=row>a[6]</th><td> 0.60013769</td><td>0.4392234</td><td>-0.01525029</td><td> 1.23587953</td><td>203.3976</td><td>1.015311</td></tr>\n",
       "\t<tr><th scope=row>a[7]</th><td> 2.12049903</td><td>0.5182213</td><td> 1.37533945</td><td> 2.96394656</td><td>281.1031</td><td>1.010092</td></tr>\n",
       "\t<tr><th scope=row>g[1]</th><td>-0.16475584</td><td>0.2144790</td><td>-0.57485869</td><td> 0.07075585</td><td>569.0046</td><td>1.000897</td></tr>\n",
       "\t<tr><th scope=row>g[2]</th><td> 0.03392669</td><td>0.1787374</td><td>-0.22283585</td><td> 0.34433131</td><td>809.6707</td><td>1.007273</td></tr>\n",
       "\t<tr><th scope=row>g[3]</th><td> 0.05938225</td><td>0.1861700</td><td>-0.18453163</td><td> 0.39170240</td><td>789.9253</td><td>1.002240</td></tr>\n",
       "\t<tr><th scope=row>g[4]</th><td> 0.01107322</td><td>0.1789405</td><td>-0.26259402</td><td> 0.30186261</td><td>679.8430</td><td>1.004660</td></tr>\n",
       "\t<tr><th scope=row>g[5]</th><td>-0.03102423</td><td>0.1818674</td><td>-0.33528911</td><td> 0.22928713</td><td>733.3036</td><td>1.001112</td></tr>\n",
       "\t<tr><th scope=row>g[6]</th><td> 0.11303991</td><td>0.1951327</td><td>-0.11944227</td><td> 0.46099790</td><td>473.9427</td><td>1.013757</td></tr>\n",
       "\t<tr><th scope=row>a_bar</th><td> 0.59800417</td><td>0.7853264</td><td>-0.62991547</td><td> 1.85015683</td><td>480.0097</td><td>1.007726</td></tr>\n",
       "\t<tr><th scope=row>sigma_a</th><td> 2.03715521</td><td>0.6775666</td><td> 1.19905714</td><td> 3.24235332</td><td>786.3438</td><td>1.005299</td></tr>\n",
       "\t<tr><th scope=row>sigma_g</th><td> 0.21119674</td><td>0.1841454</td><td> 0.02716435</td><td> 0.51185381</td><td>296.5023</td><td>1.014888</td></tr>\n",
       "\t<tr><th scope=row>sigma_b</th><td> 0.56957266</td><td>0.3512182</td><td> 0.18589012</td><td> 1.18398619</td><td>301.5043</td><td>1.012231</td></tr>\n",
       "</tbody>\n",
       "</table>\n"
      ],
      "text/latex": [
       "A precis: 21 × 6\n",
       "\\begin{tabular}{r|llllll}\n",
       "  & mean & sd & 5.5\\% & 94.5\\% & n\\_eff & Rhat4\\\\\n",
       "  & <dbl> & <dbl> & <dbl> & <dbl> & <dbl> & <dbl>\\\\\n",
       "\\hline\n",
       "\tb{[}1{]} & -0.13736232 & 0.3807874 & -0.69971097 &  0.39117358 & 150.1645 & 1.023937\\\\\n",
       "\tb{[}2{]} &  0.35335574 & 0.3860101 & -0.14696194 &  0.92607893 & 184.5976 & 1.017205\\\\\n",
       "\tb{[}3{]} & -0.46235572 & 0.3967848 & -1.05175948 &  0.01451785 & 157.2731 & 1.019599\\\\\n",
       "\tb{[}4{]} &  0.24383892 & 0.3797104 & -0.24875567 &  0.80372220 & 174.7681 & 1.019955\\\\\n",
       "\ta{[}1{]} & -0.33426335 & 0.4209530 & -0.95049742 &  0.28650532 & 193.2283 & 1.019688\\\\\n",
       "\ta{[}2{]} &  4.69348439 & 1.3695110 &  3.02836017 &  6.98975437 & 403.3381 & 1.008437\\\\\n",
       "\ta{[}3{]} & -0.64558001 & 0.4304517 & -1.25719517 & -0.02071875 & 194.8894 & 1.015987\\\\\n",
       "\ta{[}4{]} & -0.64536195 & 0.4216700 & -1.25913638 & -0.01935673 & 180.2601 & 1.019653\\\\\n",
       "\ta{[}5{]} & -0.33505297 & 0.4237745 & -0.93242526 &  0.28560730 & 202.3018 & 1.015686\\\\\n",
       "\ta{[}6{]} &  0.60013769 & 0.4392234 & -0.01525029 &  1.23587953 & 203.3976 & 1.015311\\\\\n",
       "\ta{[}7{]} &  2.12049903 & 0.5182213 &  1.37533945 &  2.96394656 & 281.1031 & 1.010092\\\\\n",
       "\tg{[}1{]} & -0.16475584 & 0.2144790 & -0.57485869 &  0.07075585 & 569.0046 & 1.000897\\\\\n",
       "\tg{[}2{]} &  0.03392669 & 0.1787374 & -0.22283585 &  0.34433131 & 809.6707 & 1.007273\\\\\n",
       "\tg{[}3{]} &  0.05938225 & 0.1861700 & -0.18453163 &  0.39170240 & 789.9253 & 1.002240\\\\\n",
       "\tg{[}4{]} &  0.01107322 & 0.1789405 & -0.26259402 &  0.30186261 & 679.8430 & 1.004660\\\\\n",
       "\tg{[}5{]} & -0.03102423 & 0.1818674 & -0.33528911 &  0.22928713 & 733.3036 & 1.001112\\\\\n",
       "\tg{[}6{]} &  0.11303991 & 0.1951327 & -0.11944227 &  0.46099790 & 473.9427 & 1.013757\\\\\n",
       "\ta\\_bar &  0.59800417 & 0.7853264 & -0.62991547 &  1.85015683 & 480.0097 & 1.007726\\\\\n",
       "\tsigma\\_a &  2.03715521 & 0.6775666 &  1.19905714 &  3.24235332 & 786.3438 & 1.005299\\\\\n",
       "\tsigma\\_g &  0.21119674 & 0.1841454 &  0.02716435 &  0.51185381 & 296.5023 & 1.014888\\\\\n",
       "\tsigma\\_b &  0.56957266 & 0.3512182 &  0.18589012 &  1.18398619 & 301.5043 & 1.012231\\\\\n",
       "\\end{tabular}\n"
      ],
      "text/markdown": [
       "\n",
       "A precis: 21 × 6\n",
       "\n",
       "| <!--/--> | mean &lt;dbl&gt; | sd &lt;dbl&gt; | 5.5% &lt;dbl&gt; | 94.5% &lt;dbl&gt; | n_eff &lt;dbl&gt; | Rhat4 &lt;dbl&gt; |\n",
       "|---|---|---|---|---|---|---|\n",
       "| b[1] | -0.13736232 | 0.3807874 | -0.69971097 |  0.39117358 | 150.1645 | 1.023937 |\n",
       "| b[2] |  0.35335574 | 0.3860101 | -0.14696194 |  0.92607893 | 184.5976 | 1.017205 |\n",
       "| b[3] | -0.46235572 | 0.3967848 | -1.05175948 |  0.01451785 | 157.2731 | 1.019599 |\n",
       "| b[4] |  0.24383892 | 0.3797104 | -0.24875567 |  0.80372220 | 174.7681 | 1.019955 |\n",
       "| a[1] | -0.33426335 | 0.4209530 | -0.95049742 |  0.28650532 | 193.2283 | 1.019688 |\n",
       "| a[2] |  4.69348439 | 1.3695110 |  3.02836017 |  6.98975437 | 403.3381 | 1.008437 |\n",
       "| a[3] | -0.64558001 | 0.4304517 | -1.25719517 | -0.02071875 | 194.8894 | 1.015987 |\n",
       "| a[4] | -0.64536195 | 0.4216700 | -1.25913638 | -0.01935673 | 180.2601 | 1.019653 |\n",
       "| a[5] | -0.33505297 | 0.4237745 | -0.93242526 |  0.28560730 | 202.3018 | 1.015686 |\n",
       "| a[6] |  0.60013769 | 0.4392234 | -0.01525029 |  1.23587953 | 203.3976 | 1.015311 |\n",
       "| a[7] |  2.12049903 | 0.5182213 |  1.37533945 |  2.96394656 | 281.1031 | 1.010092 |\n",
       "| g[1] | -0.16475584 | 0.2144790 | -0.57485869 |  0.07075585 | 569.0046 | 1.000897 |\n",
       "| g[2] |  0.03392669 | 0.1787374 | -0.22283585 |  0.34433131 | 809.6707 | 1.007273 |\n",
       "| g[3] |  0.05938225 | 0.1861700 | -0.18453163 |  0.39170240 | 789.9253 | 1.002240 |\n",
       "| g[4] |  0.01107322 | 0.1789405 | -0.26259402 |  0.30186261 | 679.8430 | 1.004660 |\n",
       "| g[5] | -0.03102423 | 0.1818674 | -0.33528911 |  0.22928713 | 733.3036 | 1.001112 |\n",
       "| g[6] |  0.11303991 | 0.1951327 | -0.11944227 |  0.46099790 | 473.9427 | 1.013757 |\n",
       "| a_bar |  0.59800417 | 0.7853264 | -0.62991547 |  1.85015683 | 480.0097 | 1.007726 |\n",
       "| sigma_a |  2.03715521 | 0.6775666 |  1.19905714 |  3.24235332 | 786.3438 | 1.005299 |\n",
       "| sigma_g |  0.21119674 | 0.1841454 |  0.02716435 |  0.51185381 | 296.5023 | 1.014888 |\n",
       "| sigma_b |  0.56957266 | 0.3512182 |  0.18589012 |  1.18398619 | 301.5043 | 1.012231 |\n",
       "\n"
      ],
      "text/plain": [
       "        mean        sd        5.5%        94.5%       n_eff    Rhat4   \n",
       "b[1]    -0.13736232 0.3807874 -0.69971097  0.39117358 150.1645 1.023937\n",
       "b[2]     0.35335574 0.3860101 -0.14696194  0.92607893 184.5976 1.017205\n",
       "b[3]    -0.46235572 0.3967848 -1.05175948  0.01451785 157.2731 1.019599\n",
       "b[4]     0.24383892 0.3797104 -0.24875567  0.80372220 174.7681 1.019955\n",
       "a[1]    -0.33426335 0.4209530 -0.95049742  0.28650532 193.2283 1.019688\n",
       "a[2]     4.69348439 1.3695110  3.02836017  6.98975437 403.3381 1.008437\n",
       "a[3]    -0.64558001 0.4304517 -1.25719517 -0.02071875 194.8894 1.015987\n",
       "a[4]    -0.64536195 0.4216700 -1.25913638 -0.01935673 180.2601 1.019653\n",
       "a[5]    -0.33505297 0.4237745 -0.93242526  0.28560730 202.3018 1.015686\n",
       "a[6]     0.60013769 0.4392234 -0.01525029  1.23587953 203.3976 1.015311\n",
       "a[7]     2.12049903 0.5182213  1.37533945  2.96394656 281.1031 1.010092\n",
       "g[1]    -0.16475584 0.2144790 -0.57485869  0.07075585 569.0046 1.000897\n",
       "g[2]     0.03392669 0.1787374 -0.22283585  0.34433131 809.6707 1.007273\n",
       "g[3]     0.05938225 0.1861700 -0.18453163  0.39170240 789.9253 1.002240\n",
       "g[4]     0.01107322 0.1789405 -0.26259402  0.30186261 679.8430 1.004660\n",
       "g[5]    -0.03102423 0.1818674 -0.33528911  0.22928713 733.3036 1.001112\n",
       "g[6]     0.11303991 0.1951327 -0.11944227  0.46099790 473.9427 1.013757\n",
       "a_bar    0.59800417 0.7853264 -0.62991547  1.85015683 480.0097 1.007726\n",
       "sigma_a  2.03715521 0.6775666  1.19905714  3.24235332 786.3438 1.005299\n",
       "sigma_g  0.21119674 0.1841454  0.02716435  0.51185381 296.5023 1.014888\n",
       "sigma_b  0.56957266 0.3512182  0.18589012  1.18398619 301.5043 1.012231"
      ]
     },
     "metadata": {},
     "output_type": "display_data"
    }
   ],
   "source": [
    "precis(m13.6,depth=2)"
   ]
  },
  {
   "cell_type": "code",
   "execution_count": 56,
   "metadata": {},
   "outputs": [],
   "source": [
    "#coeftab( m13.4 , m13.6 )"
   ]
  },
  {
   "cell_type": "markdown",
   "metadata": {},
   "source": [
    "### Divergent transitions, the devil's funnel and non-centered priors\n",
    "\n",
    "Example in page 732 of Radford Neal (2003) _\"Slice sampling\",_  Annals of Statistics **31(3),** 705-767. In that paper, Neal just calls it a \"funnel\". Apparently the _Devil_ appelative is McElreath's. The name is descriptive of the figure below, where the phenomenon can be observed.\n",
    "\n",
    "A _divergent transition_ happens when the target pdf in an HMC simulation (the energy surface, in the physical analogy) is very steep in some region of the parameter space. Then it may happen that the total energy at the end of a displacement is not equal to the total energy at the beginning, due to a too coarse step size in the algorithm (relative to the surface slope).\n",
    "\n",
    "Divergent transitions are rejected. They don't directly damage your approximation of the posterior distribution, but they do hurt it indirectly because the region where divergent transitions happen is hard to explore correctly. And even when there aren't any divergent transitions, distributions with steep regions are hard to explore. The chains will be less efficient.\n",
    "And unfortunately The Devil's Funnel shows up quite often in multilevel models.\n",
    "\n",
    "There are two easy tricks for reducing the impact of divergent transitions:\n",
    "\n",
    "1. Tune the simulation. But for many models, you can never tune the sampler enough to remove the divergent transitions. \n",
    "2. Reparameterize the statistical model.\n",
    "\n",
    "3. **Warning:** Switching to another sampler is a mistake. Gibbs sampler will never complain. It will just silently fail.\n",
    "\n",
    "\n",
    "The following simple model demonstrates the problem and a possible solution:\n",
    "\n",
    "$$\n",
    "    \\begin{array}{lcl}\n",
    "    \\nu   &\\sim &\\operatorname{Normal}(0,3),\\\\[0.15cm]\n",
    "    x     &\\sim &\\operatorname{Normal}(0,\\exp(\\nu)).\n",
    "    \\end{array}\n",
    "$$"
   ]
  },
  {
   "cell_type": "code",
   "execution_count": 57,
   "metadata": {},
   "outputs": [
    {
     "name": "stdout",
     "output_type": "stream",
     "text": [
      "\n",
      "SAMPLING FOR MODEL 'anon_model' NOW (CHAIN 1).\n",
      "Chain 1: \n",
      "Chain 1: Gradient evaluation took 1e-05 seconds\n",
      "Chain 1: 1000 transitions using 10 leapfrog steps per transition would take 0.1 seconds.\n",
      "Chain 1: Adjust your expectations accordingly!\n",
      "Chain 1: \n",
      "Chain 1: \n",
      "Chain 1: Iteration:   1 / 1000 [  0%]  (Warmup)\n",
      "Chain 1: Iteration: 100 / 1000 [ 10%]  (Warmup)\n",
      "Chain 1: Iteration: 200 / 1000 [ 20%]  (Warmup)\n",
      "Chain 1: Iteration: 300 / 1000 [ 30%]  (Warmup)\n",
      "Chain 1: Iteration: 400 / 1000 [ 40%]  (Warmup)\n",
      "Chain 1: Iteration: 500 / 1000 [ 50%]  (Warmup)\n",
      "Chain 1: Iteration: 501 / 1000 [ 50%]  (Sampling)\n",
      "Chain 1: Iteration: 600 / 1000 [ 60%]  (Sampling)\n",
      "Chain 1: Iteration: 700 / 1000 [ 70%]  (Sampling)\n",
      "Chain 1: Iteration: 800 / 1000 [ 80%]  (Sampling)\n",
      "Chain 1: Iteration: 900 / 1000 [ 90%]  (Sampling)\n",
      "Chain 1: Iteration: 1000 / 1000 [100%]  (Sampling)\n",
      "Chain 1: \n",
      "Chain 1:  Elapsed Time: 0.02 seconds (Warm-up)\n",
      "Chain 1:                0.013 seconds (Sampling)\n",
      "Chain 1:                0.033 seconds (Total)\n",
      "Chain 1: \n",
      "\n",
      "SAMPLING FOR MODEL 'anon_model' NOW (CHAIN 2).\n",
      "Chain 2: \n",
      "Chain 2: Gradient evaluation took 1e-06 seconds\n",
      "Chain 2: 1000 transitions using 10 leapfrog steps per transition would take 0.01 seconds.\n",
      "Chain 2: Adjust your expectations accordingly!\n",
      "Chain 2: \n",
      "Chain 2: \n",
      "Chain 2: Iteration:   1 / 1000 [  0%]  (Warmup)\n",
      "Chain 2: Iteration: 100 / 1000 [ 10%]  (Warmup)\n",
      "Chain 2: Iteration: 200 / 1000 [ 20%]  (Warmup)\n",
      "Chain 2: Iteration: 300 / 1000 [ 30%]  (Warmup)\n",
      "Chain 2: Iteration: 400 / 1000 [ 40%]  (Warmup)\n",
      "Chain 2: Iteration: 500 / 1000 [ 50%]  (Warmup)\n",
      "Chain 2: Iteration: 501 / 1000 [ 50%]  (Sampling)\n",
      "Chain 2: Iteration: 600 / 1000 [ 60%]  (Sampling)\n",
      "Chain 2: Iteration: 700 / 1000 [ 70%]  (Sampling)\n",
      "Chain 2: Iteration: 800 / 1000 [ 80%]  (Sampling)\n",
      "Chain 2: Iteration: 900 / 1000 [ 90%]  (Sampling)\n",
      "Chain 2: Iteration: 1000 / 1000 [100%]  (Sampling)\n",
      "Chain 2: \n",
      "Chain 2:  Elapsed Time: 0.021 seconds (Warm-up)\n",
      "Chain 2:                0.002 seconds (Sampling)\n",
      "Chain 2:                0.023 seconds (Total)\n",
      "Chain 2: \n",
      "\n",
      "SAMPLING FOR MODEL 'anon_model' NOW (CHAIN 3).\n",
      "Chain 3: \n",
      "Chain 3: Gradient evaluation took 1e-06 seconds\n",
      "Chain 3: 1000 transitions using 10 leapfrog steps per transition would take 0.01 seconds.\n",
      "Chain 3: Adjust your expectations accordingly!\n",
      "Chain 3: \n",
      "Chain 3: \n",
      "Chain 3: Iteration:   1 / 1000 [  0%]  (Warmup)\n",
      "Chain 3: Iteration: 100 / 1000 [ 10%]  (Warmup)\n",
      "Chain 3: Iteration: 200 / 1000 [ 20%]  (Warmup)\n",
      "Chain 3: Iteration: 300 / 1000 [ 30%]  (Warmup)\n",
      "Chain 3: Iteration: 400 / 1000 [ 40%]  (Warmup)\n",
      "Chain 3: Iteration: 500 / 1000 [ 50%]  (Warmup)\n",
      "Chain 3: Iteration: 501 / 1000 [ 50%]  (Sampling)\n",
      "Chain 3: Iteration: 600 / 1000 [ 60%]  (Sampling)\n",
      "Chain 3: Iteration: 700 / 1000 [ 70%]  (Sampling)\n",
      "Chain 3: Iteration: 800 / 1000 [ 80%]  (Sampling)\n",
      "Chain 3: Iteration: 900 / 1000 [ 90%]  (Sampling)\n",
      "Chain 3: Iteration: 1000 / 1000 [100%]  (Sampling)\n",
      "Chain 3: \n",
      "Chain 3:  Elapsed Time: 0.021 seconds (Warm-up)\n",
      "Chain 3:                0.013 seconds (Sampling)\n",
      "Chain 3:                0.034 seconds (Total)\n",
      "Chain 3: \n",
      "\n",
      "SAMPLING FOR MODEL 'anon_model' NOW (CHAIN 4).\n",
      "Chain 4: \n",
      "Chain 4: Gradient evaluation took 1e-06 seconds\n",
      "Chain 4: 1000 transitions using 10 leapfrog steps per transition would take 0.01 seconds.\n",
      "Chain 4: Adjust your expectations accordingly!\n",
      "Chain 4: \n",
      "Chain 4: \n",
      "Chain 4: Iteration:   1 / 1000 [  0%]  (Warmup)\n",
      "Chain 4: Iteration: 100 / 1000 [ 10%]  (Warmup)\n",
      "Chain 4: Iteration: 200 / 1000 [ 20%]  (Warmup)\n",
      "Chain 4: Iteration: 300 / 1000 [ 30%]  (Warmup)\n",
      "Chain 4: Iteration: 400 / 1000 [ 40%]  (Warmup)\n",
      "Chain 4: Iteration: 500 / 1000 [ 50%]  (Warmup)\n",
      "Chain 4: Iteration: 501 / 1000 [ 50%]  (Sampling)\n",
      "Chain 4: Iteration: 600 / 1000 [ 60%]  (Sampling)\n",
      "Chain 4: Iteration: 700 / 1000 [ 70%]  (Sampling)\n",
      "Chain 4: Iteration: 800 / 1000 [ 80%]  (Sampling)\n",
      "Chain 4: Iteration: 900 / 1000 [ 90%]  (Sampling)\n",
      "Chain 4: Iteration: 1000 / 1000 [100%]  (Sampling)\n",
      "Chain 4: \n",
      "Chain 4:  Elapsed Time: 0.018 seconds (Warm-up)\n",
      "Chain 4:                0.005 seconds (Sampling)\n",
      "Chain 4:                0.023 seconds (Total)\n",
      "Chain 4: \n"
     ]
    },
    {
     "name": "stderr",
     "output_type": "stream",
     "text": [
      "Warning message:\n",
      "\"There were 495 divergent transitions after warmup. See\n",
      "https://mc-stan.org/misc/warnings.html#divergent-transitions-after-warmup\n",
      "to find out why this is a problem and how to eliminate them.\"\n",
      "Warning message:\n",
      "\"Examine the pairs() plot to diagnose sampling problems\n",
      "\"\n",
      "Warning message:\n",
      "\"The largest R-hat is 1.75, indicating chains have not mixed.\n",
      "Running the chains for more iterations may help. See\n",
      "https://mc-stan.org/misc/warnings.html#r-hat\"\n",
      "Warning message:\n",
      "\"Bulk Effective Samples Size (ESS) is too low, indicating posterior means and medians may be unreliable.\n",
      "Running the chains for more iterations may help. See\n",
      "https://mc-stan.org/misc/warnings.html#bulk-ess\"\n",
      "Warning message:\n",
      "\"Tail Effective Samples Size (ESS) is too low, indicating posterior variances and tail quantiles may be unreliable.\n",
      "Running the chains for more iterations may help. See\n",
      "https://mc-stan.org/misc/warnings.html#tail-ess\"\n"
     ]
    }
   ],
   "source": [
    "## R code 13.26\n",
    "m13.7 <- ulam(\n",
    "    cmdstan=FALSE,\n",
    "    alist(\n",
    "        v ~ normal(0,3),\n",
    "        x ~ normal(0,exp(v))\n",
    "    ), data=list(N=1) , chains=4 )"
   ]
  },
  {
   "cell_type": "code",
   "execution_count": 58,
   "metadata": {},
   "outputs": [
    {
     "data": {
      "text/html": [
       "<table class=\"dataframe\">\n",
       "<caption>A precis: 2 × 6</caption>\n",
       "<thead>\n",
       "\t<tr><th></th><th scope=col>mean</th><th scope=col>sd</th><th scope=col>5.5%</th><th scope=col>94.5%</th><th scope=col>n_eff</th><th scope=col>Rhat4</th></tr>\n",
       "\t<tr><th></th><th scope=col>&lt;dbl&gt;</th><th scope=col>&lt;dbl&gt;</th><th scope=col>&lt;dbl&gt;</th><th scope=col>&lt;dbl&gt;</th><th scope=col>&lt;dbl&gt;</th><th scope=col>&lt;dbl&gt;</th></tr>\n",
       "</thead>\n",
       "<tbody>\n",
       "\t<tr><th scope=row>v</th><td>-0.1665472</td><td> 2.872116</td><td> -4.590292</td><td> 4.03222</td><td> 2.62801</td><td>2.206304</td></tr>\n",
       "\t<tr><th scope=row>x</th><td> 5.4254607</td><td>69.040835</td><td>-18.989308</td><td>13.17280</td><td>70.39428</td><td>1.066478</td></tr>\n",
       "</tbody>\n",
       "</table>\n"
      ],
      "text/latex": [
       "A precis: 2 × 6\n",
       "\\begin{tabular}{r|llllll}\n",
       "  & mean & sd & 5.5\\% & 94.5\\% & n\\_eff & Rhat4\\\\\n",
       "  & <dbl> & <dbl> & <dbl> & <dbl> & <dbl> & <dbl>\\\\\n",
       "\\hline\n",
       "\tv & -0.1665472 &  2.872116 &  -4.590292 &  4.03222 &  2.62801 & 2.206304\\\\\n",
       "\tx &  5.4254607 & 69.040835 & -18.989308 & 13.17280 & 70.39428 & 1.066478\\\\\n",
       "\\end{tabular}\n"
      ],
      "text/markdown": [
       "\n",
       "A precis: 2 × 6\n",
       "\n",
       "| <!--/--> | mean &lt;dbl&gt; | sd &lt;dbl&gt; | 5.5% &lt;dbl&gt; | 94.5% &lt;dbl&gt; | n_eff &lt;dbl&gt; | Rhat4 &lt;dbl&gt; |\n",
       "|---|---|---|---|---|---|---|\n",
       "| v | -0.1665472 |  2.872116 |  -4.590292 |  4.03222 |  2.62801 | 2.206304 |\n",
       "| x |  5.4254607 | 69.040835 | -18.989308 | 13.17280 | 70.39428 | 1.066478 |\n",
       "\n"
      ],
      "text/plain": [
       "  mean       sd        5.5%       94.5%    n_eff    Rhat4   \n",
       "v -0.1665472  2.872116  -4.590292  4.03222  2.62801 2.206304\n",
       "x  5.4254607 69.040835 -18.989308 13.17280 70.39428 1.066478"
      ]
     },
     "metadata": {},
     "output_type": "display_data"
    }
   ],
   "source": [
    "precis( m13.7 )"
   ]
  },
  {
   "cell_type": "code",
   "execution_count": 59,
   "metadata": {},
   "outputs": [],
   "source": [
    "# Devil's Funnel from Chapter 13\n",
    "U_funnel <- function( q , s=3 ) {\n",
    "    v <- q[2]\n",
    "    x <- q[1]\n",
    "    U <- sum( dnorm(x,0,exp(v),log=TRUE) ) + dnorm(v,0,s,log=TRUE)\n",
    "    return( -U )\n",
    "}\n",
    "U_funnel_gradient <- function( q , s=3 ) {\n",
    "    v <- q[2]\n",
    "    x <- q[1]\n",
    "    Gv <- (-v)/s^2 - length(x) + exp(-2*v)*sum( x^2 ) #dU/dv\n",
    "    Gx <- -exp(-2*v)*x #dU/dx\n",
    "    return( c( -Gx , -Gv ) ) # negative bc energy is neg-log-prob\n",
    "}"
   ]
  },
  {
   "cell_type": "markdown",
   "metadata": {},
   "source": [
    "You may need to run this cell several times to see a divergent transition (overshooting the wall of the valley)."
   ]
  },
  {
   "cell_type": "code",
   "execution_count": 60,
   "metadata": {},
   "outputs": [
    {
     "data": {
      "image/png": "[encoded data removed]",
      "text/plain": [
       "plot without title"
      ]
     },
     "metadata": {
      "image/png": {
       "height": 420,
       "width": 420
      }
     },
     "output_type": "display_data"
    }
   ],
   "source": [
    "options(repr.plot.width=7,repr.plot.height=7)\n",
    "old.par<-par(fg=\"blue\")\n",
    "HMC_2D_sample( n=3, U=U_funnel, U_gradient=U_funnel_gradient, \n",
    "  step=0.2 , L=10 , ylab=\"v\"  , adj_lvls=1/12 )\n",
    "par(old.par)"
   ]
  },
  {
   "cell_type": "markdown",
   "metadata": {},
   "source": [
    "As $\\nu$ changes, the distribution of $x$ changes in a very inconvenient way. This parameterization is known as the\n",
    "_centered parameterization._ This is not a very intuitive name. It just indicates that the distribution of $x$ is \n",
    "conditional on one or more other parameters.\n",
    "\n",
    "The alternative is _a non-centered parameterization._ A non-centered parameterization moves the embedded parameter, $\\nu$\n",
    "in this case, out of the definition of the other parameter. For The Devil's Funnel, we can accomplish that like this:\n",
    "\n",
    "$$\n",
    "    \\begin{array}{lcl}\n",
    "    \\nu   &\\sim &\\operatorname{Normal}(0,3),\\\\[0.15cm]\n",
    "     z    &\\sim &\\operatorname{Normal}(0,1),\\\\[0.15cm]\n",
    "     x    &\\sim &z\\cdot\\exp(\\nu).\n",
    "    \\end{array}\n",
    "$$"
   ]
  },
  {
   "cell_type": "code",
   "execution_count": 61,
   "metadata": {},
   "outputs": [],
   "source": [
    "# Same, but with non-centered parameterization\n",
    "\n",
    "U_funnel_NC <- function( q , s=3 ) {\n",
    "    v <- q[2]\n",
    "    z <- q[1]\n",
    "    U <- sum( dnorm(z,0,1,log=TRUE) ) + dnorm(v,0,s,log=TRUE)\n",
    "    return( -U )\n",
    "}\n",
    "U_funnel_NC_gradient <- function( q , s=3 ) {\n",
    "    v <- q[2]\n",
    "    z <- q[1]\n",
    "    Gv <- (-v)/s^2 #dU/dv\n",
    "    Gz <- (-z) #dU/dz\n",
    "    return( c( -Gz , -Gv ) ) # negative bc energy is neg-log-prob\n",
    "}"
   ]
  },
  {
   "cell_type": "code",
   "execution_count": 62,
   "metadata": {},
   "outputs": [
    {
     "data": {
      "image/png": "[encoded data removed]",
      "text/plain": [
       "plot without title"
      ]
     },
     "metadata": {
      "image/png": {
       "height": 420,
       "width": 420
      }
     },
     "output_type": "display_data"
    }
   ],
   "source": [
    "options(repr.plot.width=7,repr.plot.height=7)\n",
    "old.par<-par(fg=\"blue\")\n",
    "HMC_2D_sample( n=4 , U=U_funnel_NC , U_gradient=U_funnel_NC_gradient , \n",
    "  step=0.2 , L=15 , ylab=\"v\" , xlab=\"z\" , xlim=c(-2,2) , nlvls=12 , adj_lvls=1 )\n",
    "par(old.par)"
   ]
  },
  {
   "cell_type": "markdown",
   "metadata": {},
   "source": [
    "Here is the simulation for the non-centered model. The `gq>` syntax directs `ulam` to send the following statement to the \n",
    "```\n",
    "generated quantities\n",
    "```\n",
    "block in the Stan program. The colon in this line is required by `ulam`. Apparently this is true also of the \"superassignment\" operator `<<-`, but it doesn't seem to be documented. As a matter of fact `<-` was deprecated in Stan quite a long time ago."
   ]
  },
  {
   "cell_type": "code",
   "execution_count": 63,
   "metadata": {},
   "outputs": [
    {
     "name": "stdout",
     "output_type": "stream",
     "text": [
      "\n",
      "SAMPLING FOR MODEL 'anon_model' NOW (CHAIN 1).\n",
      "Chain 1: \n",
      "Chain 1: Gradient evaluation took 1.1e-05 seconds\n",
      "Chain 1: 1000 transitions using 10 leapfrog steps per transition would take 0.11 seconds.\n",
      "Chain 1: Adjust your expectations accordingly!\n",
      "Chain 1: \n",
      "Chain 1: \n",
      "Chain 1: Iteration:   1 / 1000 [  0%]  (Warmup)\n",
      "Chain 1: Iteration: 100 / 1000 [ 10%]  (Warmup)\n",
      "Chain 1: Iteration: 200 / 1000 [ 20%]  (Warmup)\n",
      "Chain 1: Iteration: 300 / 1000 [ 30%]  (Warmup)\n",
      "Chain 1: Iteration: 400 / 1000 [ 40%]  (Warmup)\n",
      "Chain 1: Iteration: 500 / 1000 [ 50%]  (Warmup)\n",
      "Chain 1: Iteration: 501 / 1000 [ 50%]  (Sampling)\n",
      "Chain 1: Iteration: 600 / 1000 [ 60%]  (Sampling)\n",
      "Chain 1: Iteration: 700 / 1000 [ 70%]  (Sampling)\n",
      "Chain 1: Iteration: 800 / 1000 [ 80%]  (Sampling)\n",
      "Chain 1: Iteration: 900 / 1000 [ 90%]  (Sampling)\n",
      "Chain 1: Iteration: 1000 / 1000 [100%]  (Sampling)\n",
      "Chain 1: \n",
      "Chain 1:  Elapsed Time: 0.005 seconds (Warm-up)\n",
      "Chain 1:                0.004 seconds (Sampling)\n",
      "Chain 1:                0.009 seconds (Total)\n",
      "Chain 1: \n",
      "\n",
      "SAMPLING FOR MODEL 'anon_model' NOW (CHAIN 2).\n",
      "Chain 2: \n",
      "Chain 2: Gradient evaluation took 1e-06 seconds\n",
      "Chain 2: 1000 transitions using 10 leapfrog steps per transition would take 0.01 seconds.\n",
      "Chain 2: Adjust your expectations accordingly!\n",
      "Chain 2: \n",
      "Chain 2: \n",
      "Chain 2: Iteration:   1 / 1000 [  0%]  (Warmup)\n",
      "Chain 2: Iteration: 100 / 1000 [ 10%]  (Warmup)\n",
      "Chain 2: Iteration: 200 / 1000 [ 20%]  (Warmup)\n",
      "Chain 2: Iteration: 300 / 1000 [ 30%]  (Warmup)\n",
      "Chain 2: Iteration: 400 / 1000 [ 40%]  (Warmup)\n",
      "Chain 2: Iteration: 500 / 1000 [ 50%]  (Warmup)\n",
      "Chain 2: Iteration: 501 / 1000 [ 50%]  (Sampling)\n",
      "Chain 2: Iteration: 600 / 1000 [ 60%]  (Sampling)\n",
      "Chain 2: Iteration: 700 / 1000 [ 70%]  (Sampling)\n",
      "Chain 2: Iteration: 800 / 1000 [ 80%]  (Sampling)\n",
      "Chain 2: Iteration: 900 / 1000 [ 90%]  (Sampling)\n",
      "Chain 2: Iteration: 1000 / 1000 [100%]  (Sampling)\n",
      "Chain 2: \n",
      "Chain 2:  Elapsed Time: 0.005 seconds (Warm-up)\n",
      "Chain 2:                0.005 seconds (Sampling)\n",
      "Chain 2:                0.01 seconds (Total)\n",
      "Chain 2: \n",
      "\n",
      "SAMPLING FOR MODEL 'anon_model' NOW (CHAIN 3).\n",
      "Chain 3: \n",
      "Chain 3: Gradient evaluation took 1e-06 seconds\n",
      "Chain 3: 1000 transitions using 10 leapfrog steps per transition would take 0.01 seconds.\n",
      "Chain 3: Adjust your expectations accordingly!\n",
      "Chain 3: \n",
      "Chain 3: \n",
      "Chain 3: Iteration:   1 / 1000 [  0%]  (Warmup)\n",
      "Chain 3: Iteration: 100 / 1000 [ 10%]  (Warmup)\n",
      "Chain 3: Iteration: 200 / 1000 [ 20%]  (Warmup)\n",
      "Chain 3: Iteration: 300 / 1000 [ 30%]  (Warmup)\n",
      "Chain 3: Iteration: 400 / 1000 [ 40%]  (Warmup)\n",
      "Chain 3: Iteration: 500 / 1000 [ 50%]  (Warmup)\n",
      "Chain 3: Iteration: 501 / 1000 [ 50%]  (Sampling)\n",
      "Chain 3: Iteration: 600 / 1000 [ 60%]  (Sampling)\n",
      "Chain 3: Iteration: 700 / 1000 [ 70%]  (Sampling)\n",
      "Chain 3: Iteration: 800 / 1000 [ 80%]  (Sampling)\n",
      "Chain 3: Iteration: 900 / 1000 [ 90%]  (Sampling)\n",
      "Chain 3: Iteration: 1000 / 1000 [100%]  (Sampling)\n",
      "Chain 3: \n",
      "Chain 3:  Elapsed Time: 0.005 seconds (Warm-up)\n",
      "Chain 3:                0.005 seconds (Sampling)\n",
      "Chain 3:                0.01 seconds (Total)\n",
      "Chain 3: \n",
      "\n",
      "SAMPLING FOR MODEL 'anon_model' NOW (CHAIN 4).\n",
      "Chain 4: \n",
      "Chain 4: Gradient evaluation took 1e-06 seconds\n",
      "Chain 4: 1000 transitions using 10 leapfrog steps per transition would take 0.01 seconds.\n",
      "Chain 4: Adjust your expectations accordingly!\n",
      "Chain 4: \n",
      "Chain 4: \n",
      "Chain 4: Iteration:   1 / 1000 [  0%]  (Warmup)\n",
      "Chain 4: Iteration: 100 / 1000 [ 10%]  (Warmup)\n",
      "Chain 4: Iteration: 200 / 1000 [ 20%]  (Warmup)\n",
      "Chain 4: Iteration: 300 / 1000 [ 30%]  (Warmup)\n",
      "Chain 4: Iteration: 400 / 1000 [ 40%]  (Warmup)\n",
      "Chain 4: Iteration: 500 / 1000 [ 50%]  (Warmup)\n",
      "Chain 4: Iteration: 501 / 1000 [ 50%]  (Sampling)\n",
      "Chain 4: Iteration: 600 / 1000 [ 60%]  (Sampling)\n",
      "Chain 4: Iteration: 700 / 1000 [ 70%]  (Sampling)\n",
      "Chain 4: Iteration: 800 / 1000 [ 80%]  (Sampling)\n",
      "Chain 4: Iteration: 900 / 1000 [ 90%]  (Sampling)\n",
      "Chain 4: Iteration: 1000 / 1000 [100%]  (Sampling)\n",
      "Chain 4: \n",
      "Chain 4:  Elapsed Time: 0.005 seconds (Warm-up)\n",
      "Chain 4:                0.005 seconds (Sampling)\n",
      "Chain 4:                0.01 seconds (Total)\n",
      "Chain 4: \n"
     ]
    }
   ],
   "source": [
    "## R code 13.27\n",
    "m13.7nc <- ulam(\n",
    "    cmdstan=FALSE,\n",
    "    alist(\n",
    "        v ~ normal(0,3),\n",
    "        z ~ normal(0,1),\n",
    "        gq> real[1]:x <<- z*exp(v)\n",
    "    ), data=list(N=1) , chains=4 )"
   ]
  },
  {
   "cell_type": "code",
   "execution_count": 64,
   "metadata": {},
   "outputs": [
    {
     "data": {
      "text/html": [
       "<table class=\"dataframe\">\n",
       "<caption>A precis: 3 × 6</caption>\n",
       "<thead>\n",
       "\t<tr><th></th><th scope=col>mean</th><th scope=col>sd</th><th scope=col>5.5%</th><th scope=col>94.5%</th><th scope=col>n_eff</th><th scope=col>Rhat4</th></tr>\n",
       "\t<tr><th></th><th scope=col>&lt;dbl&gt;</th><th scope=col>&lt;dbl&gt;</th><th scope=col>&lt;dbl&gt;</th><th scope=col>&lt;dbl&gt;</th><th scope=col>&lt;dbl&gt;</th><th scope=col>&lt;dbl&gt;</th></tr>\n",
       "</thead>\n",
       "<tbody>\n",
       "\t<tr><th scope=row>v</th><td> 0.01230349</td><td>  2.996025</td><td> -4.796048</td><td> 4.771022</td><td>1488.635</td><td>1.0010843</td></tr>\n",
       "\t<tr><th scope=row>z</th><td> 0.01210140</td><td>  1.039122</td><td> -1.627722</td><td> 1.666582</td><td>1408.636</td><td>0.9992154</td></tr>\n",
       "\t<tr><th scope=row>x</th><td>-3.79610011</td><td>709.000162</td><td>-30.965837</td><td>25.392441</td><td>1785.328</td><td>1.0012075</td></tr>\n",
       "</tbody>\n",
       "</table>\n"
      ],
      "text/latex": [
       "A precis: 3 × 6\n",
       "\\begin{tabular}{r|llllll}\n",
       "  & mean & sd & 5.5\\% & 94.5\\% & n\\_eff & Rhat4\\\\\n",
       "  & <dbl> & <dbl> & <dbl> & <dbl> & <dbl> & <dbl>\\\\\n",
       "\\hline\n",
       "\tv &  0.01230349 &   2.996025 &  -4.796048 &  4.771022 & 1488.635 & 1.0010843\\\\\n",
       "\tz &  0.01210140 &   1.039122 &  -1.627722 &  1.666582 & 1408.636 & 0.9992154\\\\\n",
       "\tx & -3.79610011 & 709.000162 & -30.965837 & 25.392441 & 1785.328 & 1.0012075\\\\\n",
       "\\end{tabular}\n"
      ],
      "text/markdown": [
       "\n",
       "A precis: 3 × 6\n",
       "\n",
       "| <!--/--> | mean &lt;dbl&gt; | sd &lt;dbl&gt; | 5.5% &lt;dbl&gt; | 94.5% &lt;dbl&gt; | n_eff &lt;dbl&gt; | Rhat4 &lt;dbl&gt; |\n",
       "|---|---|---|---|---|---|---|\n",
       "| v |  0.01230349 |   2.996025 |  -4.796048 |  4.771022 | 1488.635 | 1.0010843 |\n",
       "| z |  0.01210140 |   1.039122 |  -1.627722 |  1.666582 | 1408.636 | 0.9992154 |\n",
       "| x | -3.79610011 | 709.000162 | -30.965837 | 25.392441 | 1785.328 | 1.0012075 |\n",
       "\n"
      ],
      "text/plain": [
       "  mean        sd         5.5%       94.5%     n_eff    Rhat4    \n",
       "v  0.01230349   2.996025  -4.796048  4.771022 1488.635 1.0010843\n",
       "z  0.01210140   1.039122  -1.627722  1.666582 1408.636 0.9992154\n",
       "x -3.79610011 709.000162 -30.965837 25.392441 1785.328 1.0012075"
      ]
     },
     "metadata": {},
     "output_type": "display_data"
    }
   ],
   "source": [
    "precis( m13.7nc )"
   ]
  },
  {
   "cell_type": "markdown",
   "metadata": {},
   "source": [
    "### Non-centered chimpanzees"
   ]
  },
  {
   "cell_type": "markdown",
   "metadata": {},
   "source": [
    "First we try to tune the simulation by increasing the `adapt_delta` control variable closer to 1."
   ]
  },
  {
   "cell_type": "code",
   "execution_count": 65,
   "metadata": {},
   "outputs": [
    {
     "name": "stderr",
     "output_type": "stream",
     "text": [
      "Warning message:\n",
      "\"Bulk Effective Samples Size (ESS) is too low, indicating posterior means and medians may be unreliable.\n",
      "Running the chains for more iterations may help. See\n",
      "https://mc-stan.org/misc/warnings.html#bulk-ess\"\n",
      "Warning message:\n",
      "\"Tail Effective Samples Size (ESS) is too low, indicating posterior variances and tail quantiles may be unreliable.\n",
      "Running the chains for more iterations may help. See\n",
      "https://mc-stan.org/misc/warnings.html#tail-ess\"\n"
     ]
    }
   ],
   "source": [
    "## R code 13.28\n",
    "set.seed(13)\n",
    "m13.4b <- ulam( m13.4 , cmdstan=FALSE, chains=4 , cores=4 , control=list(adapt_delta=0.99) )"
   ]
  },
  {
   "cell_type": "markdown",
   "metadata": {},
   "source": [
    "The `divergent()` function is not documented in the current `rethinking` package version (2.31),   \n",
    "but it is there and seems to work, giving the obvious result.   \n",
    "It shows some improvement on the previous model, but the problem is still there."
   ]
  },
  {
   "cell_type": "code",
   "execution_count": 66,
   "metadata": {},
   "outputs": [
    {
     "data": {
      "text/html": [
       "0"
      ],
      "text/latex": [
       "0"
      ],
      "text/markdown": [
       "0"
      ],
      "text/plain": [
       "[1] 0"
      ]
     },
     "metadata": {},
     "output_type": "display_data"
    }
   ],
   "source": [
    "divergent(m13.4b)  "
   ]
  },
  {
   "cell_type": "markdown",
   "metadata": {},
   "source": [
    "Now we use the non-centered reparameterization, adding two sets of $\\operatorname{Normal}(0,1)$ variables, vector $z$ gives the standardized intercept for each actor, $z_{j}$, $j=1,\\dots,7$ and the vector x gives the standardized intercept for each block\n",
    "$x_{j}$, $j=1,\\dots,6$.\n",
    "\n",
    "$$\n",
    "    \\begin{array}{lcl}\n",
    "    L_{i}                      &\\sim &\\operatorname{Binomial}(1,p_{i})\\\\[0.10cm]\n",
    "    \\operatorname{logit}(p_{i})&=&\\bar{\\alpha}+\n",
    "           z_{\\text{ACTOR}[i]}\\cdot\\sigma_{\\alpha}+x_{\\text{BLOCK}[i]}\\cdot\\sigma_{\\gamma}\n",
    "           +\\beta_{\\text{TREATMENT}[i]}\\\\[0.10cm]\n",
    "    \\beta_{j}  &\\sim &\\operatorname{Normal}(0,0.5),\\mskip30mu\\text{for}\\mskip7mu j=1,\\dots,4,\\\\[0.10cm]\n",
    "         z_{j} &\\sim &\\operatorname{Normal}(0,1),\\mskip30mu\\text{for}\\mskip7mu j=1,\\dots,7,\\\\[0.10cm]\n",
    "         x_{j} &\\sim &\\operatorname{Normal}(0,1),\\mskip30mu\\text{for}\\mskip7mu j=1,\\dots,6,\\\\[0.10cm]\n",
    "    \\bar{\\alpha}     &\\sim &\\operatorname{Normal}(0,1.5),\\\\[0.10cm]\n",
    "    \\sigma_{\\alpha}    &\\sim &\\operatorname{Exponential}(1),\\\\[0.10cm]\n",
    "    \\sigma_{\\gamma}    &\\sim &\\operatorname{Exponential}(1).\n",
    "    \\end{array}\n",
    "$$\n",
    "\n",
    "Each actor intercept is defined by $\\alpha_{j}=\\bar{\\alpha} + z_{j}\\cdot \\sigma_{\\alpha}$, and each block intercept by\n",
    "$\\gamma_{j}=x_{j}\\cdot\\sigma_{\\gamma}$. So these expressions appear now in the linear model."
   ]
  },
  {
   "cell_type": "code",
   "execution_count": 67,
   "metadata": {},
   "outputs": [
    {
     "name": "stderr",
     "output_type": "stream",
     "text": [
      "Warning message:\n",
      "\"Bulk Effective Samples Size (ESS) is too low, indicating posterior means and medians may be unreliable.\n",
      "Running the chains for more iterations may help. See\n",
      "https://mc-stan.org/misc/warnings.html#bulk-ess\"\n"
     ]
    }
   ],
   "source": [
    "## R code 13.29\n",
    "set.seed(13)\n",
    "m13.4nc <- ulam(\n",
    "    cmdstan=FALSE,\n",
    "    alist(\n",
    "        pulled_left ~ dbinom( 1 , p ) ,\n",
    "        logit(p) <- a_bar + z[actor]*sigma_a + # actor intercepts\n",
    "                    x[block_id]*sigma_g +      # block intercepts\n",
    "                    b[treatment] ,\n",
    "        b[treatment] ~ dnorm( 0 , 0.5 ),\n",
    "        z[actor] ~ dnorm( 0 , 1 ),\n",
    "        x[block_id] ~ dnorm( 0 , 1 ),\n",
    "        a_bar ~ dnorm( 0 , 1.5 ),\n",
    "        sigma_a ~ dexp(1),\n",
    "        sigma_g ~ dexp(1),\n",
    "        gq> vector[actor]:a <<- a_bar + z*sigma_a,\n",
    "        gq> vector[block_id]:g <<- x*sigma_g\n",
    "    ) , data=dat_list , chains=4 , cores=4 )"
   ]
  },
  {
   "cell_type": "code",
   "execution_count": 68,
   "metadata": {},
   "outputs": [],
   "source": [
    "## R code 13.30\n",
    "precis_c <- precis( m13.4 , depth=2 )"
   ]
  },
  {
   "cell_type": "code",
   "execution_count": 69,
   "metadata": {},
   "outputs": [],
   "source": [
    "precis_nc <- precis( m13.4nc , depth=2 )"
   ]
  },
  {
   "cell_type": "markdown",
   "metadata": {},
   "source": [
    "Number of effective samples for each effect in both parameterizations. Most effects get a larger `n_eff` in the non-centered one."
   ]
  },
  {
   "cell_type": "code",
   "execution_count": 70,
   "metadata": {},
   "outputs": [
    {
     "data": {
      "image/png": "[encoded data removed]",
      "text/plain": [
       "plot without title"
      ]
     },
     "metadata": {
      "image/png": {
       "height": 480,
       "width": 480
      }
     },
     "output_type": "display_data"
    }
   ],
   "source": [
    "options(repr.plot.width=8,repr.plot.height=8)\n",
    "pars <- c( paste(\"a[\",1:7,\"]\",sep=\"\") , paste(\"g[\",1:6,\"]\",sep=\"\") ,\n",
    "           paste(\"b[\",1:4,\"]\",sep=\"\") , \"a_bar\" , \"sigma_a\" , \"sigma_g\" )\n",
    "neff_table <- cbind( precis_c[pars,\"n_eff\"] , precis_nc[pars,\"n_eff\"] )\n",
    "plot( neff_table , xlim=range(neff_table) , ylim=range(neff_table) ,\n",
    "    xlab=\"n_eff (centered)\" , ylab=\"n_eff (non-centered)\" , pch=19,cex=1.3,col=\"blue\" )\n",
    "abline( a=0 , b=1 , lty=2 )"
   ]
  },
  {
   "cell_type": "markdown",
   "metadata": {},
   "source": [
    "### Posterior predictions"
   ]
  },
  {
   "cell_type": "markdown",
   "metadata": {},
   "source": [
    "Predictions for actor 2. **Caution:** This is the chimp always pulling the left lever.\n",
    "\n",
    "The `link()` function is essentially the `predict()` method for `ulam` objects. Currently only partially documented. To use it we prepare a `newdata` list, repeating `actor` number = 2 and `block` number, e.g., = 1."
   ]
  },
  {
   "cell_type": "code",
   "execution_count": 71,
   "metadata": {},
   "outputs": [],
   "source": [
    "## R code 13.31\n",
    "chimp <- 2\n",
    "d_pred <- list(\n",
    "    actor = rep(chimp,4),\n",
    "    treatment = 1:4,\n",
    "    block_id = rep(1,4)\n",
    ")\n",
    "p <- link( m13.4 , data=d_pred )\n",
    "p_mu <- apply( p , 2 , mean )\n",
    "p_ci <- apply( p , 2 , PI )"
   ]
  },
  {
   "cell_type": "markdown",
   "metadata": {},
   "source": [
    "Mean and percentile intervals (PI) "
   ]
  },
  {
   "cell_type": "code",
   "execution_count": 72,
   "metadata": {},
   "outputs": [
    {
     "data": {
      "text/html": [
       "<style>\n",
       ".list-inline {list-style: none; margin:0; padding: 0}\n",
       ".list-inline>li {display: inline-block}\n",
       ".list-inline>li:not(:last-child)::after {content: \"\\00b7\"; padding: 0 .5ex}\n",
       "</style>\n",
       "<ol class=list-inline><li>0.98</li><li>0.99</li><li>0.97</li><li>0.99</li></ol>\n"
      ],
      "text/latex": [
       "\\begin{enumerate*}\n",
       "\\item 0.98\n",
       "\\item 0.99\n",
       "\\item 0.97\n",
       "\\item 0.99\n",
       "\\end{enumerate*}\n"
      ],
      "text/markdown": [
       "1. 0.98\n",
       "2. 0.99\n",
       "3. 0.97\n",
       "4. 0.99\n",
       "\n",
       "\n"
      ],
      "text/plain": [
       "[1] 0.98 0.99 0.97 0.99"
      ]
     },
     "metadata": {},
     "output_type": "display_data"
    },
    {
     "data": {
      "text/html": [
       "<table class=\"dataframe\">\n",
       "<caption>A matrix: 2 × 4 of type dbl</caption>\n",
       "<tbody>\n",
       "\t<tr><th scope=row>5%</th><td>0.94</td><td>0.96</td><td>0.92</td><td>0.96</td></tr>\n",
       "\t<tr><th scope=row>94%</th><td>1.00</td><td>1.00</td><td>1.00</td><td>1.00</td></tr>\n",
       "</tbody>\n",
       "</table>\n"
      ],
      "text/latex": [
       "A matrix: 2 × 4 of type dbl\n",
       "\\begin{tabular}{r|llll}\n",
       "\t5\\% & 0.94 & 0.96 & 0.92 & 0.96\\\\\n",
       "\t94\\% & 1.00 & 1.00 & 1.00 & 1.00\\\\\n",
       "\\end{tabular}\n"
      ],
      "text/markdown": [
       "\n",
       "A matrix: 2 × 4 of type dbl\n",
       "\n",
       "| 5% | 0.94 | 0.96 | 0.92 | 0.96 |\n",
       "| 94% | 1.00 | 1.00 | 1.00 | 1.00 |\n",
       "\n"
      ],
      "text/plain": [
       "    [,1] [,2] [,3] [,4]\n",
       "5%  0.94 0.96 0.92 0.96\n",
       "94% 1.00 1.00 1.00 1.00"
      ]
     },
     "metadata": {},
     "output_type": "display_data"
    }
   ],
   "source": [
    "round(p_mu,2)\n",
    "round(p_ci,2)"
   ]
  },
  {
   "cell_type": "markdown",
   "metadata": {},
   "source": [
    "Same as above, now \"by hand\", step by step."
   ]
  },
  {
   "cell_type": "code",
   "execution_count": 73,
   "metadata": {},
   "outputs": [
    {
     "name": "stdout",
     "output_type": "stream",
     "text": [
      "List of 6\n",
      " $ b      : num [1:2000, 1:4] 0.107 -0.117 -0.103 -0.224 -0.165 ...\n",
      " $ a      : num [1:2000, 1:7] -0.324 -0.557 0.488 -0.471 -0.442 ...\n",
      " $ g      : num [1:2000, 1:6] -0.2294 -0.2155 -0.0243 -0.023 -0.1224 ...\n",
      " $ a_bar  : num [1:2000(1d)] 0.324 0.363 1.077 0.847 1.933 ...\n",
      " $ sigma_a: num [1:2000(1d)] 1.94 1.2 1.13 4.21 1.35 ...\n",
      " $ sigma_g: num [1:2000(1d)] 0.1231 0.1052 0.0591 0.0631 0.1858 ...\n",
      " - attr(*, \"source\")= chr \"ulam posterior: 2000 samples from object\"\n"
     ]
    }
   ],
   "source": [
    "## R code 13.32\n",
    "post <- extract.samples(m13.4)\n",
    "str(post)"
   ]
  },
  {
   "cell_type": "markdown",
   "metadata": {},
   "source": [
    "For instance, the posterior density for actor 5"
   ]
  },
  {
   "cell_type": "code",
   "execution_count": 74,
   "metadata": {},
   "outputs": [
    {
     "data": {
      "image/png": "[encoded data removed]",
      "text/plain": [
       "Plot with title \"\""
      ]
     },
     "metadata": {
      "image/png": {
       "height": 420,
       "width": 420
      }
     },
     "output_type": "display_data"
    }
   ],
   "source": [
    "## R code 13.33\n",
    "options(repr.plot.width=7,repr.plot.height=7)\n",
    "dens( post$a[,5] )"
   ]
  },
  {
   "cell_type": "code",
   "execution_count": 75,
   "metadata": {},
   "outputs": [],
   "source": [
    "## R code 13.34\n",
    "p_link <- function( treatment , actor=1 , block_id=1 ) {\n",
    "    logodds <- with( post ,\n",
    "        a[,actor] + g[,block_id] + b[,treatment] )\n",
    "    return( inv_logit(logodds) )\n",
    "}"
   ]
  },
  {
   "cell_type": "code",
   "execution_count": 76,
   "metadata": {},
   "outputs": [],
   "source": [
    "## R code 13.35\n",
    "p_raw <- sapply( 1:4 , function(i) p_link( i , actor=2 , block_id=1 ) )\n",
    "p_mu <- apply( p_raw , 2 , mean )\n",
    "p_ci <- apply( p_raw , 2 , PI )"
   ]
  },
  {
   "cell_type": "markdown",
   "metadata": {},
   "source": [
    "Mean and percentile intervals (PI) "
   ]
  },
  {
   "cell_type": "code",
   "execution_count": 77,
   "metadata": {},
   "outputs": [
    {
     "data": {
      "text/html": [
       "<style>\n",
       ".list-inline {list-style: none; margin:0; padding: 0}\n",
       ".list-inline>li {display: inline-block}\n",
       ".list-inline>li:not(:last-child)::after {content: \"\\00b7\"; padding: 0 .5ex}\n",
       "</style>\n",
       "<ol class=list-inline><li>0.98</li><li>0.99</li><li>0.97</li><li>0.99</li></ol>\n"
      ],
      "text/latex": [
       "\\begin{enumerate*}\n",
       "\\item 0.98\n",
       "\\item 0.99\n",
       "\\item 0.97\n",
       "\\item 0.99\n",
       "\\end{enumerate*}\n"
      ],
      "text/markdown": [
       "1. 0.98\n",
       "2. 0.99\n",
       "3. 0.97\n",
       "4. 0.99\n",
       "\n",
       "\n"
      ],
      "text/plain": [
       "[1] 0.98 0.99 0.97 0.99"
      ]
     },
     "metadata": {},
     "output_type": "display_data"
    },
    {
     "data": {
      "text/html": [
       "<table class=\"dataframe\">\n",
       "<caption>A matrix: 2 × 4 of type dbl</caption>\n",
       "<tbody>\n",
       "\t<tr><th scope=row>5%</th><td>0.94</td><td>0.96</td><td>0.92</td><td>0.96</td></tr>\n",
       "\t<tr><th scope=row>94%</th><td>1.00</td><td>1.00</td><td>1.00</td><td>1.00</td></tr>\n",
       "</tbody>\n",
       "</table>\n"
      ],
      "text/latex": [
       "A matrix: 2 × 4 of type dbl\n",
       "\\begin{tabular}{r|llll}\n",
       "\t5\\% & 0.94 & 0.96 & 0.92 & 0.96\\\\\n",
       "\t94\\% & 1.00 & 1.00 & 1.00 & 1.00\\\\\n",
       "\\end{tabular}\n"
      ],
      "text/markdown": [
       "\n",
       "A matrix: 2 × 4 of type dbl\n",
       "\n",
       "| 5% | 0.94 | 0.96 | 0.92 | 0.96 |\n",
       "| 94% | 1.00 | 1.00 | 1.00 | 1.00 |\n",
       "\n"
      ],
      "text/plain": [
       "    [,1] [,2] [,3] [,4]\n",
       "5%  0.94 0.96 0.92 0.96\n",
       "94% 1.00 1.00 1.00 1.00"
      ]
     },
     "metadata": {},
     "output_type": "display_data"
    }
   ],
   "source": [
    "round(p_mu,2)\n",
    "round(p_ci,2)"
   ]
  },
  {
   "cell_type": "markdown",
   "metadata": {},
   "source": [
    "### Posterior prediction for new clusters"
   ]
  },
  {
   "cell_type": "code",
   "execution_count": 78,
   "metadata": {},
   "outputs": [],
   "source": [
    "## R code 13.36\n",
    "p_link_abar <- function( treatment ) {\n",
    "    logodds <- with( post , a_bar + b[,treatment] )\n",
    "    return( inv_logit(logodds) )\n",
    "}"
   ]
  },
  {
   "cell_type": "code",
   "execution_count": 79,
   "metadata": {},
   "outputs": [],
   "source": [
    "## R code 13.37\n",
    "post <- extract.samples(m13.4)\n",
    "p_raw <- sapply( 1:4 , function(i) p_link_abar( i ) )\n",
    "p_mu <- apply( p_raw , 2 , mean )\n",
    "p_ci <- apply( p_raw , 2 , PI )"
   ]
  },
  {
   "cell_type": "markdown",
   "metadata": {},
   "source": [
    "Mean and percentile intervals (PI) "
   ]
  },
  {
   "cell_type": "code",
   "execution_count": 80,
   "metadata": {},
   "outputs": [
    {
     "data": {
      "text/html": [
       "<style>\n",
       ".list-inline {list-style: none; margin:0; padding: 0}\n",
       ".list-inline>li {display: inline-block}\n",
       ".list-inline>li:not(:last-child)::after {content: \"\\00b7\"; padding: 0 .5ex}\n",
       "</style>\n",
       "<ol class=list-inline><li>0.6</li><li>0.71</li><li>0.53</li><li>0.69</li></ol>\n"
      ],
      "text/latex": [
       "\\begin{enumerate*}\n",
       "\\item 0.6\n",
       "\\item 0.71\n",
       "\\item 0.53\n",
       "\\item 0.69\n",
       "\\end{enumerate*}\n"
      ],
      "text/markdown": [
       "1. 0.6\n",
       "2. 0.71\n",
       "3. 0.53\n",
       "4. 0.69\n",
       "\n",
       "\n"
      ],
      "text/plain": [
       "[1] 0.60 0.71 0.53 0.69"
      ]
     },
     "metadata": {},
     "output_type": "display_data"
    },
    {
     "data": {
      "text/html": [
       "<table class=\"dataframe\">\n",
       "<caption>A matrix: 2 × 4 of type dbl</caption>\n",
       "<tbody>\n",
       "\t<tr><th scope=row>5%</th><td>0.34</td><td>0.47</td><td>0.28</td><td>0.45</td></tr>\n",
       "\t<tr><th scope=row>94%</th><td>0.83</td><td>0.90</td><td>0.78</td><td>0.89</td></tr>\n",
       "</tbody>\n",
       "</table>\n"
      ],
      "text/latex": [
       "A matrix: 2 × 4 of type dbl\n",
       "\\begin{tabular}{r|llll}\n",
       "\t5\\% & 0.34 & 0.47 & 0.28 & 0.45\\\\\n",
       "\t94\\% & 0.83 & 0.90 & 0.78 & 0.89\\\\\n",
       "\\end{tabular}\n"
      ],
      "text/markdown": [
       "\n",
       "A matrix: 2 × 4 of type dbl\n",
       "\n",
       "| 5% | 0.34 | 0.47 | 0.28 | 0.45 |\n",
       "| 94% | 0.83 | 0.90 | 0.78 | 0.89 |\n",
       "\n"
      ],
      "text/plain": [
       "    [,1] [,2] [,3] [,4]\n",
       "5%  0.34 0.47 0.28 0.45\n",
       "94% 0.83 0.90 0.78 0.89"
      ]
     },
     "metadata": {},
     "output_type": "display_data"
    }
   ],
   "source": [
    "round(p_mu,2)\n",
    "round(p_ci,2)"
   ]
  },
  {
   "cell_type": "code",
   "execution_count": 81,
   "metadata": {},
   "outputs": [
    {
     "name": "stdout",
     "output_type": "stream",
     "text": [
      " num [1:2, 1:4] 0.344 0.831 0.471 0.895 0.278 ...\n",
      " - attr(*, \"dimnames\")=List of 2\n",
      "  ..$ : chr [1:2] \"5%\" \"94%\"\n",
      "  ..$ : NULL\n"
     ]
    }
   ],
   "source": [
    "str(p_ci)"
   ]
  },
  {
   "cell_type": "code",
   "execution_count": 82,
   "metadata": {},
   "outputs": [
    {
     "data": {
      "image/png": "[encoded data removed]",
      "text/plain": [
       "plot without title"
      ]
     },
     "metadata": {
      "image/png": {
       "height": 420,
       "width": 420
      }
     },
     "output_type": "display_data"
    }
   ],
   "source": [
    "options(repr.plot.width=7,repr.plot.height=7)\n",
    "plot(NULL,xlab=\"treatment\",ylab=\"proportion pulled left\",ylim=c(0,1),xaxt=\"n\",xlim=c(1,4))\n",
    "axis( 1 , at=1:4 , labels=c(\"R/N\",\"L/N\",\"R/P\",\"L/P\") )\n",
    "lines( 1:4 , p_mu )\n",
    "shade(as.matrix(p_ci), 1:4 )"
   ]
  },
  {
   "cell_type": "code",
   "execution_count": 83,
   "metadata": {},
   "outputs": [],
   "source": [
    "## R code 13.38\n",
    "a_sim <- with( post , rnorm( length(post$a_bar) , a_bar , sigma_a ) )\n",
    "p_link_asim <- function( treatment ) {\n",
    "    logodds <- with( post , a_sim + b[,treatment] )\n",
    "    return( inv_logit(logodds) )\n",
    "}\n",
    "p_raw_asim <- sapply( 1:4 , function(i) p_link_asim( i ) )"
   ]
  },
  {
   "cell_type": "code",
   "execution_count": 84,
   "metadata": {},
   "outputs": [
    {
     "data": {
      "image/png": "[encoded data removed]",
      "text/plain": [
       "plot without title"
      ]
     },
     "metadata": {
      "image/png": {
       "height": 420,
       "width": 420
      }
     },
     "output_type": "display_data"
    }
   ],
   "source": [
    "## R code 13.39\n",
    "options(repr.plot.width=7,repr.plot.height=7)\n",
    "plot( NULL , xlab=\"treatment\" , ylab=\"proportion pulled left\" ,\n",
    "    ylim=c(0,1) , xaxt=\"n\" , xlim=c(1,4) )\n",
    "axis( 1 , at=1:4 , labels=c(\"R/N\",\"L/N\",\"R/P\",\"L/P\") )\n",
    "for ( i in 1:100 ) lines( 1:4 , p_raw_asim[i,] , col=grau(0.25) , lwd=2 )\n",
    "\n",
    "## R code 13.40\n",
    "## R code 13.41"
   ]
  }
 ],
 "metadata": {
  "kernelspec": {
   "display_name": "R",
   "language": "R",
   "name": "ir"
  },
  "language_info": {
   "codemirror_mode": "r",
   "file_extension": ".r",
   "mimetype": "text/x-r-source",
   "name": "R",
   "pygments_lexer": "r",
   "version": "4.3.0"
  }
 },
 "nbformat": 4,
 "nbformat_minor": 4
}
