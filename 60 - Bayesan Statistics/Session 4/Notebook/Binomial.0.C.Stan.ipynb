{
 "cells": [
  {
   "cell_type": "markdown",
   "metadata": {},
   "source": [
    "# Beta-Binomial model - Bayes' billiard - Estimating a probability"
   ]
  },
  {
   "cell_type": "markdown",
   "metadata": {},
   "source": [
    "# C. Stan solution"
   ]
  },
  {
   "cell_type": "markdown",
   "metadata": {},
   "source": [
    "# _Josep Fortiana  &emsp;&emsp;&emsp;&emsp;&emsp;   2023-03-06_"
   ]
  },
  {
   "cell_type": "markdown",
   "metadata": {
    "tags": []
   },
   "source": [
    "****\n",
    "###### LaTeX macros\n",
    "$\\def\\argmax{\\operatorname{arg\\,max}}$\n",
    "$\\def\\argmin{\\operatorname{arg\\,min}}$\n",
    "$\\def\\binomdist{\\operatorname{Binomial}}$\n",
    "$\\def\\berndist{\\operatorname{Bernoulli}}$\n",
    "$\\def\\betabinomdist{\\operatorname{Beta-Binomial}}$\n",
    "$\\def\\betadist{\\operatorname{Beta}}$\n",
    "$\\def\\betahat{\\kern1.3pt\\hat{\\kern-1.3pt \\beta}}$\n",
    "$\\def\\borel{\\operatorname{Borel}}$\n",
    "$\\def\\cauchydist{\\operatorname{Cauchy}}$\n",
    "$\\def\\CondTo{\\mathbin{|\\mskip0.5mu}}$\n",
    "$\\def\\cov{\\operatorname{cov}}$\n",
    "$\\def\\cor{\\operatorname{cor}}$\n",
    "$\\def\\dexpdist{\\operatorname{DExp}}$\n",
    "$\\def\\diag{\\operatorname{diag}}$\n",
    "$\\def\\eqdef{\\stackrel{\\text{def}}{\\mskip3mu=\\mskip3mu}}$\n",
    "$\\def\\cE{\\cal E}$\n",
    "$\\def\\Ee{\\operatorname{E}}$\n",
    "$\\def\\expdist{\\operatorname{Exponential}}$\n",
    "$\\def\\fdist{\\operatorname{F}}$\n",
    "$\\def\\gammadist{\\operatorname{Gamma}}$\n",
    "$\\def\\geomdist{\\operatorname{Geom}}$\n",
    "$\\def\\halfcauchydist{\\operatorname{Cauchy}^{+}}$\n",
    "$\\def\\hyperdist{\\operatorname{Hypergeom}}$\n",
    "$\\def\\invgammadist{\\operatorname{InvGamma}}$\n",
    "$\\def\\invwishartdist{\\operatorname{InvWishart}}$\n",
    "$\\def\\hypergeomdist{\\operatorname{Hypergeom}}$\n",
    "$\\def\\indep{\\perp{\\mskip-16mu}\\perp}$\n",
    "$\\DeclareMathOperator{\\indica}{\\mathbb{1}}$\n",
    "$\\DeclareMathOperator{\\invgammadist}{InvGamma}$\n",
    "$\\newcommand{\\KL}[2]{\\operatorname{KL}(\\mkern2mu#1\\mkern2mu\\mathrel\\mid\\mathrel{\\mkern-8mu}\\mid\\mkern2mu#2\\mkern2mu)}$\n",
    "$\\def\\laplacedist{\\operatorname{Laplace}}$\n",
    "$\\def\\lognormaldist{\\operatorname{Log-Normal}}$\n",
    "$\\DeclareMathOperator{\\multinomialdist}{Multinomial}$\n",
    "$\\DeclareMathOperator{\\multinomdist}{Multinomial}$\n",
    "$\\def\\N{\\mathbb{N}}$\n",
    "$\\def\\negbindist{\\operatorname{NegativeBinomial}}$\n",
    "$\\def\\normaldist{\\operatorname{Normal}}$\n",
    "$\\def\\Normaldist{\\operatorname{MNormal}}$\n",
    "$\\def\\cP{\\cal P}$\n",
    "$\\def\\poissondist{\\operatorname{Poisson}}$\n",
    "$\\def\\prob{\\operatorname{Prob}}$\n",
    "$\\def\\R{\\mathbb{R}}$ \n",
    "$\\def\\stilde{\\tilde{s}}$ \n",
    "$\\def\\sqtilde{\\tilde{s}{}^{2}}$ \n",
    "$\\def\\tdist{\\operatorname{t}}$\n",
    "$\\def\\u{\\mathbb{1}}$\n",
    "$\\def\\unifdist{\\operatorname{Unif}}$\n",
    "$\\def\\va{\\text{v.a.}}$\n",
    "$\\def\\var{\\operatorname{var}}$\n",
    "$\\def\\Var{\\operatorname{Var}}$\n",
    "$\\def\\xbar{\\kern1.3pt\\overline{\\kern-1.3pt x}}$\n",
    "$\\def\\Xbar{\\kern1.3pt\\overline{\\kern-1.3pt X}}$\n",
    "$\\def\\yhat{\\kern1.3pt\\hat{\\kern-1.3pt y}}$\n",
    "$\\def\\Z{\\mathbb{Z}}$\n",
    "***"
   ]
  },
  {
   "cell_type": "markdown",
   "metadata": {},
   "source": [
    "# Model description\n",
    "\n",
    "A plain Beta-Bernoulli model as in the Bayes' billiard problem. \n",
    "\n",
    "Learn about an unknown probability $\\theta$ from an independent sequence of $n$ Bernoulli experiments $Y_{1},\\dots,Y_{n}$ iid $\\sim\\operatorname{Bern}(\\theta)$, in $n_{1}$ of which the $1$ value was observed."
   ]
  },
  {
   "cell_type": "markdown",
   "metadata": {},
   "source": [
    "# Observed data\n",
    "\n",
    "$n$ Bernoulli experiments, in $n_{1}$ of which a $1$ has been observed."
   ]
  },
  {
   "cell_type": "code",
   "execution_count": 1,
   "metadata": {},
   "outputs": [],
   "source": [
    "n=10\n",
    "n1=3\n",
    "y <- c(rep(1,n1),rep(0,n-n1))"
   ]
  },
  {
   "cell_type": "code",
   "execution_count": 2,
   "metadata": {},
   "outputs": [
    {
     "data": {
      "text/html": [
       "<style>\n",
       ".list-inline {list-style: none; margin:0; padding: 0}\n",
       ".list-inline>li {display: inline-block}\n",
       ".list-inline>li:not(:last-child)::after {content: \"\\00b7\"; padding: 0 .5ex}\n",
       "</style>\n",
       "<ol class=list-inline><li>1</li><li>1</li><li>1</li><li>0</li><li>0</li><li>0</li><li>0</li><li>0</li><li>0</li><li>0</li></ol>\n"
      ],
      "text/latex": [
       "\\begin{enumerate*}\n",
       "\\item 1\n",
       "\\item 1\n",
       "\\item 1\n",
       "\\item 0\n",
       "\\item 0\n",
       "\\item 0\n",
       "\\item 0\n",
       "\\item 0\n",
       "\\item 0\n",
       "\\item 0\n",
       "\\end{enumerate*}\n"
      ],
      "text/markdown": [
       "1. 1\n",
       "2. 1\n",
       "3. 1\n",
       "4. 0\n",
       "5. 0\n",
       "6. 0\n",
       "7. 0\n",
       "8. 0\n",
       "9. 0\n",
       "10. 0\n",
       "\n",
       "\n"
      ],
      "text/plain": [
       " [1] 1 1 1 0 0 0 0 0 0 0"
      ]
     },
     "metadata": {},
     "output_type": "display_data"
    }
   ],
   "source": [
    "y"
   ]
  },
  {
   "cell_type": "markdown",
   "metadata": {},
   "source": [
    "\n",
    "# Treatment with Stan and `rstan`"
   ]
  },
  {
   "cell_type": "markdown",
   "metadata": {},
   "source": [
    "Stan does:\n",
    "\n",
    "1. Generate sequences of random numbers simulating pdf's, e.g., posterior, prior or posterior predictive pdf's.\n",
    "\n",
    "2. \"Outsource\" out of R execution of repetitive (i.e., slow) tasks.\n",
    "\n",
    "3. Using flavors of Markov Chain Monte Carlo (MCMC) simulation (usually). By default Stan uses the _No-U-Turn Sampler (NUTS)_ \n",
    "   version of _Hamiltonian Monte Carlo (HMC)._\n",
    "\n",
    "4. Stan generates a C++ source file which is compiled (out of R) to an ad-hoc executable which generates the random sequences, which are then imported back into R. \n",
    "\n",
    "The `rstan` R package is an interface to Stan. See the  [Stan home page](http://mc-stan.org/))."
   ]
  },
  {
   "cell_type": "code",
   "execution_count": 3,
   "metadata": {},
   "outputs": [
    {
     "name": "stderr",
     "output_type": "stream",
     "text": [
      "\n",
      "rstan version 2.26.13 (Stan version 2.26.1)\n",
      "\n",
      "\n",
      "For execution on a local, multicore CPU with excess RAM we recommend calling\n",
      "options(mc.cores = parallel::detectCores()).\n",
      "To avoid recompilation of unchanged Stan programs, we recommend calling\n",
      "rstan_options(auto_write = TRUE)\n",
      "For within-chain threading using `reduce_sum()` or `map_rect()` Stan functions,\n",
      "change `threads_per_chain` option:\n",
      "rstan_options(threads_per_chain = 1)\n",
      "\n",
      "\n",
      "Do not specify '-march=native' in 'LOCAL_CPPFLAGS' or a Makevars file\n",
      "\n"
     ]
    }
   ],
   "source": [
    "#install.packages(\"rstan\", dependencies=TRUE,repos= \"https://cloud.r-project.org\")\n",
    "require(rstan,quietly=TRUE)"
   ]
  },
  {
   "cell_type": "code",
   "execution_count": 4,
   "metadata": {},
   "outputs": [
    {
     "data": {
      "text/html": [
       "12"
      ],
      "text/latex": [
       "12"
      ],
      "text/markdown": [
       "12"
      ],
      "text/plain": [
       "[1] 12"
      ]
     },
     "metadata": {},
     "output_type": "display_data"
    }
   ],
   "source": [
    "# Following directions:\n",
    "# For execution on a local, multicore CPU with excess RAM we recommend calling\n",
    "# options(mc.cores = parallel::detectCores()).\n",
    "# To avoid recompilation of unchanged Stan programs, we recommend calling\n",
    "# rstan_options(auto_write = TRUE)\n",
    "parallel::detectCores()\n",
    "options(mc.cores = parallel::detectCores())\n",
    "rstan_options(auto_write = TRUE)"
   ]
  },
  {
   "cell_type": "markdown",
   "metadata": {},
   "source": [
    "## Specify model\n",
    "\n",
    "#### Syntax similarities and differences between Stan and BUGS/JAGS\n",
    "\n",
    "1. Stan requires declaration of numeric type, including specification of range limits when appropriate.\n",
    "\n",
    "2. Statement lines in Stan end with a semicolon.\n",
    " \n",
    "3. Comments in Stan are like in C++, a \"//\" to the end of line.\n",
    " \n",
    "4. In Stan model statements are vectorized. Here the line `y~bernoulli(theta)` replaces the BUGS loop\n",
    "     ```\n",
    "     for ( i in 1:N){\n",
    "         y[i]~dbern(theta)\n",
    "         }\n",
    "      ```\n",
    "5. The formerly accepted Stan assignation (`<-`), as in R, has been deprecated.  Now the (`=`) symbol is mandatory."
   ]
  },
  {
   "cell_type": "code",
   "execution_count": 5,
   "metadata": {},
   "outputs": [],
   "source": [
    "modelString <- \"\n",
    "  data{\n",
    "    int<lower=0> n ;\n",
    "    int y[n] ; \n",
    "    real<lower=0> a ;\n",
    "    real<lower=0> b ;\n",
    "    }\n",
    "  parameters{\n",
    "    real<lower=0,upper=1> theta ;\n",
    "    }\n",
    "  model{\n",
    "    theta ~ beta(a,b) ;\n",
    "    y ~ bernoulli(theta) ; \n",
    "    }\""
   ]
  },
  {
   "cell_type": "markdown",
   "metadata": {},
   "source": [
    "## Compile model and sample from the posterior pdf"
   ]
  },
  {
   "cell_type": "code",
   "execution_count": 6,
   "metadata": {},
   "outputs": [],
   "source": [
    "# Translate model to C++ and compile to DSO:\n",
    "stanDso <- stan_model( model_code=modelString ) "
   ]
  },
  {
   "cell_type": "code",
   "execution_count": 7,
   "metadata": {},
   "outputs": [],
   "source": [
    "# Specify data:\n",
    "n <- 10 \n",
    "n1 <- 3\n",
    "a <- 2\n",
    "b <- 5\n",
    "y <- c(rep(1,n1),rep(0,n-n1))\n",
    "dataList <- list(y=y,n=n,a=a,b=b)"
   ]
  },
  {
   "cell_type": "code",
   "execution_count": 8,
   "metadata": {},
   "outputs": [],
   "source": [
    "# Generate posterior sample:\n",
    "stanFit <- sampling( object=stanDso, \n",
    "                     data = dataList, \n",
    "                     chains = 3,\n",
    "                     iter = 2000, \n",
    "                     warmup = 200, \n",
    "                     thin = 2)"
   ]
  },
  {
   "cell_type": "raw",
   "metadata": {},
   "source": [
    "#str(stanFit)"
   ]
  },
  {
   "cell_type": "code",
   "execution_count": 9,
   "metadata": {},
   "outputs": [
    {
     "data": {
      "text/html": [
       "5"
      ],
      "text/latex": [
       "5"
      ],
      "text/markdown": [
       "5"
      ],
      "text/plain": [
       "[1] 5"
      ]
     },
     "metadata": {},
     "output_type": "display_data"
    },
    {
     "data": {
      "text/html": [
       "12"
      ],
      "text/latex": [
       "12"
      ],
      "text/markdown": [
       "12"
      ],
      "text/plain": [
       "[1] 12"
      ]
     },
     "metadata": {},
     "output_type": "display_data"
    }
   ],
   "source": [
    "post.a<- a + n1\n",
    "post.b <-b + n -n1\n",
    "post.a\n",
    "post.b"
   ]
  },
  {
   "cell_type": "code",
   "execution_count": 10,
   "metadata": {},
   "outputs": [
    {
     "data": {
      "text/html": [
       "0.294"
      ],
      "text/latex": [
       "0.294"
      ],
      "text/markdown": [
       "0.294"
      ],
      "text/plain": [
       "[1] 0.294"
      ]
     },
     "metadata": {},
     "output_type": "display_data"
    }
   ],
   "source": [
    "Teor.post.mean<- post.a/ (post.a+post.b)\n",
    "round(Teor.post.mean,3)"
   ]
  },
  {
   "cell_type": "code",
   "execution_count": 11,
   "metadata": {},
   "outputs": [
    {
     "data": {
      "text/html": [
       "<table class=\"dataframe\">\n",
       "<caption>A matrix: 2 × 10 of type dbl</caption>\n",
       "<thead>\n",
       "\t<tr><th></th><th scope=col>mean</th><th scope=col>se_mean</th><th scope=col>sd</th><th scope=col>2.5%</th><th scope=col>25%</th><th scope=col>50%</th><th scope=col>75%</th><th scope=col>97.5%</th><th scope=col>n_eff</th><th scope=col>Rhat</th></tr>\n",
       "</thead>\n",
       "<tbody>\n",
       "\t<tr><th scope=row>theta</th><td>  0.295</td><td>0.002</td><td>0.106</td><td>  0.114</td><td>  0.216</td><td>  0.288</td><td>  0.366</td><td>  0.519</td><td>1803.42</td><td>1</td></tr>\n",
       "\t<tr><th scope=row>lp__</th><td>-10.799</td><td>0.016</td><td>0.701</td><td>-12.816</td><td>-10.949</td><td>-10.544</td><td>-10.348</td><td>-10.299</td><td>1996.55</td><td>1</td></tr>\n",
       "</tbody>\n",
       "</table>\n"
      ],
      "text/latex": [
       "A matrix: 2 × 10 of type dbl\n",
       "\\begin{tabular}{r|llllllllll}\n",
       "  & mean & se\\_mean & sd & 2.5\\% & 25\\% & 50\\% & 75\\% & 97.5\\% & n\\_eff & Rhat\\\\\n",
       "\\hline\n",
       "\ttheta &   0.295 & 0.002 & 0.106 &   0.114 &   0.216 &   0.288 &   0.366 &   0.519 & 1803.42 & 1\\\\\n",
       "\tlp\\_\\_ & -10.799 & 0.016 & 0.701 & -12.816 & -10.949 & -10.544 & -10.348 & -10.299 & 1996.55 & 1\\\\\n",
       "\\end{tabular}\n"
      ],
      "text/markdown": [
       "\n",
       "A matrix: 2 × 10 of type dbl\n",
       "\n",
       "| <!--/--> | mean | se_mean | sd | 2.5% | 25% | 50% | 75% | 97.5% | n_eff | Rhat |\n",
       "|---|---|---|---|---|---|---|---|---|---|---|\n",
       "| theta |   0.295 | 0.002 | 0.106 |   0.114 |   0.216 |   0.288 |   0.366 |   0.519 | 1803.42 | 1 |\n",
       "| lp__ | -10.799 | 0.016 | 0.701 | -12.816 | -10.949 | -10.544 | -10.348 | -10.299 | 1996.55 | 1 |\n",
       "\n"
      ],
      "text/plain": [
       "      mean    se_mean sd    2.5%    25%     50%     75%     97.5%   n_eff  \n",
       "theta   0.295 0.002   0.106   0.114   0.216   0.288   0.366   0.519 1803.42\n",
       "lp__  -10.799 0.016   0.701 -12.816 -10.949 -10.544 -10.348 -10.299 1996.55\n",
       "      Rhat\n",
       "theta 1   \n",
       "lp__  1   "
      ]
     },
     "metadata": {},
     "output_type": "display_data"
    }
   ],
   "source": [
    "S<-summary(stanFit)\n",
    "round(S$summary,3)"
   ]
  },
  {
   "cell_type": "markdown",
   "metadata": {},
   "source": [
    "## Diagnostic plots: traceplot, autocorrelation function"
   ]
  },
  {
   "cell_type": "markdown",
   "metadata": {},
   "source": [
    "### Traceplot"
   ]
  },
  {
   "cell_type": "code",
   "execution_count": 12,
   "metadata": {},
   "outputs": [
    {
     "data": {
      "image/png": "[encoded data removed]",
      "text/plain": [
       "plot without title"
      ]
     },
     "metadata": {
      "image/png": {
       "height": 360,
       "width": 600
      }
     },
     "output_type": "display_data"
    }
   ],
   "source": [
    "options(repr.plot.width=10,repr.plot.height=6)\n",
    "traceplot(stanFit,pars=c(\"theta\"))"
   ]
  },
  {
   "cell_type": "code",
   "execution_count": 13,
   "metadata": {},
   "outputs": [
    {
     "data": {
      "image/png": "[encoded data removed]",
      "text/plain": [
       "plot without title"
      ]
     },
     "metadata": {
      "image/png": {
       "height": 360,
       "width": 600
      }
     },
     "output_type": "display_data"
    }
   ],
   "source": [
    "# Alternative syntax\n",
    "options(repr.plot.width=10,repr.plot.height=6)\n",
    "stan_trace(stanFit,pars=c(\"theta\"))"
   ]
  },
  {
   "cell_type": "markdown",
   "metadata": {},
   "source": [
    "### Autocorrelation plot"
   ]
  },
  {
   "cell_type": "code",
   "execution_count": 14,
   "metadata": {},
   "outputs": [
    {
     "name": "stderr",
     "output_type": "stream",
     "text": [
      "Warning message:\n",
      "\"\u001b[1m\u001b[22mComputation failed in `stat_summary()`\n",
      "Caused by error in `get()`:\n",
      "\u001b[33m!\u001b[39m object 'mean_se' of mode 'function' was not found\"\n"
     ]
    },
    {
     "data": {
      "image/png": "[encoded data removed]",
      "text/plain": [
       "plot without title"
      ]
     },
     "metadata": {
      "image/png": {
       "height": 360,
       "width": 600
      }
     },
     "output_type": "display_data"
    }
   ],
   "source": [
    "options(repr.plot.width=10,repr.plot.height=6)\n",
    "stan_ac(stanFit,pars=c(\"theta\"))"
   ]
  },
  {
   "cell_type": "markdown",
   "metadata": {},
   "source": [
    "## Analysis of posterior pdf properties"
   ]
  },
  {
   "cell_type": "markdown",
   "metadata": {},
   "source": [
    "### Posterior credible interval "
   ]
  },
  {
   "cell_type": "code",
   "execution_count": 15,
   "metadata": {},
   "outputs": [
    {
     "name": "stderr",
     "output_type": "stream",
     "text": [
      "ci_level: 0.9 (90% intervals)\n",
      "\n",
      "outer_level: 0.95 (95% intervals)\n",
      "\n"
     ]
    },
    {
     "data": {
      "image/png": "[encoded data removed]",
      "text/plain": [
       "plot without title"
      ]
     },
     "metadata": {
      "image/png": {
       "height": 300,
       "width": 480
      }
     },
     "output_type": "display_data"
    }
   ],
   "source": [
    "# Credible interval (see syntax in the stan package help)\n",
    "options(repr.plot.width=8,repr.plot.height=5)\n",
    "plot(stanFit,pars=c(\"theta\"),ci_level = 0.90)"
   ]
  },
  {
   "cell_type": "markdown",
   "metadata": {},
   "source": [
    "### Posterior histogram"
   ]
  },
  {
   "cell_type": "code",
   "execution_count": 16,
   "metadata": {},
   "outputs": [
    {
     "name": "stderr",
     "output_type": "stream",
     "text": [
      "Warning message:\n",
      "\"\u001b[1m\u001b[22mThe dot-dot notation (`..density..`) was deprecated in ggplot2 3.4.0.\n",
      "\u001b[36mℹ\u001b[39m Please use `after_stat(density)` instead.\n",
      "\u001b[36mℹ\u001b[39m The deprecated feature was likely used in the \u001b[34mrstan\u001b[39m package.\n",
      "  Please report the issue at \u001b[3m\u001b[34m<https://github.com/stan-dev/rstan/issues/>\u001b[39m\u001b[23m.\"\n"
     ]
    },
    {
     "data": {
      "image/png": "[encoded data removed]",
      "text/plain": [
       "plot without title"
      ]
     },
     "metadata": {
      "image/png": {
       "height": 420,
       "width": 420
      }
     },
     "output_type": "display_data"
    }
   ],
   "source": [
    "options(repr.plot.width=7,repr.plot.height=7)\n",
    "stan_hist(stanFit,pars=c(\"theta\"),bins=25)"
   ]
  },
  {
   "cell_type": "markdown",
   "metadata": {},
   "source": [
    "### Posterior density"
   ]
  },
  {
   "cell_type": "code",
   "execution_count": 17,
   "metadata": {},
   "outputs": [
    {
     "data": {
      "image/png": "[encoded data removed]",
      "text/plain": [
       "plot without title"
      ]
     },
     "metadata": {
      "image/png": {
       "height": 420,
       "width": 420
      }
     },
     "output_type": "display_data"
    }
   ],
   "source": [
    "options(repr.plot.width=7,repr.plot.height=7)\n",
    "stan_dens(stanFit,pars=c(\"theta\"))"
   ]
  },
  {
   "cell_type": "markdown",
   "metadata": {
    "tags": []
   },
   "source": [
    "# Same diagrams with the `bayesplot` package"
   ]
  },
  {
   "cell_type": "code",
   "execution_count": 18,
   "metadata": {},
   "outputs": [
    {
     "name": "stderr",
     "output_type": "stream",
     "text": [
      "This is bayesplot version 1.10.0\n",
      "\n",
      "- Online documentation and vignettes at mc-stan.org/bayesplot\n",
      "\n",
      "- bayesplot theme set to bayesplot::theme_default()\n",
      "\n",
      "   * Does _not_ affect other ggplot2 plots\n",
      "\n",
      "   * See ?bayesplot_theme_set for details on theme setting\n",
      "\n"
     ]
    }
   ],
   "source": [
    "#install.packages(\"bayesplot\", dependencies=TRUE,repos= \"https://cloud.r-project.org\")\n",
    "require(bayesplot,quietly=TRUE)"
   ]
  },
  {
   "cell_type": "code",
   "execution_count": 19,
   "metadata": {},
   "outputs": [
    {
     "data": {
      "image/png": "[encoded data removed]",
      "text/plain": [
       "plot without title"
      ]
     },
     "metadata": {
      "image/png": {
       "height": 360,
       "width": 600
      }
     },
     "output_type": "display_data"
    }
   ],
   "source": [
    "color_scheme_set(\"green\")\n",
    "options(repr.plot.width=10,repr.plot.height=6)\n",
    "mcmc_trace(stanFit, pars = c(\"theta\"))"
   ]
  },
  {
   "cell_type": "code",
   "execution_count": 20,
   "metadata": {},
   "outputs": [
    {
     "data": {
      "image/png": "[encoded data removed]",
      "text/plain": [
       "plot without title"
      ]
     },
     "metadata": {
      "image/png": {
       "height": 360,
       "width": 600
      }
     },
     "output_type": "display_data"
    }
   ],
   "source": [
    "color_scheme_set(\"viridis\")\n",
    "options(repr.plot.width=10,repr.plot.height=6)\n",
    "mcmc_trace(stanFit, pars = c(\"theta\"))"
   ]
  },
  {
   "cell_type": "code",
   "execution_count": 21,
   "metadata": {},
   "outputs": [
    {
     "data": {
      "image/png": "[encoded data removed]",
      "text/plain": [
       "plot without title"
      ]
     },
     "metadata": {
      "image/png": {
       "height": 360,
       "width": 600
      }
     },
     "output_type": "display_data"
    }
   ],
   "source": [
    "options(repr.plot.width=10,repr.plot.height=6)\n",
    "mcmc_trace_highlight(stanFit, pars = c(\"theta\"), highlight = 3)"
   ]
  },
  {
   "cell_type": "code",
   "execution_count": 22,
   "metadata": {},
   "outputs": [
    {
     "data": {
      "image/png": "[encoded data removed]",
      "text/plain": [
       "plot without title"
      ]
     },
     "metadata": {
      "image/png": {
       "height": 360,
       "width": 600
      }
     },
     "output_type": "display_data"
    }
   ],
   "source": [
    "options(repr.plot.width=10,repr.plot.height=6)\n",
    "mcmc_acf(stanFit,pars=c(\"theta\"))"
   ]
  },
  {
   "cell_type": "code",
   "execution_count": 23,
   "metadata": {},
   "outputs": [
    {
     "data": {
      "image/png": "[encoded data removed]",
      "text/plain": [
       "plot without title"
      ]
     },
     "metadata": {
      "image/png": {
       "height": 360,
       "width": 600
      }
     },
     "output_type": "display_data"
    }
   ],
   "source": [
    "color_scheme_set(\"viridisA\")\n",
    "options(repr.plot.width=10,repr.plot.height=6)\n",
    "mcmc_acf_bar(stanFit,pars=c(\"theta\"))"
   ]
  },
  {
   "cell_type": "markdown",
   "metadata": {},
   "source": [
    "## Analysis of posterior pdf properties"
   ]
  },
  {
   "cell_type": "markdown",
   "metadata": {},
   "source": [
    "### Posterior credible interval "
   ]
  },
  {
   "cell_type": "code",
   "execution_count": 24,
   "metadata": {},
   "outputs": [
    {
     "data": {
      "image/png": "[encoded data removed]",
      "text/plain": [
       "plot without title"
      ]
     },
     "metadata": {
      "image/png": {
       "height": 300,
       "width": 480
      }
     },
     "output_type": "display_data"
    }
   ],
   "source": [
    "color_scheme_set(\"purple\")\n",
    "options(repr.plot.width=8,repr.plot.height=5)\n",
    "mcmc_intervals(stanFit, pars = c(\"theta\"))\n",
    "# Defaults are\n",
    "# prob = 0.5,\n",
    "# prob_outer = 0.9,"
   ]
  },
  {
   "cell_type": "code",
   "execution_count": 25,
   "metadata": {},
   "outputs": [
    {
     "data": {
      "image/png": "[encoded data removed]",
      "text/plain": [
       "plot without title"
      ]
     },
     "metadata": {
      "image/png": {
       "height": 420,
       "width": 420
      }
     },
     "output_type": "display_data"
    }
   ],
   "source": [
    "options(repr.plot.width=7,repr.plot.height=7)\n",
    "mcmc_areas(stanFit, pars = c(\"theta\"),prob=0.75,prob_outer=0.995)"
   ]
  },
  {
   "cell_type": "code",
   "execution_count": 26,
   "metadata": {},
   "outputs": [
    {
     "data": {
      "image/png": "[encoded data removed]",
      "text/plain": [
       "plot without title"
      ]
     },
     "metadata": {
      "image/png": {
       "height": 420,
       "width": 420
      }
     },
     "output_type": "display_data"
    }
   ],
   "source": [
    "color_scheme_set(\"teal\")\n",
    "options(repr.plot.width=7,repr.plot.height=7)\n",
    "mcmc_hist(stanFit, pars = c(\"theta\"),binwidth=0.025)"
   ]
  },
  {
   "cell_type": "code",
   "execution_count": 27,
   "metadata": {},
   "outputs": [
    {
     "data": {
      "image/png": "[encoded data removed]",
      "text/plain": [
       "plot without title"
      ]
     },
     "metadata": {
      "image/png": {
       "height": 420,
       "width": 420
      }
     },
     "output_type": "display_data"
    }
   ],
   "source": [
    "options(repr.plot.width=7,repr.plot.height=7)\n",
    "mcmc_dens(stanFit, pars = c(\"theta\"))"
   ]
  },
  {
   "cell_type": "code",
   "execution_count": 28,
   "metadata": {},
   "outputs": [
    {
     "data": {
      "image/png": "[encoded data removed]",
      "text/plain": [
       "plot without title"
      ]
     },
     "metadata": {
      "image/png": {
       "height": 420,
       "width": 420
      }
     },
     "output_type": "display_data"
    }
   ],
   "source": [
    "color_scheme_set(\"viridisD\")\n",
    "options(repr.plot.width=7,repr.plot.height=7)\n",
    "mcmc_dens_chains(stanFit, pars = c(\"theta\"))"
   ]
  },
  {
   "cell_type": "code",
   "execution_count": 29,
   "metadata": {},
   "outputs": [
    {
     "data": {
      "image/png": "[encoded data removed]",
      "text/plain": [
       "plot without title"
      ]
     },
     "metadata": {
      "image/png": {
       "height": 420,
       "width": 420
      }
     },
     "output_type": "display_data"
    }
   ],
   "source": [
    "color_scheme_set(\"blue\")\n",
    "options(repr.plot.width=7,repr.plot.height=7)\n",
    "mcmc_violin(stanFit, pars = c(\"theta\"))"
   ]
  },
  {
   "cell_type": "markdown",
   "metadata": {},
   "source": [
    "# Prior predictive simulation"
   ]
  },
  {
   "cell_type": "code",
   "execution_count": 30,
   "metadata": {},
   "outputs": [],
   "source": [
    "model_PriorPred.String = \"\n",
    "  data{\n",
    "    int<lower=0> n ;\n",
    "    //int y[n] ;              //NO data needed\n",
    "    real<lower=0> a ;\n",
    "    real<lower=0> b ;\n",
    "    }\n",
    "  parameters{\n",
    "    real<lower=0,upper=1> theta ;\n",
    "    }\n",
    "  model{\n",
    "    theta ~ beta(a,b) ;\n",
    "    //y ~ bernoulli(theta) ;   //NO data needed\n",
    "    }\n",
    "   generated quantities{\n",
    "        int<lower=0,upper=n> n1_PriorPred ; \n",
    "        n1_PriorPred = binomial_rng(n,theta) ; \n",
    "    }\""
   ]
  },
  {
   "cell_type": "markdown",
   "metadata": {},
   "source": [
    "## Compile model and draw samples"
   ]
  },
  {
   "cell_type": "code",
   "execution_count": 31,
   "metadata": {},
   "outputs": [],
   "source": [
    "# Translate model to C++ and compile to DSO:\n",
    "stanDso_PriorPred <- stan_model( model_code=model_PriorPred.String ) "
   ]
  },
  {
   "cell_type": "code",
   "execution_count": 32,
   "metadata": {},
   "outputs": [],
   "source": [
    "# Specify data:\n",
    "n <- 10 \n",
    "# n1 <- 3\n",
    "a <- 2\n",
    "b <- 5\n",
    "dataList_PriorPred = list(n=n,a=a,b=b)"
   ]
  },
  {
   "cell_type": "code",
   "execution_count": 33,
   "metadata": {},
   "outputs": [],
   "source": [
    "# Generate sample:\n",
    "stanFit_PriorPred <- sampling( object=stanDso_PriorPred, \n",
    "                     data = dataList_PriorPred, \n",
    "                     chains = 3,\n",
    "                     iter = 3000, \n",
    "                     warmup = 200, \n",
    "                     thin = 1)"
   ]
  },
  {
   "cell_type": "code",
   "execution_count": 34,
   "metadata": {},
   "outputs": [
    {
     "data": {
      "text/html": [
       "0.286"
      ],
      "text/latex": [
       "0.286"
      ],
      "text/markdown": [
       "0.286"
      ],
      "text/plain": [
       "[1] 0.286"
      ]
     },
     "metadata": {},
     "output_type": "display_data"
    }
   ],
   "source": [
    "prior_theta_mean<-a/(a+b)\n",
    "round(prior_theta_mean,3)"
   ]
  },
  {
   "cell_type": "code",
   "execution_count": 35,
   "metadata": {},
   "outputs": [
    {
     "data": {
      "text/html": [
       "<table class=\"dataframe\">\n",
       "<caption>A matrix: 3 × 10 of type dbl</caption>\n",
       "<thead>\n",
       "\t<tr><th></th><th scope=col>mean</th><th scope=col>se_mean</th><th scope=col>sd</th><th scope=col>2.5%</th><th scope=col>25%</th><th scope=col>50%</th><th scope=col>75%</th><th scope=col>97.5%</th><th scope=col>n_eff</th><th scope=col>Rhat</th></tr>\n",
       "</thead>\n",
       "<tbody>\n",
       "\t<tr><th scope=row>theta</th><td> 0.290</td><td>0.003</td><td>0.158</td><td> 0.046</td><td> 0.168</td><td> 0.269</td><td> 0.394</td><td> 0.640</td><td>3366.016</td><td>1.001</td></tr>\n",
       "\t<tr><th scope=row>n1_PriorPred</th><td> 2.912</td><td>0.031</td><td>2.074</td><td> 0.000</td><td> 1.000</td><td> 3.000</td><td> 4.000</td><td> 8.000</td><td>4604.196</td><td>1.000</td></tr>\n",
       "\t<tr><th scope=row>lp__</th><td>-4.710</td><td>0.014</td><td>0.729</td><td>-6.833</td><td>-4.878</td><td>-4.427</td><td>-4.244</td><td>-4.189</td><td>2583.849</td><td>1.000</td></tr>\n",
       "</tbody>\n",
       "</table>\n"
      ],
      "text/latex": [
       "A matrix: 3 × 10 of type dbl\n",
       "\\begin{tabular}{r|llllllllll}\n",
       "  & mean & se\\_mean & sd & 2.5\\% & 25\\% & 50\\% & 75\\% & 97.5\\% & n\\_eff & Rhat\\\\\n",
       "\\hline\n",
       "\ttheta &  0.290 & 0.003 & 0.158 &  0.046 &  0.168 &  0.269 &  0.394 &  0.640 & 3366.016 & 1.001\\\\\n",
       "\tn1\\_PriorPred &  2.912 & 0.031 & 2.074 &  0.000 &  1.000 &  3.000 &  4.000 &  8.000 & 4604.196 & 1.000\\\\\n",
       "\tlp\\_\\_ & -4.710 & 0.014 & 0.729 & -6.833 & -4.878 & -4.427 & -4.244 & -4.189 & 2583.849 & 1.000\\\\\n",
       "\\end{tabular}\n"
      ],
      "text/markdown": [
       "\n",
       "A matrix: 3 × 10 of type dbl\n",
       "\n",
       "| <!--/--> | mean | se_mean | sd | 2.5% | 25% | 50% | 75% | 97.5% | n_eff | Rhat |\n",
       "|---|---|---|---|---|---|---|---|---|---|---|\n",
       "| theta |  0.290 | 0.003 | 0.158 |  0.046 |  0.168 |  0.269 |  0.394 |  0.640 | 3366.016 | 1.001 |\n",
       "| n1_PriorPred |  2.912 | 0.031 | 2.074 |  0.000 |  1.000 |  3.000 |  4.000 |  8.000 | 4604.196 | 1.000 |\n",
       "| lp__ | -4.710 | 0.014 | 0.729 | -6.833 | -4.878 | -4.427 | -4.244 | -4.189 | 2583.849 | 1.000 |\n",
       "\n"
      ],
      "text/plain": [
       "             mean   se_mean sd    2.5%   25%    50%    75%    97.5%  n_eff   \n",
       "theta         0.290 0.003   0.158  0.046  0.168  0.269  0.394  0.640 3366.016\n",
       "n1_PriorPred  2.912 0.031   2.074  0.000  1.000  3.000  4.000  8.000 4604.196\n",
       "lp__         -4.710 0.014   0.729 -6.833 -4.878 -4.427 -4.244 -4.189 2583.849\n",
       "             Rhat \n",
       "theta        1.001\n",
       "n1_PriorPred 1.000\n",
       "lp__         1.000"
      ]
     },
     "metadata": {},
     "output_type": "display_data"
    }
   ],
   "source": [
    "S<-summary(stanFit_PriorPred)\n",
    "round(S$summary,3)"
   ]
  },
  {
   "cell_type": "code",
   "execution_count": 36,
   "metadata": {},
   "outputs": [],
   "source": [
    "n1_PriorPred<-as.numeric(extract(stanFit_PriorPred,pars='n1_PriorPred')$n1_PriorPred)"
   ]
  },
  {
   "cell_type": "code",
   "execution_count": 37,
   "metadata": {},
   "outputs": [
    {
     "name": "stdout",
     "output_type": "stream",
     "text": [
      " num [1:8400] 4 1 4 3 2 4 4 1 4 2 ...\n"
     ]
    }
   ],
   "source": [
    "str(n1_PriorPred)"
   ]
  },
  {
   "cell_type": "markdown",
   "metadata": {},
   "source": [
    "#### R language quirk:\n",
    "\n",
    "I would like to use `table()` to obtain the absolute, then relative frequencies in this sequence.\n",
    "\n",
    "The output of `table()` omits bins with 0 frequency.\n",
    "\n",
    "Thus I will not be able to compare it with the theoretical probabilities."
   ]
  },
  {
   "cell_type": "code",
   "execution_count": 38,
   "metadata": {},
   "outputs": [
    {
     "name": "stdout",
     "output_type": "stream",
     "text": [
      " 'table' int [1:11(1d)] 962 1437 1654 1352 1152 833 486 305 147 61 ...\n",
      " - attr(*, \"dimnames\")=List of 1\n",
      "  ..$ n1_PriorPred: chr [1:11] \"0\" \"1\" \"2\" \"3\" ...\n"
     ]
    },
    {
     "data": {
      "text/plain": [
       "n1_PriorPred\n",
       "   0    1    2    3    4    5    6    7    8    9   10 \n",
       " 962 1437 1654 1352 1152  833  486  305  147   61   11 "
      ]
     },
     "metadata": {},
     "output_type": "display_data"
    }
   ],
   "source": [
    "T_PriorPred.0<-table(n1_PriorPred)\n",
    "str(T_PriorPred.0)\n",
    "T_PriorPred.0"
   ]
  },
  {
   "cell_type": "markdown",
   "metadata": {},
   "source": [
    "#### R language quirk (continued):\n",
    "\n",
    "If I could be sure that all zeros appear at the end of the sequence I could append tem by hand.\n",
    "\n",
    "A better alternative is to use `tabulate()`, which lists all frequencies for each of the `nbins` I specify.\n",
    "\n",
    "Still, `tabulate()` requires **positive integers** hence I must increaseby one `n1_PostPred` before calling it."
   ]
  },
  {
   "cell_type": "code",
   "execution_count": 39,
   "metadata": {},
   "outputs": [
    {
     "data": {
      "text/html": [
       "<style>\n",
       ".list-inline {list-style: none; margin:0; padding: 0}\n",
       ".list-inline>li {display: inline-block}\n",
       ".list-inline>li:not(:last-child)::after {content: \"\\00b7\"; padding: 0 .5ex}\n",
       "</style>\n",
       "<ol class=list-inline><li>962</li><li>1437</li><li>1654</li><li>1352</li><li>1152</li><li>833</li><li>486</li><li>305</li><li>147</li><li>61</li><li>11</li></ol>\n"
      ],
      "text/latex": [
       "\\begin{enumerate*}\n",
       "\\item 962\n",
       "\\item 1437\n",
       "\\item 1654\n",
       "\\item 1352\n",
       "\\item 1152\n",
       "\\item 833\n",
       "\\item 486\n",
       "\\item 305\n",
       "\\item 147\n",
       "\\item 61\n",
       "\\item 11\n",
       "\\end{enumerate*}\n"
      ],
      "text/markdown": [
       "1. 962\n",
       "2. 1437\n",
       "3. 1654\n",
       "4. 1352\n",
       "5. 1152\n",
       "6. 833\n",
       "7. 486\n",
       "8. 305\n",
       "9. 147\n",
       "10. 61\n",
       "11. 11\n",
       "\n",
       "\n"
      ],
      "text/plain": [
       " [1]  962 1437 1654 1352 1152  833  486  305  147   61   11"
      ]
     },
     "metadata": {},
     "output_type": "display_data"
    }
   ],
   "source": [
    "T_PriorPred<-tabulate(n1_PriorPred+1,nbins=n+1)\n",
    "#str(T_PriorPred)\n",
    "T_PriorPred"
   ]
  },
  {
   "cell_type": "code",
   "execution_count": 40,
   "metadata": {},
   "outputs": [
    {
     "data": {
      "text/html": [
       "11"
      ],
      "text/latex": [
       "11"
      ],
      "text/markdown": [
       "11"
      ],
      "text/plain": [
       "[1] 11"
      ]
     },
     "metadata": {},
     "output_type": "display_data"
    },
    {
     "data": {
      "text/html": [
       "8400"
      ],
      "text/latex": [
       "8400"
      ],
      "text/markdown": [
       "8400"
      ],
      "text/plain": [
       "[1] 8400"
      ]
     },
     "metadata": {},
     "output_type": "display_data"
    }
   ],
   "source": [
    "length(T_PriorPred) # must be equal to n+1\n",
    "sum(T_PriorPred)"
   ]
  },
  {
   "cell_type": "code",
   "execution_count": 41,
   "metadata": {},
   "outputs": [],
   "source": [
    "# Table of relative frequencies (proportions)\n",
    "f_PriorPred<-as.numeric(T_PriorPred/sum(T_PriorPred))\n",
    "#round(f_PriorPred,3)\n",
    "#str(f_PriorPred)"
   ]
  },
  {
   "cell_type": "markdown",
   "metadata": {},
   "source": [
    "### Compare the sampled simulated prior predictive pmf and the theoretical one\n",
    "\n",
    "From the theory, it is known that in a model with Binomial likelihood $X\\sim\\binomdist(n\\,|\\,\\theta)$ and Beta prior $\\theta\\sim\\betadist(a,b)$, the prior predictive distribution is a Beta-Binomial (see Wikipedia).\n",
    "\n",
    "$$\n",
    "    \\betabinomdist(n,a,b)\n",
    "$$"
   ]
  },
  {
   "cell_type": "code",
   "execution_count": 42,
   "metadata": {},
   "outputs": [],
   "source": [
    "#install.packages(\"extraDistr\",dependencies=TRUE,repos= \"https://cloud.r-project.org\")\n",
    "require(\"extraDistr\",quietly=TRUE)"
   ]
  },
  {
   "cell_type": "code",
   "execution_count": 43,
   "metadata": {
    "scrolled": true
   },
   "outputs": [],
   "source": [
    "# Beta-Binomial probabilities, to be compared to the above relative frequencies\n",
    "x.vals<-0:n\n",
    "g<-dbbinom(x.vals,size=n,alpha=a,beta=b)\n",
    "#round(g,3)\n",
    "#str(g)"
   ]
  },
  {
   "cell_type": "code",
   "execution_count": 44,
   "metadata": {
    "scrolled": true
   },
   "outputs": [],
   "source": [
    "# For a uniform prior both vectors approach the probabilities of a discrete uniform distribution\n",
    "yfg<-cbind(f_PriorPred,g)\n",
    "#round(t(yfg),3)"
   ]
  },
  {
   "cell_type": "code",
   "execution_count": 45,
   "metadata": {},
   "outputs": [
    {
     "data": {
      "image/png": "[encoded data removed]",
      "text/plain": [
       "Plot with title \"Simulated and theoretical prior predictive pmf\""
      ]
     },
     "metadata": {
      "image/png": {
       "height": 420,
       "width": 420
      }
     },
     "output_type": "display_data"
    }
   ],
   "source": [
    "options(repr.plot.width=7,repr.plot.height=7)\n",
    "y.max<-max(yfg)*1.15\n",
    "matplot(x=cbind(x.vals-0.1,x.vals+0.1),y=yfg,type=\"h\",lwd=3, lty=1,col=c(\"LightGreen\",\"DarkGreen\"),\n",
    "        ylim=c(0,y.max),xlab=\"x\",ylab=\"Rel. Freqs./Probs.\",\n",
    "        main=\"Simulated and theoretical prior predictive pmf\",cex.main=1.8)\n",
    "legend(\"topright\",legend=c(\"Simulated prior pred. pmf\",\"Theoretical prior pred. pmf\"),\n",
    "       lwd=6, lty=1,col=c(\"LightGreen\",\"DarkGreen\"))"
   ]
  },
  {
   "cell_type": "markdown",
   "metadata": {},
   "source": [
    "# Posterior predictive simulation"
   ]
  },
  {
   "cell_type": "markdown",
   "metadata": {},
   "source": [
    "A new experiment is performed, `New_n` trials, in which we will register the number `n1_PostPred` of ones.\n",
    "\n",
    "The posterior predictive distribution is that of `n1_PostPred`, given the previously observed `n1` successes out of `n`trials.\n",
    "\n",
    "We can enter just `n1`  instead of the full `y` vector."
   ]
  },
  {
   "cell_type": "code",
   "execution_count": 46,
   "metadata": {},
   "outputs": [],
   "source": [
    "model_PostPred.String = \"\n",
    "  data{\n",
    "    int<lower=0> n ;\n",
    "    int<lower=0,upper=n> n1 ; \n",
    "    real<lower=0> a ;\n",
    "    real<lower=0> b ;\n",
    "    int<lower=0> New_n ;  // New experiment to be performed\n",
    "    }\n",
    "  parameters{\n",
    "    real<lower=0,upper=1> theta ;\n",
    "    }\n",
    "  model{\n",
    "    theta ~ beta(a,b) ;\n",
    "    n1 ~ binomial(n,theta) ;   //Now we enter y\n",
    "    }\n",
    "   generated quantities{\n",
    "        int<lower=0,upper=New_n> n1_PostPred ; \n",
    "        n1_PostPred = binomial_rng(New_n,theta) ; \n",
    "    }\""
   ]
  },
  {
   "cell_type": "markdown",
   "metadata": {},
   "source": [
    "## Compile model and draw samples"
   ]
  },
  {
   "cell_type": "code",
   "execution_count": 47,
   "metadata": {},
   "outputs": [],
   "source": [
    "# Translate model to C++ and compile to DSO:\n",
    "stanDso_PostPred <- stan_model( model_code=model_PostPred.String ) "
   ]
  },
  {
   "cell_type": "code",
   "execution_count": 48,
   "metadata": {},
   "outputs": [],
   "source": [
    "# Specify data:\n",
    "n <- 10 \n",
    "n1 <- 3\n",
    "a <- 2\n",
    "b <- 5\n",
    "New_n<-40   # We will perform New_n trials\n",
    "dataList_PostPred = list(n=n,n1=n1,a=a,b=b,New_n=New_n)"
   ]
  },
  {
   "cell_type": "code",
   "execution_count": 49,
   "metadata": {},
   "outputs": [],
   "source": [
    "# Generate posterior sample:\n",
    "stanFit_PostPred <- sampling( object=stanDso_PostPred, \n",
    "                     data = dataList_PostPred, \n",
    "                     chains = 3,\n",
    "                     iter = 10000, \n",
    "                     warmup = 200, \n",
    "                     thin = 1)"
   ]
  },
  {
   "cell_type": "code",
   "execution_count": 50,
   "metadata": {},
   "outputs": [
    {
     "data": {
      "text/html": [
       "<table class=\"dataframe\">\n",
       "<caption>A matrix: 3 × 10 of type dbl</caption>\n",
       "<thead>\n",
       "\t<tr><th></th><th scope=col>mean</th><th scope=col>se_mean</th><th scope=col>sd</th><th scope=col>2.5%</th><th scope=col>25%</th><th scope=col>50%</th><th scope=col>75%</th><th scope=col>97.5%</th><th scope=col>n_eff</th><th scope=col>Rhat</th></tr>\n",
       "</thead>\n",
       "<tbody>\n",
       "\t<tr><th scope=row>theta</th><td>  0.295</td><td>0.001</td><td>0.107</td><td>  0.110</td><td>  0.216</td><td>  0.287</td><td>  0.364</td><td>  0.524</td><td>10458.05</td><td>1</td></tr>\n",
       "\t<tr><th scope=row>n1_PostPred</th><td> 11.807</td><td>0.045</td><td>5.137</td><td>  3.000</td><td>  8.000</td><td> 11.000</td><td> 15.000</td><td> 23.000</td><td>12996.85</td><td>1</td></tr>\n",
       "\t<tr><th scope=row>lp__</th><td>-10.816</td><td>0.007</td><td>0.732</td><td>-12.914</td><td>-10.985</td><td>-10.530</td><td>-10.351</td><td>-10.299</td><td>12260.59</td><td>1</td></tr>\n",
       "</tbody>\n",
       "</table>\n"
      ],
      "text/latex": [
       "A matrix: 3 × 10 of type dbl\n",
       "\\begin{tabular}{r|llllllllll}\n",
       "  & mean & se\\_mean & sd & 2.5\\% & 25\\% & 50\\% & 75\\% & 97.5\\% & n\\_eff & Rhat\\\\\n",
       "\\hline\n",
       "\ttheta &   0.295 & 0.001 & 0.107 &   0.110 &   0.216 &   0.287 &   0.364 &   0.524 & 10458.05 & 1\\\\\n",
       "\tn1\\_PostPred &  11.807 & 0.045 & 5.137 &   3.000 &   8.000 &  11.000 &  15.000 &  23.000 & 12996.85 & 1\\\\\n",
       "\tlp\\_\\_ & -10.816 & 0.007 & 0.732 & -12.914 & -10.985 & -10.530 & -10.351 & -10.299 & 12260.59 & 1\\\\\n",
       "\\end{tabular}\n"
      ],
      "text/markdown": [
       "\n",
       "A matrix: 3 × 10 of type dbl\n",
       "\n",
       "| <!--/--> | mean | se_mean | sd | 2.5% | 25% | 50% | 75% | 97.5% | n_eff | Rhat |\n",
       "|---|---|---|---|---|---|---|---|---|---|---|\n",
       "| theta |   0.295 | 0.001 | 0.107 |   0.110 |   0.216 |   0.287 |   0.364 |   0.524 | 10458.05 | 1 |\n",
       "| n1_PostPred |  11.807 | 0.045 | 5.137 |   3.000 |   8.000 |  11.000 |  15.000 |  23.000 | 12996.85 | 1 |\n",
       "| lp__ | -10.816 | 0.007 | 0.732 | -12.914 | -10.985 | -10.530 | -10.351 | -10.299 | 12260.59 | 1 |\n",
       "\n"
      ],
      "text/plain": [
       "            mean    se_mean sd    2.5%    25%     50%     75%     97.5%  \n",
       "theta         0.295 0.001   0.107   0.110   0.216   0.287   0.364   0.524\n",
       "n1_PostPred  11.807 0.045   5.137   3.000   8.000  11.000  15.000  23.000\n",
       "lp__        -10.816 0.007   0.732 -12.914 -10.985 -10.530 -10.351 -10.299\n",
       "            n_eff    Rhat\n",
       "theta       10458.05 1   \n",
       "n1_PostPred 12996.85 1   \n",
       "lp__        12260.59 1   "
      ]
     },
     "metadata": {},
     "output_type": "display_data"
    }
   ],
   "source": [
    "S<-summary(stanFit_PostPred)\n",
    "round(S$summary,3)"
   ]
  },
  {
   "cell_type": "code",
   "execution_count": 51,
   "metadata": {},
   "outputs": [
    {
     "name": "stdout",
     "output_type": "stream",
     "text": [
      " num [1:29400] 10 12 8 19 8 10 4 10 14 9 ...\n"
     ]
    }
   ],
   "source": [
    "n1_PostPred<-as.numeric(extract(stanFit_PostPred,pars='n1_PostPred')$n1_PostPred)\n",
    "str(n1_PostPred)"
   ]
  },
  {
   "cell_type": "code",
   "execution_count": 52,
   "metadata": {},
   "outputs": [
    {
     "data": {
      "text/html": [
       "0"
      ],
      "text/latex": [
       "0"
      ],
      "text/markdown": [
       "0"
      ],
      "text/plain": [
       "[1] 0"
      ]
     },
     "metadata": {},
     "output_type": "display_data"
    }
   ],
   "source": [
    "min(n1_PostPred)"
   ]
  },
  {
   "cell_type": "code",
   "execution_count": 53,
   "metadata": {},
   "outputs": [
    {
     "data": {
      "text/html": [
       "34"
      ],
      "text/latex": [
       "34"
      ],
      "text/markdown": [
       "34"
      ],
      "text/plain": [
       "[1] 34"
      ]
     },
     "metadata": {},
     "output_type": "display_data"
    }
   ],
   "source": [
    "max(n1_PostPred)"
   ]
  },
  {
   "cell_type": "markdown",
   "metadata": {},
   "source": [
    "#### R language quirk:  (just as in the prior predictive above)\n",
    "\n",
    "I would like to use `table()` to obtain the absolute, then relative frequencies in this sequence.\n",
    "\n",
    "The output of `table()` omits bins with 0 frequency.\n",
    "\n",
    "Thus I will not be able to compare it with the theoretical probabilities."
   ]
  },
  {
   "cell_type": "code",
   "execution_count": 54,
   "metadata": {},
   "outputs": [
    {
     "name": "stdout",
     "output_type": "stream",
     "text": [
      " 'table' int [1:34(1d)] 30 134 306 541 841 1130 1599 1772 1981 2098 ...\n",
      " - attr(*, \"dimnames\")=List of 1\n",
      "  ..$ n1_PostPred: chr [1:34] \"0\" \"1\" \"2\" \"3\" ...\n"
     ]
    },
    {
     "data": {
      "text/plain": [
       "n1_PostPred\n",
       "   0    1    2    3    4    5    6    7    8    9   10   11   12   13   14   15 \n",
       "  30  134  306  541  841 1130 1599 1772 1981 2098 2218 2205 2162 2047 1947 1606 \n",
       "  16   17   18   19   20   21   22   23   24   25   26   27   28   29   30   31 \n",
       "1464 1184 1006  753  672  499  370  280  191  153   72   58   32   27   10    7 \n",
       "  32   34 \n",
       "   4    1 "
      ]
     },
     "metadata": {},
     "output_type": "display_data"
    }
   ],
   "source": [
    "T_PostPred.0<-table(n1_PostPred)\n",
    "str(T_PostPred.0)\n",
    "T_PostPred.0"
   ]
  },
  {
   "cell_type": "markdown",
   "metadata": {},
   "source": [
    "#### R language quirk (continued):\n",
    "\n",
    "If I could be sure that all zeros appear at the end of the sequence I could append tem by hand.\n",
    "\n",
    "A better alternative is to use `tabulate()`, which lists all frequencies for each of the `nbins` I specify.\n",
    "\n",
    "Still, `tabulate()` requires **positive integers** hence I must increaseby one `n1_PriorPred` before calling it."
   ]
  },
  {
   "cell_type": "code",
   "execution_count": 55,
   "metadata": {},
   "outputs": [],
   "source": [
    "T_PostPred<-tabulate(n1_PostPred+1,nbins=New_n+1)\n",
    "#str(T_PostPred)\n",
    "#T_PostPred"
   ]
  },
  {
   "cell_type": "code",
   "execution_count": 56,
   "metadata": {},
   "outputs": [
    {
     "data": {
      "text/html": [
       "41"
      ],
      "text/latex": [
       "41"
      ],
      "text/markdown": [
       "41"
      ],
      "text/plain": [
       "[1] 41"
      ]
     },
     "metadata": {},
     "output_type": "display_data"
    },
    {
     "data": {
      "text/html": [
       "29400"
      ],
      "text/latex": [
       "29400"
      ],
      "text/markdown": [
       "29400"
      ],
      "text/plain": [
       "[1] 29400"
      ]
     },
     "metadata": {},
     "output_type": "display_data"
    }
   ],
   "source": [
    "length(T_PostPred)\n",
    "sum(T_PostPred)"
   ]
  },
  {
   "cell_type": "code",
   "execution_count": 57,
   "metadata": {},
   "outputs": [],
   "source": [
    "# Table of relative frequencies (proportions)\n",
    "f_PostPred<-as.numeric(T_PostPred/sum(T_PostPred))\n",
    "#round(f_PostPred,3)\n",
    "#str(f_PostPred)"
   ]
  },
  {
   "cell_type": "markdown",
   "metadata": {},
   "source": [
    "### Compare the sampled simulated prior predictive pmf and the theoretical one\n",
    "\n",
    "From the theory, it is known that in a model with Binomial likelihood $X\\sim\\binomdist(n\\,|\\,\\theta)$, Beta prior $\\theta\\sim\\betadist(a,b)$, \n",
    "given the observed $n_{1}$ successes (or 1's, or ball on the right of the cue ball, etc.) out of $n$ trials, the posterior pdf of $\\theta$,\n",
    "$\\theta\\CondTo n_{1}\\sim\\betadist(a',b')$,  where $a'=a+n_{1}$, $b'=b+n-n_{1}$.\n",
    "\n",
    "Now if we want to predict the output of a new batch of $n^{\\text{New}}$ trials, the posterior predictive distribution\n",
    "for the resulting number of successes is a Beta-Binomial:\n",
    "\n",
    "$$\n",
    "    \\big(n_{1}^{\\text{PostPred}}\\CondTo n_{1}\\big)\\mskip10mu\\sim\\mskip10mu\\betabinomdist(n^{\\text{New}},a',b')\n",
    "    \\mskip10mu=\\mskip10mu\\betabinomdist(n^{\\text{New}},a+n_{1},b+n-n_{1})\n",
    "$$"
   ]
  },
  {
   "cell_type": "code",
   "execution_count": 58,
   "metadata": {},
   "outputs": [],
   "source": [
    "#install.packages(\"extraDistr\",dependencies=TRUE,repos= \"https://cloud.r-project.org\")\n",
    "require(\"extraDistr\")"
   ]
  },
  {
   "cell_type": "code",
   "execution_count": 59,
   "metadata": {
    "scrolled": true
   },
   "outputs": [],
   "source": [
    "# Beta-Binomial probabilities, to be compared to the above relative frequencies\n",
    "x.vals<-0:New_n\n",
    "g<-dbbinom(x.vals,size=New_n,alpha=a+n1,beta=b+n-n1)\n",
    "#round(g,3)\n",
    "#str(g)"
   ]
  },
  {
   "cell_type": "code",
   "execution_count": 60,
   "metadata": {
    "scrolled": true
   },
   "outputs": [],
   "source": [
    "# For a uniform prior both vectors approach the probabilities of a discrete uniform distribution\n",
    "yfg<-cbind(f_PostPred,g)\n",
    "#round(t(yfg),3)"
   ]
  },
  {
   "cell_type": "code",
   "execution_count": 61,
   "metadata": {},
   "outputs": [
    {
     "data": {
      "image/png": "[encoded data removed]",
      "text/plain": [
       "Plot with title \"Simulated and theoretical posterior predictive pmf\""
      ]
     },
     "metadata": {
      "image/png": {
       "height": 420,
       "width": 420
      }
     },
     "output_type": "display_data"
    }
   ],
   "source": [
    "options(repr.plot.width=7,repr.plot.height=7)\n",
    "y.max<-max(yfg)*1.15\n",
    "matplot(x=cbind(x.vals-0.1,x.vals+0.1),y=yfg,type=\"h\",lwd=3, lty=1,col=c(\"LightGreen\",\"DarkGreen\"),\n",
    "        ylim=c(0,y.max),xlab=\"x\",ylab=\"Rel. Freqs./Probs.\",\n",
    "        main=\"Simulated and theoretical posterior predictive pmf\",cex.main=1.8)\n",
    "legend(\"topright\",legend=c(\"Simulated posterior pred. pmf\",\"Theoretical posterior pred. pmf\"),\n",
    "       lwd=6, lty=1,cex=1.2,col=c(\"LightGreen\",\"DarkGreen\"))"
   ]
  }
 ],
 "metadata": {
  "kernelspec": {
   "display_name": "R",
   "language": "R",
   "name": "ir"
  },
  "language_info": {
   "codemirror_mode": "r",
   "file_extension": ".r",
   "mimetype": "text/x-r-source",
   "name": "R",
   "pygments_lexer": "r",
   "version": "4.2.2"
  }
 },
 "nbformat": 4,
 "nbformat_minor": 4
}
