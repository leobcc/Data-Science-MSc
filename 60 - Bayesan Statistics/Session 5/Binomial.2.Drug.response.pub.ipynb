{
 "cells": [
  {
   "cell_type": "markdown",
   "metadata": {},
   "source": [
    "# Binomial model - Case studies"
   ]
  },
  {
   "cell_type": "markdown",
   "metadata": {},
   "source": [
    "# _Josep Fortiana  &emsp;&emsp;&emsp;&emsp;&emsp;   2023-03-13_"
   ]
  },
  {
   "cell_type": "markdown",
   "metadata": {},
   "source": [
    "# Case study 2: Drug response"
   ]
  },
  {
   "cell_type": "markdown",
   "metadata": {},
   "source": [
    "We are interested in the response of patients to a drug. \n",
    "\n",
    "We believe a proportion somewhere between 0.2 and 0.6 of patients will respond, with a mean of 0.4 and a standard deviation of 0.1.\n",
    "\n",
    "In a study of 20 persons, what is the probability that 15 or more will respond? \n",
    "\n",
    "The problem involves a Bernoulli (or Binomial) likelihood. \n",
    "\n",
    "We use a Beta prior (this is the easy path, see below more involved possibilities). \n",
    "\n",
    "To translate the prior information $\\mu=0.4$, $\\sigma=0.1$ into parameters of a $\\mbox{Beta}(\\alpha,\\beta)$, we isolate $\\alpha$, $\\beta$ from the formulas for the moments of a Beta distribution:\n",
    "\n",
    "$$\n",
    "\\begin{array}{lcl}\n",
    "    \\mu         &=&\\dfrac{\\alpha}{\\alpha+\\beta},\\\\[0.4cm]\n",
    "    \\sigma^{2}  &=&\\dfrac{\\alpha\\,\\beta}{(\\alpha+\\beta)^{2}\\,(\\alpha+\\beta+1)}.\n",
    "\\end{array}\n",
    "$$"
   ]
  },
  {
   "cell_type": "markdown",
   "metadata": {},
   "source": [
    "The result is:\n",
    "\n",
    "$$\n",
    "\\begin{array}{lcl}\n",
    "    \\alpha  &=&\\mu\\cdot\\left[\\dfrac{\\mu\\,(1-\\mu)}{\\sigma^{2}}-1\\right],\\\\[0.4cm]\n",
    "    \\beta   &=&(1-\\mu)\\cdot\\left[\\dfrac{\\mu\\,(1-\\mu)}{\\sigma^{2}}-1\\right].\n",
    "\\end{array}\n",
    "$$"
   ]
  },
  {
   "cell_type": "code",
   "execution_count": 1,
   "metadata": {
    "tags": []
   },
   "outputs": [
    {
     "data": {
      "text/html": [
       "9.2"
      ],
      "text/latex": [
       "9.2"
      ],
      "text/markdown": [
       "9.2"
      ],
      "text/plain": [
       "[1] 9.2"
      ]
     },
     "metadata": {},
     "output_type": "display_data"
    },
    {
     "data": {
      "text/html": [
       "13.8"
      ],
      "text/latex": [
       "13.8"
      ],
      "text/markdown": [
       "13.8"
      ],
      "text/plain": [
       "[1] 13.8"
      ]
     },
     "metadata": {},
     "output_type": "display_data"
    }
   ],
   "source": [
    "# For a Beta(a,b) distribution, the mean and variance are\n",
    "# mu<-a/(a+b)\n",
    "# sigma2<-ab/((a+b)^2*(a+b+1))\n",
    "# \n",
    "# Solving a,b in terms of mu, sigma2\n",
    "# \n",
    "mu<-0.4\n",
    "sigma<-0.1\n",
    "sigma2<-sigma^2\n",
    "G<-(mu*(1-mu))/sigma2-1\n",
    "a<-mu*G\n",
    "b<-(1-mu)*G\n",
    "# \n",
    "round(a,2)\n",
    "round(b,2)"
   ]
  },
  {
   "cell_type": "markdown",
   "metadata": {
    "tags": []
   },
   "source": [
    "In our case: $\\alpha=9.2$, $\\beta=13.8$."
   ]
  },
  {
   "cell_type": "markdown",
   "metadata": {
    "tags": []
   },
   "source": [
    "The question we are asked, the probability that 15 or more patients will respond,    \n",
    "is previous to any experimental evidence,    \n",
    "hence we will get the answer from the **prior predictive distribution** of    \n",
    "the number $X$ of patients responding to treatment out of the $n=20$ patients participating in the study, using only prior information. "
   ]
  },
  {
   "cell_type": "markdown",
   "metadata": {},
   "source": [
    "We know this r.v. follows a $\\mbox{Beta-Binomial}(20,9.2,13.8)$ distribution. \n",
    "\n",
    "Thus, in principle we could use this distribution, which can be found in the `extraDistr` package. \n",
    "\n",
    "Thus we can plot the pmf and compute the exact probability we are asked:"
   ]
  },
  {
   "cell_type": "code",
   "execution_count": 2,
   "metadata": {},
   "outputs": [],
   "source": [
    "#install.packages(\"extraDistr\",dependencies=TRUE,repos= \"https://cloud.r-project.org\")\n",
    "require(extraDistr,quietly=TRUE)"
   ]
  },
  {
   "cell_type": "code",
   "execution_count": 3,
   "metadata": {},
   "outputs": [
    {
     "data": {
      "image/png": "[encoded data removed]",
      "text/plain": [
       "Plot with title \"Beta-Binomial prior predictive pmf\""
      ]
     },
     "metadata": {
      "image/png": {
       "height": 420,
       "width": 420
      }
     },
     "output_type": "display_data"
    }
   ],
   "source": [
    "options(repr.plot.width=7,repr.plot.height=7)\n",
    "X<-0:20\n",
    "plot(X,dbbinom(X, size=20, alpha = 9.2, beta = 13.8),pch=19,cex=0.8,col=\"blue\"\n",
    "                 ,main=\"Beta-Binomial prior predictive pmf\",ylab=\"Probability\")"
   ]
  },
  {
   "cell_type": "code",
   "execution_count": 4,
   "metadata": {},
   "outputs": [
    {
     "data": {
      "text/html": [
       "0.015"
      ],
      "text/latex": [
       "0.015"
      ],
      "text/markdown": [
       "0.015"
      ],
      "text/plain": [
       "[1] 0.015"
      ]
     },
     "metadata": {},
     "output_type": "display_data"
    }
   ],
   "source": [
    "P15.exact<-1-pbbinom(14, size=20, alpha = 9.2, beta = 13.8)\n",
    "round(P15.exact,3)"
   ]
  },
  {
   "cell_type": "markdown",
   "metadata": {},
   "source": [
    "### Alternative approach\n",
    "\n",
    "Both more general in scope (only rarely will we know an explicit pdf for the prior predictive) and more according to a computational statistics mindset   \n",
    "is to sample from this distribution by simulation and infer the desired properties from the resulting sample.\n",
    "\n",
    "We generate a number $N$  of realizations of the experiment. \n",
    "\n",
    "In each one of them $\\theta$ is generated from a $\\mbox{Beta}(\\alpha,\\beta)=\\mbox{Beta}(9.2,13.8)$, then $x$ is generated from a $\\mbox{B}(20,\\theta)$. \n",
    "\n",
    "Note the way in which syntax takes advantage of the vectorized `theta` parameter in `rbinom()`. In the empirical pmf I use a clumsy piece of code as `table()` does not contemplate zero counts:"
   ]
  },
  {
   "cell_type": "code",
   "execution_count": 5,
   "metadata": {},
   "outputs": [],
   "source": [
    "set.seed(24025)"
   ]
  },
  {
   "cell_type": "code",
   "execution_count": 6,
   "metadata": {},
   "outputs": [],
   "source": [
    "N<-5000\n",
    "n<-20\n",
    "n1<-15"
   ]
  },
  {
   "cell_type": "code",
   "execution_count": 7,
   "metadata": {},
   "outputs": [],
   "source": [
    "theta<-rbeta(N,a,b)\n",
    "x<-rbinom(N,n, theta)"
   ]
  },
  {
   "cell_type": "code",
   "execution_count": 9,
   "metadata": {},
   "outputs": [
    {
     "data": {
      "text/html": [
       "0.0144"
      ],
      "text/latex": [
       "0.0144"
      ],
      "text/markdown": [
       "0.0144"
      ],
      "text/plain": [
       "[1] 0.0144"
      ]
     },
     "metadata": {},
     "output_type": "display_data"
    }
   ],
   "source": [
    "accept<-(x>=n1)*1\n",
    "prob<-sum(accept)/N\n",
    "round(prob,4)"
   ]
  },
  {
   "cell_type": "code",
   "execution_count": 10,
   "metadata": {},
   "outputs": [
    {
     "data": {
      "text/html": [
       "<table class=\"dataframe\">\n",
       "<caption>A matrix: 2 × 21 of type dbl</caption>\n",
       "<tbody>\n",
       "\t<tr><th scope=row>F</th><td>3</td><td>28.00</td><td>72.00</td><td>167.00</td><td>290.00</td><td>451.00</td><td>569.00</td><td>652.00</td><td>665.00</td><td>589.00</td><td>⋯</td><td>401.00</td><td>266.00</td><td>178.00</td><td>97.00</td><td>42.00</td><td>22</td><td>7</td><td>1</td><td>0</td><td>0</td></tr>\n",
       "\t<tr><th scope=row></th><td>0</td><td> 0.01</td><td> 0.01</td><td>  0.03</td><td>  0.06</td><td>  0.09</td><td>  0.11</td><td>  0.13</td><td>  0.13</td><td>  0.12</td><td>⋯</td><td>  0.08</td><td>  0.05</td><td>  0.04</td><td> 0.02</td><td> 0.01</td><td> 0</td><td>0</td><td>0</td><td>0</td><td>0</td></tr>\n",
       "</tbody>\n",
       "</table>\n"
      ],
      "text/latex": [
       "A matrix: 2 × 21 of type dbl\n",
       "\\begin{tabular}{r|lllllllllllllllllllll}\n",
       "\tF & 3 & 28.00 & 72.00 & 167.00 & 290.00 & 451.00 & 569.00 & 652.00 & 665.00 & 589.00 & ⋯ & 401.00 & 266.00 & 178.00 & 97.00 & 42.00 & 22 & 7 & 1 & 0 & 0\\\\\n",
       "\t & 0 &  0.01 &  0.01 &   0.03 &   0.06 &   0.09 &   0.11 &   0.13 &   0.13 &   0.12 & ⋯ &   0.08 &   0.05 &   0.04 &  0.02 &  0.01 &  0 & 0 & 0 & 0 & 0\\\\\n",
       "\\end{tabular}\n"
      ],
      "text/markdown": [
       "\n",
       "A matrix: 2 × 21 of type dbl\n",
       "\n",
       "| F | 3 | 28.00 | 72.00 | 167.00 | 290.00 | 451.00 | 569.00 | 652.00 | 665.00 | 589.00 | ⋯ | 401.00 | 266.00 | 178.00 | 97.00 | 42.00 | 22 | 7 | 1 | 0 | 0 |\n",
       "| <!----> | 0 |  0.01 |  0.01 |   0.03 |   0.06 |   0.09 |   0.11 |   0.13 |   0.13 |   0.12 | ⋯ |   0.08 |   0.05 |   0.04 |  0.02 |  0.01 |  0 | 0 | 0 | 0 | 0 |\n",
       "\n"
      ],
      "text/plain": [
       "  [,1] [,2]  [,3]  [,4]   [,5]   [,6]   [,7]   [,8]   [,9]   [,10]  [,11]\n",
       "F 3    28.00 72.00 167.00 290.00 451.00 569.00 652.00 665.00 589.00 ⋯    \n",
       "  0     0.01  0.01   0.03   0.06   0.09   0.11   0.13   0.13   0.12 ⋯    \n",
       "  [,12]  [,13]  [,14]  [,15] [,16] [,17] [,18] [,19] [,20] [,21]\n",
       "F 401.00 266.00 178.00 97.00 42.00 22    7     1     0     0    \n",
       "    0.08   0.05   0.04  0.02  0.01  0    0     0     0     0    "
      ]
     },
     "metadata": {},
     "output_type": "display_data"
    }
   ],
   "source": [
    "# Empirical pmf\n",
    "F<-rep(0,length(X))\n",
    "for (i in X){\n",
    "    F[i]<-sum(x==X[i])\n",
    "    }\n",
    "f<-F/N\n",
    "rbind(F,round(f,2))"
   ]
  },
  {
   "cell_type": "code",
   "execution_count": 11,
   "metadata": {
    "tags": []
   },
   "outputs": [
    {
     "data": {
      "image/png": "[encoded data removed]",
      "text/plain": [
       "Plot with title \"Simulated prior predictive pmf\""
      ]
     },
     "metadata": {
      "image/png": {
       "height": 420,
       "width": 420
      }
     },
     "output_type": "display_data"
    }
   ],
   "source": [
    "options(repr.plot.width=7,repr.plot.height=7)\n",
    "X<-0:20\n",
    "plot(X,f,type=\"p\",pch=19,cex=0.8,col=\"blue\",main=\"Simulated prior predictive pmf\",ylab=\"Rel. frequency\")"
   ]
  },
  {
   "cell_type": "markdown",
   "metadata": {},
   "source": [
    "Now assume we experiment with $n=20$ patients and we observe that $x=15$ of them respond to the drug treatment. \n",
    "\n",
    "The posterior $\\theta$ distribution, **including this new evidence,** is:\n",
    "\n",
    "$$\n",
    "    \\mbox{Beta}(\\alpha+x,\\beta+n-x)=\\mbox{Beta}(9.2+15,13.8+20-15)=\\mbox{Beta}(24.2,18.8),\n",
    "$$\n",
    "\n",
    "which has $\\mu=0.56$, $\\sigma=0.075$, a larger mean than our prior (consistent with the large observed number) and a smaller standard deviation (reflecting that we have increased information about the experiment)."
   ]
  },
  {
   "cell_type": "markdown",
   "metadata": {},
   "source": [
    "### Exercise"
   ]
  },
  {
   "cell_type": "markdown",
   "metadata": {},
   "source": [
    "Now consider further experimentation with this drug, after this first result. \n",
    "\n",
    "We test it with 40 new patients, being aware that funding will continue if we observe 25 or more successes in this trial. \n",
    "\n",
    "What is the probability of this result?"
   ]
  },
  {
   "cell_type": "markdown",
   "metadata": {},
   "source": [
    "_Indication:_\n",
    "\n",
    "Generate a sample from the posterior pdf of $\\theta$.\n",
    "\n",
    "Then, analogously to the above **prior predictive distribution** simulation,    \n",
    "generate a simulated sample from the **posterior predictive distribution.**"
   ]
  },
  {
   "cell_type": "raw",
   "metadata": {},
   "source": [
    "#\n",
    "# Insert here your code to answer this question.\n",
    "#"
   ]
  }
 ],
 "metadata": {
  "kernelspec": {
   "display_name": "R",
   "language": "R",
   "name": "ir"
  },
  "language_info": {
   "codemirror_mode": "r",
   "file_extension": ".r",
   "mimetype": "text/x-r-source",
   "name": "R",
   "pygments_lexer": "r",
   "version": "4.2.2"
  }
 },
 "nbformat": 4,
 "nbformat_minor": 4
}
