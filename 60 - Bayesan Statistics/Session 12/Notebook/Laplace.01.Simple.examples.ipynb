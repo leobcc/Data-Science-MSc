{
 "cells": [
  {
   "cell_type": "markdown",
   "metadata": {
    "tags": []
   },
   "source": [
    "# Laplace approximation - 01 "
   ]
  },
  {
   "cell_type": "markdown",
   "metadata": {
    "tags": []
   },
   "source": [
    "# _Josep Fortiana_ $\\hskip3cm$ 2023-05-22"
   ]
  },
  {
   "cell_type": "markdown",
   "metadata": {
    "tags": []
   },
   "source": [
    "***\n",
    "###### LaTeX macros\n",
    "$ \\def\\prob{P}$\n",
    "$\\def\\argmax{\\operatorname{arg\\,max}}$\n",
    "$\\def\\argmin{\\operatorname{arg\\,min}}$\n",
    "$\\def\\borel{\\operatorname{Borel}}$\n",
    "$\\def\\cE{\\cal E}$\n",
    "$\\def\\cP{\\cal P}$\n",
    "$\\def\\cL{\\cal L}$\n",
    "$\\def\\R{\\mathbb{R}}$ \n",
    "$\\def\\N{\\mathbb{N}}$\n",
    "$\\def\\Z{\\mathbb{Z}}$\n",
    "$\\def\\Ee{\\operatorname{E}}$\n",
    "$\\def\\va{\\text{v.a.}}$\n",
    "$\\def\\var{\\operatorname{var}}$\n",
    "$\\def\\Var{\\operatorname{Var}}$\n",
    "$\\def\\cov{\\operatorname{cov}}$\n",
    "$\\def\\cor{\\operatorname{cor}}$\n",
    "$\\def\\binomdist{\\operatorname{Binom}}$\n",
    "$\\def\\berndist{\\operatorname{Ber}}$\n",
    "$\\def\\betabinomdist{\\operatorname{Beta-Binom}}$\n",
    "$\\def\\betadist{\\operatorname{Beta}}$\n",
    "$\\def\\cauchydist{\\operatorname{Cauchy}}$\n",
    "$\\def\\dexpdist{\\operatorname{DExp}}$\n",
    "$\\def\\expdist{\\operatorname{Exp}}$\n",
    "$\\def\\fdist{\\operatorname{F}}$\n",
    "$\\def\\gammadist{\\operatorname{Gamma}}$\n",
    "$\\def\\geomdist{\\operatorname{Geom}}$\n",
    "$\\def\\halfcauchydist{\\operatorname{Cauchy}^{+}}$\n",
    "$\\def\\hyperdist{\\operatorname{Hypergeom}}$\n",
    "$\\def\\hypergeomdist{\\operatorname{Hypergeom}}$\n",
    "$\\DeclareMathOperator{\\invgammadist}{IG}$\n",
    "$\\def\\laplacedist{\\operatorname{Laplace}}$\n",
    "$\\DeclareMathOperator{\\multinomialdist}{Multinomial}$\n",
    "$\\DeclareMathOperator{\\multinomdist}{Multinom}$\n",
    "$\\def\\normaldist{\\operatorname{N}}$\n",
    "$\\def\\poissondist{\\operatorname{Poisson}}$\n",
    "$\\def\\tdist{\\operatorname{t}}$\n",
    "$\\def\\unifdist{\\operatorname{Unif}}$\n",
    "$\\def\\xbar{\\kern1.3pt\\overline{\\kern-1.3pt x}}$\n",
    "$\\def\\Xbar{\\kern1.3pt\\overline{\\kern-1.3pt X}}$\n",
    "$\\def\\yhat{\\kern1.3pt\\hat{\\kern-1.3pt y}}$\n",
    "$\\def\\betahat{\\kern1.3pt\\hat{\\kern-1.3pt \\beta}}$\n",
    "$\\DeclareMathOperator{\\indica}{\\mathbb{1}}$\n",
    "$\\def\\CondTo{\\mathbin{|\\mskip0.5mu}}$\n",
    "$\\def\\eqdef{\\stackrel{\\text{def}}{\\mskip3mu=\\mskip3mu}}$\n",
    "***"
   ]
  },
  {
   "cell_type": "markdown",
   "metadata": {},
   "source": [
    "From Rasmus Bååth blog: \n",
    "[Easy Laplace Approximation of Bayesian Models in R,](http://www.sumsar.net/blog/2013/11/easy-laplace-approximation/) by "
   ]
  },
  {
   "cell_type": "markdown",
   "metadata": {},
   "source": [
    "# 01 - Model: likelihood, prior, non normalized posterior"
   ]
  },
  {
   "cell_type": "markdown",
   "metadata": {},
   "source": [
    "Binomial likelihood - Uniform prior"
   ]
  },
  {
   "cell_type": "code",
   "execution_count": 1,
   "metadata": {},
   "outputs": [],
   "source": [
    "n1<-10\n",
    "n0<-8\n",
    "n<-n0+n1\n",
    "Lik<-function(theta){theta^n1*(1-theta)^n0}\n",
    "# Prior is uniform (constant = 1). \n",
    "# Joint coincides with Lik\n",
    "# Non normalized posterior is equal to the Joint\n",
    "nnh<-Lik"
   ]
  },
  {
   "cell_type": "markdown",
   "metadata": {},
   "source": [
    "# 02 - Laplace approximation"
   ]
  },
  {
   "cell_type": "code",
   "execution_count": 2,
   "metadata": {},
   "outputs": [
    {
     "data": {
      "text/html": [
       "0.5556"
      ],
      "text/latex": [
       "0.5556"
      ],
      "text/markdown": [
       "0.5556"
      ],
      "text/plain": [
       "[1] 0.5556"
      ]
     },
     "metadata": {},
     "output_type": "display_data"
    }
   ],
   "source": [
    "# q=log(Lik)\n",
    "# Equating q'(theta)=0\n",
    "mu<-n1/n\n",
    "round(mu,4)"
   ]
  },
  {
   "cell_type": "code",
   "execution_count": 3,
   "metadata": {},
   "outputs": [
    {
     "data": {
      "text/html": [
       "0.0137"
      ],
      "text/latex": [
       "0.0137"
      ],
      "text/markdown": [
       "0.0137"
      ],
      "text/plain": [
       "[1] 0.0137"
      ]
     },
     "metadata": {},
     "output_type": "display_data"
    },
    {
     "data": {
      "text/html": [
       "0.1171"
      ],
      "text/latex": [
       "0.1171"
      ],
      "text/markdown": [
       "0.1171"
      ],
      "text/plain": [
       "[1] 0.1171"
      ]
     },
     "metadata": {},
     "output_type": "display_data"
    }
   ],
   "source": [
    "# sigma2= 1/|q''(n1/n)|\n",
    "sigma2<-n1*n0/n^3\n",
    "round(sigma2,4)\n",
    "sigma<-sqrt(sigma2)\n",
    "round(sigma,4)"
   ]
  },
  {
   "cell_type": "code",
   "execution_count": 4,
   "metadata": {},
   "outputs": [],
   "source": [
    "# Normalize to give the posterior pdf\n",
    "Z<-integrate(nnh,0,1)$value\n",
    "h<-function(t){nnh(t)/Z}"
   ]
  },
  {
   "cell_type": "code",
   "execution_count": 5,
   "metadata": {},
   "outputs": [
    {
     "data": {
      "image/png": "[encoded data removed]",
      "text/plain": [
       "plot without title"
      ]
     },
     "metadata": {
      "image/png": {
       "height": 420,
       "width": 420
      }
     },
     "output_type": "display_data"
    }
   ],
   "source": [
    "# Plot posterior pdf \n",
    "u<-seq(0,1,length=500)\n",
    "options(repr.plot.width=7,repr.plot.height=7)\n",
    "plot(u,h(u),\"l\",lwd=2,col=\"blue\")\n",
    "# Superimpose Laplace approximation\n",
    "lines(u,dnorm(u,mean=mu,sd=sigma),col=\"red\",lwd=2)\n",
    "# Alternatively, using the fact that the model is Beta-Binomial, thus the posterior is\n",
    "# Beta(n1+1,n0+1)\n",
    "# lines(u,dbeta(u,shape1=n1+1,shape2=n0+1),col=\"green\",lwd=2)\n",
    "legend(\"topleft\",lwd=2,legend=c(\"Exact posterior pdf\",\"Laplace approximation\"),col=c(\"blue\",\"red\"))"
   ]
  },
  {
   "cell_type": "markdown",
   "metadata": {},
   "source": [
    "# 03 - Same Laplace approximation, now with number of heads $n_{1}=4$ and $n_{0}=2$"
   ]
  },
  {
   "cell_type": "code",
   "execution_count": 6,
   "metadata": {},
   "outputs": [],
   "source": [
    "n1<-4\n",
    "n0<-2\n",
    "n<-n0+n1\n",
    "Lik<-function(theta){theta^n1*(1-theta)^n0}\n",
    "# Prior is uniform (constant = 1). \n",
    "# Joint coincides with Lik\n",
    "# Non normalized posterior is equal to the Joint\n",
    "nnh<-Lik"
   ]
  },
  {
   "cell_type": "code",
   "execution_count": 7,
   "metadata": {},
   "outputs": [
    {
     "data": {
      "text/html": [
       "0.6667"
      ],
      "text/latex": [
       "0.6667"
      ],
      "text/markdown": [
       "0.6667"
      ],
      "text/plain": [
       "[1] 0.6667"
      ]
     },
     "metadata": {},
     "output_type": "display_data"
    },
    {
     "data": {
      "text/html": [
       "0.037"
      ],
      "text/latex": [
       "0.037"
      ],
      "text/markdown": [
       "0.037"
      ],
      "text/plain": [
       "[1] 0.037"
      ]
     },
     "metadata": {},
     "output_type": "display_data"
    },
    {
     "data": {
      "text/html": [
       "0.1925"
      ],
      "text/latex": [
       "0.1925"
      ],
      "text/markdown": [
       "0.1925"
      ],
      "text/plain": [
       "[1] 0.1925"
      ]
     },
     "metadata": {},
     "output_type": "display_data"
    }
   ],
   "source": [
    "mu<-n1/n\n",
    "round(mu,4)\n",
    "sigma2<-n1*n0/n^3\n",
    "round(sigma2,4)\n",
    "sigma<-sqrt(sigma2)\n",
    "round(sigma,4)"
   ]
  },
  {
   "cell_type": "code",
   "execution_count": 8,
   "metadata": {},
   "outputs": [
    {
     "data": {
      "image/png": "[encoded data removed]",
      "text/plain": [
       "plot without title"
      ]
     },
     "metadata": {
      "image/png": {
       "height": 420,
       "width": 420
      }
     },
     "output_type": "display_data"
    }
   ],
   "source": [
    "Z<-integrate(nnh,0,1)$value\n",
    "h<-function(t){nnh(t)/Z}\n",
    "u<-seq(0,1,length=500)\n",
    "options(repr.plot.width=7,repr.plot.height=7)\n",
    "plot(u,h(u),\"l\",lwd=2,col=\"blue\")\n",
    "lines(u,dnorm(u,mean=mu,sd=sigma),col=\"red\",lwd=2)\n",
    "legend(\"topleft\",lwd=2,legend=c(\"Exact posterior pdf\",\"Laplace approximation\"),col=c(\"blue\",\"red\"))"
   ]
  },
  {
   "cell_type": "markdown",
   "metadata": {},
   "source": [
    "A worse approximation: posterior was more asymmetric"
   ]
  },
  {
   "cell_type": "markdown",
   "metadata": {},
   "source": [
    "# 04 - Normal data with a known $\\mu$ and unknown $\\sigma$ (parameter to investigate)\n",
    " \n",
    "### Flat prior for $\\sigma$"
   ]
  },
  {
   "cell_type": "markdown",
   "metadata": {},
   "source": [
    "Likelihood is normal with known $\\mu$ and unknown standard deviation $\\sigma$.\n",
    "\n",
    "Assume a flat prior for $\\sigma$.\n",
    "\n",
    "Laplace approximate posterior of the standard deviation $\\sigma$."
   ]
  },
  {
   "cell_type": "markdown",
   "metadata": {},
   "source": [
    "Generate a sample of $n$ random numbers distributed as $\\normaldist(10, 4)$. "
   ]
  },
  {
   "cell_type": "code",
   "execution_count": 9,
   "metadata": {},
   "outputs": [
    {
     "name": "stderr",
     "output_type": "stream",
     "text": [
      "Loading required package: extraDistr\n",
      "\n"
     ]
    }
   ],
   "source": [
    "#install.packages(\"extraDistr\",dependencies=TRUE,repos=\"https://cloud.r-project.org\")\n",
    "require(extraDistr)"
   ]
  },
  {
   "cell_type": "code",
   "execution_count": 10,
   "metadata": {},
   "outputs": [
    {
     "name": "stdout",
     "output_type": "stream",
     "text": [
      " num [1:40] 4.1 11.69 15.53 9.96 4.22 ...\n"
     ]
    }
   ],
   "source": [
    "mu<-10\n",
    "n<-40  # n was 8 in the original post\n",
    "sigma.data.gen<-4\n",
    "x<-rnorm(n = n, mean = mu, sd = sigma.data.gen)\n",
    "## [1] 10.770  4.213  8.707 16.489  7.244 18.168 13.775 18.328\n",
    "str(x) "
   ]
  },
  {
   "cell_type": "markdown",
   "metadata": {},
   "source": [
    "## Deriving Laplace approximation"
   ]
  },
  {
   "cell_type": "markdown",
   "metadata": {},
   "source": [
    "### Likelihood = Non-normalized posterior (flat prior)\n",
    "\n",
    "$$\n",
    "    \\cL (\\sigma)= (2\\pi)^{-\\,n/2}\\cdot \\sigma^{-\\,n}\\cdot\\exp\\left\\{-\\,\\dfrac{1}{2\\sigma^{2}}\\sum_{i=1}^{n}(x_{i}-\\mu)^{2}\\right\\}\n",
    "$$"
   ]
  },
  {
   "cell_type": "markdown",
   "metadata": {},
   "source": [
    "### Log-likelihood\n",
    "\n",
    "$$\n",
    "    q(\\sigma)=\\log\\cL (\\sigma)= -\\,\\dfrac{n}{2}\\,\\log(2\\pi) -\\,n\\cdot\\log(\\sigma) -\\,\\dfrac{n}{2\\sigma^{2}}\\cdot s^{2}(\\mu),\n",
    "    \\mskip40mu\\text{where}\\mskip10mu s^{2}(\\mu)=\\dfrac{1}{n}\\,\\sum_{i=1}^{n}(x_{i}-\\mu)^{2}\n",
    "$$"
   ]
  },
  {
   "cell_type": "markdown",
   "metadata": {
    "tags": []
   },
   "source": [
    "### First derivative and ML estimate of $\\sigma^{2}$ $=$ MAP (mode of the posterior pdf)\n",
    "\n",
    "$$\n",
    "    q'(\\sigma)= -\\,\\dfrac{n}{\\sigma}+\\dfrac{n}{\\sigma^{3}}\\cdot s^{2}(\\mu),\n",
    "$$\n",
    "\n",
    "Equating to zero,\n",
    "\n",
    "$$\n",
    "    \\hat{\\sigma}^{2}=\\operatorname{MAP}(\\sigma)=s^{2}(\\mu)\n",
    "$$"
   ]
  },
  {
   "cell_type": "markdown",
   "metadata": {
    "tags": []
   },
   "source": [
    "### Second derivative and variance of Laplace approximation\n",
    "\n",
    "$$\n",
    "    q''(\\sigma)= \\dfrac{n}{\\sigma^{2}}-\\dfrac{3\\,n}{\\sigma^{4}}\\cdot s^{2}(\\mu),\n",
    "$$\n",
    "\n",
    "At the mode: $\\sigma=s(\\mu)=\\sqrt{s^{2}(\\mu)}$.\n",
    "\n",
    "$$\n",
    "    q''(s(\\mu))= \\dfrac{n}{s^{2}(\\mu)}-\\,\\dfrac{3\\,n}{s^{2}(\\mu)}=-\\,\\dfrac{2\\,n}{s^{2}(\\mu)}.\n",
    "$$\n",
    "\n",
    "Variance of Laplace approximation $=|\\,q''(s(\\mu))\\,|$"
   ]
  },
  {
   "cell_type": "code",
   "execution_count": 11,
   "metadata": {},
   "outputs": [
    {
     "data": {
      "text/html": [
       "<style>\n",
       ".list-inline {list-style: none; margin:0; padding: 0}\n",
       ".list-inline>li {display: inline-block}\n",
       ".list-inline>li:not(:last-child)::after {content: \"\\00b7\"; padding: 0 .5ex}\n",
       "</style>\n",
       "<ol class=list-inline><li>13.311</li><li>2.9764</li></ol>\n"
      ],
      "text/latex": [
       "\\begin{enumerate*}\n",
       "\\item 13.311\n",
       "\\item 2.9764\n",
       "\\end{enumerate*}\n"
      ],
      "text/markdown": [
       "1. 13.311\n",
       "2. 2.9764\n",
       "\n",
       "\n"
      ],
      "text/plain": [
       "[1] 13.3110  2.9764"
      ]
     },
     "metadata": {},
     "output_type": "display_data"
    }
   ],
   "source": [
    "s2mu<-sum((x-mu)^2)/n\n",
    "Laplace.Approx.mean<-s2mu\n",
    "Laplace.Approx.sd<-sqrt(2/n)*s2mu\n",
    "round(c(Laplace.Approx.mean,Laplace.Approx.sd),4)"
   ]
  },
  {
   "cell_type": "markdown",
   "metadata": {},
   "source": [
    "### Exact posterior pdf\n",
    "\n",
    "Exact posterior pdf, in terms of $v=\\sigma^{2}$ is:\n",
    "\n",
    "$$\n",
    "    h(v\\,|\\,x)\\propto v^{-n/2}\\cdot\\big\\{-\\dfrac{n\\,s^2(\\mu)}{2\\,v}\\big\\}.\n",
    "$$\n",
    "\n",
    "This is an inverse gamma distribution, $\\operatorname{IG}(\\alpha,\\beta)$, where:\n",
    "\n",
    "$$\n",
    "    \\left\\{\\begin{array}{ccl}\n",
    "    \\alpha &=&\\dfrac{n}{2}-1,\\\\\n",
    "    \\beta  &=&\\dfrac{n\\,s^{2}(\\mu)}{2}.\n",
    "    \\end{array}\\right.\n",
    "$$"
   ]
  },
  {
   "cell_type": "code",
   "execution_count": 12,
   "metadata": {},
   "outputs": [],
   "source": [
    "alpha<-n/2-1\n",
    "beta<-n*s2mu/2"
   ]
  },
  {
   "cell_type": "code",
   "execution_count": 13,
   "metadata": {},
   "outputs": [
    {
     "data": {
      "image/png": "[encoded data removed]",
      "text/plain": [
       "plot without title"
      ]
     },
     "metadata": {
      "image/png": {
       "height": 420,
       "width": 420
      }
     },
     "output_type": "display_data"
    }
   ],
   "source": [
    "v<-seq(0,50,length=500)\n",
    "y<-dinvgamma(v,alpha,beta)\n",
    "y.max<-ceiling(50*max(y))/50\n",
    "options(repr.plot.width=7, repr.plot.height=7)\n",
    "plot(v,y,type=\"l\",lwd=2,col=\"blue\",xlab=\"v\",ylab=\"Density\",ylim=c(0,y.max),pin=c(3,3))\n",
    "lines(v,dnorm(v,mean=Laplace.Approx.mean,sd=Laplace.Approx.sd),lwd=2,col=\"red\")\n",
    "legend(\"topright\",lwd=2,legend=c(\"Exact posterior pdf\",\"Laplace approximation\"),col=c(\"blue\",\"red\"))"
   ]
  },
  {
   "cell_type": "markdown",
   "metadata": {},
   "source": [
    "### With the normalized posterior pdf"
   ]
  },
  {
   "cell_type": "code",
   "execution_count": 14,
   "metadata": {},
   "outputs": [
    {
     "data": {
      "image/png": "[encoded data removed]",
      "text/plain": [
       "plot without title"
      ]
     },
     "metadata": {
      "image/png": {
       "height": 420,
       "width": 420
      }
     },
     "output_type": "display_data"
    }
   ],
   "source": [
    "v<-seq(0.00001,50,length=500)\n",
    "nnh<-function(v){v^{-n/2}*exp(-n*s2mu/(2*v))}\n",
    "Z<-integrate(nnh,0.0001,50)$value\n",
    "h<-function(t){nnh(t)/Z}\n",
    "options(repr.plot.width=7, repr.plot.height=7)\n",
    "y<-h(v)\n",
    "#max(y)\n",
    "y.max<-ceiling(50*max(y))/50\n",
    "plot(v,y,type=\"l\",lwd=2,col=\"blue\",xlab=\"v\",ylab=\"Density\",ylim=c(0,y.max))\n",
    "lines(v,dnorm(v,Laplace.Approx.mean,Laplace.Approx.sd),lwd=2,col=\"red\")\n",
    "legend(\"topright\",lwd=2,legend=c(\"Exact posterior pdf\",\"Laplace approximation\"),col=c(\"blue\",\"red\"))"
   ]
  },
  {
   "cell_type": "markdown",
   "metadata": {},
   "source": [
    "## 3. Normal data with both parameters unknown\n",
    "\n",
    "### Sigma with a nonconjugate prior\n",
    "\n",
    "#### A $\\operatorname{LogNormal}$ instead of an inverse gamma $\\operatorname{IG}$"
   ]
  },
  {
   "cell_type": "markdown",
   "metadata": {},
   "source": [
    "$$\n",
    "    y_{i}\\sim\\operatorname{Normal}(\\mu,\\sigma^{2})\n",
    "$$\n",
    "\n",
    "$$\n",
    "    \\mu\\sim\\operatorname{Normal}(0,100^2)\n",
    "$$\n",
    "\n",
    "$$\n",
    "    \\sigma\\sim\\operatorname{LogNormal}(0,4^2)\n",
    "$$"
   ]
  },
  {
   "cell_type": "markdown",
   "metadata": {},
   "source": [
    "Here $y$ is $n=20$ datapoints generated like the following:"
   ]
  },
  {
   "cell_type": "code",
   "execution_count": 15,
   "metadata": {},
   "outputs": [
    {
     "data": {
      "text/html": [
       "<style>\n",
       ".dl-inline {width: auto; margin:0; padding: 0}\n",
       ".dl-inline>dt, .dl-inline>dd {float: none; width: auto; display: inline-block}\n",
       ".dl-inline>dt::after {content: \":\\0020\"; padding-right: .5ex}\n",
       ".dl-inline>dt:not(:first-of-type) {padding-left: .5ex}\n",
       "</style><dl class=dl-inline><dt>mean</dt><dd>12.72</dd><dt>sd</dt><dd>5.76</dd></dl>\n"
      ],
      "text/latex": [
       "\\begin{description*}\n",
       "\\item[mean] 12.72\n",
       "\\item[sd] 5.76\n",
       "\\end{description*}\n"
      ],
      "text/markdown": [
       "mean\n",
       ":   12.72sd\n",
       ":   5.76\n",
       "\n"
      ],
      "text/plain": [
       " mean    sd \n",
       "12.72  5.76 "
      ]
     },
     "metadata": {},
     "output_type": "display_data"
    }
   ],
   "source": [
    "set.seed(1337)\n",
    "n<-20\n",
    "m<-10\n",
    "s<-5\n",
    "y <- rnorm(n, mean=m,sd=s)\n",
    "round(c(mean = mean(y), sd = sd(y)) ,2)"
   ]
  },
  {
   "cell_type": "markdown",
   "metadata": {},
   "source": [
    "Define a function calculating the unnormalized log posterior of the model above \n",
    "given a parameter vector $p$ and a vector of datapoints $y$."
   ]
  },
  {
   "cell_type": "code",
   "execution_count": 16,
   "metadata": {},
   "outputs": [],
   "source": [
    "model<-function(p,y){\n",
    "    log_lik<-sum(dnorm(y,p[\"mu\"],p[\"sigma\"],log=TRUE))  # the log likelihood\n",
    "    log_post<-log_lik+dnorm(p[\"mu\"],0,100,log = TRUE)+dlnorm(p[\"sigma\"],0,4,log = TRUE)\n",
    "    return(log_post)\n",
    "    } "
   ]
  },
  {
   "cell_type": "code",
   "execution_count": 17,
   "metadata": {},
   "outputs": [
    {
     "data": {
      "text/html": [
       "<dl>\n",
       "\t<dt>$par</dt>\n",
       "\t\t<dd><style>\n",
       ".dl-inline {width: auto; margin:0; padding: 0}\n",
       ".dl-inline>dt, .dl-inline>dd {float: none; width: auto; display: inline-block}\n",
       ".dl-inline>dt::after {content: \":\\0020\"; padding-right: .5ex}\n",
       ".dl-inline>dt:not(:first-of-type) {padding-left: .5ex}\n",
       "</style><dl class=dl-inline><dt>mu</dt><dd>12.7149315821225</dd><dt>sigma</dt><dd>5.4641079620208</dd></dl>\n",
       "</dd>\n",
       "\t<dt>$value</dt>\n",
       "\t\t<dd>-72.5324014293537</dd>\n",
       "\t<dt>$counts</dt>\n",
       "\t\t<dd><style>\n",
       ".dl-inline {width: auto; margin:0; padding: 0}\n",
       ".dl-inline>dt, .dl-inline>dd {float: none; width: auto; display: inline-block}\n",
       ".dl-inline>dt::after {content: \":\\0020\"; padding-right: .5ex}\n",
       ".dl-inline>dt:not(:first-of-type) {padding-left: .5ex}\n",
       "</style><dl class=dl-inline><dt>function</dt><dd>77</dd><dt>gradient</dt><dd>&lt;NA&gt;</dd></dl>\n",
       "</dd>\n",
       "\t<dt>$convergence</dt>\n",
       "\t\t<dd>0</dd>\n",
       "\t<dt>$message</dt>\n",
       "\t\t<dd>NULL</dd>\n",
       "\t<dt>$hessian</dt>\n",
       "\t\t<dd><table class=\"dataframe\">\n",
       "<caption>A matrix: 2 × 2 of type dbl</caption>\n",
       "<thead>\n",
       "\t<tr><th></th><th scope=col>mu</th><th scope=col>sigma</th></tr>\n",
       "</thead>\n",
       "<tbody>\n",
       "\t<tr><th scope=row>mu</th><td>-0.669971421</td><td>-0.001409068</td></tr>\n",
       "\t<tr><th scope=row>sigma</th><td>-0.001409068</td><td>-1.418103384</td></tr>\n",
       "</tbody>\n",
       "</table>\n",
       "</dd>\n",
       "</dl>\n"
      ],
      "text/latex": [
       "\\begin{description}\n",
       "\\item[\\$par] \\begin{description*}\n",
       "\\item[mu] 12.7149315821225\n",
       "\\item[sigma] 5.4641079620208\n",
       "\\end{description*}\n",
       "\n",
       "\\item[\\$value] -72.5324014293537\n",
       "\\item[\\$counts] \\begin{description*}\n",
       "\\item[function] 77\n",
       "\\item[gradient] <NA>\n",
       "\\end{description*}\n",
       "\n",
       "\\item[\\$convergence] 0\n",
       "\\item[\\$message] NULL\n",
       "\\item[\\$hessian] A matrix: 2 × 2 of type dbl\n",
       "\\begin{tabular}{r|ll}\n",
       "  & mu & sigma\\\\\n",
       "\\hline\n",
       "\tmu & -0.669971421 & -0.001409068\\\\\n",
       "\tsigma & -0.001409068 & -1.418103384\\\\\n",
       "\\end{tabular}\n",
       "\n",
       "\\end{description}\n"
      ],
      "text/markdown": [
       "$par\n",
       ":   mu\n",
       ":   12.7149315821225sigma\n",
       ":   5.4641079620208\n",
       "\n",
       "\n",
       "$value\n",
       ":   -72.5324014293537\n",
       "$counts\n",
       ":   function\n",
       ":   77gradient\n",
       ":   &lt;NA&gt;\n",
       "\n",
       "\n",
       "$convergence\n",
       ":   0\n",
       "$message\n",
       ":   NULL\n",
       "$hessian\n",
       ":   \n",
       "A matrix: 2 × 2 of type dbl\n",
       "\n",
       "| <!--/--> | mu | sigma |\n",
       "|---|---|---|\n",
       "| mu | -0.669971421 | -0.001409068 |\n",
       "| sigma | -0.001409068 | -1.418103384 |\n",
       "\n",
       "\n",
       "\n",
       "\n"
      ],
      "text/plain": [
       "$par\n",
       "       mu     sigma \n",
       "12.714932  5.464108 \n",
       "\n",
       "$value\n",
       "[1] -72.5324\n",
       "\n",
       "$counts\n",
       "function gradient \n",
       "      77       NA \n",
       "\n",
       "$convergence\n",
       "[1] 0\n",
       "\n",
       "$message\n",
       "NULL\n",
       "\n",
       "$hessian\n",
       "                mu        sigma\n",
       "mu    -0.669971421 -0.001409068\n",
       "sigma -0.001409068 -1.418103384\n"
      ]
     },
     "metadata": {},
     "output_type": "display_data"
    }
   ],
   "source": [
    "inits <- c(mu = 0.00001, sigma = 1)\n",
    "fit <- optim(inits, model, control = list(fnscale = -1), hessian = TRUE, y = y)\n",
    "fit"
   ]
  },
  {
   "cell_type": "code",
   "execution_count": 18,
   "metadata": {},
   "outputs": [
    {
     "data": {
      "text/html": [
       "<style>\n",
       ".dl-inline {width: auto; margin:0; padding: 0}\n",
       ".dl-inline>dt, .dl-inline>dd {float: none; width: auto; display: inline-block}\n",
       ".dl-inline>dt::after {content: \":\\0020\"; padding-right: .5ex}\n",
       ".dl-inline>dt:not(:first-of-type) {padding-left: .5ex}\n",
       "</style><dl class=dl-inline><dt>mu</dt><dd>12.7149</dd><dt>sigma</dt><dd>5.4641</dd></dl>\n"
      ],
      "text/latex": [
       "\\begin{description*}\n",
       "\\item[mu] 12.7149\n",
       "\\item[sigma] 5.4641\n",
       "\\end{description*}\n"
      ],
      "text/markdown": [
       "mu\n",
       ":   12.7149sigma\n",
       ":   5.4641\n",
       "\n"
      ],
      "text/plain": [
       "     mu   sigma \n",
       "12.7149  5.4641 "
      ]
     },
     "metadata": {},
     "output_type": "display_data"
    }
   ],
   "source": [
    "param_mean <- fit$par\n",
    "param_cov_mat <- solve(-fit$hessian)\n",
    "round(param_mean, 4)"
   ]
  },
  {
   "cell_type": "code",
   "execution_count": 19,
   "metadata": {},
   "outputs": [
    {
     "data": {
      "text/html": [
       "<table class=\"dataframe\">\n",
       "<caption>A matrix: 2 × 2 of type dbl</caption>\n",
       "<thead>\n",
       "\t<tr><th></th><th scope=col>mu</th><th scope=col>sigma</th></tr>\n",
       "</thead>\n",
       "<tbody>\n",
       "\t<tr><th scope=row>mu</th><td> 1.493</td><td>-0.001</td></tr>\n",
       "\t<tr><th scope=row>sigma</th><td>-0.001</td><td> 0.705</td></tr>\n",
       "</tbody>\n",
       "</table>\n"
      ],
      "text/latex": [
       "A matrix: 2 × 2 of type dbl\n",
       "\\begin{tabular}{r|ll}\n",
       "  & mu & sigma\\\\\n",
       "\\hline\n",
       "\tmu &  1.493 & -0.001\\\\\n",
       "\tsigma & -0.001 &  0.705\\\\\n",
       "\\end{tabular}\n"
      ],
      "text/markdown": [
       "\n",
       "A matrix: 2 × 2 of type dbl\n",
       "\n",
       "| <!--/--> | mu | sigma |\n",
       "|---|---|---|\n",
       "| mu |  1.493 | -0.001 |\n",
       "| sigma | -0.001 |  0.705 |\n",
       "\n"
      ],
      "text/plain": [
       "      mu     sigma \n",
       "mu     1.493 -0.001\n",
       "sigma -0.001  0.705"
      ]
     },
     "metadata": {},
     "output_type": "display_data"
    }
   ],
   "source": [
    "round(param_cov_mat, 3)"
   ]
  },
  {
   "cell_type": "code",
   "execution_count": 20,
   "metadata": {},
   "outputs": [
    {
     "name": "stderr",
     "output_type": "stream",
     "text": [
      "Loading required package: mvtnorm\n",
      "\n"
     ]
    }
   ],
   "source": [
    "#install.packages(\"mvtnorm\",dependencies=TRUE,repos=\"https://cloud.r-project.org\")\n",
    "require(mvtnorm)\n",
    "samples <- rmvnorm(10000, param_mean, param_cov_mat)"
   ]
  },
  {
   "cell_type": "code",
   "execution_count": 21,
   "metadata": {},
   "outputs": [
    {
     "name": "stdout",
     "output_type": "stream",
     "text": [
      " num [1:10000, 1:2] 13.5 11.7 10.7 13.1 11.4 ...\n",
      " - attr(*, \"dimnames\")=List of 2\n",
      "  ..$ : NULL\n",
      "  ..$ : chr [1:2] \"mu\" \"sigma\"\n"
     ]
    }
   ],
   "source": [
    "str(samples)"
   ]
  },
  {
   "cell_type": "markdown",
   "metadata": {},
   "source": [
    "### Posterior predictive pdf\n",
    "\n",
    "Now we add a third column, `pred`, where we generate $n$ samples, each from the pdf with the parameters $\\mu$ and $\\sigma$ from the first two columns."
   ]
  },
  {
   "cell_type": "code",
   "execution_count": 22,
   "metadata": {},
   "outputs": [],
   "source": [
    "samples <- cbind(samples, pred = rnorm(n = nrow(samples), samples[, \"mu\"], samples[,\"sigma\"]))"
   ]
  },
  {
   "cell_type": "code",
   "execution_count": 23,
   "metadata": {},
   "outputs": [
    {
     "name": "stdout",
     "output_type": "stream",
     "text": [
      " num [1:10000, 1:3] 13.5 11.7 10.7 13.1 11.4 ...\n",
      " - attr(*, \"dimnames\")=List of 2\n",
      "  ..$ : NULL\n",
      "  ..$ : chr [1:3] \"mu\" \"sigma\" \"pred\"\n"
     ]
    }
   ],
   "source": [
    "str(samples)"
   ]
  },
  {
   "cell_type": "code",
   "execution_count": 24,
   "metadata": {},
   "outputs": [
    {
     "name": "stderr",
     "output_type": "stream",
     "text": [
      "Loading required package: coda\n",
      "\n"
     ]
    }
   ],
   "source": [
    "#install.packages(\"coda\",dependencies=TRUE,repos=\"https://cloud.r-project.org\")\n",
    "require(coda)\n",
    "samples.mcmc <- as.mcmc(samples)"
   ]
  },
  {
   "cell_type": "code",
   "execution_count": 25,
   "metadata": {},
   "outputs": [
    {
     "name": "stdout",
     "output_type": "stream",
     "text": [
      " 'mcmc' num [1:10000, 1:3] 13.5 11.7 10.7 13.1 11.4 ...\n",
      " - attr(*, \"dimnames\")=List of 2\n",
      "  ..$ : NULL\n",
      "  ..$ : chr [1:3] \"mu\" \"sigma\" \"pred\"\n",
      " - attr(*, \"mcpar\")= num [1:3] 1 10000 1\n"
     ]
    }
   ],
   "source": [
    "str(samples.mcmc)"
   ]
  },
  {
   "cell_type": "code",
   "execution_count": 30,
   "metadata": {},
   "outputs": [
    {
     "data": {
      "text/plain": [
       "\n",
       "Iterations = 1:10000\n",
       "Thinning interval = 1 \n",
       "Number of chains = 1 \n",
       "Sample size per chain = 10000 \n",
       "\n",
       "1. Empirical mean and standard deviation for each variable,\n",
       "   plus standard error of the mean:\n",
       "\n",
       "        Mean     SD Naive SE Time-series SE\n",
       "mu    12.713 1.2247 0.012247       0.012247\n",
       "sigma  5.462 0.8462 0.008462       0.007624\n",
       "pred  12.712 5.6549 0.056549       0.056549\n",
       "\n",
       "2. Quantiles for each variable:\n",
       "\n",
       "        2.5%    25%    50%    75% 97.5%\n",
       "mu    10.320 11.882 12.703 13.540 15.13\n",
       "sigma  3.809  4.890  5.462  6.035  7.13\n",
       "pred   1.378  9.014 12.697 16.386 24.05\n"
      ]
     },
     "metadata": {},
     "output_type": "display_data"
    }
   ],
   "source": [
    "summary(samples.mcmc)"
   ]
  },
  {
   "cell_type": "code",
   "execution_count": 26,
   "metadata": {},
   "outputs": [
    {
     "name": "stderr",
     "output_type": "stream",
     "text": [
      "Loading required package: bayesplot\n",
      "\n",
      "This is bayesplot version 1.10.0\n",
      "\n",
      "- Online documentation and vignettes at mc-stan.org/bayesplot\n",
      "\n",
      "- bayesplot theme set to bayesplot::theme_default()\n",
      "\n",
      "   * Does _not_ affect other ggplot2 plots\n",
      "\n",
      "   * See ?bayesplot_theme_set for details on theme setting\n",
      "\n"
     ]
    }
   ],
   "source": [
    "#install.packages(\"bayesplot\",dependencies=TRUE,repos=\"https://cloud.r-project.org\")\n",
    "require(bayesplot)"
   ]
  },
  {
   "cell_type": "code",
   "execution_count": 29,
   "metadata": {},
   "outputs": [
    {
     "data": {
      "image/png": "[encoded data removed]",
      "text/plain": [
       "plot without title"
      ]
     },
     "metadata": {
      "image/png": {
       "height": 360,
       "width": 720
      }
     },
     "output_type": "display_data"
    }
   ],
   "source": [
    "options(repr.plot.width=12, repr.plot.height=6)\n",
    "mcmc_dens(samples.mcmc)"
   ]
  },
  {
   "cell_type": "code",
   "execution_count": null,
   "metadata": {},
   "outputs": [],
   "source": []
  }
 ],
 "metadata": {
  "kernelspec": {
   "display_name": "R",
   "language": "R",
   "name": "ir"
  },
  "language_info": {
   "codemirror_mode": "r",
   "file_extension": ".r",
   "mimetype": "text/x-r-source",
   "name": "R",
   "pygments_lexer": "r",
   "version": "4.3.0"
  }
 },
 "nbformat": 4,
 "nbformat_minor": 4
}
